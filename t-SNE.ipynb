{
 "cells": [
  {
   "cell_type": "markdown",
   "id": "00776d01",
   "metadata": {},
   "source": [
    "# Visualising sequence diversity of secreted signal peptides of the Bacillus taxonomy through tSNE bio-informatic analysis"
   ]
  },
  {
   "cell_type": "markdown",
   "id": "2494b643",
   "metadata": {},
   "source": [
    "*This notebook aims to provide a procedure for visualising the sequence diversity of secreted signal peptides using a t-distributed stochastic neighbor embedding (tSNE) manifold learning approach. tSNE is a common data analysis pipeline used in bioinformatics and has had successfull results in researching deep sequencing. This method has now been adapted to visualise sequence diversity. Through the formation of 2D or 3D clusters, we  aim to identify distinctions in the different sets of signal peptide sequences through this approach. Provided below is a full procedure starting from characterisation and processing to PAM distances and visualisation. Included here is the code necessary to conduct this analysis. We apply this approach to the Bacillus genus, the focus of this project.*"
   ]
  },
  {
   "cell_type": "markdown",
   "id": "d69b0224",
   "metadata": {},
   "source": [
    "## 1. Characterisation and Processing of Bacillus genus\n",
    "## 1.1 Advanced search with UniprotKB\n",
    "\n",
    "An advanced search on the UniprotKB database was done to characterise all amino acid sequences of secreted signal peptides (SP's) pertaining to the Bacillus genus. This was done with the following as input: `locations:(location:\"Secreted [SL-0243]\") annotation:(type:signal) taxonomy:\"Bacillus [1386]\" AND reviewed:yes`\n",
    "\n",
    "138 sequences were collected from this advanced search. All entries were then downloaded as a compressed `FASTA (canonical)` file from the UniprotKB database.\n",
    "\n",
    "## 1.2 SignalP 5.0 Cleavage Site Prediction\n",
    "These variety of SP sequences were then input into SignalP 5.0 with input as `organism: Gram-positive, output: long format` for a prediction of their cleavage sites. After propogation, results were downloaded as a `JSON` summary, processed `gff3` summary, processed `FASTA` entries, prediction summary and as an overall `zip` file. This was done for the `FASTA` files outlined above obtained from the UniprotKB database. \n",
    "\n",
    "## 1.3 `gff3` and `FASTA` Extraction\n",
    "The processed `gff3` files that contained the predicted cleavage site of SP's were then transformed to a 5+ post-cleavage prediction. We do this since the sequences just after the cleavage site have an effect on the signal peptide diversity as well as it's translocation. We use the following command with `awk`.\n",
    "\n",
    "`awk  '{$5=$5+5; print $0}' OFS='\\t' yourfile.gtf > outputfile.txt`\n",
    " - `yourfile.gtf` refers to the `.gff3` file taken from SignalP. Replace this with `/path/to/yourfile.gff3`. Note: In later formats `.gtf` is equivalent to `.gff3`.\n",
    " - `outputfile.txt` refers to the file with the +5 post predicted cleavage sites. Create an `name_output.gff3` using `touch` and then replace with `/path/to/name_output.gff3`.\n",
    "\n",
    "These converted `gff3` were then used to extract the `fasta` files of the processed SP's as they contained the corresponding sequence sets needed. We use the BEDTools2 suite for the extraction of these `fasta` files. Installation procedures are found here: https://software.broadinstitute.org/software/igv/installbedtools. Once installed, the following command was used for extraction. The command-line interface is described below:\n",
    "\n",
    "`bedtools getfasta -fi <input FASTA> -bed <BED/GFF/VCF> -fo <output FASTA>`\n",
    "\n",
    " - `<input FASTA>` corresponds to the raw `fasta` files containing the processed SP's from SignalP. Replace with `/path/to/input.fasta`\n",
    " - `<BED/GFF?VCF>` corresponds to the sequence set to be extracted from `<input FASTA>`. Replace with `/path/to/outputfile.gff3`.\n",
    " - `<output FASTA>` corresponds to the extracted `fasta` output file from `<input FASTA>` and the processed `gff3` entries. Replace with `/path/to/output.fasta`. Create `output.fasta` file using `touch` in cmd-line.\n",
    " - Execute command in `/path/to/bedtools_installation/bin` directory with `./command`."
   ]
  },
  {
   "cell_type": "markdown",
   "id": "3c9590fb",
   "metadata": {},
   "source": [
    "## 2. Pairwise Distance Calculation\n",
    "## 2.1 MAFFT Sequence Alignment\n",
    "Extracted `FASTA` files were then put into a MAFFT (Multiple Alignment using Fast Fourier Transform) to align the sequences. This was done with the MAFFT online service. The result of SP sequence alignment was then downloaded as a `FASTA` file as the input to computing the pairwise distance.\n",
    "\n",
    "## 2.2 MEGA11 Pairwise Distance Computation\n",
    "MEGA11 Software was downloaded as a GUI interface. This was used to calculate the pairwise distance and generate a pairwise distance matrix under the Dayhoff Model. We use the Dayhoff Model since the model decreased the scaterredness of the calculations, making it more suitable for a t-SNE analysis conducted later.\n",
    " - **Computer Pairwise Distance > Select `fasta` input > Select Pairwise Distance > Lower Left Matrix > Analysis Preferences > Select Dayhoff Model > OK**\n",
    "\n",
    "The output was then downloaded as a MEGA `.txt` file and then converted into a `.csv`. This was done so that there was no size restriction on the output distance matrix. The code for this is written by Oliver Smith. This is shown below, with slight modifications."
   ]
  },
  {
   "cell_type": "code",
   "execution_count": 36,
   "id": "c8ba961b",
   "metadata": {},
   "outputs": [],
   "source": [
    "\"\"\"\n",
    "Converts a MEGA11 text file to a CSV file.\n",
    "Saves as a complete matrix with 0-distance identity diagonal and with %8f precision.\n",
    "\"\"\"\n",
    "\n",
    "args_input = \"sample_mega11.txt\"\n",
    "args_output = \"distance_matrix.csv\"\n",
    "\n",
    "def megatocsv(args_input, args_output):\n",
    "    names = []\n",
    "    rows = []\n",
    "    seen_names = False\n",
    "    seen_data = False\n",
    "    with open(args_input, 'rt') as f:\n",
    "        for line in f:\n",
    "            if seen_names and seen_data:\n",
    "                if len(line.strip()) == 0:\n",
    "                    # empty line after data matrix\n",
    "                    break  # we're done!\n",
    "                # collect data and when done, finish up\n",
    "                # separate sample names see if we're past the column headers\n",
    "                name_cols = line.split(']')[0].replace('[','').strip().split()\n",
    "                if len(name_cols) > 1:\n",
    "                    continue  # skip the column header row\n",
    "                data_cols = line.split(']')[1].strip().split()\n",
    "                data_cols.append('')\n",
    "                rows.append(data_cols)\n",
    "                continue\n",
    "            if not seen_names and not line.startswith('['):\n",
    "                continue\n",
    "            if not seen_names and line.startswith('['):\n",
    "                seen_names = True\n",
    "            if seen_names and not seen_data:\n",
    "                if len(line.strip()) == 0:\n",
    "                    # empty line after name section!\n",
    "                    seen_data = True\n",
    "                    continue\n",
    "                name = line.split('#',1)[1].strip()\n",
    "                names.append(name)\n",
    "\n",
    "    with open(args_output, 'wt') as outf:\n",
    "        outline = ',' + ','.join(names)\n",
    "        print(outline, file=outf)\n",
    "        for i, row in enumerate(rows):\n",
    "            outline = names[i] + ',' + ','.join(row)\n",
    "            print(outline, file=outf)\n",
    "\n",
    "# Grab output\n",
    "megatocsv(args_input, args_output)"
   ]
  },
  {
   "cell_type": "markdown",
   "id": "db83154c",
   "metadata": {},
   "source": [
    "## 3. Visualisation using Manifold learning and t-SNE analysis\n",
    "We implement a truncated SVD (singular value decomposition) followed by a t-SNE (t-distributed stochastic neighbour) to visualise the SP's in relation to each other and to ideally obtain distinct clusters through application of these models to our distance matrix. This process is show below and is done with a sample matrix of reviewed sequences of the Bacillus taxonomy (with 113 sequences) for simplicity. All of the code below is written by Oliver Smith, with slight modifications and added comments for clarity.\n",
    "\n",
    "## 3.1 Conversion of LT distance matrix to square matrix\n",
    "We convert from a lower triangular distance matrix to a full square matrix for SVD (as eigendecomposition is limited to square-only). The following code illustrates how to do so. "
   ]
  },
  {
   "cell_type": "code",
   "execution_count": 37,
   "id": "86987ab4",
   "metadata": {},
   "outputs": [],
   "source": [
    "import numpy as np\n",
    "import numpy.ma as ma\n",
    "import pandas as pd\n",
    "import matplotlib.pyplot as plt\n",
    "import sklearn as skl\n",
    "import plotly.express as px\n",
    "from sklearn.decomposition import PCA, TruncatedSVD\n",
    "from sklearn.manifold import TSNE\n",
    "from sklearn.pipeline import make_pipeline\n",
    "from scipy.sparse.linalg import svds\n",
    "from functools import partial"
   ]
  },
  {
   "cell_type": "markdown",
   "id": "be0ac7bf",
   "metadata": {},
   "source": [
    "We first establish the distance matrix as a `dataframe (df)`, using the 0th column as the `df` names. We then check that the dataframe has been established."
   ]
  },
  {
   "cell_type": "code",
   "execution_count": 38,
   "id": "bae49f5a",
   "metadata": {},
   "outputs": [
    {
     "data": {
      "text/html": [
       "<div>\n",
       "<style scoped>\n",
       "    .dataframe tbody tr th:only-of-type {\n",
       "        vertical-align: middle;\n",
       "    }\n",
       "\n",
       "    .dataframe tbody tr th {\n",
       "        vertical-align: top;\n",
       "    }\n",
       "\n",
       "    .dataframe thead th {\n",
       "        text-align: right;\n",
       "    }\n",
       "</style>\n",
       "<table border=\"1\" class=\"dataframe\">\n",
       "  <thead>\n",
       "    <tr style=\"text-align: right;\">\n",
       "      <th></th>\n",
       "      <th>sp_P40136_CYAA_BACAN:0-38</th>\n",
       "      <th>sp_P15917_LEF_BACAN:0-38</th>\n",
       "      <th>sp_P40406_NAGZ_BACSU:0-21</th>\n",
       "      <th>sp_P39790_MPR_BACSU:0-39</th>\n",
       "      <th>sp_P54602_YHCR_BACSU:0-54</th>\n",
       "      <th>sp_O66037_PHYT_BACSD:0-23</th>\n",
       "      <th>sp_O31097_PHYC_BACIU:0-23</th>\n",
       "      <th>sp_P42094_PHYT_BACSU:0-31</th>\n",
       "      <th>sp_P05656_SACC_BACSU:0-29</th>\n",
       "      <th>sp_P00649_RN_BACIN:0-34</th>\n",
       "      <th>...</th>\n",
       "      <th>sp_P54422_GGT_BACSU:0-33</th>\n",
       "      <th>sp_P63186_GGT_BACNA:0-33</th>\n",
       "      <th>sp_Q45071_XYND_BACSU:0-31</th>\n",
       "      <th>sp_P68569_BDBA_BACSU:0-31</th>\n",
       "      <th>sp_P14262_PLC_BACCE:0-36</th>\n",
       "      <th>sp_P08954_PLC_BACTU:0-36</th>\n",
       "      <th>sp_P42983_NUCB_BACSU:0-31</th>\n",
       "      <th>sp_O34313_NTPES_BACSU:0-40</th>\n",
       "      <th>sp_O31526_YESW_BACSU:0-40</th>\n",
       "      <th>sp_O34344_SDPC_BACSU:0-37</th>\n",
       "    </tr>\n",
       "  </thead>\n",
       "  <tbody>\n",
       "    <tr>\n",
       "      <th>sp_P40136_CYAA_BACAN:0-38</th>\n",
       "      <td>NaN</td>\n",
       "      <td>NaN</td>\n",
       "      <td>NaN</td>\n",
       "      <td>NaN</td>\n",
       "      <td>NaN</td>\n",
       "      <td>NaN</td>\n",
       "      <td>NaN</td>\n",
       "      <td>NaN</td>\n",
       "      <td>NaN</td>\n",
       "      <td>NaN</td>\n",
       "      <td>...</td>\n",
       "      <td>NaN</td>\n",
       "      <td>NaN</td>\n",
       "      <td>NaN</td>\n",
       "      <td>NaN</td>\n",
       "      <td>NaN</td>\n",
       "      <td>NaN</td>\n",
       "      <td>NaN</td>\n",
       "      <td>NaN</td>\n",
       "      <td>NaN</td>\n",
       "      <td>NaN</td>\n",
       "    </tr>\n",
       "    <tr>\n",
       "      <th>sp_P15917_LEF_BACAN:0-38</th>\n",
       "      <td>1.358652</td>\n",
       "      <td>NaN</td>\n",
       "      <td>NaN</td>\n",
       "      <td>NaN</td>\n",
       "      <td>NaN</td>\n",
       "      <td>NaN</td>\n",
       "      <td>NaN</td>\n",
       "      <td>NaN</td>\n",
       "      <td>NaN</td>\n",
       "      <td>NaN</td>\n",
       "      <td>...</td>\n",
       "      <td>NaN</td>\n",
       "      <td>NaN</td>\n",
       "      <td>NaN</td>\n",
       "      <td>NaN</td>\n",
       "      <td>NaN</td>\n",
       "      <td>NaN</td>\n",
       "      <td>NaN</td>\n",
       "      <td>NaN</td>\n",
       "      <td>NaN</td>\n",
       "      <td>NaN</td>\n",
       "    </tr>\n",
       "    <tr>\n",
       "      <th>sp_P40406_NAGZ_BACSU:0-21</th>\n",
       "      <td>5.296656</td>\n",
       "      <td>2.063889</td>\n",
       "      <td>NaN</td>\n",
       "      <td>NaN</td>\n",
       "      <td>NaN</td>\n",
       "      <td>NaN</td>\n",
       "      <td>NaN</td>\n",
       "      <td>NaN</td>\n",
       "      <td>NaN</td>\n",
       "      <td>NaN</td>\n",
       "      <td>...</td>\n",
       "      <td>NaN</td>\n",
       "      <td>NaN</td>\n",
       "      <td>NaN</td>\n",
       "      <td>NaN</td>\n",
       "      <td>NaN</td>\n",
       "      <td>NaN</td>\n",
       "      <td>NaN</td>\n",
       "      <td>NaN</td>\n",
       "      <td>NaN</td>\n",
       "      <td>NaN</td>\n",
       "    </tr>\n",
       "    <tr>\n",
       "      <th>sp_P39790_MPR_BACSU:0-39</th>\n",
       "      <td>3.521741</td>\n",
       "      <td>2.164467</td>\n",
       "      <td>1.06863718</td>\n",
       "      <td>NaN</td>\n",
       "      <td>NaN</td>\n",
       "      <td>NaN</td>\n",
       "      <td>NaN</td>\n",
       "      <td>NaN</td>\n",
       "      <td>NaN</td>\n",
       "      <td>NaN</td>\n",
       "      <td>...</td>\n",
       "      <td>NaN</td>\n",
       "      <td>NaN</td>\n",
       "      <td>NaN</td>\n",
       "      <td>NaN</td>\n",
       "      <td>NaN</td>\n",
       "      <td>NaN</td>\n",
       "      <td>NaN</td>\n",
       "      <td>NaN</td>\n",
       "      <td>NaN</td>\n",
       "      <td>NaN</td>\n",
       "    </tr>\n",
       "    <tr>\n",
       "      <th>sp_P54602_YHCR_BACSU:0-54</th>\n",
       "      <td>3.982055</td>\n",
       "      <td>3.333727</td>\n",
       "      <td>1.80260413</td>\n",
       "      <td>8.53999099</td>\n",
       "      <td>NaN</td>\n",
       "      <td>NaN</td>\n",
       "      <td>NaN</td>\n",
       "      <td>NaN</td>\n",
       "      <td>NaN</td>\n",
       "      <td>NaN</td>\n",
       "      <td>...</td>\n",
       "      <td>NaN</td>\n",
       "      <td>NaN</td>\n",
       "      <td>NaN</td>\n",
       "      <td>NaN</td>\n",
       "      <td>NaN</td>\n",
       "      <td>NaN</td>\n",
       "      <td>NaN</td>\n",
       "      <td>NaN</td>\n",
       "      <td>NaN</td>\n",
       "      <td>NaN</td>\n",
       "    </tr>\n",
       "  </tbody>\n",
       "</table>\n",
       "<p>5 rows × 125 columns</p>\n",
       "</div>"
      ],
      "text/plain": [
       "                           sp_P40136_CYAA_BACAN:0-38  \\\n",
       "sp_P40136_CYAA_BACAN:0-38                        NaN   \n",
       "sp_P15917_LEF_BACAN:0-38                    1.358652   \n",
       "sp_P40406_NAGZ_BACSU:0-21                   5.296656   \n",
       "sp_P39790_MPR_BACSU:0-39                    3.521741   \n",
       "sp_P54602_YHCR_BACSU:0-54                   3.982055   \n",
       "\n",
       "                           sp_P15917_LEF_BACAN:0-38 sp_P40406_NAGZ_BACSU:0-21  \\\n",
       "sp_P40136_CYAA_BACAN:0-38                       NaN                       NaN   \n",
       "sp_P15917_LEF_BACAN:0-38                        NaN                       NaN   \n",
       "sp_P40406_NAGZ_BACSU:0-21                  2.063889                       NaN   \n",
       "sp_P39790_MPR_BACSU:0-39                   2.164467                1.06863718   \n",
       "sp_P54602_YHCR_BACSU:0-54                  3.333727                1.80260413   \n",
       "\n",
       "                          sp_P39790_MPR_BACSU:0-39  sp_P54602_YHCR_BACSU:0-54  \\\n",
       "sp_P40136_CYAA_BACAN:0-38                      NaN                        NaN   \n",
       "sp_P15917_LEF_BACAN:0-38                       NaN                        NaN   \n",
       "sp_P40406_NAGZ_BACSU:0-21                      NaN                        NaN   \n",
       "sp_P39790_MPR_BACSU:0-39                       NaN                        NaN   \n",
       "sp_P54602_YHCR_BACSU:0-54               8.53999099                        NaN   \n",
       "\n",
       "                          sp_O66037_PHYT_BACSD:0-23 sp_O31097_PHYC_BACIU:0-23  \\\n",
       "sp_P40136_CYAA_BACAN:0-38                       NaN                       NaN   \n",
       "sp_P15917_LEF_BACAN:0-38                        NaN                       NaN   \n",
       "sp_P40406_NAGZ_BACSU:0-21                       NaN                       NaN   \n",
       "sp_P39790_MPR_BACSU:0-39                        NaN                       NaN   \n",
       "sp_P54602_YHCR_BACSU:0-54                       NaN                       NaN   \n",
       "\n",
       "                           sp_P42094_PHYT_BACSU:0-31  \\\n",
       "sp_P40136_CYAA_BACAN:0-38                        NaN   \n",
       "sp_P15917_LEF_BACAN:0-38                         NaN   \n",
       "sp_P40406_NAGZ_BACSU:0-21                        NaN   \n",
       "sp_P39790_MPR_BACSU:0-39                         NaN   \n",
       "sp_P54602_YHCR_BACSU:0-54                        NaN   \n",
       "\n",
       "                           sp_P05656_SACC_BACSU:0-29  sp_P00649_RN_BACIN:0-34  \\\n",
       "sp_P40136_CYAA_BACAN:0-38                        NaN                      NaN   \n",
       "sp_P15917_LEF_BACAN:0-38                         NaN                      NaN   \n",
       "sp_P40406_NAGZ_BACSU:0-21                        NaN                      NaN   \n",
       "sp_P39790_MPR_BACSU:0-39                         NaN                      NaN   \n",
       "sp_P54602_YHCR_BACSU:0-54                        NaN                      NaN   \n",
       "\n",
       "                           ...  sp_P54422_GGT_BACSU:0-33  \\\n",
       "sp_P40136_CYAA_BACAN:0-38  ...                       NaN   \n",
       "sp_P15917_LEF_BACAN:0-38   ...                       NaN   \n",
       "sp_P40406_NAGZ_BACSU:0-21  ...                       NaN   \n",
       "sp_P39790_MPR_BACSU:0-39   ...                       NaN   \n",
       "sp_P54602_YHCR_BACSU:0-54  ...                       NaN   \n",
       "\n",
       "                           sp_P63186_GGT_BACNA:0-33 sp_Q45071_XYND_BACSU:0-31  \\\n",
       "sp_P40136_CYAA_BACAN:0-38                       NaN                       NaN   \n",
       "sp_P15917_LEF_BACAN:0-38                        NaN                       NaN   \n",
       "sp_P40406_NAGZ_BACSU:0-21                       NaN                       NaN   \n",
       "sp_P39790_MPR_BACSU:0-39                        NaN                       NaN   \n",
       "sp_P54602_YHCR_BACSU:0-54                       NaN                       NaN   \n",
       "\n",
       "                          sp_P68569_BDBA_BACSU:0-31 sp_P14262_PLC_BACCE:0-36  \\\n",
       "sp_P40136_CYAA_BACAN:0-38                       NaN                      NaN   \n",
       "sp_P15917_LEF_BACAN:0-38                        NaN                      NaN   \n",
       "sp_P40406_NAGZ_BACSU:0-21                       NaN                      NaN   \n",
       "sp_P39790_MPR_BACSU:0-39                        NaN                      NaN   \n",
       "sp_P54602_YHCR_BACSU:0-54                       NaN                      NaN   \n",
       "\n",
       "                           sp_P08954_PLC_BACTU:0-36  \\\n",
       "sp_P40136_CYAA_BACAN:0-38                       NaN   \n",
       "sp_P15917_LEF_BACAN:0-38                        NaN   \n",
       "sp_P40406_NAGZ_BACSU:0-21                       NaN   \n",
       "sp_P39790_MPR_BACSU:0-39                        NaN   \n",
       "sp_P54602_YHCR_BACSU:0-54                       NaN   \n",
       "\n",
       "                           sp_P42983_NUCB_BACSU:0-31  \\\n",
       "sp_P40136_CYAA_BACAN:0-38                        NaN   \n",
       "sp_P15917_LEF_BACAN:0-38                         NaN   \n",
       "sp_P40406_NAGZ_BACSU:0-21                        NaN   \n",
       "sp_P39790_MPR_BACSU:0-39                         NaN   \n",
       "sp_P54602_YHCR_BACSU:0-54                        NaN   \n",
       "\n",
       "                           sp_O34313_NTPES_BACSU:0-40  \\\n",
       "sp_P40136_CYAA_BACAN:0-38                         NaN   \n",
       "sp_P15917_LEF_BACAN:0-38                          NaN   \n",
       "sp_P40406_NAGZ_BACSU:0-21                         NaN   \n",
       "sp_P39790_MPR_BACSU:0-39                          NaN   \n",
       "sp_P54602_YHCR_BACSU:0-54                         NaN   \n",
       "\n",
       "                          sp_O31526_YESW_BACSU:0-40 sp_O34344_SDPC_BACSU:0-37  \n",
       "sp_P40136_CYAA_BACAN:0-38                       NaN                       NaN  \n",
       "sp_P15917_LEF_BACAN:0-38                        NaN                       NaN  \n",
       "sp_P40406_NAGZ_BACSU:0-21                       NaN                       NaN  \n",
       "sp_P39790_MPR_BACSU:0-39                        NaN                       NaN  \n",
       "sp_P54602_YHCR_BACSU:0-54                       NaN                       NaN  \n",
       "\n",
       "[5 rows x 125 columns]"
      ]
     },
     "execution_count": 38,
     "metadata": {},
     "output_type": "execute_result"
    }
   ],
   "source": [
    "distance_matrix = pd.read_csv(\"distance_matrix.csv\", index_col=0)\n",
    "# Check that df has been established\n",
    "type(distance_matrix)\n",
    "distance_matrix.head()"
   ]
  },
  {
   "cell_type": "markdown",
   "id": "2f043abb",
   "metadata": {},
   "source": [
    "We then convert the distance matrix into a `numpy` array. This is because they are more optimised and are easier to use when under SVD/t-SNE analysis. We replace the `?` and `nan` entries of the `distance_matrix (dm)` with the `numpy` equivalent, `np.nan` and then update the main diagonal of the matrix to be all zeroes."
   ]
  },
  {
   "cell_type": "code",
   "execution_count": 39,
   "id": "2a237d2b",
   "metadata": {},
   "outputs": [
    {
     "data": {
      "text/plain": [
       "(125, 125)"
      ]
     },
     "execution_count": 39,
     "metadata": {},
     "output_type": "execute_result"
    }
   ],
   "source": [
    "dm = distance_matrix\n",
    "dm = dm.replace('?', np.nan)\n",
    "dm = dm.replace('nan', np.nan)\n",
    "dm = np.array(dm, dtype=np.double)\n",
    "np.fill_diagonal(dm, np.double(0))\n",
    "dm.shape"
   ]
  },
  {
   "cell_type": "markdown",
   "id": "b5b672e8",
   "metadata": {},
   "source": [
    "We convert the current `distance_matrix`, a lower triangular matrix, to be a square matrix by essentially mirroring the lower triangular entries across the main diagonal that is filled with zeroes."
   ]
  },
  {
   "cell_type": "code",
   "execution_count": 40,
   "id": "6e399033",
   "metadata": {},
   "outputs": [],
   "source": [
    "inds = np.where(np.isnan(dm))\n",
    "for row,col in zip(inds[0],inds[1]):\n",
    "    if not np.isnan(dm[col,row]):\n",
    "        dm[row,col] = dm[col,row]\n",
    "        \n",
    "# print(inds[0], inds[1])\n",
    "# print(dm[10])"
   ]
  },
  {
   "cell_type": "markdown",
   "id": "4290c883",
   "metadata": {},
   "source": [
    "We then replace missing values in the matrix with 0. This allows us to perform an expectation maximisation \n",
    "algorithm such that when we apply t-SNE we can get more distinct clusters. Missing values would ideally be replaced by a model or search that could take in adjacent values and calculate the best estimate. Then, we update the `df` by adding the rows and columns to the dataset as the  values of the indexes and columns from the original distance matrix."
   ]
  },
  {
   "cell_type": "code",
   "execution_count": 41,
   "id": "13cd857b",
   "metadata": {},
   "outputs": [
    {
     "data": {
      "text/html": [
       "<div>\n",
       "<style scoped>\n",
       "    .dataframe tbody tr th:only-of-type {\n",
       "        vertical-align: middle;\n",
       "    }\n",
       "\n",
       "    .dataframe tbody tr th {\n",
       "        vertical-align: top;\n",
       "    }\n",
       "\n",
       "    .dataframe thead th {\n",
       "        text-align: right;\n",
       "    }\n",
       "</style>\n",
       "<table border=\"1\" class=\"dataframe\">\n",
       "  <thead>\n",
       "    <tr style=\"text-align: right;\">\n",
       "      <th></th>\n",
       "      <th>sp_P40136_CYAA_BACAN:0-38</th>\n",
       "      <th>sp_P15917_LEF_BACAN:0-38</th>\n",
       "      <th>sp_P40406_NAGZ_BACSU:0-21</th>\n",
       "      <th>sp_P39790_MPR_BACSU:0-39</th>\n",
       "      <th>sp_P54602_YHCR_BACSU:0-54</th>\n",
       "      <th>sp_O66037_PHYT_BACSD:0-23</th>\n",
       "      <th>sp_O31097_PHYC_BACIU:0-23</th>\n",
       "      <th>sp_P42094_PHYT_BACSU:0-31</th>\n",
       "      <th>sp_P05656_SACC_BACSU:0-29</th>\n",
       "      <th>sp_P00649_RN_BACIN:0-34</th>\n",
       "      <th>...</th>\n",
       "      <th>sp_P54422_GGT_BACSU:0-33</th>\n",
       "      <th>sp_P63186_GGT_BACNA:0-33</th>\n",
       "      <th>sp_Q45071_XYND_BACSU:0-31</th>\n",
       "      <th>sp_P68569_BDBA_BACSU:0-31</th>\n",
       "      <th>sp_P14262_PLC_BACCE:0-36</th>\n",
       "      <th>sp_P08954_PLC_BACTU:0-36</th>\n",
       "      <th>sp_P42983_NUCB_BACSU:0-31</th>\n",
       "      <th>sp_O34313_NTPES_BACSU:0-40</th>\n",
       "      <th>sp_O31526_YESW_BACSU:0-40</th>\n",
       "      <th>sp_O34344_SDPC_BACSU:0-37</th>\n",
       "    </tr>\n",
       "  </thead>\n",
       "  <tbody>\n",
       "    <tr>\n",
       "      <th>sp_P40136_CYAA_BACAN:0-38</th>\n",
       "      <td>0.000000</td>\n",
       "      <td>1.358652</td>\n",
       "      <td>5.296656</td>\n",
       "      <td>3.521741</td>\n",
       "      <td>3.982055</td>\n",
       "      <td>3.281489</td>\n",
       "      <td>3.281489</td>\n",
       "      <td>40.223625</td>\n",
       "      <td>9.882405</td>\n",
       "      <td>5.493725</td>\n",
       "      <td>...</td>\n",
       "      <td>5.913626</td>\n",
       "      <td>5.968603</td>\n",
       "      <td>2.816197</td>\n",
       "      <td>7.242858</td>\n",
       "      <td>6.052181</td>\n",
       "      <td>5.892289</td>\n",
       "      <td>2.638019</td>\n",
       "      <td>6.997069</td>\n",
       "      <td>10.362831</td>\n",
       "      <td>7.049289</td>\n",
       "    </tr>\n",
       "    <tr>\n",
       "      <th>sp_P15917_LEF_BACAN:0-38</th>\n",
       "      <td>1.358652</td>\n",
       "      <td>0.000000</td>\n",
       "      <td>2.063889</td>\n",
       "      <td>2.164467</td>\n",
       "      <td>3.333727</td>\n",
       "      <td>7.676574</td>\n",
       "      <td>7.676574</td>\n",
       "      <td>3.417060</td>\n",
       "      <td>44.425920</td>\n",
       "      <td>2.901018</td>\n",
       "      <td>...</td>\n",
       "      <td>2.629283</td>\n",
       "      <td>2.735572</td>\n",
       "      <td>4.517575</td>\n",
       "      <td>2.749609</td>\n",
       "      <td>5.004428</td>\n",
       "      <td>4.895002</td>\n",
       "      <td>2.722560</td>\n",
       "      <td>5.674842</td>\n",
       "      <td>8.608075</td>\n",
       "      <td>8.204759</td>\n",
       "    </tr>\n",
       "    <tr>\n",
       "      <th>sp_P40406_NAGZ_BACSU:0-21</th>\n",
       "      <td>5.296656</td>\n",
       "      <td>2.063889</td>\n",
       "      <td>0.000000</td>\n",
       "      <td>1.068637</td>\n",
       "      <td>1.802604</td>\n",
       "      <td>2.918338</td>\n",
       "      <td>2.918338</td>\n",
       "      <td>1.687669</td>\n",
       "      <td>41.915240</td>\n",
       "      <td>2.178659</td>\n",
       "      <td>...</td>\n",
       "      <td>2.828168</td>\n",
       "      <td>2.828168</td>\n",
       "      <td>0.000000</td>\n",
       "      <td>2.989954</td>\n",
       "      <td>3.225782</td>\n",
       "      <td>3.225782</td>\n",
       "      <td>3.646024</td>\n",
       "      <td>2.538380</td>\n",
       "      <td>3.700668</td>\n",
       "      <td>2.488479</td>\n",
       "    </tr>\n",
       "    <tr>\n",
       "      <th>sp_P39790_MPR_BACSU:0-39</th>\n",
       "      <td>3.521741</td>\n",
       "      <td>2.164467</td>\n",
       "      <td>1.068637</td>\n",
       "      <td>0.000000</td>\n",
       "      <td>8.539991</td>\n",
       "      <td>3.358762</td>\n",
       "      <td>3.358762</td>\n",
       "      <td>3.494163</td>\n",
       "      <td>78.968990</td>\n",
       "      <td>2.564675</td>\n",
       "      <td>...</td>\n",
       "      <td>4.182438</td>\n",
       "      <td>3.786683</td>\n",
       "      <td>31.413879</td>\n",
       "      <td>2.442200</td>\n",
       "      <td>2.729204</td>\n",
       "      <td>2.455243</td>\n",
       "      <td>25.831242</td>\n",
       "      <td>4.160571</td>\n",
       "      <td>5.022308</td>\n",
       "      <td>35.437007</td>\n",
       "    </tr>\n",
       "    <tr>\n",
       "      <th>sp_P54602_YHCR_BACSU:0-54</th>\n",
       "      <td>3.982055</td>\n",
       "      <td>3.333727</td>\n",
       "      <td>1.802604</td>\n",
       "      <td>8.539991</td>\n",
       "      <td>0.000000</td>\n",
       "      <td>8.308338</td>\n",
       "      <td>8.308338</td>\n",
       "      <td>8.447806</td>\n",
       "      <td>48.217911</td>\n",
       "      <td>4.778160</td>\n",
       "      <td>...</td>\n",
       "      <td>2.986056</td>\n",
       "      <td>2.894079</td>\n",
       "      <td>2.744370</td>\n",
       "      <td>3.219371</td>\n",
       "      <td>2.783379</td>\n",
       "      <td>2.901719</td>\n",
       "      <td>2.569831</td>\n",
       "      <td>5.205152</td>\n",
       "      <td>50.920954</td>\n",
       "      <td>4.697860</td>\n",
       "    </tr>\n",
       "  </tbody>\n",
       "</table>\n",
       "<p>5 rows × 125 columns</p>\n",
       "</div>"
      ],
      "text/plain": [
       "                           sp_P40136_CYAA_BACAN:0-38  \\\n",
       "sp_P40136_CYAA_BACAN:0-38                   0.000000   \n",
       "sp_P15917_LEF_BACAN:0-38                    1.358652   \n",
       "sp_P40406_NAGZ_BACSU:0-21                   5.296656   \n",
       "sp_P39790_MPR_BACSU:0-39                    3.521741   \n",
       "sp_P54602_YHCR_BACSU:0-54                   3.982055   \n",
       "\n",
       "                           sp_P15917_LEF_BACAN:0-38  \\\n",
       "sp_P40136_CYAA_BACAN:0-38                  1.358652   \n",
       "sp_P15917_LEF_BACAN:0-38                   0.000000   \n",
       "sp_P40406_NAGZ_BACSU:0-21                  2.063889   \n",
       "sp_P39790_MPR_BACSU:0-39                   2.164467   \n",
       "sp_P54602_YHCR_BACSU:0-54                  3.333727   \n",
       "\n",
       "                           sp_P40406_NAGZ_BACSU:0-21  \\\n",
       "sp_P40136_CYAA_BACAN:0-38                   5.296656   \n",
       "sp_P15917_LEF_BACAN:0-38                    2.063889   \n",
       "sp_P40406_NAGZ_BACSU:0-21                   0.000000   \n",
       "sp_P39790_MPR_BACSU:0-39                    1.068637   \n",
       "sp_P54602_YHCR_BACSU:0-54                   1.802604   \n",
       "\n",
       "                           sp_P39790_MPR_BACSU:0-39  \\\n",
       "sp_P40136_CYAA_BACAN:0-38                  3.521741   \n",
       "sp_P15917_LEF_BACAN:0-38                   2.164467   \n",
       "sp_P40406_NAGZ_BACSU:0-21                  1.068637   \n",
       "sp_P39790_MPR_BACSU:0-39                   0.000000   \n",
       "sp_P54602_YHCR_BACSU:0-54                  8.539991   \n",
       "\n",
       "                           sp_P54602_YHCR_BACSU:0-54  \\\n",
       "sp_P40136_CYAA_BACAN:0-38                   3.982055   \n",
       "sp_P15917_LEF_BACAN:0-38                    3.333727   \n",
       "sp_P40406_NAGZ_BACSU:0-21                   1.802604   \n",
       "sp_P39790_MPR_BACSU:0-39                    8.539991   \n",
       "sp_P54602_YHCR_BACSU:0-54                   0.000000   \n",
       "\n",
       "                           sp_O66037_PHYT_BACSD:0-23  \\\n",
       "sp_P40136_CYAA_BACAN:0-38                   3.281489   \n",
       "sp_P15917_LEF_BACAN:0-38                    7.676574   \n",
       "sp_P40406_NAGZ_BACSU:0-21                   2.918338   \n",
       "sp_P39790_MPR_BACSU:0-39                    3.358762   \n",
       "sp_P54602_YHCR_BACSU:0-54                   8.308338   \n",
       "\n",
       "                           sp_O31097_PHYC_BACIU:0-23  \\\n",
       "sp_P40136_CYAA_BACAN:0-38                   3.281489   \n",
       "sp_P15917_LEF_BACAN:0-38                    7.676574   \n",
       "sp_P40406_NAGZ_BACSU:0-21                   2.918338   \n",
       "sp_P39790_MPR_BACSU:0-39                    3.358762   \n",
       "sp_P54602_YHCR_BACSU:0-54                   8.308338   \n",
       "\n",
       "                           sp_P42094_PHYT_BACSU:0-31  \\\n",
       "sp_P40136_CYAA_BACAN:0-38                  40.223625   \n",
       "sp_P15917_LEF_BACAN:0-38                    3.417060   \n",
       "sp_P40406_NAGZ_BACSU:0-21                   1.687669   \n",
       "sp_P39790_MPR_BACSU:0-39                    3.494163   \n",
       "sp_P54602_YHCR_BACSU:0-54                   8.447806   \n",
       "\n",
       "                           sp_P05656_SACC_BACSU:0-29  sp_P00649_RN_BACIN:0-34  \\\n",
       "sp_P40136_CYAA_BACAN:0-38                   9.882405                 5.493725   \n",
       "sp_P15917_LEF_BACAN:0-38                   44.425920                 2.901018   \n",
       "sp_P40406_NAGZ_BACSU:0-21                  41.915240                 2.178659   \n",
       "sp_P39790_MPR_BACSU:0-39                   78.968990                 2.564675   \n",
       "sp_P54602_YHCR_BACSU:0-54                  48.217911                 4.778160   \n",
       "\n",
       "                           ...  sp_P54422_GGT_BACSU:0-33  \\\n",
       "sp_P40136_CYAA_BACAN:0-38  ...                  5.913626   \n",
       "sp_P15917_LEF_BACAN:0-38   ...                  2.629283   \n",
       "sp_P40406_NAGZ_BACSU:0-21  ...                  2.828168   \n",
       "sp_P39790_MPR_BACSU:0-39   ...                  4.182438   \n",
       "sp_P54602_YHCR_BACSU:0-54  ...                  2.986056   \n",
       "\n",
       "                           sp_P63186_GGT_BACNA:0-33  \\\n",
       "sp_P40136_CYAA_BACAN:0-38                  5.968603   \n",
       "sp_P15917_LEF_BACAN:0-38                   2.735572   \n",
       "sp_P40406_NAGZ_BACSU:0-21                  2.828168   \n",
       "sp_P39790_MPR_BACSU:0-39                   3.786683   \n",
       "sp_P54602_YHCR_BACSU:0-54                  2.894079   \n",
       "\n",
       "                           sp_Q45071_XYND_BACSU:0-31  \\\n",
       "sp_P40136_CYAA_BACAN:0-38                   2.816197   \n",
       "sp_P15917_LEF_BACAN:0-38                    4.517575   \n",
       "sp_P40406_NAGZ_BACSU:0-21                   0.000000   \n",
       "sp_P39790_MPR_BACSU:0-39                   31.413879   \n",
       "sp_P54602_YHCR_BACSU:0-54                   2.744370   \n",
       "\n",
       "                           sp_P68569_BDBA_BACSU:0-31  \\\n",
       "sp_P40136_CYAA_BACAN:0-38                   7.242858   \n",
       "sp_P15917_LEF_BACAN:0-38                    2.749609   \n",
       "sp_P40406_NAGZ_BACSU:0-21                   2.989954   \n",
       "sp_P39790_MPR_BACSU:0-39                    2.442200   \n",
       "sp_P54602_YHCR_BACSU:0-54                   3.219371   \n",
       "\n",
       "                           sp_P14262_PLC_BACCE:0-36  sp_P08954_PLC_BACTU:0-36  \\\n",
       "sp_P40136_CYAA_BACAN:0-38                  6.052181                  5.892289   \n",
       "sp_P15917_LEF_BACAN:0-38                   5.004428                  4.895002   \n",
       "sp_P40406_NAGZ_BACSU:0-21                  3.225782                  3.225782   \n",
       "sp_P39790_MPR_BACSU:0-39                   2.729204                  2.455243   \n",
       "sp_P54602_YHCR_BACSU:0-54                  2.783379                  2.901719   \n",
       "\n",
       "                           sp_P42983_NUCB_BACSU:0-31  \\\n",
       "sp_P40136_CYAA_BACAN:0-38                   2.638019   \n",
       "sp_P15917_LEF_BACAN:0-38                    2.722560   \n",
       "sp_P40406_NAGZ_BACSU:0-21                   3.646024   \n",
       "sp_P39790_MPR_BACSU:0-39                   25.831242   \n",
       "sp_P54602_YHCR_BACSU:0-54                   2.569831   \n",
       "\n",
       "                           sp_O34313_NTPES_BACSU:0-40  \\\n",
       "sp_P40136_CYAA_BACAN:0-38                    6.997069   \n",
       "sp_P15917_LEF_BACAN:0-38                     5.674842   \n",
       "sp_P40406_NAGZ_BACSU:0-21                    2.538380   \n",
       "sp_P39790_MPR_BACSU:0-39                     4.160571   \n",
       "sp_P54602_YHCR_BACSU:0-54                    5.205152   \n",
       "\n",
       "                           sp_O31526_YESW_BACSU:0-40  \\\n",
       "sp_P40136_CYAA_BACAN:0-38                  10.362831   \n",
       "sp_P15917_LEF_BACAN:0-38                    8.608075   \n",
       "sp_P40406_NAGZ_BACSU:0-21                   3.700668   \n",
       "sp_P39790_MPR_BACSU:0-39                    5.022308   \n",
       "sp_P54602_YHCR_BACSU:0-54                  50.920954   \n",
       "\n",
       "                           sp_O34344_SDPC_BACSU:0-37  \n",
       "sp_P40136_CYAA_BACAN:0-38                   7.049289  \n",
       "sp_P15917_LEF_BACAN:0-38                    8.204759  \n",
       "sp_P40406_NAGZ_BACSU:0-21                   2.488479  \n",
       "sp_P39790_MPR_BACSU:0-39                   35.437007  \n",
       "sp_P54602_YHCR_BACSU:0-54                   4.697860  \n",
       "\n",
       "[5 rows x 125 columns]"
      ]
     },
     "execution_count": 41,
     "metadata": {},
     "output_type": "execute_result"
    }
   ],
   "source": [
    "inds = np.where(np.isnan(dm))\n",
    "for i, (row, col) in enumerate(zip(inds[0], inds[1])):\n",
    "    dm[row,col] = np.double(0)\n",
    "    \n",
    "dm2 = pd.DataFrame(data=dm, index=distance_matrix.index.values, columns=distance_matrix.columns.values)\n",
    "\n",
    "type(dm2)\n",
    "dm2.head()"
   ]
  },
  {
   "cell_type": "markdown",
   "id": "d28194d5",
   "metadata": {},
   "source": [
    "## 3.2 Define SVD and t-SNE\n",
    "Here, we define our variables for truncated SVD and t-SNE. We set the dimensionality of the dataset `num_TSNE` to three based off the common data analysis convention. We use a `precomputed` metric, which assumes that the dataset is a distance matrix. We also use `random_state=0` for standardisation purposes for both `tSNE` and `svd`. This leads to implementing truncated SVD (`svd`) with `n=12` components, `n=13` iterations and a standardised 0 `random_state`, with all other parameters unchanged. Likewise, we implement `tSNE` similarly but with `n=3` components, the `precomputed` metric and the same `random_state`, with all other parameters unchanged."
   ]
  },
  {
   "cell_type": "code",
   "execution_count": 42,
   "id": "283a6843",
   "metadata": {},
   "outputs": [],
   "source": [
    "num_TSNE=3\n",
    "metric = \"precomputed\"\n",
    "state = 0\n",
    "tSNE = TSNE(n_components=num_TSNE, metric=metric, random_state=state)\n",
    "svd = TruncatedSVD(n_components=12, n_iter=13, random_state=state)"
   ]
  },
  {
   "cell_type": "markdown",
   "id": "755b6a26",
   "metadata": {},
   "source": [
    "`svd`, followed up by `tSNE` is run. We adapt this method from the source: https://github.com/scikit-learn/scikit-learn/issues/17916. Although the `svd` implementation is unchanged, we increase the iterations of our `tSNE` to `n=250` and also change `perplexity=75`. The `perplexity` parameter changes the number of neighbours obtained from `tSNE` (`default=30`). Note that changing the following parameters is allowed and could provide different results. `svd` parameters can be changed in the `svd` assignment. \n",
    "\n",
    "Once the pipeline is made from the estimators, we fit the `tSNE` to our embedded space distance matrix `dm2` and return with the transformed output `wide_tSNE`."
   ]
  },
  {
   "cell_type": "code",
   "execution_count": 43,
   "id": "1d94bd7f",
   "metadata": {},
   "outputs": [
    {
     "name": "stderr",
     "output_type": "stream",
     "text": [
      "/Users/pranav/opt/anaconda3/lib/python3.8/site-packages/sklearn/manifold/_t_sne.py:780: FutureWarning:\n",
      "\n",
      "The default initialization in TSNE will change from 'random' to 'pca' in 1.2.\n",
      "\n",
      "/Users/pranav/opt/anaconda3/lib/python3.8/site-packages/sklearn/manifold/_t_sne.py:790: FutureWarning:\n",
      "\n",
      "The default learning rate in TSNE will change from 200.0 to 'auto' in 1.2.\n",
      "\n"
     ]
    },
    {
     "data": {
      "text/plain": [
       "(125, 3)"
      ]
     },
     "execution_count": 43,
     "metadata": {},
     "output_type": "execute_result"
    }
   ],
   "source": [
    "tSNE = make_pipeline(svd, TSNE(n_iter=250, n_components=num_TSNE, random_state=state, perplexity=30))\n",
    "\n",
    "wide_tSNE = tSNE.fit_transform(dm2)\n",
    "\n",
    "#print(wide_tSNE)\n",
    "wide_tSNE.shape"
   ]
  },
  {
   "cell_type": "markdown",
   "id": "7a6635d5",
   "metadata": {},
   "source": [
    "## 3.3 2D tSNE Visualisation\n",
    "To visualise our data, we first construct a tSNE dataframe (`tSNE_df`) as follows. We first initialise 3 columns of the `tSNE_df` as `TSNE1`, `TSNE2`, and `TNSE3`, which will contain the 3 tSNE features for all SP sequences. The `tSNE_df` will initially contain only the `wide_tSNE` values, and no index. This is followed up by adding the index to the `tSNE_df`.\n",
    "\n",
    "We first create a new, empty dataframe only containing the SP names as the index from the original `distance_matrix` and then initialise it to be the index of `tSNE_df`. Once the dataframe has been generated, we save the tSNE values as a `.csv` without the index."
   ]
  },
  {
   "cell_type": "code",
   "execution_count": 44,
   "id": "ecbf8005",
   "metadata": {},
   "outputs": [],
   "source": [
    "# Initialise columns for tSNE\n",
    "tSNE_df = pd.DataFrame({'tSNE_x': wide_tSNE[:,0], 'tSNE_y': wide_tSNE[:,1],'tSNE_z': wide_tSNE[:,2]})\n",
    "# Create new dataframe for index and initialse as tSNE_df index\n",
    "df_index = pd.DataFrame(index = distance_matrix.index)\n",
    "tSNE_df.index = df_index.index\n",
    "# Save tSNE values without index\n",
    "tSNE_df.to_csv('tSNE_final.csv', index=False)\n",
    "\n",
    "#tSNE_df.head()"
   ]
  },
  {
   "cell_type": "markdown",
   "id": "0eabb150",
   "metadata": {},
   "source": [
    "As `num_tSNE` had 3 dimensions that were defined, we plot each plane (x-y, x-z, and y-z) separately as follows. `Graph 1` shows the x-y plane, `Graph 2` shows the x-z plane, and `Graph 3` shows the y-z plane."
   ]
  },
  {
   "cell_type": "code",
   "execution_count": 45,
   "id": "85b1403a",
   "metadata": {},
   "outputs": [
    {
     "data": {
      "application/vnd.plotly.v1+json": {
       "config": {
        "plotlyServerURL": "https://plot.ly"
       },
       "data": [
        {
         "hovertemplate": "<b>%{hovertext}</b><br><br>tSNE_x=%{x}<br>tSNE_y=%{y}<extra></extra>",
         "hovertext": [
          "sp_P40136_CYAA_BACAN:0-38",
          "sp_P15917_LEF_BACAN:0-38",
          "sp_P40406_NAGZ_BACSU:0-21",
          "sp_P39790_MPR_BACSU:0-39",
          "sp_P54602_YHCR_BACSU:0-54",
          "sp_O66037_PHYT_BACSD:0-23",
          "sp_O31097_PHYC_BACIU:0-23",
          "sp_P42094_PHYT_BACSU:0-31",
          "sp_P05656_SACC_BACSU:0-29",
          "sp_P00649_RN_BACIN:0-34",
          "sp_P48068_RN_BACPU:0-34",
          "sp_P00648_RNBR_BACAM:0-40",
          "sp_P71014_BSLA_BACSU:0-33",
          "sp_P94356_YXKC_BACSU:0-35",
          "sp_P29141_SUBV_BACSU:0-33",
          "sp_P40767_CWLO_BACSU:0-35",
          "sp_Q65NQ9_CWLO_BACLD:0-35",
          "sp_O07013_GANB_BACSU:0-22",
          "sp_P94449_PEL2_BACIU:0-29",
          "sp_O34819_PEL1_BACSU:0-29",
          "sp_P16397_SUBF_BACSU:0-35",
          "sp_O32083_LYTG_BACSU:0-38",
          "sp_O31737_YLQB_BACSU:0-32",
          "sp_Q45670_THES_BACSJ:0-29",
          "sp_Q07833_WAPA_BACSU:0-37",
          "sp_D4G3R4_WAPA_BACNB:0-50",
          "sp_G4NYJ6_WAPA_BACS4:0-37",
          "sp_P39899_NPRB_BACSU:0-33",
          "sp_P05806_NPRE_BACCE:0-32",
          "sp_P00800_THER_BACTH:0-33",
          "sp_Q59223_THER_BACSO:0-30",
          "sp_Q02113_CWBA_BACSU:0-30",
          "sp_P49051_SLAP1_BACAN:0-34",
          "sp_Q9ZES5_SLAP_BACTF:0-34",
          "sp_P94217_SLAP2_BACAN:0-34",
          "sp_P49052_SLAP_BACLI:0-34",
          "sp_Q9RMZ0_Y6545_BACAN:0-33",
          "sp_P94576_YWOF_BACSU:0-32",
          "sp_P00780_SUBC_BACLI:0-34",
          "sp_P00782_SUBT_BACAM:0-35",
          "sp_P04189_SUBT_BACSU:0-34",
          "sp_P35835_SUBN_BACNA:0-34",
          "sp_P00783_SUBT_BACSA:0-34",
          "sp_P20724_ELYA_BACYA:0-32",
          "sp_P21130_SACB_BACAM:0-34",
          "sp_P05655_SACB_BACSU:0-34",
          "sp_P96740_PGDS_BACSU:0-37",
          "sp_P16396_SUBE_BACSU:0-32",
          "sp_P39597_EFEN_BACSU:0-50",
          "sp_P54507_TASA_BACSU:0-32",
          "sp_P40949_TAPA_BACSU:0-48",
          "sp_P39632_BSLB_BACSU:0-35",
          "sp_P39844_DACC_BACSU:0-34",
          "sp_Q9AQS0_XANLY_BACGL:0-30",
          "sp_O34918_YOAJ_BACSU:0-30",
          "sp_P39116_PLY_BACSU:0-26",
          "sp_B1B6T1_PTLY_BACSP:0-32",
          "sp_Q65DC2_PTLY_BACLD:0-32",
          "sp_Q8GCB2_PTLY_BACLI:0-32",
          "sp_Q45070_XYNC_BACSU:0-37",
          "sp_Q6YK37_XYNC_BACIU:0-38",
          "sp_Q03091_BSN1_BACAM:0-31",
          "sp_P38422_DACF_BACSU:0-28",
          "sp_P08750_DACA_BACSU:0-36",
          "sp_O32150_BSN2_BACSU:0-33",
          "sp_O31411_SACC_BACL7:0-33",
          "sp_P42293_EABN2_BACSU:0-31",
          "sp_P94522_EABN1_BACSU:0-37",
          "sp_O07532_LYTF_BACSU:0-31",
          "sp_P54421_LYTE_BACSU:0-30",
          "sp_O34669_YOCH_BACSU:0-30",
          "sp_O34310_PLYC_BACSU:0-32",
          "sp_Q65EF5_PLYC_BACLD:0-33",
          "sp_Q45105_TACY_BACCE:0-33",
          "sp_O31803_YNCM_BACSU:0-47",
          "sp_P39848_LYTD_BACSU:0-32",
          "sp_Q02114_LYTC_BACSU:0-29",
          "sp_P25152_BSAP_BACSU:0-36",
          "sp_P80057_GSEP_BACLD:0-35",
          "sp_O32041_YRVJ_BACSU:0-32",
          "sp_P96729_YWSB_BACSU:0-35",
          "sp_P54484_YQGA_BACSU:0-33",
          "sp_O82833_GELLY_BACSP:0-40",
          "sp_P06278_AMY_BACLI:0-34",
          "sp_P00692_AMY_BACAM:0-36",
          "sp_P19571_AMT6_BACS7:0-38",
          "sp_P55278_MANB_BACIU:0-29",
          "sp_O05512_MANB_BACSU:0-31",
          "sp_P04957_GUB_BACSU:0-33",
          "sp_P80172_HBLA_BACCE:0-36",
          "sp_P28842_SUBT_BACS9:0-31",
          "sp_Q79F14_ESTB_BACSU:0-33",
          "sp_P37957_ESTA_BACSU:0-36",
          "sp_Q5U780_LIP_BACSP:0-33",
          "sp_P33377_PHL3_BACCE:0-32",
          "sp_P11889_PHL2_BACCE:0-32",
          "sp_P09599_PHL1_BACCE:0-32",
          "sp_P05618_CDGT_BACS0:0-32",
          "sp_P09121_CDGT_BACS3:0-32",
          "sp_P30921_CDGT_BAC11:0-32",
          "sp_P17692_CDGT_BACS8:0-32",
          "sp_P31747_CDGT_BACSS:0-39",
          "sp_P14014_CDGT_BACLI:0-39",
          "sp_P31746_CDGT_BACS2:0-34",
          "sp_P27036_CDGT_BACOH:0-34",
          "sp_O07921_CHIS_BACSU:0-40",
          "sp_P54423_WPRA_BACSU:0-36",
          "sp_P39824_BLAC_BACSU:0-39",
          "sp_P10424_BLA1_BACCE:0-40",
          "sp_P00691_AMY_BACSU:0-38",
          "sp_P06832_NPRE_BACAM:0-32",
          "sp_P68735_NPRE_BACSA:0-32",
          "sp_P68736_NPRE_BACSU:0-32",
          "sp_P42111_YXAL_BACSU:0-46",
          "sp_P13423_PAG_BACAN:0-34",
          "sp_P54422_GGT_BACSU:0-33",
          "sp_P63186_GGT_BACNA:0-33",
          "sp_Q45071_XYND_BACSU:0-31",
          "sp_P68569_BDBA_BACSU:0-31",
          "sp_P14262_PLC_BACCE:0-36",
          "sp_P08954_PLC_BACTU:0-36",
          "sp_P42983_NUCB_BACSU:0-31",
          "sp_O34313_NTPES_BACSU:0-40",
          "sp_O31526_YESW_BACSU:0-40",
          "sp_O34344_SDPC_BACSU:0-37"
         ],
         "legendgroup": "",
         "marker": {
          "color": "#F8766D",
          "opacity": 1,
          "symbol": "circle"
         },
         "mode": "markers",
         "name": "",
         "orientation": "v",
         "showlegend": false,
         "type": "scatter",
         "x": [
          0.3102003335952759,
          -7.829129219055176,
          25.110774993896484,
          1.0170388221740723,
          7.867526531219482,
          -1.844865322113037,
          -25.19788360595703,
          -0.6391956806182861,
          40.71402359008789,
          0.7963716983795166,
          3.1374385356903076,
          15.495223045349121,
          0.4457113444805145,
          -4.320050239562988,
          3.0727484226226807,
          -4.392207145690918,
          -0.6043649911880493,
          0.5019261240959167,
          191.57269287109375,
          -1.6286216974258423,
          -0.48148420453071594,
          -0.5329246520996094,
          0.43839582800865173,
          -97.8246078491211,
          -0.7696435451507568,
          -36.15134048461914,
          -0.28387391567230225,
          12.054643630981445,
          -14.207162857055664,
          0.8133351802825928,
          6.355664253234863,
          -0.7993149757385254,
          -36.75585174560547,
          -1.8842874765396118,
          2.136758327484131,
          -2.3921897411346436,
          45.241214752197266,
          4.323153018951416,
          -3.4372336864471436,
          -0.3986133933067322,
          0.49055853486061096,
          11.201374053955078,
          2.158200263977051,
          0.30175817012786865,
          1.1783108711242676,
          68.13174438476562,
          -0.9027776718139648,
          -5.547532081604004,
          6.246806621551514,
          -3.653719425201416,
          -0.10640265047550201,
          -2.2848968505859375,
          -1.151824951171875,
          -2.130204439163208,
          -1.7429054975509644,
          0.3183974027633667,
          -7.412571907043457,
          -2.1466073989868164,
          -11.837783813476562,
          -0.11073288321495056,
          -44.28568649291992,
          102.30921936035156,
          -0.210300475358963,
          -1.826519250869751,
          0.10526353120803833,
          -16.299449920654297,
          4.717464923858643,
          -1.2116613388061523,
          13.768292427062988,
          -4.893636226654053,
          -0.7654836177825928,
          -3.270808696746826,
          8.140363693237305,
          0.21258167922496796,
          -2.271455764770508,
          0.7378965616226196,
          -1.1282833814620972,
          -1.5425392389297485,
          -16.845073699951172,
          -21.83671760559082,
          0.4047592580318451,
          -1.9797306060791016,
          -0.4175049066543579,
          -1.303497076034546,
          -2.0596272945404053,
          0.9584529995918274,
          -0.431451678276062,
          18.886940002441406,
          0.1821696162223816,
          -0.45362380146980286,
          -5.247932434082031,
          -33.773651123046875,
          -1.5210634469985962,
          -1.216101050376892,
          6.168434143066406,
          -3.990363836288452,
          1.5877833366394043,
          -2.2386112213134766,
          -1.4015331268310547,
          -3.4789528846740723,
          3.493910312652588,
          -1.1542061567306519,
          2.0070066452026367,
          -32.10582733154297,
          0.7213885188102722,
          0.5131478905677795,
          -0.4093535542488098,
          -2.7791194915771484,
          1.5851688385009766,
          0.3139685392379761,
          -81.39982604980469,
          -1.5967437028884888,
          13.11640453338623,
          -0.5255230665206909,
          -0.92634117603302,
          3.546259880065918,
          -1.8466529846191406,
          -3.243098735809326,
          -44.77222442626953,
          -20.57500457763672,
          -1.349814772605896,
          0.05969903618097305,
          6.670801162719727,
          -1.2163277864456177,
          -1.0663089752197266
         ],
         "xaxis": "x",
         "y": [
          -1.400858998298645,
          10.630584716796875,
          -22.562545776367188,
          0.38629043102264404,
          4.33057165145874,
          0.5663572549819946,
          2.8705198764801025,
          0.7091785669326782,
          -1.6498011350631714,
          -0.5062377452850342,
          0.3129812479019165,
          41.90669631958008,
          1.4208601713180542,
          20.92768669128418,
          -23.38849449157715,
          -4.540546894073486,
          0.354192316532135,
          1.367832899093628,
          86.48676300048828,
          1.7348746061325073,
          12.270476341247559,
          -0.052739471197128296,
          1.3651388883590698,
          45.83118438720703,
          -0.19271454215049744,
          -61.44113540649414,
          0.7395825386047363,
          -24.233003616333008,
          -86.30284881591797,
          1.237679362297058,
          23.362131118774414,
          0.2986149787902832,
          33.403526306152344,
          -0.7387185096740723,
          4.191659927368164,
          -0.10825541615486145,
          16.44626235961914,
          -16.418914794921875,
          11.799322128295898,
          1.172653317451477,
          1.4924960136413574,
          8.185345649719238,
          -25.73239517211914,
          1.3830105066299438,
          0.4289814233779907,
          -2.126152992248535,
          -0.7117729187011719,
          -0.11327813565731049,
          38.10084533691406,
          0.7002689838409424,
          0.6823762655258179,
          -0.7781188488006592,
          -0.11858674883842468,
          0.33350205421447754,
          0.9829885959625244,
          -0.09953244030475616,
          3.20904541015625,
          -1.7064976692199707,
          9.5008544921875,
          -0.37822622060775757,
          -19.39053726196289,
          -16.51557731628418,
          0.5739501714706421,
          -0.8646254539489746,
          1.2068041563034058,
          39.50121307373047,
          -13.512126922607422,
          0.2173669934272766,
          -146.09234619140625,
          0.17383599281311035,
          -0.8429529070854187,
          11.548450469970703,
          -26.681774139404297,
          0.17264431715011597,
          9.312421798706055,
          -0.34194767475128174,
          -17.105810165405273,
          -0.2129274606704712,
          -0.7804481387138367,
          -61.888206481933594,
          -0.05655330419540405,
          1.5042335987091064,
          -0.6911039352416992,
          -0.8608385324478149,
          -33.83024978637695,
          -0.20444315671920776,
          0.9949239492416382,
          -0.5616240501403809,
          1.4743237495422363,
          0.12498150765895844,
          8.408905029296875,
          0.3382185995578766,
          -0.8527861833572388,
          1.7408146858215332,
          8.744370460510254,
          -3.201539993286133,
          3.712472677230835,
          -0.3652219772338867,
          -1.6650936603546143,
          0.08805739879608154,
          5.5683794021606445,
          0.1544657051563263,
          -0.39948585629463196,
          -11.568565368652344,
          2.489522933959961,
          1.063326358795166,
          0.07302100956439972,
          7.656174659729004,
          -0.23390203714370728,
          -1.362593650817871,
          34.394290924072266,
          -1.1324480772018433,
          -22.00570297241211,
          4.451475143432617,
          0.20702910423278809,
          0.5443408489227295,
          2.046222686767578,
          12.127914428710938,
          113.55006408691406,
          41.73888397216797,
          0.07806584239006042,
          -0.5768508315086365,
          3.246717691421509,
          0.889162540435791,
          1.1925718784332275
         ],
         "yaxis": "y"
        }
       ],
       "layout": {
        "legend": {
         "tracegroupgap": 0
        },
        "template": {
         "data": {
          "bar": [
           {
            "error_x": {
             "color": "rgb(51,51,51)"
            },
            "error_y": {
             "color": "rgb(51,51,51)"
            },
            "marker": {
             "line": {
              "color": "rgb(237,237,237)",
              "width": 0.5
             },
             "pattern": {
              "fillmode": "overlay",
              "size": 10,
              "solidity": 0.2
             }
            },
            "type": "bar"
           }
          ],
          "barpolar": [
           {
            "marker": {
             "line": {
              "color": "rgb(237,237,237)",
              "width": 0.5
             },
             "pattern": {
              "fillmode": "overlay",
              "size": 10,
              "solidity": 0.2
             }
            },
            "type": "barpolar"
           }
          ],
          "carpet": [
           {
            "aaxis": {
             "endlinecolor": "rgb(51,51,51)",
             "gridcolor": "white",
             "linecolor": "white",
             "minorgridcolor": "white",
             "startlinecolor": "rgb(51,51,51)"
            },
            "baxis": {
             "endlinecolor": "rgb(51,51,51)",
             "gridcolor": "white",
             "linecolor": "white",
             "minorgridcolor": "white",
             "startlinecolor": "rgb(51,51,51)"
            },
            "type": "carpet"
           }
          ],
          "choropleth": [
           {
            "colorbar": {
             "outlinewidth": 0,
             "tickcolor": "rgb(237,237,237)",
             "ticklen": 6,
             "ticks": "inside"
            },
            "type": "choropleth"
           }
          ],
          "contour": [
           {
            "colorbar": {
             "outlinewidth": 0,
             "tickcolor": "rgb(237,237,237)",
             "ticklen": 6,
             "ticks": "inside"
            },
            "colorscale": [
             [
              0,
              "rgb(20,44,66)"
             ],
             [
              1,
              "rgb(90,179,244)"
             ]
            ],
            "type": "contour"
           }
          ],
          "contourcarpet": [
           {
            "colorbar": {
             "outlinewidth": 0,
             "tickcolor": "rgb(237,237,237)",
             "ticklen": 6,
             "ticks": "inside"
            },
            "type": "contourcarpet"
           }
          ],
          "heatmap": [
           {
            "colorbar": {
             "outlinewidth": 0,
             "tickcolor": "rgb(237,237,237)",
             "ticklen": 6,
             "ticks": "inside"
            },
            "colorscale": [
             [
              0,
              "rgb(20,44,66)"
             ],
             [
              1,
              "rgb(90,179,244)"
             ]
            ],
            "type": "heatmap"
           }
          ],
          "heatmapgl": [
           {
            "colorbar": {
             "outlinewidth": 0,
             "tickcolor": "rgb(237,237,237)",
             "ticklen": 6,
             "ticks": "inside"
            },
            "colorscale": [
             [
              0,
              "rgb(20,44,66)"
             ],
             [
              1,
              "rgb(90,179,244)"
             ]
            ],
            "type": "heatmapgl"
           }
          ],
          "histogram": [
           {
            "marker": {
             "pattern": {
              "fillmode": "overlay",
              "size": 10,
              "solidity": 0.2
             }
            },
            "type": "histogram"
           }
          ],
          "histogram2d": [
           {
            "colorbar": {
             "outlinewidth": 0,
             "tickcolor": "rgb(237,237,237)",
             "ticklen": 6,
             "ticks": "inside"
            },
            "colorscale": [
             [
              0,
              "rgb(20,44,66)"
             ],
             [
              1,
              "rgb(90,179,244)"
             ]
            ],
            "type": "histogram2d"
           }
          ],
          "histogram2dcontour": [
           {
            "colorbar": {
             "outlinewidth": 0,
             "tickcolor": "rgb(237,237,237)",
             "ticklen": 6,
             "ticks": "inside"
            },
            "colorscale": [
             [
              0,
              "rgb(20,44,66)"
             ],
             [
              1,
              "rgb(90,179,244)"
             ]
            ],
            "type": "histogram2dcontour"
           }
          ],
          "mesh3d": [
           {
            "colorbar": {
             "outlinewidth": 0,
             "tickcolor": "rgb(237,237,237)",
             "ticklen": 6,
             "ticks": "inside"
            },
            "type": "mesh3d"
           }
          ],
          "parcoords": [
           {
            "line": {
             "colorbar": {
              "outlinewidth": 0,
              "tickcolor": "rgb(237,237,237)",
              "ticklen": 6,
              "ticks": "inside"
             }
            },
            "type": "parcoords"
           }
          ],
          "pie": [
           {
            "automargin": true,
            "type": "pie"
           }
          ],
          "scatter": [
           {
            "fillpattern": {
             "fillmode": "overlay",
             "size": 10,
             "solidity": 0.2
            },
            "type": "scatter"
           }
          ],
          "scatter3d": [
           {
            "line": {
             "colorbar": {
              "outlinewidth": 0,
              "tickcolor": "rgb(237,237,237)",
              "ticklen": 6,
              "ticks": "inside"
             }
            },
            "marker": {
             "colorbar": {
              "outlinewidth": 0,
              "tickcolor": "rgb(237,237,237)",
              "ticklen": 6,
              "ticks": "inside"
             }
            },
            "type": "scatter3d"
           }
          ],
          "scattercarpet": [
           {
            "marker": {
             "colorbar": {
              "outlinewidth": 0,
              "tickcolor": "rgb(237,237,237)",
              "ticklen": 6,
              "ticks": "inside"
             }
            },
            "type": "scattercarpet"
           }
          ],
          "scattergeo": [
           {
            "marker": {
             "colorbar": {
              "outlinewidth": 0,
              "tickcolor": "rgb(237,237,237)",
              "ticklen": 6,
              "ticks": "inside"
             }
            },
            "type": "scattergeo"
           }
          ],
          "scattergl": [
           {
            "marker": {
             "colorbar": {
              "outlinewidth": 0,
              "tickcolor": "rgb(237,237,237)",
              "ticklen": 6,
              "ticks": "inside"
             }
            },
            "type": "scattergl"
           }
          ],
          "scattermapbox": [
           {
            "marker": {
             "colorbar": {
              "outlinewidth": 0,
              "tickcolor": "rgb(237,237,237)",
              "ticklen": 6,
              "ticks": "inside"
             }
            },
            "type": "scattermapbox"
           }
          ],
          "scatterpolar": [
           {
            "marker": {
             "colorbar": {
              "outlinewidth": 0,
              "tickcolor": "rgb(237,237,237)",
              "ticklen": 6,
              "ticks": "inside"
             }
            },
            "type": "scatterpolar"
           }
          ],
          "scatterpolargl": [
           {
            "marker": {
             "colorbar": {
              "outlinewidth": 0,
              "tickcolor": "rgb(237,237,237)",
              "ticklen": 6,
              "ticks": "inside"
             }
            },
            "type": "scatterpolargl"
           }
          ],
          "scatterternary": [
           {
            "marker": {
             "colorbar": {
              "outlinewidth": 0,
              "tickcolor": "rgb(237,237,237)",
              "ticklen": 6,
              "ticks": "inside"
             }
            },
            "type": "scatterternary"
           }
          ],
          "surface": [
           {
            "colorbar": {
             "outlinewidth": 0,
             "tickcolor": "rgb(237,237,237)",
             "ticklen": 6,
             "ticks": "inside"
            },
            "colorscale": [
             [
              0,
              "rgb(20,44,66)"
             ],
             [
              1,
              "rgb(90,179,244)"
             ]
            ],
            "type": "surface"
           }
          ],
          "table": [
           {
            "cells": {
             "fill": {
              "color": "rgb(237,237,237)"
             },
             "line": {
              "color": "white"
             }
            },
            "header": {
             "fill": {
              "color": "rgb(217,217,217)"
             },
             "line": {
              "color": "white"
             }
            },
            "type": "table"
           }
          ]
         },
         "layout": {
          "annotationdefaults": {
           "arrowhead": 0,
           "arrowwidth": 1
          },
          "autotypenumbers": "strict",
          "coloraxis": {
           "colorbar": {
            "outlinewidth": 0,
            "tickcolor": "rgb(237,237,237)",
            "ticklen": 6,
            "ticks": "inside"
           }
          },
          "colorscale": {
           "sequential": [
            [
             0,
             "rgb(20,44,66)"
            ],
            [
             1,
             "rgb(90,179,244)"
            ]
           ],
           "sequentialminus": [
            [
             0,
             "rgb(20,44,66)"
            ],
            [
             1,
             "rgb(90,179,244)"
            ]
           ]
          },
          "colorway": [
           "#F8766D",
           "#A3A500",
           "#00BF7D",
           "#00B0F6",
           "#E76BF3"
          ],
          "font": {
           "color": "rgb(51,51,51)"
          },
          "geo": {
           "bgcolor": "white",
           "lakecolor": "white",
           "landcolor": "rgb(237,237,237)",
           "showlakes": true,
           "showland": true,
           "subunitcolor": "white"
          },
          "hoverlabel": {
           "align": "left"
          },
          "hovermode": "closest",
          "paper_bgcolor": "white",
          "plot_bgcolor": "rgb(237,237,237)",
          "polar": {
           "angularaxis": {
            "gridcolor": "white",
            "linecolor": "white",
            "showgrid": true,
            "tickcolor": "rgb(51,51,51)",
            "ticks": "outside"
           },
           "bgcolor": "rgb(237,237,237)",
           "radialaxis": {
            "gridcolor": "white",
            "linecolor": "white",
            "showgrid": true,
            "tickcolor": "rgb(51,51,51)",
            "ticks": "outside"
           }
          },
          "scene": {
           "xaxis": {
            "backgroundcolor": "rgb(237,237,237)",
            "gridcolor": "white",
            "gridwidth": 2,
            "linecolor": "white",
            "showbackground": true,
            "showgrid": true,
            "tickcolor": "rgb(51,51,51)",
            "ticks": "outside",
            "zerolinecolor": "white"
           },
           "yaxis": {
            "backgroundcolor": "rgb(237,237,237)",
            "gridcolor": "white",
            "gridwidth": 2,
            "linecolor": "white",
            "showbackground": true,
            "showgrid": true,
            "tickcolor": "rgb(51,51,51)",
            "ticks": "outside",
            "zerolinecolor": "white"
           },
           "zaxis": {
            "backgroundcolor": "rgb(237,237,237)",
            "gridcolor": "white",
            "gridwidth": 2,
            "linecolor": "white",
            "showbackground": true,
            "showgrid": true,
            "tickcolor": "rgb(51,51,51)",
            "ticks": "outside",
            "zerolinecolor": "white"
           }
          },
          "shapedefaults": {
           "fillcolor": "black",
           "line": {
            "width": 0
           },
           "opacity": 0.3
          },
          "ternary": {
           "aaxis": {
            "gridcolor": "white",
            "linecolor": "white",
            "showgrid": true,
            "tickcolor": "rgb(51,51,51)",
            "ticks": "outside"
           },
           "baxis": {
            "gridcolor": "white",
            "linecolor": "white",
            "showgrid": true,
            "tickcolor": "rgb(51,51,51)",
            "ticks": "outside"
           },
           "bgcolor": "rgb(237,237,237)",
           "caxis": {
            "gridcolor": "white",
            "linecolor": "white",
            "showgrid": true,
            "tickcolor": "rgb(51,51,51)",
            "ticks": "outside"
           }
          },
          "xaxis": {
           "automargin": true,
           "gridcolor": "white",
           "linecolor": "white",
           "showgrid": true,
           "tickcolor": "rgb(51,51,51)",
           "ticks": "outside",
           "title": {
            "standoff": 15
           },
           "zerolinecolor": "white"
          },
          "yaxis": {
           "automargin": true,
           "gridcolor": "white",
           "linecolor": "white",
           "showgrid": true,
           "tickcolor": "rgb(51,51,51)",
           "ticks": "outside",
           "title": {
            "standoff": 15
           },
           "zerolinecolor": "white"
          }
         }
        },
        "title": {
         "text": "Graph 1: tSNE Visualisation in the x-y plane"
        },
        "xaxis": {
         "anchor": "y",
         "domain": [
          0,
          1
         ],
         "title": {
          "text": "tSNE_x"
         }
        },
        "yaxis": {
         "anchor": "x",
         "domain": [
          0,
          1
         ],
         "title": {
          "text": "tSNE_y"
         }
        }
       }
      },
      "text/html": [
       "<div>                            <div id=\"f7f69398-2a53-4b2d-aa25-34fe9b0b943d\" class=\"plotly-graph-div\" style=\"height:525px; width:100%;\"></div>            <script type=\"text/javascript\">                require([\"plotly\"], function(Plotly) {                    window.PLOTLYENV=window.PLOTLYENV || {};                                    if (document.getElementById(\"f7f69398-2a53-4b2d-aa25-34fe9b0b943d\")) {                    Plotly.newPlot(                        \"f7f69398-2a53-4b2d-aa25-34fe9b0b943d\",                        [{\"hovertemplate\":\"<b>%{hovertext}</b><br><br>tSNE_x=%{x}<br>tSNE_y=%{y}<extra></extra>\",\"hovertext\":[\"sp_P40136_CYAA_BACAN:0-38\",\"sp_P15917_LEF_BACAN:0-38\",\"sp_P40406_NAGZ_BACSU:0-21\",\"sp_P39790_MPR_BACSU:0-39\",\"sp_P54602_YHCR_BACSU:0-54\",\"sp_O66037_PHYT_BACSD:0-23\",\"sp_O31097_PHYC_BACIU:0-23\",\"sp_P42094_PHYT_BACSU:0-31\",\"sp_P05656_SACC_BACSU:0-29\",\"sp_P00649_RN_BACIN:0-34\",\"sp_P48068_RN_BACPU:0-34\",\"sp_P00648_RNBR_BACAM:0-40\",\"sp_P71014_BSLA_BACSU:0-33\",\"sp_P94356_YXKC_BACSU:0-35\",\"sp_P29141_SUBV_BACSU:0-33\",\"sp_P40767_CWLO_BACSU:0-35\",\"sp_Q65NQ9_CWLO_BACLD:0-35\",\"sp_O07013_GANB_BACSU:0-22\",\"sp_P94449_PEL2_BACIU:0-29\",\"sp_O34819_PEL1_BACSU:0-29\",\"sp_P16397_SUBF_BACSU:0-35\",\"sp_O32083_LYTG_BACSU:0-38\",\"sp_O31737_YLQB_BACSU:0-32\",\"sp_Q45670_THES_BACSJ:0-29\",\"sp_Q07833_WAPA_BACSU:0-37\",\"sp_D4G3R4_WAPA_BACNB:0-50\",\"sp_G4NYJ6_WAPA_BACS4:0-37\",\"sp_P39899_NPRB_BACSU:0-33\",\"sp_P05806_NPRE_BACCE:0-32\",\"sp_P00800_THER_BACTH:0-33\",\"sp_Q59223_THER_BACSO:0-30\",\"sp_Q02113_CWBA_BACSU:0-30\",\"sp_P49051_SLAP1_BACAN:0-34\",\"sp_Q9ZES5_SLAP_BACTF:0-34\",\"sp_P94217_SLAP2_BACAN:0-34\",\"sp_P49052_SLAP_BACLI:0-34\",\"sp_Q9RMZ0_Y6545_BACAN:0-33\",\"sp_P94576_YWOF_BACSU:0-32\",\"sp_P00780_SUBC_BACLI:0-34\",\"sp_P00782_SUBT_BACAM:0-35\",\"sp_P04189_SUBT_BACSU:0-34\",\"sp_P35835_SUBN_BACNA:0-34\",\"sp_P00783_SUBT_BACSA:0-34\",\"sp_P20724_ELYA_BACYA:0-32\",\"sp_P21130_SACB_BACAM:0-34\",\"sp_P05655_SACB_BACSU:0-34\",\"sp_P96740_PGDS_BACSU:0-37\",\"sp_P16396_SUBE_BACSU:0-32\",\"sp_P39597_EFEN_BACSU:0-50\",\"sp_P54507_TASA_BACSU:0-32\",\"sp_P40949_TAPA_BACSU:0-48\",\"sp_P39632_BSLB_BACSU:0-35\",\"sp_P39844_DACC_BACSU:0-34\",\"sp_Q9AQS0_XANLY_BACGL:0-30\",\"sp_O34918_YOAJ_BACSU:0-30\",\"sp_P39116_PLY_BACSU:0-26\",\"sp_B1B6T1_PTLY_BACSP:0-32\",\"sp_Q65DC2_PTLY_BACLD:0-32\",\"sp_Q8GCB2_PTLY_BACLI:0-32\",\"sp_Q45070_XYNC_BACSU:0-37\",\"sp_Q6YK37_XYNC_BACIU:0-38\",\"sp_Q03091_BSN1_BACAM:0-31\",\"sp_P38422_DACF_BACSU:0-28\",\"sp_P08750_DACA_BACSU:0-36\",\"sp_O32150_BSN2_BACSU:0-33\",\"sp_O31411_SACC_BACL7:0-33\",\"sp_P42293_EABN2_BACSU:0-31\",\"sp_P94522_EABN1_BACSU:0-37\",\"sp_O07532_LYTF_BACSU:0-31\",\"sp_P54421_LYTE_BACSU:0-30\",\"sp_O34669_YOCH_BACSU:0-30\",\"sp_O34310_PLYC_BACSU:0-32\",\"sp_Q65EF5_PLYC_BACLD:0-33\",\"sp_Q45105_TACY_BACCE:0-33\",\"sp_O31803_YNCM_BACSU:0-47\",\"sp_P39848_LYTD_BACSU:0-32\",\"sp_Q02114_LYTC_BACSU:0-29\",\"sp_P25152_BSAP_BACSU:0-36\",\"sp_P80057_GSEP_BACLD:0-35\",\"sp_O32041_YRVJ_BACSU:0-32\",\"sp_P96729_YWSB_BACSU:0-35\",\"sp_P54484_YQGA_BACSU:0-33\",\"sp_O82833_GELLY_BACSP:0-40\",\"sp_P06278_AMY_BACLI:0-34\",\"sp_P00692_AMY_BACAM:0-36\",\"sp_P19571_AMT6_BACS7:0-38\",\"sp_P55278_MANB_BACIU:0-29\",\"sp_O05512_MANB_BACSU:0-31\",\"sp_P04957_GUB_BACSU:0-33\",\"sp_P80172_HBLA_BACCE:0-36\",\"sp_P28842_SUBT_BACS9:0-31\",\"sp_Q79F14_ESTB_BACSU:0-33\",\"sp_P37957_ESTA_BACSU:0-36\",\"sp_Q5U780_LIP_BACSP:0-33\",\"sp_P33377_PHL3_BACCE:0-32\",\"sp_P11889_PHL2_BACCE:0-32\",\"sp_P09599_PHL1_BACCE:0-32\",\"sp_P05618_CDGT_BACS0:0-32\",\"sp_P09121_CDGT_BACS3:0-32\",\"sp_P30921_CDGT_BAC11:0-32\",\"sp_P17692_CDGT_BACS8:0-32\",\"sp_P31747_CDGT_BACSS:0-39\",\"sp_P14014_CDGT_BACLI:0-39\",\"sp_P31746_CDGT_BACS2:0-34\",\"sp_P27036_CDGT_BACOH:0-34\",\"sp_O07921_CHIS_BACSU:0-40\",\"sp_P54423_WPRA_BACSU:0-36\",\"sp_P39824_BLAC_BACSU:0-39\",\"sp_P10424_BLA1_BACCE:0-40\",\"sp_P00691_AMY_BACSU:0-38\",\"sp_P06832_NPRE_BACAM:0-32\",\"sp_P68735_NPRE_BACSA:0-32\",\"sp_P68736_NPRE_BACSU:0-32\",\"sp_P42111_YXAL_BACSU:0-46\",\"sp_P13423_PAG_BACAN:0-34\",\"sp_P54422_GGT_BACSU:0-33\",\"sp_P63186_GGT_BACNA:0-33\",\"sp_Q45071_XYND_BACSU:0-31\",\"sp_P68569_BDBA_BACSU:0-31\",\"sp_P14262_PLC_BACCE:0-36\",\"sp_P08954_PLC_BACTU:0-36\",\"sp_P42983_NUCB_BACSU:0-31\",\"sp_O34313_NTPES_BACSU:0-40\",\"sp_O31526_YESW_BACSU:0-40\",\"sp_O34344_SDPC_BACSU:0-37\"],\"legendgroup\":\"\",\"marker\":{\"color\":\"#F8766D\",\"opacity\":1,\"symbol\":\"circle\"},\"mode\":\"markers\",\"name\":\"\",\"orientation\":\"v\",\"showlegend\":false,\"x\":[0.3102003335952759,-7.829129219055176,25.110774993896484,1.0170388221740723,7.867526531219482,-1.844865322113037,-25.19788360595703,-0.6391956806182861,40.71402359008789,0.7963716983795166,3.1374385356903076,15.495223045349121,0.4457113444805145,-4.320050239562988,3.0727484226226807,-4.392207145690918,-0.6043649911880493,0.5019261240959167,191.57269287109375,-1.6286216974258423,-0.48148420453071594,-0.5329246520996094,0.43839582800865173,-97.8246078491211,-0.7696435451507568,-36.15134048461914,-0.28387391567230225,12.054643630981445,-14.207162857055664,0.8133351802825928,6.355664253234863,-0.7993149757385254,-36.75585174560547,-1.8842874765396118,2.136758327484131,-2.3921897411346436,45.241214752197266,4.323153018951416,-3.4372336864471436,-0.3986133933067322,0.49055853486061096,11.201374053955078,2.158200263977051,0.30175817012786865,1.1783108711242676,68.13174438476562,-0.9027776718139648,-5.547532081604004,6.246806621551514,-3.653719425201416,-0.10640265047550201,-2.2848968505859375,-1.151824951171875,-2.130204439163208,-1.7429054975509644,0.3183974027633667,-7.412571907043457,-2.1466073989868164,-11.837783813476562,-0.11073288321495056,-44.28568649291992,102.30921936035156,-0.210300475358963,-1.826519250869751,0.10526353120803833,-16.299449920654297,4.717464923858643,-1.2116613388061523,13.768292427062988,-4.893636226654053,-0.7654836177825928,-3.270808696746826,8.140363693237305,0.21258167922496796,-2.271455764770508,0.7378965616226196,-1.1282833814620972,-1.5425392389297485,-16.845073699951172,-21.83671760559082,0.4047592580318451,-1.9797306060791016,-0.4175049066543579,-1.303497076034546,-2.0596272945404053,0.9584529995918274,-0.431451678276062,18.886940002441406,0.1821696162223816,-0.45362380146980286,-5.247932434082031,-33.773651123046875,-1.5210634469985962,-1.216101050376892,6.168434143066406,-3.990363836288452,1.5877833366394043,-2.2386112213134766,-1.4015331268310547,-3.4789528846740723,3.493910312652588,-1.1542061567306519,2.0070066452026367,-32.10582733154297,0.7213885188102722,0.5131478905677795,-0.4093535542488098,-2.7791194915771484,1.5851688385009766,0.3139685392379761,-81.39982604980469,-1.5967437028884888,13.11640453338623,-0.5255230665206909,-0.92634117603302,3.546259880065918,-1.8466529846191406,-3.243098735809326,-44.77222442626953,-20.57500457763672,-1.349814772605896,0.05969903618097305,6.670801162719727,-1.2163277864456177,-1.0663089752197266],\"xaxis\":\"x\",\"y\":[-1.400858998298645,10.630584716796875,-22.562545776367188,0.38629043102264404,4.33057165145874,0.5663572549819946,2.8705198764801025,0.7091785669326782,-1.6498011350631714,-0.5062377452850342,0.3129812479019165,41.90669631958008,1.4208601713180542,20.92768669128418,-23.38849449157715,-4.540546894073486,0.354192316532135,1.367832899093628,86.48676300048828,1.7348746061325073,12.270476341247559,-0.052739471197128296,1.3651388883590698,45.83118438720703,-0.19271454215049744,-61.44113540649414,0.7395825386047363,-24.233003616333008,-86.30284881591797,1.237679362297058,23.362131118774414,0.2986149787902832,33.403526306152344,-0.7387185096740723,4.191659927368164,-0.10825541615486145,16.44626235961914,-16.418914794921875,11.799322128295898,1.172653317451477,1.4924960136413574,8.185345649719238,-25.73239517211914,1.3830105066299438,0.4289814233779907,-2.126152992248535,-0.7117729187011719,-0.11327813565731049,38.10084533691406,0.7002689838409424,0.6823762655258179,-0.7781188488006592,-0.11858674883842468,0.33350205421447754,0.9829885959625244,-0.09953244030475616,3.20904541015625,-1.7064976692199707,9.5008544921875,-0.37822622060775757,-19.39053726196289,-16.51557731628418,0.5739501714706421,-0.8646254539489746,1.2068041563034058,39.50121307373047,-13.512126922607422,0.2173669934272766,-146.09234619140625,0.17383599281311035,-0.8429529070854187,11.548450469970703,-26.681774139404297,0.17264431715011597,9.312421798706055,-0.34194767475128174,-17.105810165405273,-0.2129274606704712,-0.7804481387138367,-61.888206481933594,-0.05655330419540405,1.5042335987091064,-0.6911039352416992,-0.8608385324478149,-33.83024978637695,-0.20444315671920776,0.9949239492416382,-0.5616240501403809,1.4743237495422363,0.12498150765895844,8.408905029296875,0.3382185995578766,-0.8527861833572388,1.7408146858215332,8.744370460510254,-3.201539993286133,3.712472677230835,-0.3652219772338867,-1.6650936603546143,0.08805739879608154,5.5683794021606445,0.1544657051563263,-0.39948585629463196,-11.568565368652344,2.489522933959961,1.063326358795166,0.07302100956439972,7.656174659729004,-0.23390203714370728,-1.362593650817871,34.394290924072266,-1.1324480772018433,-22.00570297241211,4.451475143432617,0.20702910423278809,0.5443408489227295,2.046222686767578,12.127914428710938,113.55006408691406,41.73888397216797,0.07806584239006042,-0.5768508315086365,3.246717691421509,0.889162540435791,1.1925718784332275],\"yaxis\":\"y\",\"type\":\"scatter\"}],                        {\"template\":{\"data\":{\"barpolar\":[{\"marker\":{\"line\":{\"color\":\"rgb(237,237,237)\",\"width\":0.5},\"pattern\":{\"fillmode\":\"overlay\",\"size\":10,\"solidity\":0.2}},\"type\":\"barpolar\"}],\"bar\":[{\"error_x\":{\"color\":\"rgb(51,51,51)\"},\"error_y\":{\"color\":\"rgb(51,51,51)\"},\"marker\":{\"line\":{\"color\":\"rgb(237,237,237)\",\"width\":0.5},\"pattern\":{\"fillmode\":\"overlay\",\"size\":10,\"solidity\":0.2}},\"type\":\"bar\"}],\"carpet\":[{\"aaxis\":{\"endlinecolor\":\"rgb(51,51,51)\",\"gridcolor\":\"white\",\"linecolor\":\"white\",\"minorgridcolor\":\"white\",\"startlinecolor\":\"rgb(51,51,51)\"},\"baxis\":{\"endlinecolor\":\"rgb(51,51,51)\",\"gridcolor\":\"white\",\"linecolor\":\"white\",\"minorgridcolor\":\"white\",\"startlinecolor\":\"rgb(51,51,51)\"},\"type\":\"carpet\"}],\"choropleth\":[{\"colorbar\":{\"outlinewidth\":0,\"tickcolor\":\"rgb(237,237,237)\",\"ticklen\":6,\"ticks\":\"inside\"},\"type\":\"choropleth\"}],\"contourcarpet\":[{\"colorbar\":{\"outlinewidth\":0,\"tickcolor\":\"rgb(237,237,237)\",\"ticklen\":6,\"ticks\":\"inside\"},\"type\":\"contourcarpet\"}],\"contour\":[{\"colorbar\":{\"outlinewidth\":0,\"tickcolor\":\"rgb(237,237,237)\",\"ticklen\":6,\"ticks\":\"inside\"},\"colorscale\":[[0,\"rgb(20,44,66)\"],[1,\"rgb(90,179,244)\"]],\"type\":\"contour\"}],\"heatmapgl\":[{\"colorbar\":{\"outlinewidth\":0,\"tickcolor\":\"rgb(237,237,237)\",\"ticklen\":6,\"ticks\":\"inside\"},\"colorscale\":[[0,\"rgb(20,44,66)\"],[1,\"rgb(90,179,244)\"]],\"type\":\"heatmapgl\"}],\"heatmap\":[{\"colorbar\":{\"outlinewidth\":0,\"tickcolor\":\"rgb(237,237,237)\",\"ticklen\":6,\"ticks\":\"inside\"},\"colorscale\":[[0,\"rgb(20,44,66)\"],[1,\"rgb(90,179,244)\"]],\"type\":\"heatmap\"}],\"histogram2dcontour\":[{\"colorbar\":{\"outlinewidth\":0,\"tickcolor\":\"rgb(237,237,237)\",\"ticklen\":6,\"ticks\":\"inside\"},\"colorscale\":[[0,\"rgb(20,44,66)\"],[1,\"rgb(90,179,244)\"]],\"type\":\"histogram2dcontour\"}],\"histogram2d\":[{\"colorbar\":{\"outlinewidth\":0,\"tickcolor\":\"rgb(237,237,237)\",\"ticklen\":6,\"ticks\":\"inside\"},\"colorscale\":[[0,\"rgb(20,44,66)\"],[1,\"rgb(90,179,244)\"]],\"type\":\"histogram2d\"}],\"histogram\":[{\"marker\":{\"pattern\":{\"fillmode\":\"overlay\",\"size\":10,\"solidity\":0.2}},\"type\":\"histogram\"}],\"mesh3d\":[{\"colorbar\":{\"outlinewidth\":0,\"tickcolor\":\"rgb(237,237,237)\",\"ticklen\":6,\"ticks\":\"inside\"},\"type\":\"mesh3d\"}],\"parcoords\":[{\"line\":{\"colorbar\":{\"outlinewidth\":0,\"tickcolor\":\"rgb(237,237,237)\",\"ticklen\":6,\"ticks\":\"inside\"}},\"type\":\"parcoords\"}],\"pie\":[{\"automargin\":true,\"type\":\"pie\"}],\"scatter3d\":[{\"line\":{\"colorbar\":{\"outlinewidth\":0,\"tickcolor\":\"rgb(237,237,237)\",\"ticklen\":6,\"ticks\":\"inside\"}},\"marker\":{\"colorbar\":{\"outlinewidth\":0,\"tickcolor\":\"rgb(237,237,237)\",\"ticklen\":6,\"ticks\":\"inside\"}},\"type\":\"scatter3d\"}],\"scattercarpet\":[{\"marker\":{\"colorbar\":{\"outlinewidth\":0,\"tickcolor\":\"rgb(237,237,237)\",\"ticklen\":6,\"ticks\":\"inside\"}},\"type\":\"scattercarpet\"}],\"scattergeo\":[{\"marker\":{\"colorbar\":{\"outlinewidth\":0,\"tickcolor\":\"rgb(237,237,237)\",\"ticklen\":6,\"ticks\":\"inside\"}},\"type\":\"scattergeo\"}],\"scattergl\":[{\"marker\":{\"colorbar\":{\"outlinewidth\":0,\"tickcolor\":\"rgb(237,237,237)\",\"ticklen\":6,\"ticks\":\"inside\"}},\"type\":\"scattergl\"}],\"scattermapbox\":[{\"marker\":{\"colorbar\":{\"outlinewidth\":0,\"tickcolor\":\"rgb(237,237,237)\",\"ticklen\":6,\"ticks\":\"inside\"}},\"type\":\"scattermapbox\"}],\"scatterpolargl\":[{\"marker\":{\"colorbar\":{\"outlinewidth\":0,\"tickcolor\":\"rgb(237,237,237)\",\"ticklen\":6,\"ticks\":\"inside\"}},\"type\":\"scatterpolargl\"}],\"scatterpolar\":[{\"marker\":{\"colorbar\":{\"outlinewidth\":0,\"tickcolor\":\"rgb(237,237,237)\",\"ticklen\":6,\"ticks\":\"inside\"}},\"type\":\"scatterpolar\"}],\"scatter\":[{\"fillpattern\":{\"fillmode\":\"overlay\",\"size\":10,\"solidity\":0.2},\"type\":\"scatter\"}],\"scatterternary\":[{\"marker\":{\"colorbar\":{\"outlinewidth\":0,\"tickcolor\":\"rgb(237,237,237)\",\"ticklen\":6,\"ticks\":\"inside\"}},\"type\":\"scatterternary\"}],\"surface\":[{\"colorbar\":{\"outlinewidth\":0,\"tickcolor\":\"rgb(237,237,237)\",\"ticklen\":6,\"ticks\":\"inside\"},\"colorscale\":[[0,\"rgb(20,44,66)\"],[1,\"rgb(90,179,244)\"]],\"type\":\"surface\"}],\"table\":[{\"cells\":{\"fill\":{\"color\":\"rgb(237,237,237)\"},\"line\":{\"color\":\"white\"}},\"header\":{\"fill\":{\"color\":\"rgb(217,217,217)\"},\"line\":{\"color\":\"white\"}},\"type\":\"table\"}]},\"layout\":{\"annotationdefaults\":{\"arrowhead\":0,\"arrowwidth\":1},\"autotypenumbers\":\"strict\",\"coloraxis\":{\"colorbar\":{\"outlinewidth\":0,\"tickcolor\":\"rgb(237,237,237)\",\"ticklen\":6,\"ticks\":\"inside\"}},\"colorscale\":{\"sequential\":[[0,\"rgb(20,44,66)\"],[1,\"rgb(90,179,244)\"]],\"sequentialminus\":[[0,\"rgb(20,44,66)\"],[1,\"rgb(90,179,244)\"]]},\"colorway\":[\"#F8766D\",\"#A3A500\",\"#00BF7D\",\"#00B0F6\",\"#E76BF3\"],\"font\":{\"color\":\"rgb(51,51,51)\"},\"geo\":{\"bgcolor\":\"white\",\"lakecolor\":\"white\",\"landcolor\":\"rgb(237,237,237)\",\"showlakes\":true,\"showland\":true,\"subunitcolor\":\"white\"},\"hoverlabel\":{\"align\":\"left\"},\"hovermode\":\"closest\",\"paper_bgcolor\":\"white\",\"plot_bgcolor\":\"rgb(237,237,237)\",\"polar\":{\"angularaxis\":{\"gridcolor\":\"white\",\"linecolor\":\"white\",\"showgrid\":true,\"tickcolor\":\"rgb(51,51,51)\",\"ticks\":\"outside\"},\"bgcolor\":\"rgb(237,237,237)\",\"radialaxis\":{\"gridcolor\":\"white\",\"linecolor\":\"white\",\"showgrid\":true,\"tickcolor\":\"rgb(51,51,51)\",\"ticks\":\"outside\"}},\"scene\":{\"xaxis\":{\"backgroundcolor\":\"rgb(237,237,237)\",\"gridcolor\":\"white\",\"gridwidth\":2,\"linecolor\":\"white\",\"showbackground\":true,\"showgrid\":true,\"tickcolor\":\"rgb(51,51,51)\",\"ticks\":\"outside\",\"zerolinecolor\":\"white\"},\"yaxis\":{\"backgroundcolor\":\"rgb(237,237,237)\",\"gridcolor\":\"white\",\"gridwidth\":2,\"linecolor\":\"white\",\"showbackground\":true,\"showgrid\":true,\"tickcolor\":\"rgb(51,51,51)\",\"ticks\":\"outside\",\"zerolinecolor\":\"white\"},\"zaxis\":{\"backgroundcolor\":\"rgb(237,237,237)\",\"gridcolor\":\"white\",\"gridwidth\":2,\"linecolor\":\"white\",\"showbackground\":true,\"showgrid\":true,\"tickcolor\":\"rgb(51,51,51)\",\"ticks\":\"outside\",\"zerolinecolor\":\"white\"}},\"shapedefaults\":{\"fillcolor\":\"black\",\"line\":{\"width\":0},\"opacity\":0.3},\"ternary\":{\"aaxis\":{\"gridcolor\":\"white\",\"linecolor\":\"white\",\"showgrid\":true,\"tickcolor\":\"rgb(51,51,51)\",\"ticks\":\"outside\"},\"baxis\":{\"gridcolor\":\"white\",\"linecolor\":\"white\",\"showgrid\":true,\"tickcolor\":\"rgb(51,51,51)\",\"ticks\":\"outside\"},\"bgcolor\":\"rgb(237,237,237)\",\"caxis\":{\"gridcolor\":\"white\",\"linecolor\":\"white\",\"showgrid\":true,\"tickcolor\":\"rgb(51,51,51)\",\"ticks\":\"outside\"}},\"xaxis\":{\"automargin\":true,\"gridcolor\":\"white\",\"linecolor\":\"white\",\"showgrid\":true,\"tickcolor\":\"rgb(51,51,51)\",\"ticks\":\"outside\",\"title\":{\"standoff\":15},\"zerolinecolor\":\"white\"},\"yaxis\":{\"automargin\":true,\"gridcolor\":\"white\",\"linecolor\":\"white\",\"showgrid\":true,\"tickcolor\":\"rgb(51,51,51)\",\"ticks\":\"outside\",\"title\":{\"standoff\":15},\"zerolinecolor\":\"white\"}}},\"xaxis\":{\"anchor\":\"y\",\"domain\":[0.0,1.0],\"title\":{\"text\":\"tSNE_x\"}},\"yaxis\":{\"anchor\":\"x\",\"domain\":[0.0,1.0],\"title\":{\"text\":\"tSNE_y\"}},\"legend\":{\"tracegroupgap\":0},\"title\":{\"text\":\"Graph 1: tSNE Visualisation in the x-y plane\"}},                        {\"responsive\": true}                    ).then(function(){\n",
       "                            \n",
       "var gd = document.getElementById('f7f69398-2a53-4b2d-aa25-34fe9b0b943d');\n",
       "var x = new MutationObserver(function (mutations, observer) {{\n",
       "        var display = window.getComputedStyle(gd).display;\n",
       "        if (!display || display === 'none') {{\n",
       "            console.log([gd, 'removed!']);\n",
       "            Plotly.purge(gd);\n",
       "            observer.disconnect();\n",
       "        }}\n",
       "}});\n",
       "\n",
       "// Listen for the removal of the full notebook cells\n",
       "var notebookContainer = gd.closest('#notebook-container');\n",
       "if (notebookContainer) {{\n",
       "    x.observe(notebookContainer, {childList: true});\n",
       "}}\n",
       "\n",
       "// Listen for the clearing of the current output cell\n",
       "var outputEl = gd.closest('.output');\n",
       "if (outputEl) {{\n",
       "    x.observe(outputEl, {childList: true});\n",
       "}}\n",
       "\n",
       "                        })                };                });            </script>        </div>"
      ]
     },
     "metadata": {},
     "output_type": "display_data"
    }
   ],
   "source": [
    "fig1 = px.scatter(tSNE_df, x='tSNE_x', y='tSNE_y', hover_name=tSNE_df.index, template='ggplot2', opacity=1, title='Graph 1: tSNE Visualisation in the x-y plane')\n",
    "fig1"
   ]
  },
  {
   "cell_type": "code",
   "execution_count": 46,
   "id": "7bd46122",
   "metadata": {
    "scrolled": false
   },
   "outputs": [
    {
     "data": {
      "application/vnd.plotly.v1+json": {
       "config": {
        "plotlyServerURL": "https://plot.ly"
       },
       "data": [
        {
         "hovertemplate": "<b>%{hovertext}</b><br><br>tSNE_x=%{x}<br>tSNE_z=%{y}<extra></extra>",
         "hovertext": [
          "sp_P40136_CYAA_BACAN:0-38",
          "sp_P15917_LEF_BACAN:0-38",
          "sp_P40406_NAGZ_BACSU:0-21",
          "sp_P39790_MPR_BACSU:0-39",
          "sp_P54602_YHCR_BACSU:0-54",
          "sp_O66037_PHYT_BACSD:0-23",
          "sp_O31097_PHYC_BACIU:0-23",
          "sp_P42094_PHYT_BACSU:0-31",
          "sp_P05656_SACC_BACSU:0-29",
          "sp_P00649_RN_BACIN:0-34",
          "sp_P48068_RN_BACPU:0-34",
          "sp_P00648_RNBR_BACAM:0-40",
          "sp_P71014_BSLA_BACSU:0-33",
          "sp_P94356_YXKC_BACSU:0-35",
          "sp_P29141_SUBV_BACSU:0-33",
          "sp_P40767_CWLO_BACSU:0-35",
          "sp_Q65NQ9_CWLO_BACLD:0-35",
          "sp_O07013_GANB_BACSU:0-22",
          "sp_P94449_PEL2_BACIU:0-29",
          "sp_O34819_PEL1_BACSU:0-29",
          "sp_P16397_SUBF_BACSU:0-35",
          "sp_O32083_LYTG_BACSU:0-38",
          "sp_O31737_YLQB_BACSU:0-32",
          "sp_Q45670_THES_BACSJ:0-29",
          "sp_Q07833_WAPA_BACSU:0-37",
          "sp_D4G3R4_WAPA_BACNB:0-50",
          "sp_G4NYJ6_WAPA_BACS4:0-37",
          "sp_P39899_NPRB_BACSU:0-33",
          "sp_P05806_NPRE_BACCE:0-32",
          "sp_P00800_THER_BACTH:0-33",
          "sp_Q59223_THER_BACSO:0-30",
          "sp_Q02113_CWBA_BACSU:0-30",
          "sp_P49051_SLAP1_BACAN:0-34",
          "sp_Q9ZES5_SLAP_BACTF:0-34",
          "sp_P94217_SLAP2_BACAN:0-34",
          "sp_P49052_SLAP_BACLI:0-34",
          "sp_Q9RMZ0_Y6545_BACAN:0-33",
          "sp_P94576_YWOF_BACSU:0-32",
          "sp_P00780_SUBC_BACLI:0-34",
          "sp_P00782_SUBT_BACAM:0-35",
          "sp_P04189_SUBT_BACSU:0-34",
          "sp_P35835_SUBN_BACNA:0-34",
          "sp_P00783_SUBT_BACSA:0-34",
          "sp_P20724_ELYA_BACYA:0-32",
          "sp_P21130_SACB_BACAM:0-34",
          "sp_P05655_SACB_BACSU:0-34",
          "sp_P96740_PGDS_BACSU:0-37",
          "sp_P16396_SUBE_BACSU:0-32",
          "sp_P39597_EFEN_BACSU:0-50",
          "sp_P54507_TASA_BACSU:0-32",
          "sp_P40949_TAPA_BACSU:0-48",
          "sp_P39632_BSLB_BACSU:0-35",
          "sp_P39844_DACC_BACSU:0-34",
          "sp_Q9AQS0_XANLY_BACGL:0-30",
          "sp_O34918_YOAJ_BACSU:0-30",
          "sp_P39116_PLY_BACSU:0-26",
          "sp_B1B6T1_PTLY_BACSP:0-32",
          "sp_Q65DC2_PTLY_BACLD:0-32",
          "sp_Q8GCB2_PTLY_BACLI:0-32",
          "sp_Q45070_XYNC_BACSU:0-37",
          "sp_Q6YK37_XYNC_BACIU:0-38",
          "sp_Q03091_BSN1_BACAM:0-31",
          "sp_P38422_DACF_BACSU:0-28",
          "sp_P08750_DACA_BACSU:0-36",
          "sp_O32150_BSN2_BACSU:0-33",
          "sp_O31411_SACC_BACL7:0-33",
          "sp_P42293_EABN2_BACSU:0-31",
          "sp_P94522_EABN1_BACSU:0-37",
          "sp_O07532_LYTF_BACSU:0-31",
          "sp_P54421_LYTE_BACSU:0-30",
          "sp_O34669_YOCH_BACSU:0-30",
          "sp_O34310_PLYC_BACSU:0-32",
          "sp_Q65EF5_PLYC_BACLD:0-33",
          "sp_Q45105_TACY_BACCE:0-33",
          "sp_O31803_YNCM_BACSU:0-47",
          "sp_P39848_LYTD_BACSU:0-32",
          "sp_Q02114_LYTC_BACSU:0-29",
          "sp_P25152_BSAP_BACSU:0-36",
          "sp_P80057_GSEP_BACLD:0-35",
          "sp_O32041_YRVJ_BACSU:0-32",
          "sp_P96729_YWSB_BACSU:0-35",
          "sp_P54484_YQGA_BACSU:0-33",
          "sp_O82833_GELLY_BACSP:0-40",
          "sp_P06278_AMY_BACLI:0-34",
          "sp_P00692_AMY_BACAM:0-36",
          "sp_P19571_AMT6_BACS7:0-38",
          "sp_P55278_MANB_BACIU:0-29",
          "sp_O05512_MANB_BACSU:0-31",
          "sp_P04957_GUB_BACSU:0-33",
          "sp_P80172_HBLA_BACCE:0-36",
          "sp_P28842_SUBT_BACS9:0-31",
          "sp_Q79F14_ESTB_BACSU:0-33",
          "sp_P37957_ESTA_BACSU:0-36",
          "sp_Q5U780_LIP_BACSP:0-33",
          "sp_P33377_PHL3_BACCE:0-32",
          "sp_P11889_PHL2_BACCE:0-32",
          "sp_P09599_PHL1_BACCE:0-32",
          "sp_P05618_CDGT_BACS0:0-32",
          "sp_P09121_CDGT_BACS3:0-32",
          "sp_P30921_CDGT_BAC11:0-32",
          "sp_P17692_CDGT_BACS8:0-32",
          "sp_P31747_CDGT_BACSS:0-39",
          "sp_P14014_CDGT_BACLI:0-39",
          "sp_P31746_CDGT_BACS2:0-34",
          "sp_P27036_CDGT_BACOH:0-34",
          "sp_O07921_CHIS_BACSU:0-40",
          "sp_P54423_WPRA_BACSU:0-36",
          "sp_P39824_BLAC_BACSU:0-39",
          "sp_P10424_BLA1_BACCE:0-40",
          "sp_P00691_AMY_BACSU:0-38",
          "sp_P06832_NPRE_BACAM:0-32",
          "sp_P68735_NPRE_BACSA:0-32",
          "sp_P68736_NPRE_BACSU:0-32",
          "sp_P42111_YXAL_BACSU:0-46",
          "sp_P13423_PAG_BACAN:0-34",
          "sp_P54422_GGT_BACSU:0-33",
          "sp_P63186_GGT_BACNA:0-33",
          "sp_Q45071_XYND_BACSU:0-31",
          "sp_P68569_BDBA_BACSU:0-31",
          "sp_P14262_PLC_BACCE:0-36",
          "sp_P08954_PLC_BACTU:0-36",
          "sp_P42983_NUCB_BACSU:0-31",
          "sp_O34313_NTPES_BACSU:0-40",
          "sp_O31526_YESW_BACSU:0-40",
          "sp_O34344_SDPC_BACSU:0-37"
         ],
         "legendgroup": "",
         "marker": {
          "color": "#F8766D",
          "opacity": 1,
          "symbol": "circle"
         },
         "mode": "markers",
         "name": "",
         "orientation": "v",
         "showlegend": false,
         "type": "scatter",
         "x": [
          0.3102003335952759,
          -7.829129219055176,
          25.110774993896484,
          1.0170388221740723,
          7.867526531219482,
          -1.844865322113037,
          -25.19788360595703,
          -0.6391956806182861,
          40.71402359008789,
          0.7963716983795166,
          3.1374385356903076,
          15.495223045349121,
          0.4457113444805145,
          -4.320050239562988,
          3.0727484226226807,
          -4.392207145690918,
          -0.6043649911880493,
          0.5019261240959167,
          191.57269287109375,
          -1.6286216974258423,
          -0.48148420453071594,
          -0.5329246520996094,
          0.43839582800865173,
          -97.8246078491211,
          -0.7696435451507568,
          -36.15134048461914,
          -0.28387391567230225,
          12.054643630981445,
          -14.207162857055664,
          0.8133351802825928,
          6.355664253234863,
          -0.7993149757385254,
          -36.75585174560547,
          -1.8842874765396118,
          2.136758327484131,
          -2.3921897411346436,
          45.241214752197266,
          4.323153018951416,
          -3.4372336864471436,
          -0.3986133933067322,
          0.49055853486061096,
          11.201374053955078,
          2.158200263977051,
          0.30175817012786865,
          1.1783108711242676,
          68.13174438476562,
          -0.9027776718139648,
          -5.547532081604004,
          6.246806621551514,
          -3.653719425201416,
          -0.10640265047550201,
          -2.2848968505859375,
          -1.151824951171875,
          -2.130204439163208,
          -1.7429054975509644,
          0.3183974027633667,
          -7.412571907043457,
          -2.1466073989868164,
          -11.837783813476562,
          -0.11073288321495056,
          -44.28568649291992,
          102.30921936035156,
          -0.210300475358963,
          -1.826519250869751,
          0.10526353120803833,
          -16.299449920654297,
          4.717464923858643,
          -1.2116613388061523,
          13.768292427062988,
          -4.893636226654053,
          -0.7654836177825928,
          -3.270808696746826,
          8.140363693237305,
          0.21258167922496796,
          -2.271455764770508,
          0.7378965616226196,
          -1.1282833814620972,
          -1.5425392389297485,
          -16.845073699951172,
          -21.83671760559082,
          0.4047592580318451,
          -1.9797306060791016,
          -0.4175049066543579,
          -1.303497076034546,
          -2.0596272945404053,
          0.9584529995918274,
          -0.431451678276062,
          18.886940002441406,
          0.1821696162223816,
          -0.45362380146980286,
          -5.247932434082031,
          -33.773651123046875,
          -1.5210634469985962,
          -1.216101050376892,
          6.168434143066406,
          -3.990363836288452,
          1.5877833366394043,
          -2.2386112213134766,
          -1.4015331268310547,
          -3.4789528846740723,
          3.493910312652588,
          -1.1542061567306519,
          2.0070066452026367,
          -32.10582733154297,
          0.7213885188102722,
          0.5131478905677795,
          -0.4093535542488098,
          -2.7791194915771484,
          1.5851688385009766,
          0.3139685392379761,
          -81.39982604980469,
          -1.5967437028884888,
          13.11640453338623,
          -0.5255230665206909,
          -0.92634117603302,
          3.546259880065918,
          -1.8466529846191406,
          -3.243098735809326,
          -44.77222442626953,
          -20.57500457763672,
          -1.349814772605896,
          0.05969903618097305,
          6.670801162719727,
          -1.2163277864456177,
          -1.0663089752197266
         ],
         "xaxis": "x",
         "y": [
          1.1571767330169678,
          5.7017412185668945,
          7.610737323760986,
          0.8916666507720947,
          4.8373847007751465,
          1.7785927057266235,
          46.45403289794922,
          0.5449924468994141,
          21.049726486206055,
          1.0349254608154297,
          -0.31714606285095215,
          -52.33974075317383,
          0.9820430278778076,
          4.839449882507324,
          47.8994140625,
          0.53749680519104,
          0.4967542290687561,
          -0.28784704208374023,
          2.4397261142730713,
          -1.1725605726242065,
          15.658404350280762,
          0.018695950508117676,
          1.0311646461486816,
          6.623050689697266,
          0.8349913954734802,
          -4.7924113273620605,
          0.7494339346885681,
          45.23116683959961,
          -116.50763702392578,
          -0.4039337635040283,
          -23.885862350463867,
          0.19577330350875854,
          4.9776530265808105,
          -0.2831152081489563,
          0.7747552990913391,
          1.287631630897522,
          23.5820255279541,
          20.4627742767334,
          3.893364429473877,
          1.104870319366455,
          0.4614107608795166,
          17.760997772216797,
          0.7698020935058594,
          1.1114709377288818,
          1.084280014038086,
          -4.809770107269287,
          -0.025247693061828613,
          -8.1497802734375,
          50.08953094482422,
          2.7119197845458984,
          0.9957447648048401,
          0.33287495374679565,
          0.358500212430954,
          0.3397460877895355,
          2.4326162338256836,
          0.22994166612625122,
          0.2624538838863373,
          1.1487319469451904,
          0.9476128816604614,
          -1.1442084312438965,
          45.699119567871094,
          1.625914454460144,
          0.7922492027282715,
          0.9879045486450195,
          0.4521617591381073,
          -10.169418334960938,
          -32.40555953979492,
          0.9803023934364319,
          -7.768961429595947,
          -5.720823287963867,
          -1.0146007537841797,
          -0.40493956208229065,
          0.7983943223953247,
          0.16376149654388428,
          -0.3011462986469269,
          -2.330770492553711,
          -22.62374496459961,
          0.471823513507843,
          -18.919967651367188,
          3.848493814468384,
          -0.15742647647857666,
          1.788208246231079,
          0.6014584302902222,
          -0.9068812131881714,
          7.1715874671936035,
          0.41917356848716736,
          1.4147231578826904,
          -0.3398868441581726,
          0.9828704595565796,
          0.7053195238113403,
          -2.0385665893554688,
          -13.452642440795898,
          0.6354256868362427,
          -0.3171771466732025,
          -19.026378631591797,
          2.0923514366149902,
          3.605621814727783,
          0.03241032361984253,
          -0.7758407592773438,
          -0.6532660126686096,
          -16.25935935974121,
          -0.6785824298858643,
          3.3701579570770264,
          23.918699264526367,
          -1.8041696548461914,
          1.520601511001587,
          -0.8242395520210266,
          27.23552131652832,
          0.3408227562904358,
          -1.984445571899414,
          -91.09767150878906,
          0.7844284772872925,
          -1.976884365081787,
          0.2957441806793213,
          0.2116413116455078,
          1.0742040872573853,
          1.4948487281799316,
          -0.3718344569206238,
          9.566823959350586,
          19.42890739440918,
          -0.32574403285980225,
          -0.9171230792999268,
          7.382086753845215,
          -0.6843974590301514,
          0.5387216806411743
         ],
         "yaxis": "y"
        }
       ],
       "layout": {
        "legend": {
         "tracegroupgap": 0
        },
        "template": {
         "data": {
          "bar": [
           {
            "error_x": {
             "color": "rgb(51,51,51)"
            },
            "error_y": {
             "color": "rgb(51,51,51)"
            },
            "marker": {
             "line": {
              "color": "rgb(237,237,237)",
              "width": 0.5
             },
             "pattern": {
              "fillmode": "overlay",
              "size": 10,
              "solidity": 0.2
             }
            },
            "type": "bar"
           }
          ],
          "barpolar": [
           {
            "marker": {
             "line": {
              "color": "rgb(237,237,237)",
              "width": 0.5
             },
             "pattern": {
              "fillmode": "overlay",
              "size": 10,
              "solidity": 0.2
             }
            },
            "type": "barpolar"
           }
          ],
          "carpet": [
           {
            "aaxis": {
             "endlinecolor": "rgb(51,51,51)",
             "gridcolor": "white",
             "linecolor": "white",
             "minorgridcolor": "white",
             "startlinecolor": "rgb(51,51,51)"
            },
            "baxis": {
             "endlinecolor": "rgb(51,51,51)",
             "gridcolor": "white",
             "linecolor": "white",
             "minorgridcolor": "white",
             "startlinecolor": "rgb(51,51,51)"
            },
            "type": "carpet"
           }
          ],
          "choropleth": [
           {
            "colorbar": {
             "outlinewidth": 0,
             "tickcolor": "rgb(237,237,237)",
             "ticklen": 6,
             "ticks": "inside"
            },
            "type": "choropleth"
           }
          ],
          "contour": [
           {
            "colorbar": {
             "outlinewidth": 0,
             "tickcolor": "rgb(237,237,237)",
             "ticklen": 6,
             "ticks": "inside"
            },
            "colorscale": [
             [
              0,
              "rgb(20,44,66)"
             ],
             [
              1,
              "rgb(90,179,244)"
             ]
            ],
            "type": "contour"
           }
          ],
          "contourcarpet": [
           {
            "colorbar": {
             "outlinewidth": 0,
             "tickcolor": "rgb(237,237,237)",
             "ticklen": 6,
             "ticks": "inside"
            },
            "type": "contourcarpet"
           }
          ],
          "heatmap": [
           {
            "colorbar": {
             "outlinewidth": 0,
             "tickcolor": "rgb(237,237,237)",
             "ticklen": 6,
             "ticks": "inside"
            },
            "colorscale": [
             [
              0,
              "rgb(20,44,66)"
             ],
             [
              1,
              "rgb(90,179,244)"
             ]
            ],
            "type": "heatmap"
           }
          ],
          "heatmapgl": [
           {
            "colorbar": {
             "outlinewidth": 0,
             "tickcolor": "rgb(237,237,237)",
             "ticklen": 6,
             "ticks": "inside"
            },
            "colorscale": [
             [
              0,
              "rgb(20,44,66)"
             ],
             [
              1,
              "rgb(90,179,244)"
             ]
            ],
            "type": "heatmapgl"
           }
          ],
          "histogram": [
           {
            "marker": {
             "pattern": {
              "fillmode": "overlay",
              "size": 10,
              "solidity": 0.2
             }
            },
            "type": "histogram"
           }
          ],
          "histogram2d": [
           {
            "colorbar": {
             "outlinewidth": 0,
             "tickcolor": "rgb(237,237,237)",
             "ticklen": 6,
             "ticks": "inside"
            },
            "colorscale": [
             [
              0,
              "rgb(20,44,66)"
             ],
             [
              1,
              "rgb(90,179,244)"
             ]
            ],
            "type": "histogram2d"
           }
          ],
          "histogram2dcontour": [
           {
            "colorbar": {
             "outlinewidth": 0,
             "tickcolor": "rgb(237,237,237)",
             "ticklen": 6,
             "ticks": "inside"
            },
            "colorscale": [
             [
              0,
              "rgb(20,44,66)"
             ],
             [
              1,
              "rgb(90,179,244)"
             ]
            ],
            "type": "histogram2dcontour"
           }
          ],
          "mesh3d": [
           {
            "colorbar": {
             "outlinewidth": 0,
             "tickcolor": "rgb(237,237,237)",
             "ticklen": 6,
             "ticks": "inside"
            },
            "type": "mesh3d"
           }
          ],
          "parcoords": [
           {
            "line": {
             "colorbar": {
              "outlinewidth": 0,
              "tickcolor": "rgb(237,237,237)",
              "ticklen": 6,
              "ticks": "inside"
             }
            },
            "type": "parcoords"
           }
          ],
          "pie": [
           {
            "automargin": true,
            "type": "pie"
           }
          ],
          "scatter": [
           {
            "fillpattern": {
             "fillmode": "overlay",
             "size": 10,
             "solidity": 0.2
            },
            "type": "scatter"
           }
          ],
          "scatter3d": [
           {
            "line": {
             "colorbar": {
              "outlinewidth": 0,
              "tickcolor": "rgb(237,237,237)",
              "ticklen": 6,
              "ticks": "inside"
             }
            },
            "marker": {
             "colorbar": {
              "outlinewidth": 0,
              "tickcolor": "rgb(237,237,237)",
              "ticklen": 6,
              "ticks": "inside"
             }
            },
            "type": "scatter3d"
           }
          ],
          "scattercarpet": [
           {
            "marker": {
             "colorbar": {
              "outlinewidth": 0,
              "tickcolor": "rgb(237,237,237)",
              "ticklen": 6,
              "ticks": "inside"
             }
            },
            "type": "scattercarpet"
           }
          ],
          "scattergeo": [
           {
            "marker": {
             "colorbar": {
              "outlinewidth": 0,
              "tickcolor": "rgb(237,237,237)",
              "ticklen": 6,
              "ticks": "inside"
             }
            },
            "type": "scattergeo"
           }
          ],
          "scattergl": [
           {
            "marker": {
             "colorbar": {
              "outlinewidth": 0,
              "tickcolor": "rgb(237,237,237)",
              "ticklen": 6,
              "ticks": "inside"
             }
            },
            "type": "scattergl"
           }
          ],
          "scattermapbox": [
           {
            "marker": {
             "colorbar": {
              "outlinewidth": 0,
              "tickcolor": "rgb(237,237,237)",
              "ticklen": 6,
              "ticks": "inside"
             }
            },
            "type": "scattermapbox"
           }
          ],
          "scatterpolar": [
           {
            "marker": {
             "colorbar": {
              "outlinewidth": 0,
              "tickcolor": "rgb(237,237,237)",
              "ticklen": 6,
              "ticks": "inside"
             }
            },
            "type": "scatterpolar"
           }
          ],
          "scatterpolargl": [
           {
            "marker": {
             "colorbar": {
              "outlinewidth": 0,
              "tickcolor": "rgb(237,237,237)",
              "ticklen": 6,
              "ticks": "inside"
             }
            },
            "type": "scatterpolargl"
           }
          ],
          "scatterternary": [
           {
            "marker": {
             "colorbar": {
              "outlinewidth": 0,
              "tickcolor": "rgb(237,237,237)",
              "ticklen": 6,
              "ticks": "inside"
             }
            },
            "type": "scatterternary"
           }
          ],
          "surface": [
           {
            "colorbar": {
             "outlinewidth": 0,
             "tickcolor": "rgb(237,237,237)",
             "ticklen": 6,
             "ticks": "inside"
            },
            "colorscale": [
             [
              0,
              "rgb(20,44,66)"
             ],
             [
              1,
              "rgb(90,179,244)"
             ]
            ],
            "type": "surface"
           }
          ],
          "table": [
           {
            "cells": {
             "fill": {
              "color": "rgb(237,237,237)"
             },
             "line": {
              "color": "white"
             }
            },
            "header": {
             "fill": {
              "color": "rgb(217,217,217)"
             },
             "line": {
              "color": "white"
             }
            },
            "type": "table"
           }
          ]
         },
         "layout": {
          "annotationdefaults": {
           "arrowhead": 0,
           "arrowwidth": 1
          },
          "autotypenumbers": "strict",
          "coloraxis": {
           "colorbar": {
            "outlinewidth": 0,
            "tickcolor": "rgb(237,237,237)",
            "ticklen": 6,
            "ticks": "inside"
           }
          },
          "colorscale": {
           "sequential": [
            [
             0,
             "rgb(20,44,66)"
            ],
            [
             1,
             "rgb(90,179,244)"
            ]
           ],
           "sequentialminus": [
            [
             0,
             "rgb(20,44,66)"
            ],
            [
             1,
             "rgb(90,179,244)"
            ]
           ]
          },
          "colorway": [
           "#F8766D",
           "#A3A500",
           "#00BF7D",
           "#00B0F6",
           "#E76BF3"
          ],
          "font": {
           "color": "rgb(51,51,51)"
          },
          "geo": {
           "bgcolor": "white",
           "lakecolor": "white",
           "landcolor": "rgb(237,237,237)",
           "showlakes": true,
           "showland": true,
           "subunitcolor": "white"
          },
          "hoverlabel": {
           "align": "left"
          },
          "hovermode": "closest",
          "paper_bgcolor": "white",
          "plot_bgcolor": "rgb(237,237,237)",
          "polar": {
           "angularaxis": {
            "gridcolor": "white",
            "linecolor": "white",
            "showgrid": true,
            "tickcolor": "rgb(51,51,51)",
            "ticks": "outside"
           },
           "bgcolor": "rgb(237,237,237)",
           "radialaxis": {
            "gridcolor": "white",
            "linecolor": "white",
            "showgrid": true,
            "tickcolor": "rgb(51,51,51)",
            "ticks": "outside"
           }
          },
          "scene": {
           "xaxis": {
            "backgroundcolor": "rgb(237,237,237)",
            "gridcolor": "white",
            "gridwidth": 2,
            "linecolor": "white",
            "showbackground": true,
            "showgrid": true,
            "tickcolor": "rgb(51,51,51)",
            "ticks": "outside",
            "zerolinecolor": "white"
           },
           "yaxis": {
            "backgroundcolor": "rgb(237,237,237)",
            "gridcolor": "white",
            "gridwidth": 2,
            "linecolor": "white",
            "showbackground": true,
            "showgrid": true,
            "tickcolor": "rgb(51,51,51)",
            "ticks": "outside",
            "zerolinecolor": "white"
           },
           "zaxis": {
            "backgroundcolor": "rgb(237,237,237)",
            "gridcolor": "white",
            "gridwidth": 2,
            "linecolor": "white",
            "showbackground": true,
            "showgrid": true,
            "tickcolor": "rgb(51,51,51)",
            "ticks": "outside",
            "zerolinecolor": "white"
           }
          },
          "shapedefaults": {
           "fillcolor": "black",
           "line": {
            "width": 0
           },
           "opacity": 0.3
          },
          "ternary": {
           "aaxis": {
            "gridcolor": "white",
            "linecolor": "white",
            "showgrid": true,
            "tickcolor": "rgb(51,51,51)",
            "ticks": "outside"
           },
           "baxis": {
            "gridcolor": "white",
            "linecolor": "white",
            "showgrid": true,
            "tickcolor": "rgb(51,51,51)",
            "ticks": "outside"
           },
           "bgcolor": "rgb(237,237,237)",
           "caxis": {
            "gridcolor": "white",
            "linecolor": "white",
            "showgrid": true,
            "tickcolor": "rgb(51,51,51)",
            "ticks": "outside"
           }
          },
          "xaxis": {
           "automargin": true,
           "gridcolor": "white",
           "linecolor": "white",
           "showgrid": true,
           "tickcolor": "rgb(51,51,51)",
           "ticks": "outside",
           "title": {
            "standoff": 15
           },
           "zerolinecolor": "white"
          },
          "yaxis": {
           "automargin": true,
           "gridcolor": "white",
           "linecolor": "white",
           "showgrid": true,
           "tickcolor": "rgb(51,51,51)",
           "ticks": "outside",
           "title": {
            "standoff": 15
           },
           "zerolinecolor": "white"
          }
         }
        },
        "title": {
         "text": "Graph 2: tSNE Visualisation in the x-z plane"
        },
        "xaxis": {
         "anchor": "y",
         "domain": [
          0,
          1
         ],
         "title": {
          "text": "tSNE_x"
         }
        },
        "yaxis": {
         "anchor": "x",
         "domain": [
          0,
          1
         ],
         "title": {
          "text": "tSNE_z"
         }
        }
       }
      },
      "text/html": [
       "<div>                            <div id=\"c2428639-5ae2-4165-9158-8e97ad689dda\" class=\"plotly-graph-div\" style=\"height:525px; width:100%;\"></div>            <script type=\"text/javascript\">                require([\"plotly\"], function(Plotly) {                    window.PLOTLYENV=window.PLOTLYENV || {};                                    if (document.getElementById(\"c2428639-5ae2-4165-9158-8e97ad689dda\")) {                    Plotly.newPlot(                        \"c2428639-5ae2-4165-9158-8e97ad689dda\",                        [{\"hovertemplate\":\"<b>%{hovertext}</b><br><br>tSNE_x=%{x}<br>tSNE_z=%{y}<extra></extra>\",\"hovertext\":[\"sp_P40136_CYAA_BACAN:0-38\",\"sp_P15917_LEF_BACAN:0-38\",\"sp_P40406_NAGZ_BACSU:0-21\",\"sp_P39790_MPR_BACSU:0-39\",\"sp_P54602_YHCR_BACSU:0-54\",\"sp_O66037_PHYT_BACSD:0-23\",\"sp_O31097_PHYC_BACIU:0-23\",\"sp_P42094_PHYT_BACSU:0-31\",\"sp_P05656_SACC_BACSU:0-29\",\"sp_P00649_RN_BACIN:0-34\",\"sp_P48068_RN_BACPU:0-34\",\"sp_P00648_RNBR_BACAM:0-40\",\"sp_P71014_BSLA_BACSU:0-33\",\"sp_P94356_YXKC_BACSU:0-35\",\"sp_P29141_SUBV_BACSU:0-33\",\"sp_P40767_CWLO_BACSU:0-35\",\"sp_Q65NQ9_CWLO_BACLD:0-35\",\"sp_O07013_GANB_BACSU:0-22\",\"sp_P94449_PEL2_BACIU:0-29\",\"sp_O34819_PEL1_BACSU:0-29\",\"sp_P16397_SUBF_BACSU:0-35\",\"sp_O32083_LYTG_BACSU:0-38\",\"sp_O31737_YLQB_BACSU:0-32\",\"sp_Q45670_THES_BACSJ:0-29\",\"sp_Q07833_WAPA_BACSU:0-37\",\"sp_D4G3R4_WAPA_BACNB:0-50\",\"sp_G4NYJ6_WAPA_BACS4:0-37\",\"sp_P39899_NPRB_BACSU:0-33\",\"sp_P05806_NPRE_BACCE:0-32\",\"sp_P00800_THER_BACTH:0-33\",\"sp_Q59223_THER_BACSO:0-30\",\"sp_Q02113_CWBA_BACSU:0-30\",\"sp_P49051_SLAP1_BACAN:0-34\",\"sp_Q9ZES5_SLAP_BACTF:0-34\",\"sp_P94217_SLAP2_BACAN:0-34\",\"sp_P49052_SLAP_BACLI:0-34\",\"sp_Q9RMZ0_Y6545_BACAN:0-33\",\"sp_P94576_YWOF_BACSU:0-32\",\"sp_P00780_SUBC_BACLI:0-34\",\"sp_P00782_SUBT_BACAM:0-35\",\"sp_P04189_SUBT_BACSU:0-34\",\"sp_P35835_SUBN_BACNA:0-34\",\"sp_P00783_SUBT_BACSA:0-34\",\"sp_P20724_ELYA_BACYA:0-32\",\"sp_P21130_SACB_BACAM:0-34\",\"sp_P05655_SACB_BACSU:0-34\",\"sp_P96740_PGDS_BACSU:0-37\",\"sp_P16396_SUBE_BACSU:0-32\",\"sp_P39597_EFEN_BACSU:0-50\",\"sp_P54507_TASA_BACSU:0-32\",\"sp_P40949_TAPA_BACSU:0-48\",\"sp_P39632_BSLB_BACSU:0-35\",\"sp_P39844_DACC_BACSU:0-34\",\"sp_Q9AQS0_XANLY_BACGL:0-30\",\"sp_O34918_YOAJ_BACSU:0-30\",\"sp_P39116_PLY_BACSU:0-26\",\"sp_B1B6T1_PTLY_BACSP:0-32\",\"sp_Q65DC2_PTLY_BACLD:0-32\",\"sp_Q8GCB2_PTLY_BACLI:0-32\",\"sp_Q45070_XYNC_BACSU:0-37\",\"sp_Q6YK37_XYNC_BACIU:0-38\",\"sp_Q03091_BSN1_BACAM:0-31\",\"sp_P38422_DACF_BACSU:0-28\",\"sp_P08750_DACA_BACSU:0-36\",\"sp_O32150_BSN2_BACSU:0-33\",\"sp_O31411_SACC_BACL7:0-33\",\"sp_P42293_EABN2_BACSU:0-31\",\"sp_P94522_EABN1_BACSU:0-37\",\"sp_O07532_LYTF_BACSU:0-31\",\"sp_P54421_LYTE_BACSU:0-30\",\"sp_O34669_YOCH_BACSU:0-30\",\"sp_O34310_PLYC_BACSU:0-32\",\"sp_Q65EF5_PLYC_BACLD:0-33\",\"sp_Q45105_TACY_BACCE:0-33\",\"sp_O31803_YNCM_BACSU:0-47\",\"sp_P39848_LYTD_BACSU:0-32\",\"sp_Q02114_LYTC_BACSU:0-29\",\"sp_P25152_BSAP_BACSU:0-36\",\"sp_P80057_GSEP_BACLD:0-35\",\"sp_O32041_YRVJ_BACSU:0-32\",\"sp_P96729_YWSB_BACSU:0-35\",\"sp_P54484_YQGA_BACSU:0-33\",\"sp_O82833_GELLY_BACSP:0-40\",\"sp_P06278_AMY_BACLI:0-34\",\"sp_P00692_AMY_BACAM:0-36\",\"sp_P19571_AMT6_BACS7:0-38\",\"sp_P55278_MANB_BACIU:0-29\",\"sp_O05512_MANB_BACSU:0-31\",\"sp_P04957_GUB_BACSU:0-33\",\"sp_P80172_HBLA_BACCE:0-36\",\"sp_P28842_SUBT_BACS9:0-31\",\"sp_Q79F14_ESTB_BACSU:0-33\",\"sp_P37957_ESTA_BACSU:0-36\",\"sp_Q5U780_LIP_BACSP:0-33\",\"sp_P33377_PHL3_BACCE:0-32\",\"sp_P11889_PHL2_BACCE:0-32\",\"sp_P09599_PHL1_BACCE:0-32\",\"sp_P05618_CDGT_BACS0:0-32\",\"sp_P09121_CDGT_BACS3:0-32\",\"sp_P30921_CDGT_BAC11:0-32\",\"sp_P17692_CDGT_BACS8:0-32\",\"sp_P31747_CDGT_BACSS:0-39\",\"sp_P14014_CDGT_BACLI:0-39\",\"sp_P31746_CDGT_BACS2:0-34\",\"sp_P27036_CDGT_BACOH:0-34\",\"sp_O07921_CHIS_BACSU:0-40\",\"sp_P54423_WPRA_BACSU:0-36\",\"sp_P39824_BLAC_BACSU:0-39\",\"sp_P10424_BLA1_BACCE:0-40\",\"sp_P00691_AMY_BACSU:0-38\",\"sp_P06832_NPRE_BACAM:0-32\",\"sp_P68735_NPRE_BACSA:0-32\",\"sp_P68736_NPRE_BACSU:0-32\",\"sp_P42111_YXAL_BACSU:0-46\",\"sp_P13423_PAG_BACAN:0-34\",\"sp_P54422_GGT_BACSU:0-33\",\"sp_P63186_GGT_BACNA:0-33\",\"sp_Q45071_XYND_BACSU:0-31\",\"sp_P68569_BDBA_BACSU:0-31\",\"sp_P14262_PLC_BACCE:0-36\",\"sp_P08954_PLC_BACTU:0-36\",\"sp_P42983_NUCB_BACSU:0-31\",\"sp_O34313_NTPES_BACSU:0-40\",\"sp_O31526_YESW_BACSU:0-40\",\"sp_O34344_SDPC_BACSU:0-37\"],\"legendgroup\":\"\",\"marker\":{\"color\":\"#F8766D\",\"opacity\":1,\"symbol\":\"circle\"},\"mode\":\"markers\",\"name\":\"\",\"orientation\":\"v\",\"showlegend\":false,\"x\":[0.3102003335952759,-7.829129219055176,25.110774993896484,1.0170388221740723,7.867526531219482,-1.844865322113037,-25.19788360595703,-0.6391956806182861,40.71402359008789,0.7963716983795166,3.1374385356903076,15.495223045349121,0.4457113444805145,-4.320050239562988,3.0727484226226807,-4.392207145690918,-0.6043649911880493,0.5019261240959167,191.57269287109375,-1.6286216974258423,-0.48148420453071594,-0.5329246520996094,0.43839582800865173,-97.8246078491211,-0.7696435451507568,-36.15134048461914,-0.28387391567230225,12.054643630981445,-14.207162857055664,0.8133351802825928,6.355664253234863,-0.7993149757385254,-36.75585174560547,-1.8842874765396118,2.136758327484131,-2.3921897411346436,45.241214752197266,4.323153018951416,-3.4372336864471436,-0.3986133933067322,0.49055853486061096,11.201374053955078,2.158200263977051,0.30175817012786865,1.1783108711242676,68.13174438476562,-0.9027776718139648,-5.547532081604004,6.246806621551514,-3.653719425201416,-0.10640265047550201,-2.2848968505859375,-1.151824951171875,-2.130204439163208,-1.7429054975509644,0.3183974027633667,-7.412571907043457,-2.1466073989868164,-11.837783813476562,-0.11073288321495056,-44.28568649291992,102.30921936035156,-0.210300475358963,-1.826519250869751,0.10526353120803833,-16.299449920654297,4.717464923858643,-1.2116613388061523,13.768292427062988,-4.893636226654053,-0.7654836177825928,-3.270808696746826,8.140363693237305,0.21258167922496796,-2.271455764770508,0.7378965616226196,-1.1282833814620972,-1.5425392389297485,-16.845073699951172,-21.83671760559082,0.4047592580318451,-1.9797306060791016,-0.4175049066543579,-1.303497076034546,-2.0596272945404053,0.9584529995918274,-0.431451678276062,18.886940002441406,0.1821696162223816,-0.45362380146980286,-5.247932434082031,-33.773651123046875,-1.5210634469985962,-1.216101050376892,6.168434143066406,-3.990363836288452,1.5877833366394043,-2.2386112213134766,-1.4015331268310547,-3.4789528846740723,3.493910312652588,-1.1542061567306519,2.0070066452026367,-32.10582733154297,0.7213885188102722,0.5131478905677795,-0.4093535542488098,-2.7791194915771484,1.5851688385009766,0.3139685392379761,-81.39982604980469,-1.5967437028884888,13.11640453338623,-0.5255230665206909,-0.92634117603302,3.546259880065918,-1.8466529846191406,-3.243098735809326,-44.77222442626953,-20.57500457763672,-1.349814772605896,0.05969903618097305,6.670801162719727,-1.2163277864456177,-1.0663089752197266],\"xaxis\":\"x\",\"y\":[1.1571767330169678,5.7017412185668945,7.610737323760986,0.8916666507720947,4.8373847007751465,1.7785927057266235,46.45403289794922,0.5449924468994141,21.049726486206055,1.0349254608154297,-0.31714606285095215,-52.33974075317383,0.9820430278778076,4.839449882507324,47.8994140625,0.53749680519104,0.4967542290687561,-0.28784704208374023,2.4397261142730713,-1.1725605726242065,15.658404350280762,0.018695950508117676,1.0311646461486816,6.623050689697266,0.8349913954734802,-4.7924113273620605,0.7494339346885681,45.23116683959961,-116.50763702392578,-0.4039337635040283,-23.885862350463867,0.19577330350875854,4.9776530265808105,-0.2831152081489563,0.7747552990913391,1.287631630897522,23.5820255279541,20.4627742767334,3.893364429473877,1.104870319366455,0.4614107608795166,17.760997772216797,0.7698020935058594,1.1114709377288818,1.084280014038086,-4.809770107269287,-0.025247693061828613,-8.1497802734375,50.08953094482422,2.7119197845458984,0.9957447648048401,0.33287495374679565,0.358500212430954,0.3397460877895355,2.4326162338256836,0.22994166612625122,0.2624538838863373,1.1487319469451904,0.9476128816604614,-1.1442084312438965,45.699119567871094,1.625914454460144,0.7922492027282715,0.9879045486450195,0.4521617591381073,-10.169418334960938,-32.40555953979492,0.9803023934364319,-7.768961429595947,-5.720823287963867,-1.0146007537841797,-0.40493956208229065,0.7983943223953247,0.16376149654388428,-0.3011462986469269,-2.330770492553711,-22.62374496459961,0.471823513507843,-18.919967651367188,3.848493814468384,-0.15742647647857666,1.788208246231079,0.6014584302902222,-0.9068812131881714,7.1715874671936035,0.41917356848716736,1.4147231578826904,-0.3398868441581726,0.9828704595565796,0.7053195238113403,-2.0385665893554688,-13.452642440795898,0.6354256868362427,-0.3171771466732025,-19.026378631591797,2.0923514366149902,3.605621814727783,0.03241032361984253,-0.7758407592773438,-0.6532660126686096,-16.25935935974121,-0.6785824298858643,3.3701579570770264,23.918699264526367,-1.8041696548461914,1.520601511001587,-0.8242395520210266,27.23552131652832,0.3408227562904358,-1.984445571899414,-91.09767150878906,0.7844284772872925,-1.976884365081787,0.2957441806793213,0.2116413116455078,1.0742040872573853,1.4948487281799316,-0.3718344569206238,9.566823959350586,19.42890739440918,-0.32574403285980225,-0.9171230792999268,7.382086753845215,-0.6843974590301514,0.5387216806411743],\"yaxis\":\"y\",\"type\":\"scatter\"}],                        {\"template\":{\"data\":{\"barpolar\":[{\"marker\":{\"line\":{\"color\":\"rgb(237,237,237)\",\"width\":0.5},\"pattern\":{\"fillmode\":\"overlay\",\"size\":10,\"solidity\":0.2}},\"type\":\"barpolar\"}],\"bar\":[{\"error_x\":{\"color\":\"rgb(51,51,51)\"},\"error_y\":{\"color\":\"rgb(51,51,51)\"},\"marker\":{\"line\":{\"color\":\"rgb(237,237,237)\",\"width\":0.5},\"pattern\":{\"fillmode\":\"overlay\",\"size\":10,\"solidity\":0.2}},\"type\":\"bar\"}],\"carpet\":[{\"aaxis\":{\"endlinecolor\":\"rgb(51,51,51)\",\"gridcolor\":\"white\",\"linecolor\":\"white\",\"minorgridcolor\":\"white\",\"startlinecolor\":\"rgb(51,51,51)\"},\"baxis\":{\"endlinecolor\":\"rgb(51,51,51)\",\"gridcolor\":\"white\",\"linecolor\":\"white\",\"minorgridcolor\":\"white\",\"startlinecolor\":\"rgb(51,51,51)\"},\"type\":\"carpet\"}],\"choropleth\":[{\"colorbar\":{\"outlinewidth\":0,\"tickcolor\":\"rgb(237,237,237)\",\"ticklen\":6,\"ticks\":\"inside\"},\"type\":\"choropleth\"}],\"contourcarpet\":[{\"colorbar\":{\"outlinewidth\":0,\"tickcolor\":\"rgb(237,237,237)\",\"ticklen\":6,\"ticks\":\"inside\"},\"type\":\"contourcarpet\"}],\"contour\":[{\"colorbar\":{\"outlinewidth\":0,\"tickcolor\":\"rgb(237,237,237)\",\"ticklen\":6,\"ticks\":\"inside\"},\"colorscale\":[[0,\"rgb(20,44,66)\"],[1,\"rgb(90,179,244)\"]],\"type\":\"contour\"}],\"heatmapgl\":[{\"colorbar\":{\"outlinewidth\":0,\"tickcolor\":\"rgb(237,237,237)\",\"ticklen\":6,\"ticks\":\"inside\"},\"colorscale\":[[0,\"rgb(20,44,66)\"],[1,\"rgb(90,179,244)\"]],\"type\":\"heatmapgl\"}],\"heatmap\":[{\"colorbar\":{\"outlinewidth\":0,\"tickcolor\":\"rgb(237,237,237)\",\"ticklen\":6,\"ticks\":\"inside\"},\"colorscale\":[[0,\"rgb(20,44,66)\"],[1,\"rgb(90,179,244)\"]],\"type\":\"heatmap\"}],\"histogram2dcontour\":[{\"colorbar\":{\"outlinewidth\":0,\"tickcolor\":\"rgb(237,237,237)\",\"ticklen\":6,\"ticks\":\"inside\"},\"colorscale\":[[0,\"rgb(20,44,66)\"],[1,\"rgb(90,179,244)\"]],\"type\":\"histogram2dcontour\"}],\"histogram2d\":[{\"colorbar\":{\"outlinewidth\":0,\"tickcolor\":\"rgb(237,237,237)\",\"ticklen\":6,\"ticks\":\"inside\"},\"colorscale\":[[0,\"rgb(20,44,66)\"],[1,\"rgb(90,179,244)\"]],\"type\":\"histogram2d\"}],\"histogram\":[{\"marker\":{\"pattern\":{\"fillmode\":\"overlay\",\"size\":10,\"solidity\":0.2}},\"type\":\"histogram\"}],\"mesh3d\":[{\"colorbar\":{\"outlinewidth\":0,\"tickcolor\":\"rgb(237,237,237)\",\"ticklen\":6,\"ticks\":\"inside\"},\"type\":\"mesh3d\"}],\"parcoords\":[{\"line\":{\"colorbar\":{\"outlinewidth\":0,\"tickcolor\":\"rgb(237,237,237)\",\"ticklen\":6,\"ticks\":\"inside\"}},\"type\":\"parcoords\"}],\"pie\":[{\"automargin\":true,\"type\":\"pie\"}],\"scatter3d\":[{\"line\":{\"colorbar\":{\"outlinewidth\":0,\"tickcolor\":\"rgb(237,237,237)\",\"ticklen\":6,\"ticks\":\"inside\"}},\"marker\":{\"colorbar\":{\"outlinewidth\":0,\"tickcolor\":\"rgb(237,237,237)\",\"ticklen\":6,\"ticks\":\"inside\"}},\"type\":\"scatter3d\"}],\"scattercarpet\":[{\"marker\":{\"colorbar\":{\"outlinewidth\":0,\"tickcolor\":\"rgb(237,237,237)\",\"ticklen\":6,\"ticks\":\"inside\"}},\"type\":\"scattercarpet\"}],\"scattergeo\":[{\"marker\":{\"colorbar\":{\"outlinewidth\":0,\"tickcolor\":\"rgb(237,237,237)\",\"ticklen\":6,\"ticks\":\"inside\"}},\"type\":\"scattergeo\"}],\"scattergl\":[{\"marker\":{\"colorbar\":{\"outlinewidth\":0,\"tickcolor\":\"rgb(237,237,237)\",\"ticklen\":6,\"ticks\":\"inside\"}},\"type\":\"scattergl\"}],\"scattermapbox\":[{\"marker\":{\"colorbar\":{\"outlinewidth\":0,\"tickcolor\":\"rgb(237,237,237)\",\"ticklen\":6,\"ticks\":\"inside\"}},\"type\":\"scattermapbox\"}],\"scatterpolargl\":[{\"marker\":{\"colorbar\":{\"outlinewidth\":0,\"tickcolor\":\"rgb(237,237,237)\",\"ticklen\":6,\"ticks\":\"inside\"}},\"type\":\"scatterpolargl\"}],\"scatterpolar\":[{\"marker\":{\"colorbar\":{\"outlinewidth\":0,\"tickcolor\":\"rgb(237,237,237)\",\"ticklen\":6,\"ticks\":\"inside\"}},\"type\":\"scatterpolar\"}],\"scatter\":[{\"fillpattern\":{\"fillmode\":\"overlay\",\"size\":10,\"solidity\":0.2},\"type\":\"scatter\"}],\"scatterternary\":[{\"marker\":{\"colorbar\":{\"outlinewidth\":0,\"tickcolor\":\"rgb(237,237,237)\",\"ticklen\":6,\"ticks\":\"inside\"}},\"type\":\"scatterternary\"}],\"surface\":[{\"colorbar\":{\"outlinewidth\":0,\"tickcolor\":\"rgb(237,237,237)\",\"ticklen\":6,\"ticks\":\"inside\"},\"colorscale\":[[0,\"rgb(20,44,66)\"],[1,\"rgb(90,179,244)\"]],\"type\":\"surface\"}],\"table\":[{\"cells\":{\"fill\":{\"color\":\"rgb(237,237,237)\"},\"line\":{\"color\":\"white\"}},\"header\":{\"fill\":{\"color\":\"rgb(217,217,217)\"},\"line\":{\"color\":\"white\"}},\"type\":\"table\"}]},\"layout\":{\"annotationdefaults\":{\"arrowhead\":0,\"arrowwidth\":1},\"autotypenumbers\":\"strict\",\"coloraxis\":{\"colorbar\":{\"outlinewidth\":0,\"tickcolor\":\"rgb(237,237,237)\",\"ticklen\":6,\"ticks\":\"inside\"}},\"colorscale\":{\"sequential\":[[0,\"rgb(20,44,66)\"],[1,\"rgb(90,179,244)\"]],\"sequentialminus\":[[0,\"rgb(20,44,66)\"],[1,\"rgb(90,179,244)\"]]},\"colorway\":[\"#F8766D\",\"#A3A500\",\"#00BF7D\",\"#00B0F6\",\"#E76BF3\"],\"font\":{\"color\":\"rgb(51,51,51)\"},\"geo\":{\"bgcolor\":\"white\",\"lakecolor\":\"white\",\"landcolor\":\"rgb(237,237,237)\",\"showlakes\":true,\"showland\":true,\"subunitcolor\":\"white\"},\"hoverlabel\":{\"align\":\"left\"},\"hovermode\":\"closest\",\"paper_bgcolor\":\"white\",\"plot_bgcolor\":\"rgb(237,237,237)\",\"polar\":{\"angularaxis\":{\"gridcolor\":\"white\",\"linecolor\":\"white\",\"showgrid\":true,\"tickcolor\":\"rgb(51,51,51)\",\"ticks\":\"outside\"},\"bgcolor\":\"rgb(237,237,237)\",\"radialaxis\":{\"gridcolor\":\"white\",\"linecolor\":\"white\",\"showgrid\":true,\"tickcolor\":\"rgb(51,51,51)\",\"ticks\":\"outside\"}},\"scene\":{\"xaxis\":{\"backgroundcolor\":\"rgb(237,237,237)\",\"gridcolor\":\"white\",\"gridwidth\":2,\"linecolor\":\"white\",\"showbackground\":true,\"showgrid\":true,\"tickcolor\":\"rgb(51,51,51)\",\"ticks\":\"outside\",\"zerolinecolor\":\"white\"},\"yaxis\":{\"backgroundcolor\":\"rgb(237,237,237)\",\"gridcolor\":\"white\",\"gridwidth\":2,\"linecolor\":\"white\",\"showbackground\":true,\"showgrid\":true,\"tickcolor\":\"rgb(51,51,51)\",\"ticks\":\"outside\",\"zerolinecolor\":\"white\"},\"zaxis\":{\"backgroundcolor\":\"rgb(237,237,237)\",\"gridcolor\":\"white\",\"gridwidth\":2,\"linecolor\":\"white\",\"showbackground\":true,\"showgrid\":true,\"tickcolor\":\"rgb(51,51,51)\",\"ticks\":\"outside\",\"zerolinecolor\":\"white\"}},\"shapedefaults\":{\"fillcolor\":\"black\",\"line\":{\"width\":0},\"opacity\":0.3},\"ternary\":{\"aaxis\":{\"gridcolor\":\"white\",\"linecolor\":\"white\",\"showgrid\":true,\"tickcolor\":\"rgb(51,51,51)\",\"ticks\":\"outside\"},\"baxis\":{\"gridcolor\":\"white\",\"linecolor\":\"white\",\"showgrid\":true,\"tickcolor\":\"rgb(51,51,51)\",\"ticks\":\"outside\"},\"bgcolor\":\"rgb(237,237,237)\",\"caxis\":{\"gridcolor\":\"white\",\"linecolor\":\"white\",\"showgrid\":true,\"tickcolor\":\"rgb(51,51,51)\",\"ticks\":\"outside\"}},\"xaxis\":{\"automargin\":true,\"gridcolor\":\"white\",\"linecolor\":\"white\",\"showgrid\":true,\"tickcolor\":\"rgb(51,51,51)\",\"ticks\":\"outside\",\"title\":{\"standoff\":15},\"zerolinecolor\":\"white\"},\"yaxis\":{\"automargin\":true,\"gridcolor\":\"white\",\"linecolor\":\"white\",\"showgrid\":true,\"tickcolor\":\"rgb(51,51,51)\",\"ticks\":\"outside\",\"title\":{\"standoff\":15},\"zerolinecolor\":\"white\"}}},\"xaxis\":{\"anchor\":\"y\",\"domain\":[0.0,1.0],\"title\":{\"text\":\"tSNE_x\"}},\"yaxis\":{\"anchor\":\"x\",\"domain\":[0.0,1.0],\"title\":{\"text\":\"tSNE_z\"}},\"legend\":{\"tracegroupgap\":0},\"title\":{\"text\":\"Graph 2: tSNE Visualisation in the x-z plane\"}},                        {\"responsive\": true}                    ).then(function(){\n",
       "                            \n",
       "var gd = document.getElementById('c2428639-5ae2-4165-9158-8e97ad689dda');\n",
       "var x = new MutationObserver(function (mutations, observer) {{\n",
       "        var display = window.getComputedStyle(gd).display;\n",
       "        if (!display || display === 'none') {{\n",
       "            console.log([gd, 'removed!']);\n",
       "            Plotly.purge(gd);\n",
       "            observer.disconnect();\n",
       "        }}\n",
       "}});\n",
       "\n",
       "// Listen for the removal of the full notebook cells\n",
       "var notebookContainer = gd.closest('#notebook-container');\n",
       "if (notebookContainer) {{\n",
       "    x.observe(notebookContainer, {childList: true});\n",
       "}}\n",
       "\n",
       "// Listen for the clearing of the current output cell\n",
       "var outputEl = gd.closest('.output');\n",
       "if (outputEl) {{\n",
       "    x.observe(outputEl, {childList: true});\n",
       "}}\n",
       "\n",
       "                        })                };                });            </script>        </div>"
      ]
     },
     "metadata": {},
     "output_type": "display_data"
    }
   ],
   "source": [
    "fig2 = px.scatter(tSNE_df, x='tSNE_x', y='tSNE_z', hover_name=tSNE_df.index, template='ggplot2', opacity=1, title='Graph 2: tSNE Visualisation in the x-z plane')\n",
    "fig2"
   ]
  },
  {
   "cell_type": "code",
   "execution_count": 47,
   "id": "91363b69",
   "metadata": {},
   "outputs": [
    {
     "data": {
      "application/vnd.plotly.v1+json": {
       "config": {
        "plotlyServerURL": "https://plot.ly"
       },
       "data": [
        {
         "hovertemplate": "<b>%{hovertext}</b><br><br>tSNE_y=%{x}<br>tSNE_z=%{y}<extra></extra>",
         "hovertext": [
          "sp_P40136_CYAA_BACAN:0-38",
          "sp_P15917_LEF_BACAN:0-38",
          "sp_P40406_NAGZ_BACSU:0-21",
          "sp_P39790_MPR_BACSU:0-39",
          "sp_P54602_YHCR_BACSU:0-54",
          "sp_O66037_PHYT_BACSD:0-23",
          "sp_O31097_PHYC_BACIU:0-23",
          "sp_P42094_PHYT_BACSU:0-31",
          "sp_P05656_SACC_BACSU:0-29",
          "sp_P00649_RN_BACIN:0-34",
          "sp_P48068_RN_BACPU:0-34",
          "sp_P00648_RNBR_BACAM:0-40",
          "sp_P71014_BSLA_BACSU:0-33",
          "sp_P94356_YXKC_BACSU:0-35",
          "sp_P29141_SUBV_BACSU:0-33",
          "sp_P40767_CWLO_BACSU:0-35",
          "sp_Q65NQ9_CWLO_BACLD:0-35",
          "sp_O07013_GANB_BACSU:0-22",
          "sp_P94449_PEL2_BACIU:0-29",
          "sp_O34819_PEL1_BACSU:0-29",
          "sp_P16397_SUBF_BACSU:0-35",
          "sp_O32083_LYTG_BACSU:0-38",
          "sp_O31737_YLQB_BACSU:0-32",
          "sp_Q45670_THES_BACSJ:0-29",
          "sp_Q07833_WAPA_BACSU:0-37",
          "sp_D4G3R4_WAPA_BACNB:0-50",
          "sp_G4NYJ6_WAPA_BACS4:0-37",
          "sp_P39899_NPRB_BACSU:0-33",
          "sp_P05806_NPRE_BACCE:0-32",
          "sp_P00800_THER_BACTH:0-33",
          "sp_Q59223_THER_BACSO:0-30",
          "sp_Q02113_CWBA_BACSU:0-30",
          "sp_P49051_SLAP1_BACAN:0-34",
          "sp_Q9ZES5_SLAP_BACTF:0-34",
          "sp_P94217_SLAP2_BACAN:0-34",
          "sp_P49052_SLAP_BACLI:0-34",
          "sp_Q9RMZ0_Y6545_BACAN:0-33",
          "sp_P94576_YWOF_BACSU:0-32",
          "sp_P00780_SUBC_BACLI:0-34",
          "sp_P00782_SUBT_BACAM:0-35",
          "sp_P04189_SUBT_BACSU:0-34",
          "sp_P35835_SUBN_BACNA:0-34",
          "sp_P00783_SUBT_BACSA:0-34",
          "sp_P20724_ELYA_BACYA:0-32",
          "sp_P21130_SACB_BACAM:0-34",
          "sp_P05655_SACB_BACSU:0-34",
          "sp_P96740_PGDS_BACSU:0-37",
          "sp_P16396_SUBE_BACSU:0-32",
          "sp_P39597_EFEN_BACSU:0-50",
          "sp_P54507_TASA_BACSU:0-32",
          "sp_P40949_TAPA_BACSU:0-48",
          "sp_P39632_BSLB_BACSU:0-35",
          "sp_P39844_DACC_BACSU:0-34",
          "sp_Q9AQS0_XANLY_BACGL:0-30",
          "sp_O34918_YOAJ_BACSU:0-30",
          "sp_P39116_PLY_BACSU:0-26",
          "sp_B1B6T1_PTLY_BACSP:0-32",
          "sp_Q65DC2_PTLY_BACLD:0-32",
          "sp_Q8GCB2_PTLY_BACLI:0-32",
          "sp_Q45070_XYNC_BACSU:0-37",
          "sp_Q6YK37_XYNC_BACIU:0-38",
          "sp_Q03091_BSN1_BACAM:0-31",
          "sp_P38422_DACF_BACSU:0-28",
          "sp_P08750_DACA_BACSU:0-36",
          "sp_O32150_BSN2_BACSU:0-33",
          "sp_O31411_SACC_BACL7:0-33",
          "sp_P42293_EABN2_BACSU:0-31",
          "sp_P94522_EABN1_BACSU:0-37",
          "sp_O07532_LYTF_BACSU:0-31",
          "sp_P54421_LYTE_BACSU:0-30",
          "sp_O34669_YOCH_BACSU:0-30",
          "sp_O34310_PLYC_BACSU:0-32",
          "sp_Q65EF5_PLYC_BACLD:0-33",
          "sp_Q45105_TACY_BACCE:0-33",
          "sp_O31803_YNCM_BACSU:0-47",
          "sp_P39848_LYTD_BACSU:0-32",
          "sp_Q02114_LYTC_BACSU:0-29",
          "sp_P25152_BSAP_BACSU:0-36",
          "sp_P80057_GSEP_BACLD:0-35",
          "sp_O32041_YRVJ_BACSU:0-32",
          "sp_P96729_YWSB_BACSU:0-35",
          "sp_P54484_YQGA_BACSU:0-33",
          "sp_O82833_GELLY_BACSP:0-40",
          "sp_P06278_AMY_BACLI:0-34",
          "sp_P00692_AMY_BACAM:0-36",
          "sp_P19571_AMT6_BACS7:0-38",
          "sp_P55278_MANB_BACIU:0-29",
          "sp_O05512_MANB_BACSU:0-31",
          "sp_P04957_GUB_BACSU:0-33",
          "sp_P80172_HBLA_BACCE:0-36",
          "sp_P28842_SUBT_BACS9:0-31",
          "sp_Q79F14_ESTB_BACSU:0-33",
          "sp_P37957_ESTA_BACSU:0-36",
          "sp_Q5U780_LIP_BACSP:0-33",
          "sp_P33377_PHL3_BACCE:0-32",
          "sp_P11889_PHL2_BACCE:0-32",
          "sp_P09599_PHL1_BACCE:0-32",
          "sp_P05618_CDGT_BACS0:0-32",
          "sp_P09121_CDGT_BACS3:0-32",
          "sp_P30921_CDGT_BAC11:0-32",
          "sp_P17692_CDGT_BACS8:0-32",
          "sp_P31747_CDGT_BACSS:0-39",
          "sp_P14014_CDGT_BACLI:0-39",
          "sp_P31746_CDGT_BACS2:0-34",
          "sp_P27036_CDGT_BACOH:0-34",
          "sp_O07921_CHIS_BACSU:0-40",
          "sp_P54423_WPRA_BACSU:0-36",
          "sp_P39824_BLAC_BACSU:0-39",
          "sp_P10424_BLA1_BACCE:0-40",
          "sp_P00691_AMY_BACSU:0-38",
          "sp_P06832_NPRE_BACAM:0-32",
          "sp_P68735_NPRE_BACSA:0-32",
          "sp_P68736_NPRE_BACSU:0-32",
          "sp_P42111_YXAL_BACSU:0-46",
          "sp_P13423_PAG_BACAN:0-34",
          "sp_P54422_GGT_BACSU:0-33",
          "sp_P63186_GGT_BACNA:0-33",
          "sp_Q45071_XYND_BACSU:0-31",
          "sp_P68569_BDBA_BACSU:0-31",
          "sp_P14262_PLC_BACCE:0-36",
          "sp_P08954_PLC_BACTU:0-36",
          "sp_P42983_NUCB_BACSU:0-31",
          "sp_O34313_NTPES_BACSU:0-40",
          "sp_O31526_YESW_BACSU:0-40",
          "sp_O34344_SDPC_BACSU:0-37"
         ],
         "legendgroup": "",
         "marker": {
          "color": "#F8766D",
          "opacity": 1,
          "symbol": "circle"
         },
         "mode": "markers",
         "name": "",
         "orientation": "v",
         "showlegend": false,
         "type": "scatter",
         "x": [
          -1.400858998298645,
          10.630584716796875,
          -22.562545776367188,
          0.38629043102264404,
          4.33057165145874,
          0.5663572549819946,
          2.8705198764801025,
          0.7091785669326782,
          -1.6498011350631714,
          -0.5062377452850342,
          0.3129812479019165,
          41.90669631958008,
          1.4208601713180542,
          20.92768669128418,
          -23.38849449157715,
          -4.540546894073486,
          0.354192316532135,
          1.367832899093628,
          86.48676300048828,
          1.7348746061325073,
          12.270476341247559,
          -0.052739471197128296,
          1.3651388883590698,
          45.83118438720703,
          -0.19271454215049744,
          -61.44113540649414,
          0.7395825386047363,
          -24.233003616333008,
          -86.30284881591797,
          1.237679362297058,
          23.362131118774414,
          0.2986149787902832,
          33.403526306152344,
          -0.7387185096740723,
          4.191659927368164,
          -0.10825541615486145,
          16.44626235961914,
          -16.418914794921875,
          11.799322128295898,
          1.172653317451477,
          1.4924960136413574,
          8.185345649719238,
          -25.73239517211914,
          1.3830105066299438,
          0.4289814233779907,
          -2.126152992248535,
          -0.7117729187011719,
          -0.11327813565731049,
          38.10084533691406,
          0.7002689838409424,
          0.6823762655258179,
          -0.7781188488006592,
          -0.11858674883842468,
          0.33350205421447754,
          0.9829885959625244,
          -0.09953244030475616,
          3.20904541015625,
          -1.7064976692199707,
          9.5008544921875,
          -0.37822622060775757,
          -19.39053726196289,
          -16.51557731628418,
          0.5739501714706421,
          -0.8646254539489746,
          1.2068041563034058,
          39.50121307373047,
          -13.512126922607422,
          0.2173669934272766,
          -146.09234619140625,
          0.17383599281311035,
          -0.8429529070854187,
          11.548450469970703,
          -26.681774139404297,
          0.17264431715011597,
          9.312421798706055,
          -0.34194767475128174,
          -17.105810165405273,
          -0.2129274606704712,
          -0.7804481387138367,
          -61.888206481933594,
          -0.05655330419540405,
          1.5042335987091064,
          -0.6911039352416992,
          -0.8608385324478149,
          -33.83024978637695,
          -0.20444315671920776,
          0.9949239492416382,
          -0.5616240501403809,
          1.4743237495422363,
          0.12498150765895844,
          8.408905029296875,
          0.3382185995578766,
          -0.8527861833572388,
          1.7408146858215332,
          8.744370460510254,
          -3.201539993286133,
          3.712472677230835,
          -0.3652219772338867,
          -1.6650936603546143,
          0.08805739879608154,
          5.5683794021606445,
          0.1544657051563263,
          -0.39948585629463196,
          -11.568565368652344,
          2.489522933959961,
          1.063326358795166,
          0.07302100956439972,
          7.656174659729004,
          -0.23390203714370728,
          -1.362593650817871,
          34.394290924072266,
          -1.1324480772018433,
          -22.00570297241211,
          4.451475143432617,
          0.20702910423278809,
          0.5443408489227295,
          2.046222686767578,
          12.127914428710938,
          113.55006408691406,
          41.73888397216797,
          0.07806584239006042,
          -0.5768508315086365,
          3.246717691421509,
          0.889162540435791,
          1.1925718784332275
         ],
         "xaxis": "x",
         "y": [
          1.1571767330169678,
          5.7017412185668945,
          7.610737323760986,
          0.8916666507720947,
          4.8373847007751465,
          1.7785927057266235,
          46.45403289794922,
          0.5449924468994141,
          21.049726486206055,
          1.0349254608154297,
          -0.31714606285095215,
          -52.33974075317383,
          0.9820430278778076,
          4.839449882507324,
          47.8994140625,
          0.53749680519104,
          0.4967542290687561,
          -0.28784704208374023,
          2.4397261142730713,
          -1.1725605726242065,
          15.658404350280762,
          0.018695950508117676,
          1.0311646461486816,
          6.623050689697266,
          0.8349913954734802,
          -4.7924113273620605,
          0.7494339346885681,
          45.23116683959961,
          -116.50763702392578,
          -0.4039337635040283,
          -23.885862350463867,
          0.19577330350875854,
          4.9776530265808105,
          -0.2831152081489563,
          0.7747552990913391,
          1.287631630897522,
          23.5820255279541,
          20.4627742767334,
          3.893364429473877,
          1.104870319366455,
          0.4614107608795166,
          17.760997772216797,
          0.7698020935058594,
          1.1114709377288818,
          1.084280014038086,
          -4.809770107269287,
          -0.025247693061828613,
          -8.1497802734375,
          50.08953094482422,
          2.7119197845458984,
          0.9957447648048401,
          0.33287495374679565,
          0.358500212430954,
          0.3397460877895355,
          2.4326162338256836,
          0.22994166612625122,
          0.2624538838863373,
          1.1487319469451904,
          0.9476128816604614,
          -1.1442084312438965,
          45.699119567871094,
          1.625914454460144,
          0.7922492027282715,
          0.9879045486450195,
          0.4521617591381073,
          -10.169418334960938,
          -32.40555953979492,
          0.9803023934364319,
          -7.768961429595947,
          -5.720823287963867,
          -1.0146007537841797,
          -0.40493956208229065,
          0.7983943223953247,
          0.16376149654388428,
          -0.3011462986469269,
          -2.330770492553711,
          -22.62374496459961,
          0.471823513507843,
          -18.919967651367188,
          3.848493814468384,
          -0.15742647647857666,
          1.788208246231079,
          0.6014584302902222,
          -0.9068812131881714,
          7.1715874671936035,
          0.41917356848716736,
          1.4147231578826904,
          -0.3398868441581726,
          0.9828704595565796,
          0.7053195238113403,
          -2.0385665893554688,
          -13.452642440795898,
          0.6354256868362427,
          -0.3171771466732025,
          -19.026378631591797,
          2.0923514366149902,
          3.605621814727783,
          0.03241032361984253,
          -0.7758407592773438,
          -0.6532660126686096,
          -16.25935935974121,
          -0.6785824298858643,
          3.3701579570770264,
          23.918699264526367,
          -1.8041696548461914,
          1.520601511001587,
          -0.8242395520210266,
          27.23552131652832,
          0.3408227562904358,
          -1.984445571899414,
          -91.09767150878906,
          0.7844284772872925,
          -1.976884365081787,
          0.2957441806793213,
          0.2116413116455078,
          1.0742040872573853,
          1.4948487281799316,
          -0.3718344569206238,
          9.566823959350586,
          19.42890739440918,
          -0.32574403285980225,
          -0.9171230792999268,
          7.382086753845215,
          -0.6843974590301514,
          0.5387216806411743
         ],
         "yaxis": "y"
        }
       ],
       "layout": {
        "legend": {
         "tracegroupgap": 0
        },
        "template": {
         "data": {
          "bar": [
           {
            "error_x": {
             "color": "rgb(51,51,51)"
            },
            "error_y": {
             "color": "rgb(51,51,51)"
            },
            "marker": {
             "line": {
              "color": "rgb(237,237,237)",
              "width": 0.5
             },
             "pattern": {
              "fillmode": "overlay",
              "size": 10,
              "solidity": 0.2
             }
            },
            "type": "bar"
           }
          ],
          "barpolar": [
           {
            "marker": {
             "line": {
              "color": "rgb(237,237,237)",
              "width": 0.5
             },
             "pattern": {
              "fillmode": "overlay",
              "size": 10,
              "solidity": 0.2
             }
            },
            "type": "barpolar"
           }
          ],
          "carpet": [
           {
            "aaxis": {
             "endlinecolor": "rgb(51,51,51)",
             "gridcolor": "white",
             "linecolor": "white",
             "minorgridcolor": "white",
             "startlinecolor": "rgb(51,51,51)"
            },
            "baxis": {
             "endlinecolor": "rgb(51,51,51)",
             "gridcolor": "white",
             "linecolor": "white",
             "minorgridcolor": "white",
             "startlinecolor": "rgb(51,51,51)"
            },
            "type": "carpet"
           }
          ],
          "choropleth": [
           {
            "colorbar": {
             "outlinewidth": 0,
             "tickcolor": "rgb(237,237,237)",
             "ticklen": 6,
             "ticks": "inside"
            },
            "type": "choropleth"
           }
          ],
          "contour": [
           {
            "colorbar": {
             "outlinewidth": 0,
             "tickcolor": "rgb(237,237,237)",
             "ticklen": 6,
             "ticks": "inside"
            },
            "colorscale": [
             [
              0,
              "rgb(20,44,66)"
             ],
             [
              1,
              "rgb(90,179,244)"
             ]
            ],
            "type": "contour"
           }
          ],
          "contourcarpet": [
           {
            "colorbar": {
             "outlinewidth": 0,
             "tickcolor": "rgb(237,237,237)",
             "ticklen": 6,
             "ticks": "inside"
            },
            "type": "contourcarpet"
           }
          ],
          "heatmap": [
           {
            "colorbar": {
             "outlinewidth": 0,
             "tickcolor": "rgb(237,237,237)",
             "ticklen": 6,
             "ticks": "inside"
            },
            "colorscale": [
             [
              0,
              "rgb(20,44,66)"
             ],
             [
              1,
              "rgb(90,179,244)"
             ]
            ],
            "type": "heatmap"
           }
          ],
          "heatmapgl": [
           {
            "colorbar": {
             "outlinewidth": 0,
             "tickcolor": "rgb(237,237,237)",
             "ticklen": 6,
             "ticks": "inside"
            },
            "colorscale": [
             [
              0,
              "rgb(20,44,66)"
             ],
             [
              1,
              "rgb(90,179,244)"
             ]
            ],
            "type": "heatmapgl"
           }
          ],
          "histogram": [
           {
            "marker": {
             "pattern": {
              "fillmode": "overlay",
              "size": 10,
              "solidity": 0.2
             }
            },
            "type": "histogram"
           }
          ],
          "histogram2d": [
           {
            "colorbar": {
             "outlinewidth": 0,
             "tickcolor": "rgb(237,237,237)",
             "ticklen": 6,
             "ticks": "inside"
            },
            "colorscale": [
             [
              0,
              "rgb(20,44,66)"
             ],
             [
              1,
              "rgb(90,179,244)"
             ]
            ],
            "type": "histogram2d"
           }
          ],
          "histogram2dcontour": [
           {
            "colorbar": {
             "outlinewidth": 0,
             "tickcolor": "rgb(237,237,237)",
             "ticklen": 6,
             "ticks": "inside"
            },
            "colorscale": [
             [
              0,
              "rgb(20,44,66)"
             ],
             [
              1,
              "rgb(90,179,244)"
             ]
            ],
            "type": "histogram2dcontour"
           }
          ],
          "mesh3d": [
           {
            "colorbar": {
             "outlinewidth": 0,
             "tickcolor": "rgb(237,237,237)",
             "ticklen": 6,
             "ticks": "inside"
            },
            "type": "mesh3d"
           }
          ],
          "parcoords": [
           {
            "line": {
             "colorbar": {
              "outlinewidth": 0,
              "tickcolor": "rgb(237,237,237)",
              "ticklen": 6,
              "ticks": "inside"
             }
            },
            "type": "parcoords"
           }
          ],
          "pie": [
           {
            "automargin": true,
            "type": "pie"
           }
          ],
          "scatter": [
           {
            "fillpattern": {
             "fillmode": "overlay",
             "size": 10,
             "solidity": 0.2
            },
            "type": "scatter"
           }
          ],
          "scatter3d": [
           {
            "line": {
             "colorbar": {
              "outlinewidth": 0,
              "tickcolor": "rgb(237,237,237)",
              "ticklen": 6,
              "ticks": "inside"
             }
            },
            "marker": {
             "colorbar": {
              "outlinewidth": 0,
              "tickcolor": "rgb(237,237,237)",
              "ticklen": 6,
              "ticks": "inside"
             }
            },
            "type": "scatter3d"
           }
          ],
          "scattercarpet": [
           {
            "marker": {
             "colorbar": {
              "outlinewidth": 0,
              "tickcolor": "rgb(237,237,237)",
              "ticklen": 6,
              "ticks": "inside"
             }
            },
            "type": "scattercarpet"
           }
          ],
          "scattergeo": [
           {
            "marker": {
             "colorbar": {
              "outlinewidth": 0,
              "tickcolor": "rgb(237,237,237)",
              "ticklen": 6,
              "ticks": "inside"
             }
            },
            "type": "scattergeo"
           }
          ],
          "scattergl": [
           {
            "marker": {
             "colorbar": {
              "outlinewidth": 0,
              "tickcolor": "rgb(237,237,237)",
              "ticklen": 6,
              "ticks": "inside"
             }
            },
            "type": "scattergl"
           }
          ],
          "scattermapbox": [
           {
            "marker": {
             "colorbar": {
              "outlinewidth": 0,
              "tickcolor": "rgb(237,237,237)",
              "ticklen": 6,
              "ticks": "inside"
             }
            },
            "type": "scattermapbox"
           }
          ],
          "scatterpolar": [
           {
            "marker": {
             "colorbar": {
              "outlinewidth": 0,
              "tickcolor": "rgb(237,237,237)",
              "ticklen": 6,
              "ticks": "inside"
             }
            },
            "type": "scatterpolar"
           }
          ],
          "scatterpolargl": [
           {
            "marker": {
             "colorbar": {
              "outlinewidth": 0,
              "tickcolor": "rgb(237,237,237)",
              "ticklen": 6,
              "ticks": "inside"
             }
            },
            "type": "scatterpolargl"
           }
          ],
          "scatterternary": [
           {
            "marker": {
             "colorbar": {
              "outlinewidth": 0,
              "tickcolor": "rgb(237,237,237)",
              "ticklen": 6,
              "ticks": "inside"
             }
            },
            "type": "scatterternary"
           }
          ],
          "surface": [
           {
            "colorbar": {
             "outlinewidth": 0,
             "tickcolor": "rgb(237,237,237)",
             "ticklen": 6,
             "ticks": "inside"
            },
            "colorscale": [
             [
              0,
              "rgb(20,44,66)"
             ],
             [
              1,
              "rgb(90,179,244)"
             ]
            ],
            "type": "surface"
           }
          ],
          "table": [
           {
            "cells": {
             "fill": {
              "color": "rgb(237,237,237)"
             },
             "line": {
              "color": "white"
             }
            },
            "header": {
             "fill": {
              "color": "rgb(217,217,217)"
             },
             "line": {
              "color": "white"
             }
            },
            "type": "table"
           }
          ]
         },
         "layout": {
          "annotationdefaults": {
           "arrowhead": 0,
           "arrowwidth": 1
          },
          "autotypenumbers": "strict",
          "coloraxis": {
           "colorbar": {
            "outlinewidth": 0,
            "tickcolor": "rgb(237,237,237)",
            "ticklen": 6,
            "ticks": "inside"
           }
          },
          "colorscale": {
           "sequential": [
            [
             0,
             "rgb(20,44,66)"
            ],
            [
             1,
             "rgb(90,179,244)"
            ]
           ],
           "sequentialminus": [
            [
             0,
             "rgb(20,44,66)"
            ],
            [
             1,
             "rgb(90,179,244)"
            ]
           ]
          },
          "colorway": [
           "#F8766D",
           "#A3A500",
           "#00BF7D",
           "#00B0F6",
           "#E76BF3"
          ],
          "font": {
           "color": "rgb(51,51,51)"
          },
          "geo": {
           "bgcolor": "white",
           "lakecolor": "white",
           "landcolor": "rgb(237,237,237)",
           "showlakes": true,
           "showland": true,
           "subunitcolor": "white"
          },
          "hoverlabel": {
           "align": "left"
          },
          "hovermode": "closest",
          "paper_bgcolor": "white",
          "plot_bgcolor": "rgb(237,237,237)",
          "polar": {
           "angularaxis": {
            "gridcolor": "white",
            "linecolor": "white",
            "showgrid": true,
            "tickcolor": "rgb(51,51,51)",
            "ticks": "outside"
           },
           "bgcolor": "rgb(237,237,237)",
           "radialaxis": {
            "gridcolor": "white",
            "linecolor": "white",
            "showgrid": true,
            "tickcolor": "rgb(51,51,51)",
            "ticks": "outside"
           }
          },
          "scene": {
           "xaxis": {
            "backgroundcolor": "rgb(237,237,237)",
            "gridcolor": "white",
            "gridwidth": 2,
            "linecolor": "white",
            "showbackground": true,
            "showgrid": true,
            "tickcolor": "rgb(51,51,51)",
            "ticks": "outside",
            "zerolinecolor": "white"
           },
           "yaxis": {
            "backgroundcolor": "rgb(237,237,237)",
            "gridcolor": "white",
            "gridwidth": 2,
            "linecolor": "white",
            "showbackground": true,
            "showgrid": true,
            "tickcolor": "rgb(51,51,51)",
            "ticks": "outside",
            "zerolinecolor": "white"
           },
           "zaxis": {
            "backgroundcolor": "rgb(237,237,237)",
            "gridcolor": "white",
            "gridwidth": 2,
            "linecolor": "white",
            "showbackground": true,
            "showgrid": true,
            "tickcolor": "rgb(51,51,51)",
            "ticks": "outside",
            "zerolinecolor": "white"
           }
          },
          "shapedefaults": {
           "fillcolor": "black",
           "line": {
            "width": 0
           },
           "opacity": 0.3
          },
          "ternary": {
           "aaxis": {
            "gridcolor": "white",
            "linecolor": "white",
            "showgrid": true,
            "tickcolor": "rgb(51,51,51)",
            "ticks": "outside"
           },
           "baxis": {
            "gridcolor": "white",
            "linecolor": "white",
            "showgrid": true,
            "tickcolor": "rgb(51,51,51)",
            "ticks": "outside"
           },
           "bgcolor": "rgb(237,237,237)",
           "caxis": {
            "gridcolor": "white",
            "linecolor": "white",
            "showgrid": true,
            "tickcolor": "rgb(51,51,51)",
            "ticks": "outside"
           }
          },
          "xaxis": {
           "automargin": true,
           "gridcolor": "white",
           "linecolor": "white",
           "showgrid": true,
           "tickcolor": "rgb(51,51,51)",
           "ticks": "outside",
           "title": {
            "standoff": 15
           },
           "zerolinecolor": "white"
          },
          "yaxis": {
           "automargin": true,
           "gridcolor": "white",
           "linecolor": "white",
           "showgrid": true,
           "tickcolor": "rgb(51,51,51)",
           "ticks": "outside",
           "title": {
            "standoff": 15
           },
           "zerolinecolor": "white"
          }
         }
        },
        "title": {
         "text": "Graph 3: tSNE Visualisation in the y-z plane"
        },
        "xaxis": {
         "anchor": "y",
         "domain": [
          0,
          1
         ],
         "title": {
          "text": "tSNE_y"
         }
        },
        "yaxis": {
         "anchor": "x",
         "domain": [
          0,
          1
         ],
         "title": {
          "text": "tSNE_z"
         }
        }
       }
      },
      "text/html": [
       "<div>                            <div id=\"d4e3828f-3ff0-4bca-a078-d33dac5025ff\" class=\"plotly-graph-div\" style=\"height:525px; width:100%;\"></div>            <script type=\"text/javascript\">                require([\"plotly\"], function(Plotly) {                    window.PLOTLYENV=window.PLOTLYENV || {};                                    if (document.getElementById(\"d4e3828f-3ff0-4bca-a078-d33dac5025ff\")) {                    Plotly.newPlot(                        \"d4e3828f-3ff0-4bca-a078-d33dac5025ff\",                        [{\"hovertemplate\":\"<b>%{hovertext}</b><br><br>tSNE_y=%{x}<br>tSNE_z=%{y}<extra></extra>\",\"hovertext\":[\"sp_P40136_CYAA_BACAN:0-38\",\"sp_P15917_LEF_BACAN:0-38\",\"sp_P40406_NAGZ_BACSU:0-21\",\"sp_P39790_MPR_BACSU:0-39\",\"sp_P54602_YHCR_BACSU:0-54\",\"sp_O66037_PHYT_BACSD:0-23\",\"sp_O31097_PHYC_BACIU:0-23\",\"sp_P42094_PHYT_BACSU:0-31\",\"sp_P05656_SACC_BACSU:0-29\",\"sp_P00649_RN_BACIN:0-34\",\"sp_P48068_RN_BACPU:0-34\",\"sp_P00648_RNBR_BACAM:0-40\",\"sp_P71014_BSLA_BACSU:0-33\",\"sp_P94356_YXKC_BACSU:0-35\",\"sp_P29141_SUBV_BACSU:0-33\",\"sp_P40767_CWLO_BACSU:0-35\",\"sp_Q65NQ9_CWLO_BACLD:0-35\",\"sp_O07013_GANB_BACSU:0-22\",\"sp_P94449_PEL2_BACIU:0-29\",\"sp_O34819_PEL1_BACSU:0-29\",\"sp_P16397_SUBF_BACSU:0-35\",\"sp_O32083_LYTG_BACSU:0-38\",\"sp_O31737_YLQB_BACSU:0-32\",\"sp_Q45670_THES_BACSJ:0-29\",\"sp_Q07833_WAPA_BACSU:0-37\",\"sp_D4G3R4_WAPA_BACNB:0-50\",\"sp_G4NYJ6_WAPA_BACS4:0-37\",\"sp_P39899_NPRB_BACSU:0-33\",\"sp_P05806_NPRE_BACCE:0-32\",\"sp_P00800_THER_BACTH:0-33\",\"sp_Q59223_THER_BACSO:0-30\",\"sp_Q02113_CWBA_BACSU:0-30\",\"sp_P49051_SLAP1_BACAN:0-34\",\"sp_Q9ZES5_SLAP_BACTF:0-34\",\"sp_P94217_SLAP2_BACAN:0-34\",\"sp_P49052_SLAP_BACLI:0-34\",\"sp_Q9RMZ0_Y6545_BACAN:0-33\",\"sp_P94576_YWOF_BACSU:0-32\",\"sp_P00780_SUBC_BACLI:0-34\",\"sp_P00782_SUBT_BACAM:0-35\",\"sp_P04189_SUBT_BACSU:0-34\",\"sp_P35835_SUBN_BACNA:0-34\",\"sp_P00783_SUBT_BACSA:0-34\",\"sp_P20724_ELYA_BACYA:0-32\",\"sp_P21130_SACB_BACAM:0-34\",\"sp_P05655_SACB_BACSU:0-34\",\"sp_P96740_PGDS_BACSU:0-37\",\"sp_P16396_SUBE_BACSU:0-32\",\"sp_P39597_EFEN_BACSU:0-50\",\"sp_P54507_TASA_BACSU:0-32\",\"sp_P40949_TAPA_BACSU:0-48\",\"sp_P39632_BSLB_BACSU:0-35\",\"sp_P39844_DACC_BACSU:0-34\",\"sp_Q9AQS0_XANLY_BACGL:0-30\",\"sp_O34918_YOAJ_BACSU:0-30\",\"sp_P39116_PLY_BACSU:0-26\",\"sp_B1B6T1_PTLY_BACSP:0-32\",\"sp_Q65DC2_PTLY_BACLD:0-32\",\"sp_Q8GCB2_PTLY_BACLI:0-32\",\"sp_Q45070_XYNC_BACSU:0-37\",\"sp_Q6YK37_XYNC_BACIU:0-38\",\"sp_Q03091_BSN1_BACAM:0-31\",\"sp_P38422_DACF_BACSU:0-28\",\"sp_P08750_DACA_BACSU:0-36\",\"sp_O32150_BSN2_BACSU:0-33\",\"sp_O31411_SACC_BACL7:0-33\",\"sp_P42293_EABN2_BACSU:0-31\",\"sp_P94522_EABN1_BACSU:0-37\",\"sp_O07532_LYTF_BACSU:0-31\",\"sp_P54421_LYTE_BACSU:0-30\",\"sp_O34669_YOCH_BACSU:0-30\",\"sp_O34310_PLYC_BACSU:0-32\",\"sp_Q65EF5_PLYC_BACLD:0-33\",\"sp_Q45105_TACY_BACCE:0-33\",\"sp_O31803_YNCM_BACSU:0-47\",\"sp_P39848_LYTD_BACSU:0-32\",\"sp_Q02114_LYTC_BACSU:0-29\",\"sp_P25152_BSAP_BACSU:0-36\",\"sp_P80057_GSEP_BACLD:0-35\",\"sp_O32041_YRVJ_BACSU:0-32\",\"sp_P96729_YWSB_BACSU:0-35\",\"sp_P54484_YQGA_BACSU:0-33\",\"sp_O82833_GELLY_BACSP:0-40\",\"sp_P06278_AMY_BACLI:0-34\",\"sp_P00692_AMY_BACAM:0-36\",\"sp_P19571_AMT6_BACS7:0-38\",\"sp_P55278_MANB_BACIU:0-29\",\"sp_O05512_MANB_BACSU:0-31\",\"sp_P04957_GUB_BACSU:0-33\",\"sp_P80172_HBLA_BACCE:0-36\",\"sp_P28842_SUBT_BACS9:0-31\",\"sp_Q79F14_ESTB_BACSU:0-33\",\"sp_P37957_ESTA_BACSU:0-36\",\"sp_Q5U780_LIP_BACSP:0-33\",\"sp_P33377_PHL3_BACCE:0-32\",\"sp_P11889_PHL2_BACCE:0-32\",\"sp_P09599_PHL1_BACCE:0-32\",\"sp_P05618_CDGT_BACS0:0-32\",\"sp_P09121_CDGT_BACS3:0-32\",\"sp_P30921_CDGT_BAC11:0-32\",\"sp_P17692_CDGT_BACS8:0-32\",\"sp_P31747_CDGT_BACSS:0-39\",\"sp_P14014_CDGT_BACLI:0-39\",\"sp_P31746_CDGT_BACS2:0-34\",\"sp_P27036_CDGT_BACOH:0-34\",\"sp_O07921_CHIS_BACSU:0-40\",\"sp_P54423_WPRA_BACSU:0-36\",\"sp_P39824_BLAC_BACSU:0-39\",\"sp_P10424_BLA1_BACCE:0-40\",\"sp_P00691_AMY_BACSU:0-38\",\"sp_P06832_NPRE_BACAM:0-32\",\"sp_P68735_NPRE_BACSA:0-32\",\"sp_P68736_NPRE_BACSU:0-32\",\"sp_P42111_YXAL_BACSU:0-46\",\"sp_P13423_PAG_BACAN:0-34\",\"sp_P54422_GGT_BACSU:0-33\",\"sp_P63186_GGT_BACNA:0-33\",\"sp_Q45071_XYND_BACSU:0-31\",\"sp_P68569_BDBA_BACSU:0-31\",\"sp_P14262_PLC_BACCE:0-36\",\"sp_P08954_PLC_BACTU:0-36\",\"sp_P42983_NUCB_BACSU:0-31\",\"sp_O34313_NTPES_BACSU:0-40\",\"sp_O31526_YESW_BACSU:0-40\",\"sp_O34344_SDPC_BACSU:0-37\"],\"legendgroup\":\"\",\"marker\":{\"color\":\"#F8766D\",\"opacity\":1,\"symbol\":\"circle\"},\"mode\":\"markers\",\"name\":\"\",\"orientation\":\"v\",\"showlegend\":false,\"x\":[-1.400858998298645,10.630584716796875,-22.562545776367188,0.38629043102264404,4.33057165145874,0.5663572549819946,2.8705198764801025,0.7091785669326782,-1.6498011350631714,-0.5062377452850342,0.3129812479019165,41.90669631958008,1.4208601713180542,20.92768669128418,-23.38849449157715,-4.540546894073486,0.354192316532135,1.367832899093628,86.48676300048828,1.7348746061325073,12.270476341247559,-0.052739471197128296,1.3651388883590698,45.83118438720703,-0.19271454215049744,-61.44113540649414,0.7395825386047363,-24.233003616333008,-86.30284881591797,1.237679362297058,23.362131118774414,0.2986149787902832,33.403526306152344,-0.7387185096740723,4.191659927368164,-0.10825541615486145,16.44626235961914,-16.418914794921875,11.799322128295898,1.172653317451477,1.4924960136413574,8.185345649719238,-25.73239517211914,1.3830105066299438,0.4289814233779907,-2.126152992248535,-0.7117729187011719,-0.11327813565731049,38.10084533691406,0.7002689838409424,0.6823762655258179,-0.7781188488006592,-0.11858674883842468,0.33350205421447754,0.9829885959625244,-0.09953244030475616,3.20904541015625,-1.7064976692199707,9.5008544921875,-0.37822622060775757,-19.39053726196289,-16.51557731628418,0.5739501714706421,-0.8646254539489746,1.2068041563034058,39.50121307373047,-13.512126922607422,0.2173669934272766,-146.09234619140625,0.17383599281311035,-0.8429529070854187,11.548450469970703,-26.681774139404297,0.17264431715011597,9.312421798706055,-0.34194767475128174,-17.105810165405273,-0.2129274606704712,-0.7804481387138367,-61.888206481933594,-0.05655330419540405,1.5042335987091064,-0.6911039352416992,-0.8608385324478149,-33.83024978637695,-0.20444315671920776,0.9949239492416382,-0.5616240501403809,1.4743237495422363,0.12498150765895844,8.408905029296875,0.3382185995578766,-0.8527861833572388,1.7408146858215332,8.744370460510254,-3.201539993286133,3.712472677230835,-0.3652219772338867,-1.6650936603546143,0.08805739879608154,5.5683794021606445,0.1544657051563263,-0.39948585629463196,-11.568565368652344,2.489522933959961,1.063326358795166,0.07302100956439972,7.656174659729004,-0.23390203714370728,-1.362593650817871,34.394290924072266,-1.1324480772018433,-22.00570297241211,4.451475143432617,0.20702910423278809,0.5443408489227295,2.046222686767578,12.127914428710938,113.55006408691406,41.73888397216797,0.07806584239006042,-0.5768508315086365,3.246717691421509,0.889162540435791,1.1925718784332275],\"xaxis\":\"x\",\"y\":[1.1571767330169678,5.7017412185668945,7.610737323760986,0.8916666507720947,4.8373847007751465,1.7785927057266235,46.45403289794922,0.5449924468994141,21.049726486206055,1.0349254608154297,-0.31714606285095215,-52.33974075317383,0.9820430278778076,4.839449882507324,47.8994140625,0.53749680519104,0.4967542290687561,-0.28784704208374023,2.4397261142730713,-1.1725605726242065,15.658404350280762,0.018695950508117676,1.0311646461486816,6.623050689697266,0.8349913954734802,-4.7924113273620605,0.7494339346885681,45.23116683959961,-116.50763702392578,-0.4039337635040283,-23.885862350463867,0.19577330350875854,4.9776530265808105,-0.2831152081489563,0.7747552990913391,1.287631630897522,23.5820255279541,20.4627742767334,3.893364429473877,1.104870319366455,0.4614107608795166,17.760997772216797,0.7698020935058594,1.1114709377288818,1.084280014038086,-4.809770107269287,-0.025247693061828613,-8.1497802734375,50.08953094482422,2.7119197845458984,0.9957447648048401,0.33287495374679565,0.358500212430954,0.3397460877895355,2.4326162338256836,0.22994166612625122,0.2624538838863373,1.1487319469451904,0.9476128816604614,-1.1442084312438965,45.699119567871094,1.625914454460144,0.7922492027282715,0.9879045486450195,0.4521617591381073,-10.169418334960938,-32.40555953979492,0.9803023934364319,-7.768961429595947,-5.720823287963867,-1.0146007537841797,-0.40493956208229065,0.7983943223953247,0.16376149654388428,-0.3011462986469269,-2.330770492553711,-22.62374496459961,0.471823513507843,-18.919967651367188,3.848493814468384,-0.15742647647857666,1.788208246231079,0.6014584302902222,-0.9068812131881714,7.1715874671936035,0.41917356848716736,1.4147231578826904,-0.3398868441581726,0.9828704595565796,0.7053195238113403,-2.0385665893554688,-13.452642440795898,0.6354256868362427,-0.3171771466732025,-19.026378631591797,2.0923514366149902,3.605621814727783,0.03241032361984253,-0.7758407592773438,-0.6532660126686096,-16.25935935974121,-0.6785824298858643,3.3701579570770264,23.918699264526367,-1.8041696548461914,1.520601511001587,-0.8242395520210266,27.23552131652832,0.3408227562904358,-1.984445571899414,-91.09767150878906,0.7844284772872925,-1.976884365081787,0.2957441806793213,0.2116413116455078,1.0742040872573853,1.4948487281799316,-0.3718344569206238,9.566823959350586,19.42890739440918,-0.32574403285980225,-0.9171230792999268,7.382086753845215,-0.6843974590301514,0.5387216806411743],\"yaxis\":\"y\",\"type\":\"scatter\"}],                        {\"template\":{\"data\":{\"barpolar\":[{\"marker\":{\"line\":{\"color\":\"rgb(237,237,237)\",\"width\":0.5},\"pattern\":{\"fillmode\":\"overlay\",\"size\":10,\"solidity\":0.2}},\"type\":\"barpolar\"}],\"bar\":[{\"error_x\":{\"color\":\"rgb(51,51,51)\"},\"error_y\":{\"color\":\"rgb(51,51,51)\"},\"marker\":{\"line\":{\"color\":\"rgb(237,237,237)\",\"width\":0.5},\"pattern\":{\"fillmode\":\"overlay\",\"size\":10,\"solidity\":0.2}},\"type\":\"bar\"}],\"carpet\":[{\"aaxis\":{\"endlinecolor\":\"rgb(51,51,51)\",\"gridcolor\":\"white\",\"linecolor\":\"white\",\"minorgridcolor\":\"white\",\"startlinecolor\":\"rgb(51,51,51)\"},\"baxis\":{\"endlinecolor\":\"rgb(51,51,51)\",\"gridcolor\":\"white\",\"linecolor\":\"white\",\"minorgridcolor\":\"white\",\"startlinecolor\":\"rgb(51,51,51)\"},\"type\":\"carpet\"}],\"choropleth\":[{\"colorbar\":{\"outlinewidth\":0,\"tickcolor\":\"rgb(237,237,237)\",\"ticklen\":6,\"ticks\":\"inside\"},\"type\":\"choropleth\"}],\"contourcarpet\":[{\"colorbar\":{\"outlinewidth\":0,\"tickcolor\":\"rgb(237,237,237)\",\"ticklen\":6,\"ticks\":\"inside\"},\"type\":\"contourcarpet\"}],\"contour\":[{\"colorbar\":{\"outlinewidth\":0,\"tickcolor\":\"rgb(237,237,237)\",\"ticklen\":6,\"ticks\":\"inside\"},\"colorscale\":[[0,\"rgb(20,44,66)\"],[1,\"rgb(90,179,244)\"]],\"type\":\"contour\"}],\"heatmapgl\":[{\"colorbar\":{\"outlinewidth\":0,\"tickcolor\":\"rgb(237,237,237)\",\"ticklen\":6,\"ticks\":\"inside\"},\"colorscale\":[[0,\"rgb(20,44,66)\"],[1,\"rgb(90,179,244)\"]],\"type\":\"heatmapgl\"}],\"heatmap\":[{\"colorbar\":{\"outlinewidth\":0,\"tickcolor\":\"rgb(237,237,237)\",\"ticklen\":6,\"ticks\":\"inside\"},\"colorscale\":[[0,\"rgb(20,44,66)\"],[1,\"rgb(90,179,244)\"]],\"type\":\"heatmap\"}],\"histogram2dcontour\":[{\"colorbar\":{\"outlinewidth\":0,\"tickcolor\":\"rgb(237,237,237)\",\"ticklen\":6,\"ticks\":\"inside\"},\"colorscale\":[[0,\"rgb(20,44,66)\"],[1,\"rgb(90,179,244)\"]],\"type\":\"histogram2dcontour\"}],\"histogram2d\":[{\"colorbar\":{\"outlinewidth\":0,\"tickcolor\":\"rgb(237,237,237)\",\"ticklen\":6,\"ticks\":\"inside\"},\"colorscale\":[[0,\"rgb(20,44,66)\"],[1,\"rgb(90,179,244)\"]],\"type\":\"histogram2d\"}],\"histogram\":[{\"marker\":{\"pattern\":{\"fillmode\":\"overlay\",\"size\":10,\"solidity\":0.2}},\"type\":\"histogram\"}],\"mesh3d\":[{\"colorbar\":{\"outlinewidth\":0,\"tickcolor\":\"rgb(237,237,237)\",\"ticklen\":6,\"ticks\":\"inside\"},\"type\":\"mesh3d\"}],\"parcoords\":[{\"line\":{\"colorbar\":{\"outlinewidth\":0,\"tickcolor\":\"rgb(237,237,237)\",\"ticklen\":6,\"ticks\":\"inside\"}},\"type\":\"parcoords\"}],\"pie\":[{\"automargin\":true,\"type\":\"pie\"}],\"scatter3d\":[{\"line\":{\"colorbar\":{\"outlinewidth\":0,\"tickcolor\":\"rgb(237,237,237)\",\"ticklen\":6,\"ticks\":\"inside\"}},\"marker\":{\"colorbar\":{\"outlinewidth\":0,\"tickcolor\":\"rgb(237,237,237)\",\"ticklen\":6,\"ticks\":\"inside\"}},\"type\":\"scatter3d\"}],\"scattercarpet\":[{\"marker\":{\"colorbar\":{\"outlinewidth\":0,\"tickcolor\":\"rgb(237,237,237)\",\"ticklen\":6,\"ticks\":\"inside\"}},\"type\":\"scattercarpet\"}],\"scattergeo\":[{\"marker\":{\"colorbar\":{\"outlinewidth\":0,\"tickcolor\":\"rgb(237,237,237)\",\"ticklen\":6,\"ticks\":\"inside\"}},\"type\":\"scattergeo\"}],\"scattergl\":[{\"marker\":{\"colorbar\":{\"outlinewidth\":0,\"tickcolor\":\"rgb(237,237,237)\",\"ticklen\":6,\"ticks\":\"inside\"}},\"type\":\"scattergl\"}],\"scattermapbox\":[{\"marker\":{\"colorbar\":{\"outlinewidth\":0,\"tickcolor\":\"rgb(237,237,237)\",\"ticklen\":6,\"ticks\":\"inside\"}},\"type\":\"scattermapbox\"}],\"scatterpolargl\":[{\"marker\":{\"colorbar\":{\"outlinewidth\":0,\"tickcolor\":\"rgb(237,237,237)\",\"ticklen\":6,\"ticks\":\"inside\"}},\"type\":\"scatterpolargl\"}],\"scatterpolar\":[{\"marker\":{\"colorbar\":{\"outlinewidth\":0,\"tickcolor\":\"rgb(237,237,237)\",\"ticklen\":6,\"ticks\":\"inside\"}},\"type\":\"scatterpolar\"}],\"scatter\":[{\"fillpattern\":{\"fillmode\":\"overlay\",\"size\":10,\"solidity\":0.2},\"type\":\"scatter\"}],\"scatterternary\":[{\"marker\":{\"colorbar\":{\"outlinewidth\":0,\"tickcolor\":\"rgb(237,237,237)\",\"ticklen\":6,\"ticks\":\"inside\"}},\"type\":\"scatterternary\"}],\"surface\":[{\"colorbar\":{\"outlinewidth\":0,\"tickcolor\":\"rgb(237,237,237)\",\"ticklen\":6,\"ticks\":\"inside\"},\"colorscale\":[[0,\"rgb(20,44,66)\"],[1,\"rgb(90,179,244)\"]],\"type\":\"surface\"}],\"table\":[{\"cells\":{\"fill\":{\"color\":\"rgb(237,237,237)\"},\"line\":{\"color\":\"white\"}},\"header\":{\"fill\":{\"color\":\"rgb(217,217,217)\"},\"line\":{\"color\":\"white\"}},\"type\":\"table\"}]},\"layout\":{\"annotationdefaults\":{\"arrowhead\":0,\"arrowwidth\":1},\"autotypenumbers\":\"strict\",\"coloraxis\":{\"colorbar\":{\"outlinewidth\":0,\"tickcolor\":\"rgb(237,237,237)\",\"ticklen\":6,\"ticks\":\"inside\"}},\"colorscale\":{\"sequential\":[[0,\"rgb(20,44,66)\"],[1,\"rgb(90,179,244)\"]],\"sequentialminus\":[[0,\"rgb(20,44,66)\"],[1,\"rgb(90,179,244)\"]]},\"colorway\":[\"#F8766D\",\"#A3A500\",\"#00BF7D\",\"#00B0F6\",\"#E76BF3\"],\"font\":{\"color\":\"rgb(51,51,51)\"},\"geo\":{\"bgcolor\":\"white\",\"lakecolor\":\"white\",\"landcolor\":\"rgb(237,237,237)\",\"showlakes\":true,\"showland\":true,\"subunitcolor\":\"white\"},\"hoverlabel\":{\"align\":\"left\"},\"hovermode\":\"closest\",\"paper_bgcolor\":\"white\",\"plot_bgcolor\":\"rgb(237,237,237)\",\"polar\":{\"angularaxis\":{\"gridcolor\":\"white\",\"linecolor\":\"white\",\"showgrid\":true,\"tickcolor\":\"rgb(51,51,51)\",\"ticks\":\"outside\"},\"bgcolor\":\"rgb(237,237,237)\",\"radialaxis\":{\"gridcolor\":\"white\",\"linecolor\":\"white\",\"showgrid\":true,\"tickcolor\":\"rgb(51,51,51)\",\"ticks\":\"outside\"}},\"scene\":{\"xaxis\":{\"backgroundcolor\":\"rgb(237,237,237)\",\"gridcolor\":\"white\",\"gridwidth\":2,\"linecolor\":\"white\",\"showbackground\":true,\"showgrid\":true,\"tickcolor\":\"rgb(51,51,51)\",\"ticks\":\"outside\",\"zerolinecolor\":\"white\"},\"yaxis\":{\"backgroundcolor\":\"rgb(237,237,237)\",\"gridcolor\":\"white\",\"gridwidth\":2,\"linecolor\":\"white\",\"showbackground\":true,\"showgrid\":true,\"tickcolor\":\"rgb(51,51,51)\",\"ticks\":\"outside\",\"zerolinecolor\":\"white\"},\"zaxis\":{\"backgroundcolor\":\"rgb(237,237,237)\",\"gridcolor\":\"white\",\"gridwidth\":2,\"linecolor\":\"white\",\"showbackground\":true,\"showgrid\":true,\"tickcolor\":\"rgb(51,51,51)\",\"ticks\":\"outside\",\"zerolinecolor\":\"white\"}},\"shapedefaults\":{\"fillcolor\":\"black\",\"line\":{\"width\":0},\"opacity\":0.3},\"ternary\":{\"aaxis\":{\"gridcolor\":\"white\",\"linecolor\":\"white\",\"showgrid\":true,\"tickcolor\":\"rgb(51,51,51)\",\"ticks\":\"outside\"},\"baxis\":{\"gridcolor\":\"white\",\"linecolor\":\"white\",\"showgrid\":true,\"tickcolor\":\"rgb(51,51,51)\",\"ticks\":\"outside\"},\"bgcolor\":\"rgb(237,237,237)\",\"caxis\":{\"gridcolor\":\"white\",\"linecolor\":\"white\",\"showgrid\":true,\"tickcolor\":\"rgb(51,51,51)\",\"ticks\":\"outside\"}},\"xaxis\":{\"automargin\":true,\"gridcolor\":\"white\",\"linecolor\":\"white\",\"showgrid\":true,\"tickcolor\":\"rgb(51,51,51)\",\"ticks\":\"outside\",\"title\":{\"standoff\":15},\"zerolinecolor\":\"white\"},\"yaxis\":{\"automargin\":true,\"gridcolor\":\"white\",\"linecolor\":\"white\",\"showgrid\":true,\"tickcolor\":\"rgb(51,51,51)\",\"ticks\":\"outside\",\"title\":{\"standoff\":15},\"zerolinecolor\":\"white\"}}},\"xaxis\":{\"anchor\":\"y\",\"domain\":[0.0,1.0],\"title\":{\"text\":\"tSNE_y\"}},\"yaxis\":{\"anchor\":\"x\",\"domain\":[0.0,1.0],\"title\":{\"text\":\"tSNE_z\"}},\"legend\":{\"tracegroupgap\":0},\"title\":{\"text\":\"Graph 3: tSNE Visualisation in the y-z plane\"}},                        {\"responsive\": true}                    ).then(function(){\n",
       "                            \n",
       "var gd = document.getElementById('d4e3828f-3ff0-4bca-a078-d33dac5025ff');\n",
       "var x = new MutationObserver(function (mutations, observer) {{\n",
       "        var display = window.getComputedStyle(gd).display;\n",
       "        if (!display || display === 'none') {{\n",
       "            console.log([gd, 'removed!']);\n",
       "            Plotly.purge(gd);\n",
       "            observer.disconnect();\n",
       "        }}\n",
       "}});\n",
       "\n",
       "// Listen for the removal of the full notebook cells\n",
       "var notebookContainer = gd.closest('#notebook-container');\n",
       "if (notebookContainer) {{\n",
       "    x.observe(notebookContainer, {childList: true});\n",
       "}}\n",
       "\n",
       "// Listen for the clearing of the current output cell\n",
       "var outputEl = gd.closest('.output');\n",
       "if (outputEl) {{\n",
       "    x.observe(outputEl, {childList: true});\n",
       "}}\n",
       "\n",
       "                        })                };                });            </script>        </div>"
      ]
     },
     "metadata": {},
     "output_type": "display_data"
    }
   ],
   "source": [
    "fig3 = px.scatter(tSNE_df, x='tSNE_y', y='tSNE_z', hover_name=tSNE_df.index, template='ggplot2', opacity=1, title='Graph 3: tSNE Visualisation in the y-z plane')\n",
    "fig3"
   ]
  },
  {
   "cell_type": "markdown",
   "id": "cba6ee0d",
   "metadata": {},
   "source": [
    "The following is a side-by-side visualisation of the above graphs in order of the x-y plane (leftmost), x-z plane (central), and the y-z plane (rightmost). "
   ]
  },
  {
   "cell_type": "code",
   "execution_count": 48,
   "id": "806d7483",
   "metadata": {},
   "outputs": [
    {
     "data": {
      "image/png": "[encoded data removed]",
      "text/plain": [
       "<Figure size 1080x288 with 3 Axes>"
      ]
     },
     "metadata": {
      "needs_background": "light"
     },
     "output_type": "display_data"
    }
   ],
   "source": [
    "fig = plt.figure(figsize=(15,4))\n",
    "ax1 = fig.add_subplot(131)\n",
    "ax1.scatter(wide_tSNE[:,0], wide_tSNE[:,1])\n",
    "ax2 = fig.add_subplot(132)\n",
    "ax2.scatter(wide_tSNE[:,0], wide_tSNE[:,2])\n",
    "ax3 = fig.add_subplot(133)\n",
    "ax3.scatter(wide_tSNE[:,1], wide_tSNE[:,2])\n",
    "plt.show()"
   ]
  },
  {
   "cell_type": "markdown",
   "id": "bc2a0248",
   "metadata": {},
   "source": [
    "## 3.4 3D tSNE Visualisation\n",
    "Finally, we combine all the above results and generate a 3D visualisation of the tSNE manifold learning approach with respect to sequence diversity of the Bacillus taxonomy."
   ]
  },
  {
   "cell_type": "code",
   "execution_count": 49,
   "id": "952fbf9f",
   "metadata": {
    "scrolled": false
   },
   "outputs": [
    {
     "data": {
      "application/vnd.plotly.v1+json": {
       "config": {
        "plotlyServerURL": "https://plot.ly"
       },
       "data": [
        {
         "hovertemplate": "<b>%{hovertext}</b><br><br>X=%{x}<br>Y=%{y}<br>Z=%{z}<extra></extra>",
         "hovertext": [
          "sp_P40136_CYAA_BACAN:0-38",
          "sp_P15917_LEF_BACAN:0-38",
          "sp_P40406_NAGZ_BACSU:0-21",
          "sp_P39790_MPR_BACSU:0-39",
          "sp_P54602_YHCR_BACSU:0-54",
          "sp_O66037_PHYT_BACSD:0-23",
          "sp_O31097_PHYC_BACIU:0-23",
          "sp_P42094_PHYT_BACSU:0-31",
          "sp_P05656_SACC_BACSU:0-29",
          "sp_P00649_RN_BACIN:0-34",
          "sp_P48068_RN_BACPU:0-34",
          "sp_P00648_RNBR_BACAM:0-40",
          "sp_P71014_BSLA_BACSU:0-33",
          "sp_P94356_YXKC_BACSU:0-35",
          "sp_P29141_SUBV_BACSU:0-33",
          "sp_P40767_CWLO_BACSU:0-35",
          "sp_Q65NQ9_CWLO_BACLD:0-35",
          "sp_O07013_GANB_BACSU:0-22",
          "sp_P94449_PEL2_BACIU:0-29",
          "sp_O34819_PEL1_BACSU:0-29",
          "sp_P16397_SUBF_BACSU:0-35",
          "sp_O32083_LYTG_BACSU:0-38",
          "sp_O31737_YLQB_BACSU:0-32",
          "sp_Q45670_THES_BACSJ:0-29",
          "sp_Q07833_WAPA_BACSU:0-37",
          "sp_D4G3R4_WAPA_BACNB:0-50",
          "sp_G4NYJ6_WAPA_BACS4:0-37",
          "sp_P39899_NPRB_BACSU:0-33",
          "sp_P05806_NPRE_BACCE:0-32",
          "sp_P00800_THER_BACTH:0-33",
          "sp_Q59223_THER_BACSO:0-30",
          "sp_Q02113_CWBA_BACSU:0-30",
          "sp_P49051_SLAP1_BACAN:0-34",
          "sp_Q9ZES5_SLAP_BACTF:0-34",
          "sp_P94217_SLAP2_BACAN:0-34",
          "sp_P49052_SLAP_BACLI:0-34",
          "sp_Q9RMZ0_Y6545_BACAN:0-33",
          "sp_P94576_YWOF_BACSU:0-32",
          "sp_P00780_SUBC_BACLI:0-34",
          "sp_P00782_SUBT_BACAM:0-35",
          "sp_P04189_SUBT_BACSU:0-34",
          "sp_P35835_SUBN_BACNA:0-34",
          "sp_P00783_SUBT_BACSA:0-34",
          "sp_P20724_ELYA_BACYA:0-32",
          "sp_P21130_SACB_BACAM:0-34",
          "sp_P05655_SACB_BACSU:0-34",
          "sp_P96740_PGDS_BACSU:0-37",
          "sp_P16396_SUBE_BACSU:0-32",
          "sp_P39597_EFEN_BACSU:0-50",
          "sp_P54507_TASA_BACSU:0-32",
          "sp_P40949_TAPA_BACSU:0-48",
          "sp_P39632_BSLB_BACSU:0-35",
          "sp_P39844_DACC_BACSU:0-34",
          "sp_Q9AQS0_XANLY_BACGL:0-30",
          "sp_O34918_YOAJ_BACSU:0-30",
          "sp_P39116_PLY_BACSU:0-26",
          "sp_B1B6T1_PTLY_BACSP:0-32",
          "sp_Q65DC2_PTLY_BACLD:0-32",
          "sp_Q8GCB2_PTLY_BACLI:0-32",
          "sp_Q45070_XYNC_BACSU:0-37",
          "sp_Q6YK37_XYNC_BACIU:0-38",
          "sp_Q03091_BSN1_BACAM:0-31",
          "sp_P38422_DACF_BACSU:0-28",
          "sp_P08750_DACA_BACSU:0-36",
          "sp_O32150_BSN2_BACSU:0-33",
          "sp_O31411_SACC_BACL7:0-33",
          "sp_P42293_EABN2_BACSU:0-31",
          "sp_P94522_EABN1_BACSU:0-37",
          "sp_O07532_LYTF_BACSU:0-31",
          "sp_P54421_LYTE_BACSU:0-30",
          "sp_O34669_YOCH_BACSU:0-30",
          "sp_O34310_PLYC_BACSU:0-32",
          "sp_Q65EF5_PLYC_BACLD:0-33",
          "sp_Q45105_TACY_BACCE:0-33",
          "sp_O31803_YNCM_BACSU:0-47",
          "sp_P39848_LYTD_BACSU:0-32",
          "sp_Q02114_LYTC_BACSU:0-29",
          "sp_P25152_BSAP_BACSU:0-36",
          "sp_P80057_GSEP_BACLD:0-35",
          "sp_O32041_YRVJ_BACSU:0-32",
          "sp_P96729_YWSB_BACSU:0-35",
          "sp_P54484_YQGA_BACSU:0-33",
          "sp_O82833_GELLY_BACSP:0-40",
          "sp_P06278_AMY_BACLI:0-34",
          "sp_P00692_AMY_BACAM:0-36",
          "sp_P19571_AMT6_BACS7:0-38",
          "sp_P55278_MANB_BACIU:0-29",
          "sp_O05512_MANB_BACSU:0-31",
          "sp_P04957_GUB_BACSU:0-33",
          "sp_P80172_HBLA_BACCE:0-36",
          "sp_P28842_SUBT_BACS9:0-31",
          "sp_Q79F14_ESTB_BACSU:0-33",
          "sp_P37957_ESTA_BACSU:0-36",
          "sp_Q5U780_LIP_BACSP:0-33",
          "sp_P33377_PHL3_BACCE:0-32",
          "sp_P11889_PHL2_BACCE:0-32",
          "sp_P09599_PHL1_BACCE:0-32",
          "sp_P05618_CDGT_BACS0:0-32",
          "sp_P09121_CDGT_BACS3:0-32",
          "sp_P30921_CDGT_BAC11:0-32",
          "sp_P17692_CDGT_BACS8:0-32",
          "sp_P31747_CDGT_BACSS:0-39",
          "sp_P14014_CDGT_BACLI:0-39",
          "sp_P31746_CDGT_BACS2:0-34",
          "sp_P27036_CDGT_BACOH:0-34",
          "sp_O07921_CHIS_BACSU:0-40",
          "sp_P54423_WPRA_BACSU:0-36",
          "sp_P39824_BLAC_BACSU:0-39",
          "sp_P10424_BLA1_BACCE:0-40",
          "sp_P00691_AMY_BACSU:0-38",
          "sp_P06832_NPRE_BACAM:0-32",
          "sp_P68735_NPRE_BACSA:0-32",
          "sp_P68736_NPRE_BACSU:0-32",
          "sp_P42111_YXAL_BACSU:0-46",
          "sp_P13423_PAG_BACAN:0-34",
          "sp_P54422_GGT_BACSU:0-33",
          "sp_P63186_GGT_BACNA:0-33",
          "sp_Q45071_XYND_BACSU:0-31",
          "sp_P68569_BDBA_BACSU:0-31",
          "sp_P14262_PLC_BACCE:0-36",
          "sp_P08954_PLC_BACTU:0-36",
          "sp_P42983_NUCB_BACSU:0-31",
          "sp_O34313_NTPES_BACSU:0-40",
          "sp_O31526_YESW_BACSU:0-40",
          "sp_O34344_SDPC_BACSU:0-37"
         ],
         "legendgroup": "",
         "marker": {
          "color": "#F8766D",
          "opacity": 1,
          "symbol": "circle"
         },
         "mode": "markers",
         "name": "",
         "scene": "scene",
         "showlegend": false,
         "type": "scatter3d",
         "x": [
          0.3102003335952759,
          -7.829129219055176,
          25.110774993896484,
          1.0170388221740723,
          7.867526531219482,
          -1.844865322113037,
          -25.19788360595703,
          -0.6391956806182861,
          40.71402359008789,
          0.7963716983795166,
          3.1374385356903076,
          15.495223045349121,
          0.4457113444805145,
          -4.320050239562988,
          3.0727484226226807,
          -4.392207145690918,
          -0.6043649911880493,
          0.5019261240959167,
          191.57269287109375,
          -1.6286216974258423,
          -0.48148420453071594,
          -0.5329246520996094,
          0.43839582800865173,
          -97.8246078491211,
          -0.7696435451507568,
          -36.15134048461914,
          -0.28387391567230225,
          12.054643630981445,
          -14.207162857055664,
          0.8133351802825928,
          6.355664253234863,
          -0.7993149757385254,
          -36.75585174560547,
          -1.8842874765396118,
          2.136758327484131,
          -2.3921897411346436,
          45.241214752197266,
          4.323153018951416,
          -3.4372336864471436,
          -0.3986133933067322,
          0.49055853486061096,
          11.201374053955078,
          2.158200263977051,
          0.30175817012786865,
          1.1783108711242676,
          68.13174438476562,
          -0.9027776718139648,
          -5.547532081604004,
          6.246806621551514,
          -3.653719425201416,
          -0.10640265047550201,
          -2.2848968505859375,
          -1.151824951171875,
          -2.130204439163208,
          -1.7429054975509644,
          0.3183974027633667,
          -7.412571907043457,
          -2.1466073989868164,
          -11.837783813476562,
          -0.11073288321495056,
          -44.28568649291992,
          102.30921936035156,
          -0.210300475358963,
          -1.826519250869751,
          0.10526353120803833,
          -16.299449920654297,
          4.717464923858643,
          -1.2116613388061523,
          13.768292427062988,
          -4.893636226654053,
          -0.7654836177825928,
          -3.270808696746826,
          8.140363693237305,
          0.21258167922496796,
          -2.271455764770508,
          0.7378965616226196,
          -1.1282833814620972,
          -1.5425392389297485,
          -16.845073699951172,
          -21.83671760559082,
          0.4047592580318451,
          -1.9797306060791016,
          -0.4175049066543579,
          -1.303497076034546,
          -2.0596272945404053,
          0.9584529995918274,
          -0.431451678276062,
          18.886940002441406,
          0.1821696162223816,
          -0.45362380146980286,
          -5.247932434082031,
          -33.773651123046875,
          -1.5210634469985962,
          -1.216101050376892,
          6.168434143066406,
          -3.990363836288452,
          1.5877833366394043,
          -2.2386112213134766,
          -1.4015331268310547,
          -3.4789528846740723,
          3.493910312652588,
          -1.1542061567306519,
          2.0070066452026367,
          -32.10582733154297,
          0.7213885188102722,
          0.5131478905677795,
          -0.4093535542488098,
          -2.7791194915771484,
          1.5851688385009766,
          0.3139685392379761,
          -81.39982604980469,
          -1.5967437028884888,
          13.11640453338623,
          -0.5255230665206909,
          -0.92634117603302,
          3.546259880065918,
          -1.8466529846191406,
          -3.243098735809326,
          -44.77222442626953,
          -20.57500457763672,
          -1.349814772605896,
          0.05969903618097305,
          6.670801162719727,
          -1.2163277864456177,
          -1.0663089752197266
         ],
         "y": [
          -1.400858998298645,
          10.630584716796875,
          -22.562545776367188,
          0.38629043102264404,
          4.33057165145874,
          0.5663572549819946,
          2.8705198764801025,
          0.7091785669326782,
          -1.6498011350631714,
          -0.5062377452850342,
          0.3129812479019165,
          41.90669631958008,
          1.4208601713180542,
          20.92768669128418,
          -23.38849449157715,
          -4.540546894073486,
          0.354192316532135,
          1.367832899093628,
          86.48676300048828,
          1.7348746061325073,
          12.270476341247559,
          -0.052739471197128296,
          1.3651388883590698,
          45.83118438720703,
          -0.19271454215049744,
          -61.44113540649414,
          0.7395825386047363,
          -24.233003616333008,
          -86.30284881591797,
          1.237679362297058,
          23.362131118774414,
          0.2986149787902832,
          33.403526306152344,
          -0.7387185096740723,
          4.191659927368164,
          -0.10825541615486145,
          16.44626235961914,
          -16.418914794921875,
          11.799322128295898,
          1.172653317451477,
          1.4924960136413574,
          8.185345649719238,
          -25.73239517211914,
          1.3830105066299438,
          0.4289814233779907,
          -2.126152992248535,
          -0.7117729187011719,
          -0.11327813565731049,
          38.10084533691406,
          0.7002689838409424,
          0.6823762655258179,
          -0.7781188488006592,
          -0.11858674883842468,
          0.33350205421447754,
          0.9829885959625244,
          -0.09953244030475616,
          3.20904541015625,
          -1.7064976692199707,
          9.5008544921875,
          -0.37822622060775757,
          -19.39053726196289,
          -16.51557731628418,
          0.5739501714706421,
          -0.8646254539489746,
          1.2068041563034058,
          39.50121307373047,
          -13.512126922607422,
          0.2173669934272766,
          -146.09234619140625,
          0.17383599281311035,
          -0.8429529070854187,
          11.548450469970703,
          -26.681774139404297,
          0.17264431715011597,
          9.312421798706055,
          -0.34194767475128174,
          -17.105810165405273,
          -0.2129274606704712,
          -0.7804481387138367,
          -61.888206481933594,
          -0.05655330419540405,
          1.5042335987091064,
          -0.6911039352416992,
          -0.8608385324478149,
          -33.83024978637695,
          -0.20444315671920776,
          0.9949239492416382,
          -0.5616240501403809,
          1.4743237495422363,
          0.12498150765895844,
          8.408905029296875,
          0.3382185995578766,
          -0.8527861833572388,
          1.7408146858215332,
          8.744370460510254,
          -3.201539993286133,
          3.712472677230835,
          -0.3652219772338867,
          -1.6650936603546143,
          0.08805739879608154,
          5.5683794021606445,
          0.1544657051563263,
          -0.39948585629463196,
          -11.568565368652344,
          2.489522933959961,
          1.063326358795166,
          0.07302100956439972,
          7.656174659729004,
          -0.23390203714370728,
          -1.362593650817871,
          34.394290924072266,
          -1.1324480772018433,
          -22.00570297241211,
          4.451475143432617,
          0.20702910423278809,
          0.5443408489227295,
          2.046222686767578,
          12.127914428710938,
          113.55006408691406,
          41.73888397216797,
          0.07806584239006042,
          -0.5768508315086365,
          3.246717691421509,
          0.889162540435791,
          1.1925718784332275
         ],
         "z": [
          1.1571767330169678,
          5.7017412185668945,
          7.610737323760986,
          0.8916666507720947,
          4.8373847007751465,
          1.7785927057266235,
          46.45403289794922,
          0.5449924468994141,
          21.049726486206055,
          1.0349254608154297,
          -0.31714606285095215,
          -52.33974075317383,
          0.9820430278778076,
          4.839449882507324,
          47.8994140625,
          0.53749680519104,
          0.4967542290687561,
          -0.28784704208374023,
          2.4397261142730713,
          -1.1725605726242065,
          15.658404350280762,
          0.018695950508117676,
          1.0311646461486816,
          6.623050689697266,
          0.8349913954734802,
          -4.7924113273620605,
          0.7494339346885681,
          45.23116683959961,
          -116.50763702392578,
          -0.4039337635040283,
          -23.885862350463867,
          0.19577330350875854,
          4.9776530265808105,
          -0.2831152081489563,
          0.7747552990913391,
          1.287631630897522,
          23.5820255279541,
          20.4627742767334,
          3.893364429473877,
          1.104870319366455,
          0.4614107608795166,
          17.760997772216797,
          0.7698020935058594,
          1.1114709377288818,
          1.084280014038086,
          -4.809770107269287,
          -0.025247693061828613,
          -8.1497802734375,
          50.08953094482422,
          2.7119197845458984,
          0.9957447648048401,
          0.33287495374679565,
          0.358500212430954,
          0.3397460877895355,
          2.4326162338256836,
          0.22994166612625122,
          0.2624538838863373,
          1.1487319469451904,
          0.9476128816604614,
          -1.1442084312438965,
          45.699119567871094,
          1.625914454460144,
          0.7922492027282715,
          0.9879045486450195,
          0.4521617591381073,
          -10.169418334960938,
          -32.40555953979492,
          0.9803023934364319,
          -7.768961429595947,
          -5.720823287963867,
          -1.0146007537841797,
          -0.40493956208229065,
          0.7983943223953247,
          0.16376149654388428,
          -0.3011462986469269,
          -2.330770492553711,
          -22.62374496459961,
          0.471823513507843,
          -18.919967651367188,
          3.848493814468384,
          -0.15742647647857666,
          1.788208246231079,
          0.6014584302902222,
          -0.9068812131881714,
          7.1715874671936035,
          0.41917356848716736,
          1.4147231578826904,
          -0.3398868441581726,
          0.9828704595565796,
          0.7053195238113403,
          -2.0385665893554688,
          -13.452642440795898,
          0.6354256868362427,
          -0.3171771466732025,
          -19.026378631591797,
          2.0923514366149902,
          3.605621814727783,
          0.03241032361984253,
          -0.7758407592773438,
          -0.6532660126686096,
          -16.25935935974121,
          -0.6785824298858643,
          3.3701579570770264,
          23.918699264526367,
          -1.8041696548461914,
          1.520601511001587,
          -0.8242395520210266,
          27.23552131652832,
          0.3408227562904358,
          -1.984445571899414,
          -91.09767150878906,
          0.7844284772872925,
          -1.976884365081787,
          0.2957441806793213,
          0.2116413116455078,
          1.0742040872573853,
          1.4948487281799316,
          -0.3718344569206238,
          9.566823959350586,
          19.42890739440918,
          -0.32574403285980225,
          -0.9171230792999268,
          7.382086753845215,
          -0.6843974590301514,
          0.5387216806411743
         ]
        }
       ],
       "layout": {
        "legend": {
         "tracegroupgap": 0
        },
        "scene": {
         "domain": {
          "x": [
           0,
           1
          ],
          "y": [
           0,
           1
          ]
         },
         "xaxis": {
          "title": {
           "text": "X"
          }
         },
         "yaxis": {
          "title": {
           "text": "Y"
          }
         },
         "zaxis": {
          "title": {
           "text": "Z"
          }
         }
        },
        "template": {
         "data": {
          "bar": [
           {
            "error_x": {
             "color": "rgb(51,51,51)"
            },
            "error_y": {
             "color": "rgb(51,51,51)"
            },
            "marker": {
             "line": {
              "color": "rgb(237,237,237)",
              "width": 0.5
             },
             "pattern": {
              "fillmode": "overlay",
              "size": 10,
              "solidity": 0.2
             }
            },
            "type": "bar"
           }
          ],
          "barpolar": [
           {
            "marker": {
             "line": {
              "color": "rgb(237,237,237)",
              "width": 0.5
             },
             "pattern": {
              "fillmode": "overlay",
              "size": 10,
              "solidity": 0.2
             }
            },
            "type": "barpolar"
           }
          ],
          "carpet": [
           {
            "aaxis": {
             "endlinecolor": "rgb(51,51,51)",
             "gridcolor": "white",
             "linecolor": "white",
             "minorgridcolor": "white",
             "startlinecolor": "rgb(51,51,51)"
            },
            "baxis": {
             "endlinecolor": "rgb(51,51,51)",
             "gridcolor": "white",
             "linecolor": "white",
             "minorgridcolor": "white",
             "startlinecolor": "rgb(51,51,51)"
            },
            "type": "carpet"
           }
          ],
          "choropleth": [
           {
            "colorbar": {
             "outlinewidth": 0,
             "tickcolor": "rgb(237,237,237)",
             "ticklen": 6,
             "ticks": "inside"
            },
            "type": "choropleth"
           }
          ],
          "contour": [
           {
            "colorbar": {
             "outlinewidth": 0,
             "tickcolor": "rgb(237,237,237)",
             "ticklen": 6,
             "ticks": "inside"
            },
            "colorscale": [
             [
              0,
              "rgb(20,44,66)"
             ],
             [
              1,
              "rgb(90,179,244)"
             ]
            ],
            "type": "contour"
           }
          ],
          "contourcarpet": [
           {
            "colorbar": {
             "outlinewidth": 0,
             "tickcolor": "rgb(237,237,237)",
             "ticklen": 6,
             "ticks": "inside"
            },
            "type": "contourcarpet"
           }
          ],
          "heatmap": [
           {
            "colorbar": {
             "outlinewidth": 0,
             "tickcolor": "rgb(237,237,237)",
             "ticklen": 6,
             "ticks": "inside"
            },
            "colorscale": [
             [
              0,
              "rgb(20,44,66)"
             ],
             [
              1,
              "rgb(90,179,244)"
             ]
            ],
            "type": "heatmap"
           }
          ],
          "heatmapgl": [
           {
            "colorbar": {
             "outlinewidth": 0,
             "tickcolor": "rgb(237,237,237)",
             "ticklen": 6,
             "ticks": "inside"
            },
            "colorscale": [
             [
              0,
              "rgb(20,44,66)"
             ],
             [
              1,
              "rgb(90,179,244)"
             ]
            ],
            "type": "heatmapgl"
           }
          ],
          "histogram": [
           {
            "marker": {
             "pattern": {
              "fillmode": "overlay",
              "size": 10,
              "solidity": 0.2
             }
            },
            "type": "histogram"
           }
          ],
          "histogram2d": [
           {
            "colorbar": {
             "outlinewidth": 0,
             "tickcolor": "rgb(237,237,237)",
             "ticklen": 6,
             "ticks": "inside"
            },
            "colorscale": [
             [
              0,
              "rgb(20,44,66)"
             ],
             [
              1,
              "rgb(90,179,244)"
             ]
            ],
            "type": "histogram2d"
           }
          ],
          "histogram2dcontour": [
           {
            "colorbar": {
             "outlinewidth": 0,
             "tickcolor": "rgb(237,237,237)",
             "ticklen": 6,
             "ticks": "inside"
            },
            "colorscale": [
             [
              0,
              "rgb(20,44,66)"
             ],
             [
              1,
              "rgb(90,179,244)"
             ]
            ],
            "type": "histogram2dcontour"
           }
          ],
          "mesh3d": [
           {
            "colorbar": {
             "outlinewidth": 0,
             "tickcolor": "rgb(237,237,237)",
             "ticklen": 6,
             "ticks": "inside"
            },
            "type": "mesh3d"
           }
          ],
          "parcoords": [
           {
            "line": {
             "colorbar": {
              "outlinewidth": 0,
              "tickcolor": "rgb(237,237,237)",
              "ticklen": 6,
              "ticks": "inside"
             }
            },
            "type": "parcoords"
           }
          ],
          "pie": [
           {
            "automargin": true,
            "type": "pie"
           }
          ],
          "scatter": [
           {
            "fillpattern": {
             "fillmode": "overlay",
             "size": 10,
             "solidity": 0.2
            },
            "type": "scatter"
           }
          ],
          "scatter3d": [
           {
            "line": {
             "colorbar": {
              "outlinewidth": 0,
              "tickcolor": "rgb(237,237,237)",
              "ticklen": 6,
              "ticks": "inside"
             }
            },
            "marker": {
             "colorbar": {
              "outlinewidth": 0,
              "tickcolor": "rgb(237,237,237)",
              "ticklen": 6,
              "ticks": "inside"
             }
            },
            "type": "scatter3d"
           }
          ],
          "scattercarpet": [
           {
            "marker": {
             "colorbar": {
              "outlinewidth": 0,
              "tickcolor": "rgb(237,237,237)",
              "ticklen": 6,
              "ticks": "inside"
             }
            },
            "type": "scattercarpet"
           }
          ],
          "scattergeo": [
           {
            "marker": {
             "colorbar": {
              "outlinewidth": 0,
              "tickcolor": "rgb(237,237,237)",
              "ticklen": 6,
              "ticks": "inside"
             }
            },
            "type": "scattergeo"
           }
          ],
          "scattergl": [
           {
            "marker": {
             "colorbar": {
              "outlinewidth": 0,
              "tickcolor": "rgb(237,237,237)",
              "ticklen": 6,
              "ticks": "inside"
             }
            },
            "type": "scattergl"
           }
          ],
          "scattermapbox": [
           {
            "marker": {
             "colorbar": {
              "outlinewidth": 0,
              "tickcolor": "rgb(237,237,237)",
              "ticklen": 6,
              "ticks": "inside"
             }
            },
            "type": "scattermapbox"
           }
          ],
          "scatterpolar": [
           {
            "marker": {
             "colorbar": {
              "outlinewidth": 0,
              "tickcolor": "rgb(237,237,237)",
              "ticklen": 6,
              "ticks": "inside"
             }
            },
            "type": "scatterpolar"
           }
          ],
          "scatterpolargl": [
           {
            "marker": {
             "colorbar": {
              "outlinewidth": 0,
              "tickcolor": "rgb(237,237,237)",
              "ticklen": 6,
              "ticks": "inside"
             }
            },
            "type": "scatterpolargl"
           }
          ],
          "scatterternary": [
           {
            "marker": {
             "colorbar": {
              "outlinewidth": 0,
              "tickcolor": "rgb(237,237,237)",
              "ticklen": 6,
              "ticks": "inside"
             }
            },
            "type": "scatterternary"
           }
          ],
          "surface": [
           {
            "colorbar": {
             "outlinewidth": 0,
             "tickcolor": "rgb(237,237,237)",
             "ticklen": 6,
             "ticks": "inside"
            },
            "colorscale": [
             [
              0,
              "rgb(20,44,66)"
             ],
             [
              1,
              "rgb(90,179,244)"
             ]
            ],
            "type": "surface"
           }
          ],
          "table": [
           {
            "cells": {
             "fill": {
              "color": "rgb(237,237,237)"
             },
             "line": {
              "color": "white"
             }
            },
            "header": {
             "fill": {
              "color": "rgb(217,217,217)"
             },
             "line": {
              "color": "white"
             }
            },
            "type": "table"
           }
          ]
         },
         "layout": {
          "annotationdefaults": {
           "arrowhead": 0,
           "arrowwidth": 1
          },
          "autotypenumbers": "strict",
          "coloraxis": {
           "colorbar": {
            "outlinewidth": 0,
            "tickcolor": "rgb(237,237,237)",
            "ticklen": 6,
            "ticks": "inside"
           }
          },
          "colorscale": {
           "sequential": [
            [
             0,
             "rgb(20,44,66)"
            ],
            [
             1,
             "rgb(90,179,244)"
            ]
           ],
           "sequentialminus": [
            [
             0,
             "rgb(20,44,66)"
            ],
            [
             1,
             "rgb(90,179,244)"
            ]
           ]
          },
          "colorway": [
           "#F8766D",
           "#A3A500",
           "#00BF7D",
           "#00B0F6",
           "#E76BF3"
          ],
          "font": {
           "color": "rgb(51,51,51)"
          },
          "geo": {
           "bgcolor": "white",
           "lakecolor": "white",
           "landcolor": "rgb(237,237,237)",
           "showlakes": true,
           "showland": true,
           "subunitcolor": "white"
          },
          "hoverlabel": {
           "align": "left"
          },
          "hovermode": "closest",
          "paper_bgcolor": "white",
          "plot_bgcolor": "rgb(237,237,237)",
          "polar": {
           "angularaxis": {
            "gridcolor": "white",
            "linecolor": "white",
            "showgrid": true,
            "tickcolor": "rgb(51,51,51)",
            "ticks": "outside"
           },
           "bgcolor": "rgb(237,237,237)",
           "radialaxis": {
            "gridcolor": "white",
            "linecolor": "white",
            "showgrid": true,
            "tickcolor": "rgb(51,51,51)",
            "ticks": "outside"
           }
          },
          "scene": {
           "xaxis": {
            "backgroundcolor": "rgb(237,237,237)",
            "gridcolor": "white",
            "gridwidth": 2,
            "linecolor": "white",
            "showbackground": true,
            "showgrid": true,
            "tickcolor": "rgb(51,51,51)",
            "ticks": "outside",
            "zerolinecolor": "white"
           },
           "yaxis": {
            "backgroundcolor": "rgb(237,237,237)",
            "gridcolor": "white",
            "gridwidth": 2,
            "linecolor": "white",
            "showbackground": true,
            "showgrid": true,
            "tickcolor": "rgb(51,51,51)",
            "ticks": "outside",
            "zerolinecolor": "white"
           },
           "zaxis": {
            "backgroundcolor": "rgb(237,237,237)",
            "gridcolor": "white",
            "gridwidth": 2,
            "linecolor": "white",
            "showbackground": true,
            "showgrid": true,
            "tickcolor": "rgb(51,51,51)",
            "ticks": "outside",
            "zerolinecolor": "white"
           }
          },
          "shapedefaults": {
           "fillcolor": "black",
           "line": {
            "width": 0
           },
           "opacity": 0.3
          },
          "ternary": {
           "aaxis": {
            "gridcolor": "white",
            "linecolor": "white",
            "showgrid": true,
            "tickcolor": "rgb(51,51,51)",
            "ticks": "outside"
           },
           "baxis": {
            "gridcolor": "white",
            "linecolor": "white",
            "showgrid": true,
            "tickcolor": "rgb(51,51,51)",
            "ticks": "outside"
           },
           "bgcolor": "rgb(237,237,237)",
           "caxis": {
            "gridcolor": "white",
            "linecolor": "white",
            "showgrid": true,
            "tickcolor": "rgb(51,51,51)",
            "ticks": "outside"
           }
          },
          "xaxis": {
           "automargin": true,
           "gridcolor": "white",
           "linecolor": "white",
           "showgrid": true,
           "tickcolor": "rgb(51,51,51)",
           "ticks": "outside",
           "title": {
            "standoff": 15
           },
           "zerolinecolor": "white"
          },
          "yaxis": {
           "automargin": true,
           "gridcolor": "white",
           "linecolor": "white",
           "showgrid": true,
           "tickcolor": "rgb(51,51,51)",
           "ticks": "outside",
           "title": {
            "standoff": 15
           },
           "zerolinecolor": "white"
          }
         }
        },
        "title": {
         "text": "Visualising sequence diversity of Bacillus taxonomy using tSNE manifold learning (PAM distance embedded)"
        }
       }
      },
      "text/html": [
       "<div>                            <div id=\"9c87de0e-b92a-4608-a8df-917357d4e991\" class=\"plotly-graph-div\" style=\"height:525px; width:100%;\"></div>            <script type=\"text/javascript\">                require([\"plotly\"], function(Plotly) {                    window.PLOTLYENV=window.PLOTLYENV || {};                                    if (document.getElementById(\"9c87de0e-b92a-4608-a8df-917357d4e991\")) {                    Plotly.newPlot(                        \"9c87de0e-b92a-4608-a8df-917357d4e991\",                        [{\"hovertemplate\":\"<b>%{hovertext}</b><br><br>X=%{x}<br>Y=%{y}<br>Z=%{z}<extra></extra>\",\"hovertext\":[\"sp_P40136_CYAA_BACAN:0-38\",\"sp_P15917_LEF_BACAN:0-38\",\"sp_P40406_NAGZ_BACSU:0-21\",\"sp_P39790_MPR_BACSU:0-39\",\"sp_P54602_YHCR_BACSU:0-54\",\"sp_O66037_PHYT_BACSD:0-23\",\"sp_O31097_PHYC_BACIU:0-23\",\"sp_P42094_PHYT_BACSU:0-31\",\"sp_P05656_SACC_BACSU:0-29\",\"sp_P00649_RN_BACIN:0-34\",\"sp_P48068_RN_BACPU:0-34\",\"sp_P00648_RNBR_BACAM:0-40\",\"sp_P71014_BSLA_BACSU:0-33\",\"sp_P94356_YXKC_BACSU:0-35\",\"sp_P29141_SUBV_BACSU:0-33\",\"sp_P40767_CWLO_BACSU:0-35\",\"sp_Q65NQ9_CWLO_BACLD:0-35\",\"sp_O07013_GANB_BACSU:0-22\",\"sp_P94449_PEL2_BACIU:0-29\",\"sp_O34819_PEL1_BACSU:0-29\",\"sp_P16397_SUBF_BACSU:0-35\",\"sp_O32083_LYTG_BACSU:0-38\",\"sp_O31737_YLQB_BACSU:0-32\",\"sp_Q45670_THES_BACSJ:0-29\",\"sp_Q07833_WAPA_BACSU:0-37\",\"sp_D4G3R4_WAPA_BACNB:0-50\",\"sp_G4NYJ6_WAPA_BACS4:0-37\",\"sp_P39899_NPRB_BACSU:0-33\",\"sp_P05806_NPRE_BACCE:0-32\",\"sp_P00800_THER_BACTH:0-33\",\"sp_Q59223_THER_BACSO:0-30\",\"sp_Q02113_CWBA_BACSU:0-30\",\"sp_P49051_SLAP1_BACAN:0-34\",\"sp_Q9ZES5_SLAP_BACTF:0-34\",\"sp_P94217_SLAP2_BACAN:0-34\",\"sp_P49052_SLAP_BACLI:0-34\",\"sp_Q9RMZ0_Y6545_BACAN:0-33\",\"sp_P94576_YWOF_BACSU:0-32\",\"sp_P00780_SUBC_BACLI:0-34\",\"sp_P00782_SUBT_BACAM:0-35\",\"sp_P04189_SUBT_BACSU:0-34\",\"sp_P35835_SUBN_BACNA:0-34\",\"sp_P00783_SUBT_BACSA:0-34\",\"sp_P20724_ELYA_BACYA:0-32\",\"sp_P21130_SACB_BACAM:0-34\",\"sp_P05655_SACB_BACSU:0-34\",\"sp_P96740_PGDS_BACSU:0-37\",\"sp_P16396_SUBE_BACSU:0-32\",\"sp_P39597_EFEN_BACSU:0-50\",\"sp_P54507_TASA_BACSU:0-32\",\"sp_P40949_TAPA_BACSU:0-48\",\"sp_P39632_BSLB_BACSU:0-35\",\"sp_P39844_DACC_BACSU:0-34\",\"sp_Q9AQS0_XANLY_BACGL:0-30\",\"sp_O34918_YOAJ_BACSU:0-30\",\"sp_P39116_PLY_BACSU:0-26\",\"sp_B1B6T1_PTLY_BACSP:0-32\",\"sp_Q65DC2_PTLY_BACLD:0-32\",\"sp_Q8GCB2_PTLY_BACLI:0-32\",\"sp_Q45070_XYNC_BACSU:0-37\",\"sp_Q6YK37_XYNC_BACIU:0-38\",\"sp_Q03091_BSN1_BACAM:0-31\",\"sp_P38422_DACF_BACSU:0-28\",\"sp_P08750_DACA_BACSU:0-36\",\"sp_O32150_BSN2_BACSU:0-33\",\"sp_O31411_SACC_BACL7:0-33\",\"sp_P42293_EABN2_BACSU:0-31\",\"sp_P94522_EABN1_BACSU:0-37\",\"sp_O07532_LYTF_BACSU:0-31\",\"sp_P54421_LYTE_BACSU:0-30\",\"sp_O34669_YOCH_BACSU:0-30\",\"sp_O34310_PLYC_BACSU:0-32\",\"sp_Q65EF5_PLYC_BACLD:0-33\",\"sp_Q45105_TACY_BACCE:0-33\",\"sp_O31803_YNCM_BACSU:0-47\",\"sp_P39848_LYTD_BACSU:0-32\",\"sp_Q02114_LYTC_BACSU:0-29\",\"sp_P25152_BSAP_BACSU:0-36\",\"sp_P80057_GSEP_BACLD:0-35\",\"sp_O32041_YRVJ_BACSU:0-32\",\"sp_P96729_YWSB_BACSU:0-35\",\"sp_P54484_YQGA_BACSU:0-33\",\"sp_O82833_GELLY_BACSP:0-40\",\"sp_P06278_AMY_BACLI:0-34\",\"sp_P00692_AMY_BACAM:0-36\",\"sp_P19571_AMT6_BACS7:0-38\",\"sp_P55278_MANB_BACIU:0-29\",\"sp_O05512_MANB_BACSU:0-31\",\"sp_P04957_GUB_BACSU:0-33\",\"sp_P80172_HBLA_BACCE:0-36\",\"sp_P28842_SUBT_BACS9:0-31\",\"sp_Q79F14_ESTB_BACSU:0-33\",\"sp_P37957_ESTA_BACSU:0-36\",\"sp_Q5U780_LIP_BACSP:0-33\",\"sp_P33377_PHL3_BACCE:0-32\",\"sp_P11889_PHL2_BACCE:0-32\",\"sp_P09599_PHL1_BACCE:0-32\",\"sp_P05618_CDGT_BACS0:0-32\",\"sp_P09121_CDGT_BACS3:0-32\",\"sp_P30921_CDGT_BAC11:0-32\",\"sp_P17692_CDGT_BACS8:0-32\",\"sp_P31747_CDGT_BACSS:0-39\",\"sp_P14014_CDGT_BACLI:0-39\",\"sp_P31746_CDGT_BACS2:0-34\",\"sp_P27036_CDGT_BACOH:0-34\",\"sp_O07921_CHIS_BACSU:0-40\",\"sp_P54423_WPRA_BACSU:0-36\",\"sp_P39824_BLAC_BACSU:0-39\",\"sp_P10424_BLA1_BACCE:0-40\",\"sp_P00691_AMY_BACSU:0-38\",\"sp_P06832_NPRE_BACAM:0-32\",\"sp_P68735_NPRE_BACSA:0-32\",\"sp_P68736_NPRE_BACSU:0-32\",\"sp_P42111_YXAL_BACSU:0-46\",\"sp_P13423_PAG_BACAN:0-34\",\"sp_P54422_GGT_BACSU:0-33\",\"sp_P63186_GGT_BACNA:0-33\",\"sp_Q45071_XYND_BACSU:0-31\",\"sp_P68569_BDBA_BACSU:0-31\",\"sp_P14262_PLC_BACCE:0-36\",\"sp_P08954_PLC_BACTU:0-36\",\"sp_P42983_NUCB_BACSU:0-31\",\"sp_O34313_NTPES_BACSU:0-40\",\"sp_O31526_YESW_BACSU:0-40\",\"sp_O34344_SDPC_BACSU:0-37\"],\"legendgroup\":\"\",\"marker\":{\"color\":\"#F8766D\",\"opacity\":1,\"symbol\":\"circle\"},\"mode\":\"markers\",\"name\":\"\",\"scene\":\"scene\",\"showlegend\":false,\"x\":[0.3102003335952759,-7.829129219055176,25.110774993896484,1.0170388221740723,7.867526531219482,-1.844865322113037,-25.19788360595703,-0.6391956806182861,40.71402359008789,0.7963716983795166,3.1374385356903076,15.495223045349121,0.4457113444805145,-4.320050239562988,3.0727484226226807,-4.392207145690918,-0.6043649911880493,0.5019261240959167,191.57269287109375,-1.6286216974258423,-0.48148420453071594,-0.5329246520996094,0.43839582800865173,-97.8246078491211,-0.7696435451507568,-36.15134048461914,-0.28387391567230225,12.054643630981445,-14.207162857055664,0.8133351802825928,6.355664253234863,-0.7993149757385254,-36.75585174560547,-1.8842874765396118,2.136758327484131,-2.3921897411346436,45.241214752197266,4.323153018951416,-3.4372336864471436,-0.3986133933067322,0.49055853486061096,11.201374053955078,2.158200263977051,0.30175817012786865,1.1783108711242676,68.13174438476562,-0.9027776718139648,-5.547532081604004,6.246806621551514,-3.653719425201416,-0.10640265047550201,-2.2848968505859375,-1.151824951171875,-2.130204439163208,-1.7429054975509644,0.3183974027633667,-7.412571907043457,-2.1466073989868164,-11.837783813476562,-0.11073288321495056,-44.28568649291992,102.30921936035156,-0.210300475358963,-1.826519250869751,0.10526353120803833,-16.299449920654297,4.717464923858643,-1.2116613388061523,13.768292427062988,-4.893636226654053,-0.7654836177825928,-3.270808696746826,8.140363693237305,0.21258167922496796,-2.271455764770508,0.7378965616226196,-1.1282833814620972,-1.5425392389297485,-16.845073699951172,-21.83671760559082,0.4047592580318451,-1.9797306060791016,-0.4175049066543579,-1.303497076034546,-2.0596272945404053,0.9584529995918274,-0.431451678276062,18.886940002441406,0.1821696162223816,-0.45362380146980286,-5.247932434082031,-33.773651123046875,-1.5210634469985962,-1.216101050376892,6.168434143066406,-3.990363836288452,1.5877833366394043,-2.2386112213134766,-1.4015331268310547,-3.4789528846740723,3.493910312652588,-1.1542061567306519,2.0070066452026367,-32.10582733154297,0.7213885188102722,0.5131478905677795,-0.4093535542488098,-2.7791194915771484,1.5851688385009766,0.3139685392379761,-81.39982604980469,-1.5967437028884888,13.11640453338623,-0.5255230665206909,-0.92634117603302,3.546259880065918,-1.8466529846191406,-3.243098735809326,-44.77222442626953,-20.57500457763672,-1.349814772605896,0.05969903618097305,6.670801162719727,-1.2163277864456177,-1.0663089752197266],\"y\":[-1.400858998298645,10.630584716796875,-22.562545776367188,0.38629043102264404,4.33057165145874,0.5663572549819946,2.8705198764801025,0.7091785669326782,-1.6498011350631714,-0.5062377452850342,0.3129812479019165,41.90669631958008,1.4208601713180542,20.92768669128418,-23.38849449157715,-4.540546894073486,0.354192316532135,1.367832899093628,86.48676300048828,1.7348746061325073,12.270476341247559,-0.052739471197128296,1.3651388883590698,45.83118438720703,-0.19271454215049744,-61.44113540649414,0.7395825386047363,-24.233003616333008,-86.30284881591797,1.237679362297058,23.362131118774414,0.2986149787902832,33.403526306152344,-0.7387185096740723,4.191659927368164,-0.10825541615486145,16.44626235961914,-16.418914794921875,11.799322128295898,1.172653317451477,1.4924960136413574,8.185345649719238,-25.73239517211914,1.3830105066299438,0.4289814233779907,-2.126152992248535,-0.7117729187011719,-0.11327813565731049,38.10084533691406,0.7002689838409424,0.6823762655258179,-0.7781188488006592,-0.11858674883842468,0.33350205421447754,0.9829885959625244,-0.09953244030475616,3.20904541015625,-1.7064976692199707,9.5008544921875,-0.37822622060775757,-19.39053726196289,-16.51557731628418,0.5739501714706421,-0.8646254539489746,1.2068041563034058,39.50121307373047,-13.512126922607422,0.2173669934272766,-146.09234619140625,0.17383599281311035,-0.8429529070854187,11.548450469970703,-26.681774139404297,0.17264431715011597,9.312421798706055,-0.34194767475128174,-17.105810165405273,-0.2129274606704712,-0.7804481387138367,-61.888206481933594,-0.05655330419540405,1.5042335987091064,-0.6911039352416992,-0.8608385324478149,-33.83024978637695,-0.20444315671920776,0.9949239492416382,-0.5616240501403809,1.4743237495422363,0.12498150765895844,8.408905029296875,0.3382185995578766,-0.8527861833572388,1.7408146858215332,8.744370460510254,-3.201539993286133,3.712472677230835,-0.3652219772338867,-1.6650936603546143,0.08805739879608154,5.5683794021606445,0.1544657051563263,-0.39948585629463196,-11.568565368652344,2.489522933959961,1.063326358795166,0.07302100956439972,7.656174659729004,-0.23390203714370728,-1.362593650817871,34.394290924072266,-1.1324480772018433,-22.00570297241211,4.451475143432617,0.20702910423278809,0.5443408489227295,2.046222686767578,12.127914428710938,113.55006408691406,41.73888397216797,0.07806584239006042,-0.5768508315086365,3.246717691421509,0.889162540435791,1.1925718784332275],\"z\":[1.1571767330169678,5.7017412185668945,7.610737323760986,0.8916666507720947,4.8373847007751465,1.7785927057266235,46.45403289794922,0.5449924468994141,21.049726486206055,1.0349254608154297,-0.31714606285095215,-52.33974075317383,0.9820430278778076,4.839449882507324,47.8994140625,0.53749680519104,0.4967542290687561,-0.28784704208374023,2.4397261142730713,-1.1725605726242065,15.658404350280762,0.018695950508117676,1.0311646461486816,6.623050689697266,0.8349913954734802,-4.7924113273620605,0.7494339346885681,45.23116683959961,-116.50763702392578,-0.4039337635040283,-23.885862350463867,0.19577330350875854,4.9776530265808105,-0.2831152081489563,0.7747552990913391,1.287631630897522,23.5820255279541,20.4627742767334,3.893364429473877,1.104870319366455,0.4614107608795166,17.760997772216797,0.7698020935058594,1.1114709377288818,1.084280014038086,-4.809770107269287,-0.025247693061828613,-8.1497802734375,50.08953094482422,2.7119197845458984,0.9957447648048401,0.33287495374679565,0.358500212430954,0.3397460877895355,2.4326162338256836,0.22994166612625122,0.2624538838863373,1.1487319469451904,0.9476128816604614,-1.1442084312438965,45.699119567871094,1.625914454460144,0.7922492027282715,0.9879045486450195,0.4521617591381073,-10.169418334960938,-32.40555953979492,0.9803023934364319,-7.768961429595947,-5.720823287963867,-1.0146007537841797,-0.40493956208229065,0.7983943223953247,0.16376149654388428,-0.3011462986469269,-2.330770492553711,-22.62374496459961,0.471823513507843,-18.919967651367188,3.848493814468384,-0.15742647647857666,1.788208246231079,0.6014584302902222,-0.9068812131881714,7.1715874671936035,0.41917356848716736,1.4147231578826904,-0.3398868441581726,0.9828704595565796,0.7053195238113403,-2.0385665893554688,-13.452642440795898,0.6354256868362427,-0.3171771466732025,-19.026378631591797,2.0923514366149902,3.605621814727783,0.03241032361984253,-0.7758407592773438,-0.6532660126686096,-16.25935935974121,-0.6785824298858643,3.3701579570770264,23.918699264526367,-1.8041696548461914,1.520601511001587,-0.8242395520210266,27.23552131652832,0.3408227562904358,-1.984445571899414,-91.09767150878906,0.7844284772872925,-1.976884365081787,0.2957441806793213,0.2116413116455078,1.0742040872573853,1.4948487281799316,-0.3718344569206238,9.566823959350586,19.42890739440918,-0.32574403285980225,-0.9171230792999268,7.382086753845215,-0.6843974590301514,0.5387216806411743],\"type\":\"scatter3d\"}],                        {\"template\":{\"data\":{\"barpolar\":[{\"marker\":{\"line\":{\"color\":\"rgb(237,237,237)\",\"width\":0.5},\"pattern\":{\"fillmode\":\"overlay\",\"size\":10,\"solidity\":0.2}},\"type\":\"barpolar\"}],\"bar\":[{\"error_x\":{\"color\":\"rgb(51,51,51)\"},\"error_y\":{\"color\":\"rgb(51,51,51)\"},\"marker\":{\"line\":{\"color\":\"rgb(237,237,237)\",\"width\":0.5},\"pattern\":{\"fillmode\":\"overlay\",\"size\":10,\"solidity\":0.2}},\"type\":\"bar\"}],\"carpet\":[{\"aaxis\":{\"endlinecolor\":\"rgb(51,51,51)\",\"gridcolor\":\"white\",\"linecolor\":\"white\",\"minorgridcolor\":\"white\",\"startlinecolor\":\"rgb(51,51,51)\"},\"baxis\":{\"endlinecolor\":\"rgb(51,51,51)\",\"gridcolor\":\"white\",\"linecolor\":\"white\",\"minorgridcolor\":\"white\",\"startlinecolor\":\"rgb(51,51,51)\"},\"type\":\"carpet\"}],\"choropleth\":[{\"colorbar\":{\"outlinewidth\":0,\"tickcolor\":\"rgb(237,237,237)\",\"ticklen\":6,\"ticks\":\"inside\"},\"type\":\"choropleth\"}],\"contourcarpet\":[{\"colorbar\":{\"outlinewidth\":0,\"tickcolor\":\"rgb(237,237,237)\",\"ticklen\":6,\"ticks\":\"inside\"},\"type\":\"contourcarpet\"}],\"contour\":[{\"colorbar\":{\"outlinewidth\":0,\"tickcolor\":\"rgb(237,237,237)\",\"ticklen\":6,\"ticks\":\"inside\"},\"colorscale\":[[0,\"rgb(20,44,66)\"],[1,\"rgb(90,179,244)\"]],\"type\":\"contour\"}],\"heatmapgl\":[{\"colorbar\":{\"outlinewidth\":0,\"tickcolor\":\"rgb(237,237,237)\",\"ticklen\":6,\"ticks\":\"inside\"},\"colorscale\":[[0,\"rgb(20,44,66)\"],[1,\"rgb(90,179,244)\"]],\"type\":\"heatmapgl\"}],\"heatmap\":[{\"colorbar\":{\"outlinewidth\":0,\"tickcolor\":\"rgb(237,237,237)\",\"ticklen\":6,\"ticks\":\"inside\"},\"colorscale\":[[0,\"rgb(20,44,66)\"],[1,\"rgb(90,179,244)\"]],\"type\":\"heatmap\"}],\"histogram2dcontour\":[{\"colorbar\":{\"outlinewidth\":0,\"tickcolor\":\"rgb(237,237,237)\",\"ticklen\":6,\"ticks\":\"inside\"},\"colorscale\":[[0,\"rgb(20,44,66)\"],[1,\"rgb(90,179,244)\"]],\"type\":\"histogram2dcontour\"}],\"histogram2d\":[{\"colorbar\":{\"outlinewidth\":0,\"tickcolor\":\"rgb(237,237,237)\",\"ticklen\":6,\"ticks\":\"inside\"},\"colorscale\":[[0,\"rgb(20,44,66)\"],[1,\"rgb(90,179,244)\"]],\"type\":\"histogram2d\"}],\"histogram\":[{\"marker\":{\"pattern\":{\"fillmode\":\"overlay\",\"size\":10,\"solidity\":0.2}},\"type\":\"histogram\"}],\"mesh3d\":[{\"colorbar\":{\"outlinewidth\":0,\"tickcolor\":\"rgb(237,237,237)\",\"ticklen\":6,\"ticks\":\"inside\"},\"type\":\"mesh3d\"}],\"parcoords\":[{\"line\":{\"colorbar\":{\"outlinewidth\":0,\"tickcolor\":\"rgb(237,237,237)\",\"ticklen\":6,\"ticks\":\"inside\"}},\"type\":\"parcoords\"}],\"pie\":[{\"automargin\":true,\"type\":\"pie\"}],\"scatter3d\":[{\"line\":{\"colorbar\":{\"outlinewidth\":0,\"tickcolor\":\"rgb(237,237,237)\",\"ticklen\":6,\"ticks\":\"inside\"}},\"marker\":{\"colorbar\":{\"outlinewidth\":0,\"tickcolor\":\"rgb(237,237,237)\",\"ticklen\":6,\"ticks\":\"inside\"}},\"type\":\"scatter3d\"}],\"scattercarpet\":[{\"marker\":{\"colorbar\":{\"outlinewidth\":0,\"tickcolor\":\"rgb(237,237,237)\",\"ticklen\":6,\"ticks\":\"inside\"}},\"type\":\"scattercarpet\"}],\"scattergeo\":[{\"marker\":{\"colorbar\":{\"outlinewidth\":0,\"tickcolor\":\"rgb(237,237,237)\",\"ticklen\":6,\"ticks\":\"inside\"}},\"type\":\"scattergeo\"}],\"scattergl\":[{\"marker\":{\"colorbar\":{\"outlinewidth\":0,\"tickcolor\":\"rgb(237,237,237)\",\"ticklen\":6,\"ticks\":\"inside\"}},\"type\":\"scattergl\"}],\"scattermapbox\":[{\"marker\":{\"colorbar\":{\"outlinewidth\":0,\"tickcolor\":\"rgb(237,237,237)\",\"ticklen\":6,\"ticks\":\"inside\"}},\"type\":\"scattermapbox\"}],\"scatterpolargl\":[{\"marker\":{\"colorbar\":{\"outlinewidth\":0,\"tickcolor\":\"rgb(237,237,237)\",\"ticklen\":6,\"ticks\":\"inside\"}},\"type\":\"scatterpolargl\"}],\"scatterpolar\":[{\"marker\":{\"colorbar\":{\"outlinewidth\":0,\"tickcolor\":\"rgb(237,237,237)\",\"ticklen\":6,\"ticks\":\"inside\"}},\"type\":\"scatterpolar\"}],\"scatter\":[{\"fillpattern\":{\"fillmode\":\"overlay\",\"size\":10,\"solidity\":0.2},\"type\":\"scatter\"}],\"scatterternary\":[{\"marker\":{\"colorbar\":{\"outlinewidth\":0,\"tickcolor\":\"rgb(237,237,237)\",\"ticklen\":6,\"ticks\":\"inside\"}},\"type\":\"scatterternary\"}],\"surface\":[{\"colorbar\":{\"outlinewidth\":0,\"tickcolor\":\"rgb(237,237,237)\",\"ticklen\":6,\"ticks\":\"inside\"},\"colorscale\":[[0,\"rgb(20,44,66)\"],[1,\"rgb(90,179,244)\"]],\"type\":\"surface\"}],\"table\":[{\"cells\":{\"fill\":{\"color\":\"rgb(237,237,237)\"},\"line\":{\"color\":\"white\"}},\"header\":{\"fill\":{\"color\":\"rgb(217,217,217)\"},\"line\":{\"color\":\"white\"}},\"type\":\"table\"}]},\"layout\":{\"annotationdefaults\":{\"arrowhead\":0,\"arrowwidth\":1},\"autotypenumbers\":\"strict\",\"coloraxis\":{\"colorbar\":{\"outlinewidth\":0,\"tickcolor\":\"rgb(237,237,237)\",\"ticklen\":6,\"ticks\":\"inside\"}},\"colorscale\":{\"sequential\":[[0,\"rgb(20,44,66)\"],[1,\"rgb(90,179,244)\"]],\"sequentialminus\":[[0,\"rgb(20,44,66)\"],[1,\"rgb(90,179,244)\"]]},\"colorway\":[\"#F8766D\",\"#A3A500\",\"#00BF7D\",\"#00B0F6\",\"#E76BF3\"],\"font\":{\"color\":\"rgb(51,51,51)\"},\"geo\":{\"bgcolor\":\"white\",\"lakecolor\":\"white\",\"landcolor\":\"rgb(237,237,237)\",\"showlakes\":true,\"showland\":true,\"subunitcolor\":\"white\"},\"hoverlabel\":{\"align\":\"left\"},\"hovermode\":\"closest\",\"paper_bgcolor\":\"white\",\"plot_bgcolor\":\"rgb(237,237,237)\",\"polar\":{\"angularaxis\":{\"gridcolor\":\"white\",\"linecolor\":\"white\",\"showgrid\":true,\"tickcolor\":\"rgb(51,51,51)\",\"ticks\":\"outside\"},\"bgcolor\":\"rgb(237,237,237)\",\"radialaxis\":{\"gridcolor\":\"white\",\"linecolor\":\"white\",\"showgrid\":true,\"tickcolor\":\"rgb(51,51,51)\",\"ticks\":\"outside\"}},\"scene\":{\"xaxis\":{\"backgroundcolor\":\"rgb(237,237,237)\",\"gridcolor\":\"white\",\"gridwidth\":2,\"linecolor\":\"white\",\"showbackground\":true,\"showgrid\":true,\"tickcolor\":\"rgb(51,51,51)\",\"ticks\":\"outside\",\"zerolinecolor\":\"white\"},\"yaxis\":{\"backgroundcolor\":\"rgb(237,237,237)\",\"gridcolor\":\"white\",\"gridwidth\":2,\"linecolor\":\"white\",\"showbackground\":true,\"showgrid\":true,\"tickcolor\":\"rgb(51,51,51)\",\"ticks\":\"outside\",\"zerolinecolor\":\"white\"},\"zaxis\":{\"backgroundcolor\":\"rgb(237,237,237)\",\"gridcolor\":\"white\",\"gridwidth\":2,\"linecolor\":\"white\",\"showbackground\":true,\"showgrid\":true,\"tickcolor\":\"rgb(51,51,51)\",\"ticks\":\"outside\",\"zerolinecolor\":\"white\"}},\"shapedefaults\":{\"fillcolor\":\"black\",\"line\":{\"width\":0},\"opacity\":0.3},\"ternary\":{\"aaxis\":{\"gridcolor\":\"white\",\"linecolor\":\"white\",\"showgrid\":true,\"tickcolor\":\"rgb(51,51,51)\",\"ticks\":\"outside\"},\"baxis\":{\"gridcolor\":\"white\",\"linecolor\":\"white\",\"showgrid\":true,\"tickcolor\":\"rgb(51,51,51)\",\"ticks\":\"outside\"},\"bgcolor\":\"rgb(237,237,237)\",\"caxis\":{\"gridcolor\":\"white\",\"linecolor\":\"white\",\"showgrid\":true,\"tickcolor\":\"rgb(51,51,51)\",\"ticks\":\"outside\"}},\"xaxis\":{\"automargin\":true,\"gridcolor\":\"white\",\"linecolor\":\"white\",\"showgrid\":true,\"tickcolor\":\"rgb(51,51,51)\",\"ticks\":\"outside\",\"title\":{\"standoff\":15},\"zerolinecolor\":\"white\"},\"yaxis\":{\"automargin\":true,\"gridcolor\":\"white\",\"linecolor\":\"white\",\"showgrid\":true,\"tickcolor\":\"rgb(51,51,51)\",\"ticks\":\"outside\",\"title\":{\"standoff\":15},\"zerolinecolor\":\"white\"}}},\"scene\":{\"domain\":{\"x\":[0.0,1.0],\"y\":[0.0,1.0]},\"xaxis\":{\"title\":{\"text\":\"X\"}},\"yaxis\":{\"title\":{\"text\":\"Y\"}},\"zaxis\":{\"title\":{\"text\":\"Z\"}}},\"legend\":{\"tracegroupgap\":0},\"title\":{\"text\":\"Visualising sequence diversity of Bacillus taxonomy using tSNE manifold learning (PAM distance embedded)\"}},                        {\"responsive\": true}                    ).then(function(){\n",
       "                            \n",
       "var gd = document.getElementById('9c87de0e-b92a-4608-a8df-917357d4e991');\n",
       "var x = new MutationObserver(function (mutations, observer) {{\n",
       "        var display = window.getComputedStyle(gd).display;\n",
       "        if (!display || display === 'none') {{\n",
       "            console.log([gd, 'removed!']);\n",
       "            Plotly.purge(gd);\n",
       "            observer.disconnect();\n",
       "        }}\n",
       "}});\n",
       "\n",
       "// Listen for the removal of the full notebook cells\n",
       "var notebookContainer = gd.closest('#notebook-container');\n",
       "if (notebookContainer) {{\n",
       "    x.observe(notebookContainer, {childList: true});\n",
       "}}\n",
       "\n",
       "// Listen for the clearing of the current output cell\n",
       "var outputEl = gd.closest('.output');\n",
       "if (outputEl) {{\n",
       "    x.observe(outputEl, {childList: true});\n",
       "}}\n",
       "\n",
       "                        })                };                });            </script>        </div>"
      ]
     },
     "metadata": {},
     "output_type": "display_data"
    }
   ],
   "source": [
    "fig = px.scatter_3d(tSNE_df, x='tSNE_x', y='tSNE_y', z='tSNE_z',\n",
    "                    hover_name=tSNE_df.index, template='ggplot2', opacity=1, \n",
    "                    title='Visualising sequence diversity of Bacillus taxonomy using tSNE manifold learning (PAM distance embedded)',\n",
    "                    labels={'tSNE_x': 'X', 'tSNE_y': 'Y', 'tSNE_z':'Z'}, )\n",
    "\n",
    "# Write the figure to a HTML representation and download for later\n",
    "fig.write_html('scatter-3d.html')\n",
    "fig"
   ]
  },
  {
   "cell_type": "markdown",
   "id": "ea6579c0",
   "metadata": {},
   "source": [
    "We then extract the maximally diverse SPs by creating a neighbourhood of a particular radius and taking all the SPs out of that radius as follows"
   ]
  },
  {
   "cell_type": "code",
   "execution_count": 50,
   "id": "1b7b5a59",
   "metadata": {},
   "outputs": [],
   "source": [
    "import math\n",
    "import matplotlib.patches as shapes\n",
    "global tSNE_df\n",
    "\n",
    "def extract_cluster(r_nhood):\n",
    "    inside, outside = [], []\n",
    "    neighbourhood = math.sqrt((r_nhood ** 2) * 3)\n",
    "    for idx in range(len(tSNE_df)):\n",
    "        euclid_distance = math.sqrt(tSNE_df.tSNE_x[idx] ** 2 + tSNE_df.tSNE_y[idx] ** 2 + tSNE_df.tSNE_z[idx] ** 2)\n",
    "        if euclid_distance <= neighbourhood:\n",
    "            inside.append(tSNE_df.index[idx])\n",
    "        else:\n",
    "            outside.append(tSNE_df.index[idx])\n",
    "    \n",
    "    df_1 = pd.DataFrame.copy(tSNE_df)\n",
    "    df_1 = df_1.drop(outside)\n",
    "    df_2 = pd.DataFrame.copy(tSNE_df)\n",
    "    df_2 = df_2.drop(inside)\n",
    "    \n",
    "    fig_clusters = px.scatter_3d(df_1, x='tSNE_x', y='tSNE_y', z='tSNE_z',\n",
    "                    hover_name=df_1.index, template='ggplot2', opacity=1, \n",
    "                    title='Extraction of SP clusters within neighbourhood of length ' + str(r_nhood),\n",
    "                    labels={'tSNE_x': 'X', 'tSNE_y': 'Y', 'tSNE_z':'Z'}, )\n",
    "    fig_noclusters = px.scatter_3d(df_2, x='tSNE_x', y='tSNE_y', z='tSNE_z',\n",
    "                    hover_name=df_2.index, template='ggplot2', opacity=1, \n",
    "                    title='Extraction of SP outside of clusters with neighbourhood length ' + str(r_nhood),\n",
    "                    labels={'tSNE_x': 'X', 'tSNE_y': 'Y', 'tSNE_z':'Z'}, )\n",
    "    print(df_1.shape)\n",
    "    print(df_2.shape)\n",
    "    return inside, outside, fig_clusters, fig_noclusters"
   ]
  },
  {
   "cell_type": "markdown",
   "id": "8cd6805f",
   "metadata": {},
   "source": [
    "With a neighbourhood of radius 30, we obtain 17 maximally diverse SPs as seen below"
   ]
  },
  {
   "cell_type": "code",
   "execution_count": 51,
   "id": "b99e82dc",
   "metadata": {},
   "outputs": [
    {
     "name": "stdout",
     "output_type": "stream",
     "text": [
      "(108, 3)\n",
      "(17, 3)\n",
      "(108, 3)\n",
      "(17, 3)\n"
     ]
    },
    {
     "data": {
      "application/vnd.plotly.v1+json": {
       "config": {
        "plotlyServerURL": "https://plot.ly"
       },
       "data": [
        {
         "hovertemplate": "<b>%{hovertext}</b><br><br>X=%{x}<br>Y=%{y}<br>Z=%{z}<extra></extra>",
         "hovertext": [
          "sp_O31097_PHYC_BACIU:0-23",
          "sp_P00648_RNBR_BACAM:0-40",
          "sp_P29141_SUBV_BACSU:0-33",
          "sp_P94449_PEL2_BACIU:0-29",
          "sp_Q45670_THES_BACSJ:0-29",
          "sp_D4G3R4_WAPA_BACNB:0-50",
          "sp_P39899_NPRB_BACSU:0-33",
          "sp_P05806_NPRE_BACCE:0-32",
          "sp_Q9RMZ0_Y6545_BACAN:0-33",
          "sp_P05655_SACB_BACSU:0-34",
          "sp_P39597_EFEN_BACSU:0-50",
          "sp_Q6YK37_XYNC_BACIU:0-38",
          "sp_Q03091_BSN1_BACAM:0-31",
          "sp_O07532_LYTF_BACSU:0-31",
          "sp_O32041_YRVJ_BACSU:0-32",
          "sp_P06832_NPRE_BACAM:0-32",
          "sp_P68569_BDBA_BACSU:0-31"
         ],
         "legendgroup": "",
         "marker": {
          "color": "#F8766D",
          "opacity": 1,
          "symbol": "circle"
         },
         "mode": "markers",
         "name": "",
         "scene": "scene",
         "showlegend": false,
         "type": "scatter3d",
         "x": [
          -25.19788360595703,
          15.495223045349121,
          3.0727484226226807,
          191.57269287109375,
          -97.8246078491211,
          -36.15134048461914,
          12.054643630981445,
          -14.207162857055664,
          45.241214752197266,
          68.13174438476562,
          6.246806621551514,
          -44.28568649291992,
          102.30921936035156,
          13.768292427062988,
          -21.83671760559082,
          -81.39982604980469,
          -44.77222442626953
         ],
         "y": [
          2.8705198764801025,
          41.90669631958008,
          -23.38849449157715,
          86.48676300048828,
          45.83118438720703,
          -61.44113540649414,
          -24.233003616333008,
          -86.30284881591797,
          16.44626235961914,
          -2.126152992248535,
          38.10084533691406,
          -19.39053726196289,
          -16.51557731628418,
          -146.09234619140625,
          -61.888206481933594,
          34.394290924072266,
          113.55006408691406
         ],
         "z": [
          46.45403289794922,
          -52.33974075317383,
          47.8994140625,
          2.4397261142730713,
          6.623050689697266,
          -4.7924113273620605,
          45.23116683959961,
          -116.50763702392578,
          23.5820255279541,
          -4.809770107269287,
          50.08953094482422,
          45.699119567871094,
          1.625914454460144,
          -7.768961429595947,
          3.848493814468384,
          -91.09767150878906,
          9.566823959350586
         ]
        }
       ],
       "layout": {
        "legend": {
         "tracegroupgap": 0
        },
        "scene": {
         "domain": {
          "x": [
           0,
           1
          ],
          "y": [
           0,
           1
          ]
         },
         "xaxis": {
          "title": {
           "text": "X"
          }
         },
         "yaxis": {
          "title": {
           "text": "Y"
          }
         },
         "zaxis": {
          "title": {
           "text": "Z"
          }
         }
        },
        "template": {
         "data": {
          "bar": [
           {
            "error_x": {
             "color": "rgb(51,51,51)"
            },
            "error_y": {
             "color": "rgb(51,51,51)"
            },
            "marker": {
             "line": {
              "color": "rgb(237,237,237)",
              "width": 0.5
             },
             "pattern": {
              "fillmode": "overlay",
              "size": 10,
              "solidity": 0.2
             }
            },
            "type": "bar"
           }
          ],
          "barpolar": [
           {
            "marker": {
             "line": {
              "color": "rgb(237,237,237)",
              "width": 0.5
             },
             "pattern": {
              "fillmode": "overlay",
              "size": 10,
              "solidity": 0.2
             }
            },
            "type": "barpolar"
           }
          ],
          "carpet": [
           {
            "aaxis": {
             "endlinecolor": "rgb(51,51,51)",
             "gridcolor": "white",
             "linecolor": "white",
             "minorgridcolor": "white",
             "startlinecolor": "rgb(51,51,51)"
            },
            "baxis": {
             "endlinecolor": "rgb(51,51,51)",
             "gridcolor": "white",
             "linecolor": "white",
             "minorgridcolor": "white",
             "startlinecolor": "rgb(51,51,51)"
            },
            "type": "carpet"
           }
          ],
          "choropleth": [
           {
            "colorbar": {
             "outlinewidth": 0,
             "tickcolor": "rgb(237,237,237)",
             "ticklen": 6,
             "ticks": "inside"
            },
            "type": "choropleth"
           }
          ],
          "contour": [
           {
            "colorbar": {
             "outlinewidth": 0,
             "tickcolor": "rgb(237,237,237)",
             "ticklen": 6,
             "ticks": "inside"
            },
            "colorscale": [
             [
              0,
              "rgb(20,44,66)"
             ],
             [
              1,
              "rgb(90,179,244)"
             ]
            ],
            "type": "contour"
           }
          ],
          "contourcarpet": [
           {
            "colorbar": {
             "outlinewidth": 0,
             "tickcolor": "rgb(237,237,237)",
             "ticklen": 6,
             "ticks": "inside"
            },
            "type": "contourcarpet"
           }
          ],
          "heatmap": [
           {
            "colorbar": {
             "outlinewidth": 0,
             "tickcolor": "rgb(237,237,237)",
             "ticklen": 6,
             "ticks": "inside"
            },
            "colorscale": [
             [
              0,
              "rgb(20,44,66)"
             ],
             [
              1,
              "rgb(90,179,244)"
             ]
            ],
            "type": "heatmap"
           }
          ],
          "heatmapgl": [
           {
            "colorbar": {
             "outlinewidth": 0,
             "tickcolor": "rgb(237,237,237)",
             "ticklen": 6,
             "ticks": "inside"
            },
            "colorscale": [
             [
              0,
              "rgb(20,44,66)"
             ],
             [
              1,
              "rgb(90,179,244)"
             ]
            ],
            "type": "heatmapgl"
           }
          ],
          "histogram": [
           {
            "marker": {
             "pattern": {
              "fillmode": "overlay",
              "size": 10,
              "solidity": 0.2
             }
            },
            "type": "histogram"
           }
          ],
          "histogram2d": [
           {
            "colorbar": {
             "outlinewidth": 0,
             "tickcolor": "rgb(237,237,237)",
             "ticklen": 6,
             "ticks": "inside"
            },
            "colorscale": [
             [
              0,
              "rgb(20,44,66)"
             ],
             [
              1,
              "rgb(90,179,244)"
             ]
            ],
            "type": "histogram2d"
           }
          ],
          "histogram2dcontour": [
           {
            "colorbar": {
             "outlinewidth": 0,
             "tickcolor": "rgb(237,237,237)",
             "ticklen": 6,
             "ticks": "inside"
            },
            "colorscale": [
             [
              0,
              "rgb(20,44,66)"
             ],
             [
              1,
              "rgb(90,179,244)"
             ]
            ],
            "type": "histogram2dcontour"
           }
          ],
          "mesh3d": [
           {
            "colorbar": {
             "outlinewidth": 0,
             "tickcolor": "rgb(237,237,237)",
             "ticklen": 6,
             "ticks": "inside"
            },
            "type": "mesh3d"
           }
          ],
          "parcoords": [
           {
            "line": {
             "colorbar": {
              "outlinewidth": 0,
              "tickcolor": "rgb(237,237,237)",
              "ticklen": 6,
              "ticks": "inside"
             }
            },
            "type": "parcoords"
           }
          ],
          "pie": [
           {
            "automargin": true,
            "type": "pie"
           }
          ],
          "scatter": [
           {
            "fillpattern": {
             "fillmode": "overlay",
             "size": 10,
             "solidity": 0.2
            },
            "type": "scatter"
           }
          ],
          "scatter3d": [
           {
            "line": {
             "colorbar": {
              "outlinewidth": 0,
              "tickcolor": "rgb(237,237,237)",
              "ticklen": 6,
              "ticks": "inside"
             }
            },
            "marker": {
             "colorbar": {
              "outlinewidth": 0,
              "tickcolor": "rgb(237,237,237)",
              "ticklen": 6,
              "ticks": "inside"
             }
            },
            "type": "scatter3d"
           }
          ],
          "scattercarpet": [
           {
            "marker": {
             "colorbar": {
              "outlinewidth": 0,
              "tickcolor": "rgb(237,237,237)",
              "ticklen": 6,
              "ticks": "inside"
             }
            },
            "type": "scattercarpet"
           }
          ],
          "scattergeo": [
           {
            "marker": {
             "colorbar": {
              "outlinewidth": 0,
              "tickcolor": "rgb(237,237,237)",
              "ticklen": 6,
              "ticks": "inside"
             }
            },
            "type": "scattergeo"
           }
          ],
          "scattergl": [
           {
            "marker": {
             "colorbar": {
              "outlinewidth": 0,
              "tickcolor": "rgb(237,237,237)",
              "ticklen": 6,
              "ticks": "inside"
             }
            },
            "type": "scattergl"
           }
          ],
          "scattermapbox": [
           {
            "marker": {
             "colorbar": {
              "outlinewidth": 0,
              "tickcolor": "rgb(237,237,237)",
              "ticklen": 6,
              "ticks": "inside"
             }
            },
            "type": "scattermapbox"
           }
          ],
          "scatterpolar": [
           {
            "marker": {
             "colorbar": {
              "outlinewidth": 0,
              "tickcolor": "rgb(237,237,237)",
              "ticklen": 6,
              "ticks": "inside"
             }
            },
            "type": "scatterpolar"
           }
          ],
          "scatterpolargl": [
           {
            "marker": {
             "colorbar": {
              "outlinewidth": 0,
              "tickcolor": "rgb(237,237,237)",
              "ticklen": 6,
              "ticks": "inside"
             }
            },
            "type": "scatterpolargl"
           }
          ],
          "scatterternary": [
           {
            "marker": {
             "colorbar": {
              "outlinewidth": 0,
              "tickcolor": "rgb(237,237,237)",
              "ticklen": 6,
              "ticks": "inside"
             }
            },
            "type": "scatterternary"
           }
          ],
          "surface": [
           {
            "colorbar": {
             "outlinewidth": 0,
             "tickcolor": "rgb(237,237,237)",
             "ticklen": 6,
             "ticks": "inside"
            },
            "colorscale": [
             [
              0,
              "rgb(20,44,66)"
             ],
             [
              1,
              "rgb(90,179,244)"
             ]
            ],
            "type": "surface"
           }
          ],
          "table": [
           {
            "cells": {
             "fill": {
              "color": "rgb(237,237,237)"
             },
             "line": {
              "color": "white"
             }
            },
            "header": {
             "fill": {
              "color": "rgb(217,217,217)"
             },
             "line": {
              "color": "white"
             }
            },
            "type": "table"
           }
          ]
         },
         "layout": {
          "annotationdefaults": {
           "arrowhead": 0,
           "arrowwidth": 1
          },
          "autotypenumbers": "strict",
          "coloraxis": {
           "colorbar": {
            "outlinewidth": 0,
            "tickcolor": "rgb(237,237,237)",
            "ticklen": 6,
            "ticks": "inside"
           }
          },
          "colorscale": {
           "sequential": [
            [
             0,
             "rgb(20,44,66)"
            ],
            [
             1,
             "rgb(90,179,244)"
            ]
           ],
           "sequentialminus": [
            [
             0,
             "rgb(20,44,66)"
            ],
            [
             1,
             "rgb(90,179,244)"
            ]
           ]
          },
          "colorway": [
           "#F8766D",
           "#A3A500",
           "#00BF7D",
           "#00B0F6",
           "#E76BF3"
          ],
          "font": {
           "color": "rgb(51,51,51)"
          },
          "geo": {
           "bgcolor": "white",
           "lakecolor": "white",
           "landcolor": "rgb(237,237,237)",
           "showlakes": true,
           "showland": true,
           "subunitcolor": "white"
          },
          "hoverlabel": {
           "align": "left"
          },
          "hovermode": "closest",
          "paper_bgcolor": "white",
          "plot_bgcolor": "rgb(237,237,237)",
          "polar": {
           "angularaxis": {
            "gridcolor": "white",
            "linecolor": "white",
            "showgrid": true,
            "tickcolor": "rgb(51,51,51)",
            "ticks": "outside"
           },
           "bgcolor": "rgb(237,237,237)",
           "radialaxis": {
            "gridcolor": "white",
            "linecolor": "white",
            "showgrid": true,
            "tickcolor": "rgb(51,51,51)",
            "ticks": "outside"
           }
          },
          "scene": {
           "xaxis": {
            "backgroundcolor": "rgb(237,237,237)",
            "gridcolor": "white",
            "gridwidth": 2,
            "linecolor": "white",
            "showbackground": true,
            "showgrid": true,
            "tickcolor": "rgb(51,51,51)",
            "ticks": "outside",
            "zerolinecolor": "white"
           },
           "yaxis": {
            "backgroundcolor": "rgb(237,237,237)",
            "gridcolor": "white",
            "gridwidth": 2,
            "linecolor": "white",
            "showbackground": true,
            "showgrid": true,
            "tickcolor": "rgb(51,51,51)",
            "ticks": "outside",
            "zerolinecolor": "white"
           },
           "zaxis": {
            "backgroundcolor": "rgb(237,237,237)",
            "gridcolor": "white",
            "gridwidth": 2,
            "linecolor": "white",
            "showbackground": true,
            "showgrid": true,
            "tickcolor": "rgb(51,51,51)",
            "ticks": "outside",
            "zerolinecolor": "white"
           }
          },
          "shapedefaults": {
           "fillcolor": "black",
           "line": {
            "width": 0
           },
           "opacity": 0.3
          },
          "ternary": {
           "aaxis": {
            "gridcolor": "white",
            "linecolor": "white",
            "showgrid": true,
            "tickcolor": "rgb(51,51,51)",
            "ticks": "outside"
           },
           "baxis": {
            "gridcolor": "white",
            "linecolor": "white",
            "showgrid": true,
            "tickcolor": "rgb(51,51,51)",
            "ticks": "outside"
           },
           "bgcolor": "rgb(237,237,237)",
           "caxis": {
            "gridcolor": "white",
            "linecolor": "white",
            "showgrid": true,
            "tickcolor": "rgb(51,51,51)",
            "ticks": "outside"
           }
          },
          "xaxis": {
           "automargin": true,
           "gridcolor": "white",
           "linecolor": "white",
           "showgrid": true,
           "tickcolor": "rgb(51,51,51)",
           "ticks": "outside",
           "title": {
            "standoff": 15
           },
           "zerolinecolor": "white"
          },
          "yaxis": {
           "automargin": true,
           "gridcolor": "white",
           "linecolor": "white",
           "showgrid": true,
           "tickcolor": "rgb(51,51,51)",
           "ticks": "outside",
           "title": {
            "standoff": 15
           },
           "zerolinecolor": "white"
          }
         }
        },
        "title": {
         "text": "Extraction of SP outside of clusters with neighbourhood length 30"
        }
       }
      },
      "text/html": [
       "<div>                            <div id=\"a591e98a-97a7-4b80-82d9-83c6a62e5300\" class=\"plotly-graph-div\" style=\"height:525px; width:100%;\"></div>            <script type=\"text/javascript\">                require([\"plotly\"], function(Plotly) {                    window.PLOTLYENV=window.PLOTLYENV || {};                                    if (document.getElementById(\"a591e98a-97a7-4b80-82d9-83c6a62e5300\")) {                    Plotly.newPlot(                        \"a591e98a-97a7-4b80-82d9-83c6a62e5300\",                        [{\"hovertemplate\":\"<b>%{hovertext}</b><br><br>X=%{x}<br>Y=%{y}<br>Z=%{z}<extra></extra>\",\"hovertext\":[\"sp_O31097_PHYC_BACIU:0-23\",\"sp_P00648_RNBR_BACAM:0-40\",\"sp_P29141_SUBV_BACSU:0-33\",\"sp_P94449_PEL2_BACIU:0-29\",\"sp_Q45670_THES_BACSJ:0-29\",\"sp_D4G3R4_WAPA_BACNB:0-50\",\"sp_P39899_NPRB_BACSU:0-33\",\"sp_P05806_NPRE_BACCE:0-32\",\"sp_Q9RMZ0_Y6545_BACAN:0-33\",\"sp_P05655_SACB_BACSU:0-34\",\"sp_P39597_EFEN_BACSU:0-50\",\"sp_Q6YK37_XYNC_BACIU:0-38\",\"sp_Q03091_BSN1_BACAM:0-31\",\"sp_O07532_LYTF_BACSU:0-31\",\"sp_O32041_YRVJ_BACSU:0-32\",\"sp_P06832_NPRE_BACAM:0-32\",\"sp_P68569_BDBA_BACSU:0-31\"],\"legendgroup\":\"\",\"marker\":{\"color\":\"#F8766D\",\"opacity\":1,\"symbol\":\"circle\"},\"mode\":\"markers\",\"name\":\"\",\"scene\":\"scene\",\"showlegend\":false,\"x\":[-25.19788360595703,15.495223045349121,3.0727484226226807,191.57269287109375,-97.8246078491211,-36.15134048461914,12.054643630981445,-14.207162857055664,45.241214752197266,68.13174438476562,6.246806621551514,-44.28568649291992,102.30921936035156,13.768292427062988,-21.83671760559082,-81.39982604980469,-44.77222442626953],\"y\":[2.8705198764801025,41.90669631958008,-23.38849449157715,86.48676300048828,45.83118438720703,-61.44113540649414,-24.233003616333008,-86.30284881591797,16.44626235961914,-2.126152992248535,38.10084533691406,-19.39053726196289,-16.51557731628418,-146.09234619140625,-61.888206481933594,34.394290924072266,113.55006408691406],\"z\":[46.45403289794922,-52.33974075317383,47.8994140625,2.4397261142730713,6.623050689697266,-4.7924113273620605,45.23116683959961,-116.50763702392578,23.5820255279541,-4.809770107269287,50.08953094482422,45.699119567871094,1.625914454460144,-7.768961429595947,3.848493814468384,-91.09767150878906,9.566823959350586],\"type\":\"scatter3d\"}],                        {\"template\":{\"data\":{\"barpolar\":[{\"marker\":{\"line\":{\"color\":\"rgb(237,237,237)\",\"width\":0.5},\"pattern\":{\"fillmode\":\"overlay\",\"size\":10,\"solidity\":0.2}},\"type\":\"barpolar\"}],\"bar\":[{\"error_x\":{\"color\":\"rgb(51,51,51)\"},\"error_y\":{\"color\":\"rgb(51,51,51)\"},\"marker\":{\"line\":{\"color\":\"rgb(237,237,237)\",\"width\":0.5},\"pattern\":{\"fillmode\":\"overlay\",\"size\":10,\"solidity\":0.2}},\"type\":\"bar\"}],\"carpet\":[{\"aaxis\":{\"endlinecolor\":\"rgb(51,51,51)\",\"gridcolor\":\"white\",\"linecolor\":\"white\",\"minorgridcolor\":\"white\",\"startlinecolor\":\"rgb(51,51,51)\"},\"baxis\":{\"endlinecolor\":\"rgb(51,51,51)\",\"gridcolor\":\"white\",\"linecolor\":\"white\",\"minorgridcolor\":\"white\",\"startlinecolor\":\"rgb(51,51,51)\"},\"type\":\"carpet\"}],\"choropleth\":[{\"colorbar\":{\"outlinewidth\":0,\"tickcolor\":\"rgb(237,237,237)\",\"ticklen\":6,\"ticks\":\"inside\"},\"type\":\"choropleth\"}],\"contourcarpet\":[{\"colorbar\":{\"outlinewidth\":0,\"tickcolor\":\"rgb(237,237,237)\",\"ticklen\":6,\"ticks\":\"inside\"},\"type\":\"contourcarpet\"}],\"contour\":[{\"colorbar\":{\"outlinewidth\":0,\"tickcolor\":\"rgb(237,237,237)\",\"ticklen\":6,\"ticks\":\"inside\"},\"colorscale\":[[0,\"rgb(20,44,66)\"],[1,\"rgb(90,179,244)\"]],\"type\":\"contour\"}],\"heatmapgl\":[{\"colorbar\":{\"outlinewidth\":0,\"tickcolor\":\"rgb(237,237,237)\",\"ticklen\":6,\"ticks\":\"inside\"},\"colorscale\":[[0,\"rgb(20,44,66)\"],[1,\"rgb(90,179,244)\"]],\"type\":\"heatmapgl\"}],\"heatmap\":[{\"colorbar\":{\"outlinewidth\":0,\"tickcolor\":\"rgb(237,237,237)\",\"ticklen\":6,\"ticks\":\"inside\"},\"colorscale\":[[0,\"rgb(20,44,66)\"],[1,\"rgb(90,179,244)\"]],\"type\":\"heatmap\"}],\"histogram2dcontour\":[{\"colorbar\":{\"outlinewidth\":0,\"tickcolor\":\"rgb(237,237,237)\",\"ticklen\":6,\"ticks\":\"inside\"},\"colorscale\":[[0,\"rgb(20,44,66)\"],[1,\"rgb(90,179,244)\"]],\"type\":\"histogram2dcontour\"}],\"histogram2d\":[{\"colorbar\":{\"outlinewidth\":0,\"tickcolor\":\"rgb(237,237,237)\",\"ticklen\":6,\"ticks\":\"inside\"},\"colorscale\":[[0,\"rgb(20,44,66)\"],[1,\"rgb(90,179,244)\"]],\"type\":\"histogram2d\"}],\"histogram\":[{\"marker\":{\"pattern\":{\"fillmode\":\"overlay\",\"size\":10,\"solidity\":0.2}},\"type\":\"histogram\"}],\"mesh3d\":[{\"colorbar\":{\"outlinewidth\":0,\"tickcolor\":\"rgb(237,237,237)\",\"ticklen\":6,\"ticks\":\"inside\"},\"type\":\"mesh3d\"}],\"parcoords\":[{\"line\":{\"colorbar\":{\"outlinewidth\":0,\"tickcolor\":\"rgb(237,237,237)\",\"ticklen\":6,\"ticks\":\"inside\"}},\"type\":\"parcoords\"}],\"pie\":[{\"automargin\":true,\"type\":\"pie\"}],\"scatter3d\":[{\"line\":{\"colorbar\":{\"outlinewidth\":0,\"tickcolor\":\"rgb(237,237,237)\",\"ticklen\":6,\"ticks\":\"inside\"}},\"marker\":{\"colorbar\":{\"outlinewidth\":0,\"tickcolor\":\"rgb(237,237,237)\",\"ticklen\":6,\"ticks\":\"inside\"}},\"type\":\"scatter3d\"}],\"scattercarpet\":[{\"marker\":{\"colorbar\":{\"outlinewidth\":0,\"tickcolor\":\"rgb(237,237,237)\",\"ticklen\":6,\"ticks\":\"inside\"}},\"type\":\"scattercarpet\"}],\"scattergeo\":[{\"marker\":{\"colorbar\":{\"outlinewidth\":0,\"tickcolor\":\"rgb(237,237,237)\",\"ticklen\":6,\"ticks\":\"inside\"}},\"type\":\"scattergeo\"}],\"scattergl\":[{\"marker\":{\"colorbar\":{\"outlinewidth\":0,\"tickcolor\":\"rgb(237,237,237)\",\"ticklen\":6,\"ticks\":\"inside\"}},\"type\":\"scattergl\"}],\"scattermapbox\":[{\"marker\":{\"colorbar\":{\"outlinewidth\":0,\"tickcolor\":\"rgb(237,237,237)\",\"ticklen\":6,\"ticks\":\"inside\"}},\"type\":\"scattermapbox\"}],\"scatterpolargl\":[{\"marker\":{\"colorbar\":{\"outlinewidth\":0,\"tickcolor\":\"rgb(237,237,237)\",\"ticklen\":6,\"ticks\":\"inside\"}},\"type\":\"scatterpolargl\"}],\"scatterpolar\":[{\"marker\":{\"colorbar\":{\"outlinewidth\":0,\"tickcolor\":\"rgb(237,237,237)\",\"ticklen\":6,\"ticks\":\"inside\"}},\"type\":\"scatterpolar\"}],\"scatter\":[{\"fillpattern\":{\"fillmode\":\"overlay\",\"size\":10,\"solidity\":0.2},\"type\":\"scatter\"}],\"scatterternary\":[{\"marker\":{\"colorbar\":{\"outlinewidth\":0,\"tickcolor\":\"rgb(237,237,237)\",\"ticklen\":6,\"ticks\":\"inside\"}},\"type\":\"scatterternary\"}],\"surface\":[{\"colorbar\":{\"outlinewidth\":0,\"tickcolor\":\"rgb(237,237,237)\",\"ticklen\":6,\"ticks\":\"inside\"},\"colorscale\":[[0,\"rgb(20,44,66)\"],[1,\"rgb(90,179,244)\"]],\"type\":\"surface\"}],\"table\":[{\"cells\":{\"fill\":{\"color\":\"rgb(237,237,237)\"},\"line\":{\"color\":\"white\"}},\"header\":{\"fill\":{\"color\":\"rgb(217,217,217)\"},\"line\":{\"color\":\"white\"}},\"type\":\"table\"}]},\"layout\":{\"annotationdefaults\":{\"arrowhead\":0,\"arrowwidth\":1},\"autotypenumbers\":\"strict\",\"coloraxis\":{\"colorbar\":{\"outlinewidth\":0,\"tickcolor\":\"rgb(237,237,237)\",\"ticklen\":6,\"ticks\":\"inside\"}},\"colorscale\":{\"sequential\":[[0,\"rgb(20,44,66)\"],[1,\"rgb(90,179,244)\"]],\"sequentialminus\":[[0,\"rgb(20,44,66)\"],[1,\"rgb(90,179,244)\"]]},\"colorway\":[\"#F8766D\",\"#A3A500\",\"#00BF7D\",\"#00B0F6\",\"#E76BF3\"],\"font\":{\"color\":\"rgb(51,51,51)\"},\"geo\":{\"bgcolor\":\"white\",\"lakecolor\":\"white\",\"landcolor\":\"rgb(237,237,237)\",\"showlakes\":true,\"showland\":true,\"subunitcolor\":\"white\"},\"hoverlabel\":{\"align\":\"left\"},\"hovermode\":\"closest\",\"paper_bgcolor\":\"white\",\"plot_bgcolor\":\"rgb(237,237,237)\",\"polar\":{\"angularaxis\":{\"gridcolor\":\"white\",\"linecolor\":\"white\",\"showgrid\":true,\"tickcolor\":\"rgb(51,51,51)\",\"ticks\":\"outside\"},\"bgcolor\":\"rgb(237,237,237)\",\"radialaxis\":{\"gridcolor\":\"white\",\"linecolor\":\"white\",\"showgrid\":true,\"tickcolor\":\"rgb(51,51,51)\",\"ticks\":\"outside\"}},\"scene\":{\"xaxis\":{\"backgroundcolor\":\"rgb(237,237,237)\",\"gridcolor\":\"white\",\"gridwidth\":2,\"linecolor\":\"white\",\"showbackground\":true,\"showgrid\":true,\"tickcolor\":\"rgb(51,51,51)\",\"ticks\":\"outside\",\"zerolinecolor\":\"white\"},\"yaxis\":{\"backgroundcolor\":\"rgb(237,237,237)\",\"gridcolor\":\"white\",\"gridwidth\":2,\"linecolor\":\"white\",\"showbackground\":true,\"showgrid\":true,\"tickcolor\":\"rgb(51,51,51)\",\"ticks\":\"outside\",\"zerolinecolor\":\"white\"},\"zaxis\":{\"backgroundcolor\":\"rgb(237,237,237)\",\"gridcolor\":\"white\",\"gridwidth\":2,\"linecolor\":\"white\",\"showbackground\":true,\"showgrid\":true,\"tickcolor\":\"rgb(51,51,51)\",\"ticks\":\"outside\",\"zerolinecolor\":\"white\"}},\"shapedefaults\":{\"fillcolor\":\"black\",\"line\":{\"width\":0},\"opacity\":0.3},\"ternary\":{\"aaxis\":{\"gridcolor\":\"white\",\"linecolor\":\"white\",\"showgrid\":true,\"tickcolor\":\"rgb(51,51,51)\",\"ticks\":\"outside\"},\"baxis\":{\"gridcolor\":\"white\",\"linecolor\":\"white\",\"showgrid\":true,\"tickcolor\":\"rgb(51,51,51)\",\"ticks\":\"outside\"},\"bgcolor\":\"rgb(237,237,237)\",\"caxis\":{\"gridcolor\":\"white\",\"linecolor\":\"white\",\"showgrid\":true,\"tickcolor\":\"rgb(51,51,51)\",\"ticks\":\"outside\"}},\"xaxis\":{\"automargin\":true,\"gridcolor\":\"white\",\"linecolor\":\"white\",\"showgrid\":true,\"tickcolor\":\"rgb(51,51,51)\",\"ticks\":\"outside\",\"title\":{\"standoff\":15},\"zerolinecolor\":\"white\"},\"yaxis\":{\"automargin\":true,\"gridcolor\":\"white\",\"linecolor\":\"white\",\"showgrid\":true,\"tickcolor\":\"rgb(51,51,51)\",\"ticks\":\"outside\",\"title\":{\"standoff\":15},\"zerolinecolor\":\"white\"}}},\"scene\":{\"domain\":{\"x\":[0.0,1.0],\"y\":[0.0,1.0]},\"xaxis\":{\"title\":{\"text\":\"X\"}},\"yaxis\":{\"title\":{\"text\":\"Y\"}},\"zaxis\":{\"title\":{\"text\":\"Z\"}}},\"legend\":{\"tracegroupgap\":0},\"title\":{\"text\":\"Extraction of SP outside of clusters with neighbourhood length 30\"}},                        {\"responsive\": true}                    ).then(function(){\n",
       "                            \n",
       "var gd = document.getElementById('a591e98a-97a7-4b80-82d9-83c6a62e5300');\n",
       "var x = new MutationObserver(function (mutations, observer) {{\n",
       "        var display = window.getComputedStyle(gd).display;\n",
       "        if (!display || display === 'none') {{\n",
       "            console.log([gd, 'removed!']);\n",
       "            Plotly.purge(gd);\n",
       "            observer.disconnect();\n",
       "        }}\n",
       "}});\n",
       "\n",
       "// Listen for the removal of the full notebook cells\n",
       "var notebookContainer = gd.closest('#notebook-container');\n",
       "if (notebookContainer) {{\n",
       "    x.observe(notebookContainer, {childList: true});\n",
       "}}\n",
       "\n",
       "// Listen for the clearing of the current output cell\n",
       "var outputEl = gd.closest('.output');\n",
       "if (outputEl) {{\n",
       "    x.observe(outputEl, {childList: true});\n",
       "}}\n",
       "\n",
       "                        })                };                });            </script>        </div>"
      ]
     },
     "metadata": {},
     "output_type": "display_data"
    }
   ],
   "source": [
    "extract_cluster(30)[2]\n",
    "extract_cluster(30)[3]"
   ]
  },
  {
   "cell_type": "markdown",
   "id": "db767651",
   "metadata": {},
   "source": [
    "The final, updated 2D cross sections of the t-SNE model applied to the SP dataset with the neighbourhood distance is seen below"
   ]
  },
  {
   "cell_type": "code",
   "execution_count": 52,
   "id": "d156ef30",
   "metadata": {
    "scrolled": true
   },
   "outputs": [
    {
     "data": {
      "image/png": "[encoded data removed]",
      "text/plain": [
       "<Figure size 1080x288 with 3 Axes>"
      ]
     },
     "metadata": {
      "needs_background": "light"
     },
     "output_type": "display_data"
    }
   ],
   "source": [
    "circle1 = shapes.Circle((0,0),radius=30, fill=0, edgecolor=\"red\", linestyle=\"-\")\n",
    "circle2 = shapes.Circle((0,0),radius=30, fill=0, edgecolor=\"red\", linestyle=\"-\")\n",
    "circle3 = shapes.Circle((0,0),radius=30, fill=0, edgecolor=\"red\", linestyle=\"-\")\n",
    "fig = plt.figure(figsize=(15,4))\n",
    "ax1 = fig.add_subplot(131)\n",
    "ax1.scatter(wide_tSNE[:,0], wide_tSNE[:,1])\n",
    "ax1.add_patch(circle1)\n",
    "plt.xlim(-100,200)\n",
    "plt.ylim(-150,100)\n",
    "ax2 = fig.add_subplot(132)\n",
    "ax2.scatter(wide_tSNE[:,0], wide_tSNE[:,2])\n",
    "ax2.add_patch(circle2)\n",
    "plt.xlim(-100,200)\n",
    "plt.ylim(-150,100)\n",
    "ax3 = fig.add_subplot(133)\n",
    "ax3.scatter(wide_tSNE[:,1], wide_tSNE[:,2])\n",
    "ax3.add_patch(circle3)\n",
    "plt.xlim(-100,200)\n",
    "plt.ylim(-150,100)\n",
    "plt.show()"
   ]
  },
  {
   "cell_type": "markdown",
   "id": "47e77cfc",
   "metadata": {},
   "source": [
    "# 4 Bibliography & Acknowledgements"
   ]
  },
  {
   "cell_type": "markdown",
   "id": "df3c476e",
   "metadata": {},
   "source": [
    "I would like to give acknowledgement to Dr. Joseph Brock for providing me the opportunity to undertake this research. I would also like to give a huge thanks to Oliver Smith for not only providing his code (which can be found below), but also the process and approach needed for this result. Credits go to the RSB and PhB conveners for the approval of this project."
   ]
  },
  {
   "cell_type": "markdown",
   "id": "d3398ad5",
   "metadata": {},
   "source": [
    " - https://colab.research.google.com/drive/11dtzeOKwHf9RUoKxp00YVM0N9VDgfiqm?usp=sharing#scrollTo=Sg5T91_TwxBY\n",
    " - https://colab.research.google.com/drive/1dXU8pyD-2nWsJk3pmPwlLp9jb4e4HwTQ\n",
    " - https://www.uniprot.org/uniprot/?query=locations%3A%28location%3A%22Secreted+%5BSL-0243%5D%22%29+annotation%3A%28type%3Asignal%29+taxonomy%3A%22Bacillus+%5B1386%5D%22&sort=score\n",
    " - https://services.healthtech.dtu.dk/service.php?SignalP-5.0\n",
    " - https://mafft.cbrc.jp/alignment/server/\n",
    " - https://www.megasoftware.net"
   ]
  },
  {
   "cell_type": "markdown",
   "id": "d6a9f6d3",
   "metadata": {},
   "source": [
    "# 5 Appendix"
   ]
  },
  {
   "cell_type": "markdown",
   "id": "cd44d4b0",
   "metadata": {},
   "source": [
    "The following code is used for extra data analysis, but is not directly relevant to the procedure. Seen below is the effect of the `perplexities` on the maximally diverse SPs given a constant neighbourhood distance. We also scrape the dataset and write to a different file for *Bacillus Subtilis*"
   ]
  },
  {
   "cell_type": "code",
   "execution_count": 53,
   "id": "a757bcc4",
   "metadata": {},
   "outputs": [],
   "source": [
    "def perplexities(r_nhood, perplexity_var):\n",
    "    num_TSNE=3\n",
    "    metric = \"precomputed\"\n",
    "    state = 0\n",
    "    tSNE = TSNE(n_components=num_TSNE, metric=metric, random_state=state)\n",
    "    svd = TruncatedSVD(n_components=12, n_iter=13, random_state=state)\n",
    "    tSNE = make_pipeline(svd, TSNE(n_iter=250, n_components=num_TSNE, random_state=state, perplexity=perplexity_var))\n",
    "    wide_tSNE = tSNE.fit_transform(dm2)\n",
    "    tSNE_df = pd.DataFrame({'tSNE_x': wide_tSNE[:,0], 'tSNE_y': wide_tSNE[:,1],'tSNE_z': wide_tSNE[:,2]})\n",
    "    df_index = pd.DataFrame(index = distance_matrix.index)\n",
    "    tSNE_df.index = df_index.index\n",
    "    \n",
    "    inside, outside = [], []\n",
    "    neighbourhood = math.sqrt((r_nhood ** 2) * 3)\n",
    "    for idx in range(len(tSNE_df)):\n",
    "        euclid_distance = math.sqrt(tSNE_df.tSNE_x[idx] ** 2 + tSNE_df.tSNE_y[idx] ** 2 + tSNE_df.tSNE_z[idx] ** 2)\n",
    "        if euclid_distance <= neighbourhood:\n",
    "            inside.append(tSNE_df.index[idx])\n",
    "        else:\n",
    "            outside.append(tSNE_df.index[idx])\n",
    "    \n",
    "    df_1 = pd.DataFrame.copy(tSNE_df)\n",
    "    df_1 = df_1.drop(outside)\n",
    "    df_2 = pd.DataFrame.copy(tSNE_df)\n",
    "    df_2 = df_2.drop(inside)\n",
    "    \n",
    "    return inside, outside"
   ]
  },
  {
   "cell_type": "code",
   "execution_count": 54,
   "id": "83fd435b",
   "metadata": {},
   "outputs": [
    {
     "name": "stderr",
     "output_type": "stream",
     "text": [
      "/Users/pranav/opt/anaconda3/lib/python3.8/site-packages/sklearn/manifold/_t_sne.py:780: FutureWarning:\n",
      "\n",
      "The default initialization in TSNE will change from 'random' to 'pca' in 1.2.\n",
      "\n",
      "/Users/pranav/opt/anaconda3/lib/python3.8/site-packages/sklearn/manifold/_t_sne.py:790: FutureWarning:\n",
      "\n",
      "The default learning rate in TSNE will change from 200.0 to 'auto' in 1.2.\n",
      "\n",
      "/Users/pranav/opt/anaconda3/lib/python3.8/site-packages/sklearn/manifold/_t_sne.py:780: FutureWarning:\n",
      "\n",
      "The default initialization in TSNE will change from 'random' to 'pca' in 1.2.\n",
      "\n",
      "/Users/pranav/opt/anaconda3/lib/python3.8/site-packages/sklearn/manifold/_t_sne.py:790: FutureWarning:\n",
      "\n",
      "The default learning rate in TSNE will change from 200.0 to 'auto' in 1.2.\n",
      "\n"
     ]
    },
    {
     "data": {
      "text/plain": [
       "[17, 22]"
      ]
     },
     "execution_count": 54,
     "metadata": {},
     "output_type": "execute_result"
    }
   ],
   "source": [
    "perp_75 = perplexities(30, 75)[1]\n",
    "perp_30 = perplexities(30, 30)[1]\n",
    "[len(perp_30),len(perp_75)]"
   ]
  },
  {
   "cell_type": "code",
   "execution_count": null,
   "id": "9538dce7",
   "metadata": {},
   "outputs": [],
   "source": [
    "# File IO code for subtilis analysis\n",
    "new_sp = pd.read_csv(\"Book1.csv\", index_col=0)\n",
    "new_sp.drop(new_sp.tail(1).index, inplace=True)\n",
    "\n",
    "with open(\"subtillis.fasta\", 'w') as f:\n",
    "    for idx in range(1,len(new_sp)):\n",
    "        f.write(\">\" + str(new_sp.Name[idx]))\n",
    "        f.write('\\n')\n",
    "        f.write(str(new_sp[\"AA Sequence\"][idx]))\n",
    "        f.write('\\n')"
   ]
  }
 ],
 "metadata": {
  "kernelspec": {
   "display_name": "Python 3 (ipykernel)",
   "language": "python",
   "name": "python3"
  },
  "language_info": {
   "codemirror_mode": {
    "name": "ipython",
    "version": 3
   },
   "file_extension": ".py",
   "mimetype": "text/x-python",
   "name": "python",
   "nbconvert_exporter": "python",
   "pygments_lexer": "ipython3",
   "version": "3.8.12"
  },
  "vscode": {
   "interpreter": {
    "hash": "aee8b7b246df8f9039afb4144a1f6fd8d2ca17a180786b69acc140d282b71a49"
   }
  }
 },
 "nbformat": 4,
 "nbformat_minor": 5
}
