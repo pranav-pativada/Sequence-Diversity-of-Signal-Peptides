{
 "cells": [
  {
   "cell_type": "markdown",
   "id": "00776d01",
   "metadata": {},
   "source": [
    "# Visualising sequence diversity of secreted signal peptides of the Bacillus taxonomy through tSNE bio-informatic analysis"
   ]
  },
  {
   "cell_type": "markdown",
   "id": "2494b643",
   "metadata": {},
   "source": [
    "*This notebook aims to provide a procedure for visualising the sequence diversity of secreted signal peptides using a t-distributed stochastic neighbor embedding (tSNE) manifold learning approach. tSNE is a common data analysis pipeline used in bioinformatics and has had successfull results in researching deep sequencing. This method has now been adapted to visualise sequence diversity. Through the formation of 2D or 3D clusters, we  aim to identify distinctions in the different sets of signal peptide sequences through this approach. Provided below is a full procedure starting from characterisation and processing to PAM distances and visualisation. Included here is the code necessary to conduct this analysis. We apply this approach to the Bacillus genus, the primary focus of this project.*"
   ]
  },
  {
   "cell_type": "markdown",
   "id": "d69b0224",
   "metadata": {},
   "source": [
    "## 1. Characterisation and Processing of Bacillus genus\n",
    "## 1.1 Advanced search with UniprotKB\n",
    "\n",
    "An advanced search on the UniprotKB database was done to characterise all amino acid sequences of secreted signal peptides (SP's) pertaining to the Bacillus genome. This was done with the following as input: `locations:(location:\"Secreted [SL-0243]\") annotation:(type:signal) taxonomy:\"Bacillus [1386]\".`\n",
    "\n",
    "6889 sequences were collected from this advanced search. All entries were then downloaded as a compressed Fasta (canonical) file from the UniprotKB database. Using the `pyfasta` package, the fasta file was divided into two sets of seperate fasta files containing 3319 (`uniprot0.fasta`) and 3570 sequences (`uniprot1.fasta`) respectively. We use the `split` command as follows through the cmd `shell` as `pyfasta split -n 2 input.fasta`. \n",
    "\n",
    "## 1.2 SignalP 5.0 Cleavage Site Prediction\n",
    "These variety of SP sequences were then input into SignalP 5.0 with input as `organism: Eukarya, output: long format` for a prediction of their cleavage sites. After propogation, results were downloaded as a `JSON` summary, processed `gff3` summary, processed `FASTA` entries, prediction summary and as an overall `zip` file. This was done for the `FASTA` files outlined above obtained from the UniprotKB database. \n",
    "\n",
    "## 1.3 `gff3` and `FASTA` Extraction\n",
    "The processed `gff3` files that contained the predicted cleavage site of SP's were then transformed to a 5+ post-cleavage prediction. (**WHY??**). We use the following command with `awk`.\n",
    "\n",
    "`awk  '{$5=$5+5; print $0}' OFS='\\t' yourfile.gtf > outputfile.txt`\n",
    " - `yourfile.gtf` refers to the `.gff3` file taken from SignalP. Replace this with `/path/to/yourfile.gff3`. Note: In later formats `.gtf` is equivalent to `.gff3`.\n",
    " - `outputfile.txt` refers to the file with the +5 post predicted cleavage sites. Create an `name_output.gff3` using `touch` and then replace with `/path/to/name_output.gff3`.\n",
    "\n",
    "These converted `gff3` were then used to extract the `fasta` files of the processed SP's as they contained the corresponding sequence sets needed. We use the BEDTools2 suite for the extraction of these `fasta` files. Installation procedures are found here: https://software.broadinstitute.org/software/igv/installbedtools. Once installed, the following command was used for extraction. The command-line interface is described below:\n",
    "\n",
    "`bedtools getfasta -fi <input FASTA> -bed <BED/GFF/VCF> -fo <output FASTA>`\n",
    "\n",
    " - `<input FASTA>` corresponds to the raw `fasta` files containing the processed SP's from SignalP. Replace with `/path/to/input.fasta`\n",
    " - `<BED/GFF?VCF>` corresponds to the sequence set to be extracted from `<input FASTA>`. Replace with `/path/to/outputfile.gff3`.\n",
    " - `<output FASTA>` corresponds to the extracted `fasta` output file from `<input FASTA>` and the processed `gff3` entries. Replace with `/path/to/output.fasta`. Create `output.fasta` file using `touch` in cmd-line.\n",
    " - Execute command in `/path/to/bedtools_installation/bin` directory with `./command`.\n",
    " \n",
    "Once extracted, given in the beginning the `FASTA` files were split into two, the separate extracted `FASTA` files were combined back together for MAFFT sequence alignment. This was done as follows.\n",
    "\n",
    "`cat name_output1.fasta name_output2.fasta > name_combined_output.fasta`"
   ]
  },
  {
   "cell_type": "markdown",
   "id": "3c9590fb",
   "metadata": {},
   "source": [
    "## 2. Pairwise Distance Calculation\n",
    "## 2.1 MAFFT Sequence Alignment\n",
    "Extracted `FASTA` files were then put into a MAFFT (Multiple Alignment using Fast Fourier Transform) to align the sequences. This was done with the MAFFT online service, with input as the combined `FASTA` output file outlined above and with all settings as default. The result of SP sequence alignment was then downloaded as a `FASTA` file as the input to computing the pairwise distance.\n",
    "\n",
    "## 2.2 MEGA11 Pairwise Distance Computation\n",
    "MEGA11 Software was downloaded as a GUI interface. This was used to calculate the pairwise distance and generate a pairwise distance matrix under the Dayhoff Model. We use the Dayhoff Model since the model decreased the scaterredness of the calculations, making it more suitable for a t-SNE analysis conducted later.\n",
    " - **Computer Pairwise Distance > Select `fasta` input > Select Pairwise Distance > Lower Left Matrix > Analysis Preferences > Select Dayhoff Model > OK**\n",
    "\n",
    "The output was then downloaded as a MEGA `.txt` file and then converted into a `.csv`. This was done so that there was no size restriction on the output distance matrix. The code for this is written by Oliver Smith. This is shown below, with slight modifications."
   ]
  },
  {
   "cell_type": "code",
   "execution_count": null,
   "id": "c8ba961b",
   "metadata": {},
   "outputs": [],
   "source": [
    "\"\"\"\n",
    "Converts a MEGA11 text file to a CSV file.\n",
    "Saves as a complete matrix with 0-distance identity diagonal and with %8f precision.\n",
    "NOTE: Do not run this code in the Notebook as it does not contain the fasta input.\n",
    "\"\"\"\n",
    "\n",
    "args_input = \"name_of_mega11_file.txt\"\n",
    "args_output = \"output_megatocsv.csv\"\n",
    "\n",
    "def megatocsv(args_input, args_output):\n",
    "    names = []\n",
    "    rows = []\n",
    "    seen_names = False\n",
    "    seen_data = False\n",
    "    with open(args_input, 'rt') as f:\n",
    "        for line in f:\n",
    "            if seen_names and seen_data:\n",
    "                if len(line.strip()) == 0:\n",
    "                    # empty line after data matrix\n",
    "                    break  # we're done!\n",
    "                # collect data and when done, finish up\n",
    "                # separate sample names see if we're past the column headers\n",
    "                name_cols = line.split(']')[0].replace('[','').strip().split()\n",
    "                if len(name_cols) > 1:\n",
    "                    continue  # skip the column header row\n",
    "                data_cols = line.split(']')[1].strip().split()\n",
    "                data_cols.append('')\n",
    "                rows.append(data_cols)\n",
    "                continue\n",
    "            if not seen_names and not line.startswith('['):\n",
    "                continue\n",
    "            if not seen_names and line.startswith('['):\n",
    "                seen_names = True\n",
    "            if seen_names and not seen_data:\n",
    "                if len(line.strip()) == 0:\n",
    "                    # empty line after name section!\n",
    "                    seen_data = True\n",
    "                    continue\n",
    "                name = line.split('#',1)[1].strip()\n",
    "                names.append(name)\n",
    "\n",
    "    with open(args_output, 'wt') as outf:\n",
    "        outline = ',' + ','.join(names)\n",
    "        print(outline, file=outf)\n",
    "        for i, row in enumerate(rows):\n",
    "            outline = names[i] + ',' + ','.join(row)\n",
    "            print(outline, file=outf)\n",
    "\n",
    "# Grab output\n",
    "megatocsv(args_input, args_output)"
   ]
  },
  {
   "cell_type": "markdown",
   "id": "db83154c",
   "metadata": {},
   "source": [
    "## 3. Visualisation using Manifold learning and t-SNE analysis\n",
    "We implement a truncated SVD (singular value decomposition) followed by a t-SNE (t-distributed stochastic neighbour) to visualise the SP's in relation to each other and to ideally obtain distinct clusters through application of these models to our distance matrix. This process is show below and is done with a sample matrix of reviewed sequences of the Bacillus taxonomy (with 113 sequences) for simplicity. All of the code below is written by Oliver Smith, with slight modifications and added comments for clarity.\n",
    "\n",
    "## 3.1 Conversion of LT distance matrix to square matrix\n",
    "We convert from a lower triangular distance matrix to a full square matrix for SVD (as eigendecomposition is limited to square-only). The following code illustrates how to do so. "
   ]
  },
  {
   "cell_type": "code",
   "execution_count": 1,
   "id": "86987ab4",
   "metadata": {},
   "outputs": [],
   "source": [
    "import numpy as np\n",
    "import numpy.ma as ma\n",
    "import pandas as pd\n",
    "import matplotlib.pyplot as plt\n",
    "import sklearn as skl\n",
    "import plotly.express as px\n",
    "from sklearn.decomposition import PCA, TruncatedSVD\n",
    "from sklearn.manifold import TSNE\n",
    "from sklearn.pipeline import make_pipeline\n",
    "from scipy.sparse.linalg import svds\n",
    "from functools import partial"
   ]
  },
  {
   "cell_type": "markdown",
   "id": "be0ac7bf",
   "metadata": {},
   "source": [
    "We first establish the distance matrix as a `dataframe (df)`, using the 0th column as the `df` names. We then check that the dataframe has been established and call the default `head` method to see the first 5 entries."
   ]
  },
  {
   "cell_type": "code",
   "execution_count": 2,
   "id": "bae49f5a",
   "metadata": {},
   "outputs": [
    {
     "data": {
      "text/html": [
       "<div>\n",
       "<style scoped>\n",
       "    .dataframe tbody tr th:only-of-type {\n",
       "        vertical-align: middle;\n",
       "    }\n",
       "\n",
       "    .dataframe tbody tr th {\n",
       "        vertical-align: top;\n",
       "    }\n",
       "\n",
       "    .dataframe thead th {\n",
       "        text-align: right;\n",
       "    }\n",
       "</style>\n",
       "<table border=\"1\" class=\"dataframe\">\n",
       "  <thead>\n",
       "    <tr style=\"text-align: right;\">\n",
       "      <th></th>\n",
       "      <th>sp_P40136_CYAA_BACAN:0-33</th>\n",
       "      <th>sp_P21130_SACB_BACAM:0-34</th>\n",
       "      <th>sp_P05655_SACB_BACSU:0-34</th>\n",
       "      <th>sp_P13423_PAG_BACAN:0-25</th>\n",
       "      <th>sp_P39848_LYTD_BACSU:0-32</th>\n",
       "      <th>sp_Q02114_LYTC_BACSU:0-29</th>\n",
       "      <th>sp_P80172_HBLA_BACCE:0-26</th>\n",
       "      <th>sp_P42111_YXAL_BACSU:0-29</th>\n",
       "      <th>sp_P54507_TASA_BACSU:0-32</th>\n",
       "      <th>sp_P55278_MANB_BACIU:0-29</th>\n",
       "      <th>...</th>\n",
       "      <th>sp_O31097_PHYC_BACIU:0-31</th>\n",
       "      <th>sp_P42094_PHYT_BACSU:0-31</th>\n",
       "      <th>sp_P05656_SACC_BACSU:0-29</th>\n",
       "      <th>sp_P06278_AMY_BACLI:0-34</th>\n",
       "      <th>sp_P00692_AMY_BACAM:0-36</th>\n",
       "      <th>sp_P19571_AMT6_BACS7:0-38</th>\n",
       "      <th>sp_O31526_YESW_BACSU:0-40</th>\n",
       "      <th>sp_P54422_GGT_BACSU:0-33</th>\n",
       "      <th>sp_P63186_GGT_BACNA:0-33</th>\n",
       "      <th>sp_P42983_NUCB_BACSU:0-31</th>\n",
       "    </tr>\n",
       "  </thead>\n",
       "  <tbody>\n",
       "    <tr>\n",
       "      <th>sp_P40136_CYAA_BACAN:0-33</th>\n",
       "      <td>NaN</td>\n",
       "      <td>NaN</td>\n",
       "      <td>NaN</td>\n",
       "      <td>NaN</td>\n",
       "      <td>NaN</td>\n",
       "      <td>NaN</td>\n",
       "      <td>NaN</td>\n",
       "      <td>NaN</td>\n",
       "      <td>NaN</td>\n",
       "      <td>NaN</td>\n",
       "      <td>...</td>\n",
       "      <td>NaN</td>\n",
       "      <td>NaN</td>\n",
       "      <td>NaN</td>\n",
       "      <td>NaN</td>\n",
       "      <td>NaN</td>\n",
       "      <td>NaN</td>\n",
       "      <td>NaN</td>\n",
       "      <td>NaN</td>\n",
       "      <td>NaN</td>\n",
       "      <td>NaN</td>\n",
       "    </tr>\n",
       "    <tr>\n",
       "      <th>sp_P21130_SACB_BACAM:0-34</th>\n",
       "      <td>2.317421</td>\n",
       "      <td>NaN</td>\n",
       "      <td>NaN</td>\n",
       "      <td>NaN</td>\n",
       "      <td>NaN</td>\n",
       "      <td>NaN</td>\n",
       "      <td>NaN</td>\n",
       "      <td>NaN</td>\n",
       "      <td>NaN</td>\n",
       "      <td>NaN</td>\n",
       "      <td>...</td>\n",
       "      <td>NaN</td>\n",
       "      <td>NaN</td>\n",
       "      <td>NaN</td>\n",
       "      <td>NaN</td>\n",
       "      <td>NaN</td>\n",
       "      <td>NaN</td>\n",
       "      <td>NaN</td>\n",
       "      <td>NaN</td>\n",
       "      <td>NaN</td>\n",
       "      <td>NaN</td>\n",
       "    </tr>\n",
       "    <tr>\n",
       "      <th>sp_P05655_SACB_BACSU:0-34</th>\n",
       "      <td>2.188216</td>\n",
       "      <td>0.147131</td>\n",
       "      <td>NaN</td>\n",
       "      <td>NaN</td>\n",
       "      <td>NaN</td>\n",
       "      <td>NaN</td>\n",
       "      <td>NaN</td>\n",
       "      <td>NaN</td>\n",
       "      <td>NaN</td>\n",
       "      <td>NaN</td>\n",
       "      <td>...</td>\n",
       "      <td>NaN</td>\n",
       "      <td>NaN</td>\n",
       "      <td>NaN</td>\n",
       "      <td>NaN</td>\n",
       "      <td>NaN</td>\n",
       "      <td>NaN</td>\n",
       "      <td>NaN</td>\n",
       "      <td>NaN</td>\n",
       "      <td>NaN</td>\n",
       "      <td>NaN</td>\n",
       "    </tr>\n",
       "    <tr>\n",
       "      <th>sp_P13423_PAG_BACAN:0-25</th>\n",
       "      <td>5.900376</td>\n",
       "      <td>4.178429</td>\n",
       "      <td>5.105374</td>\n",
       "      <td>NaN</td>\n",
       "      <td>NaN</td>\n",
       "      <td>NaN</td>\n",
       "      <td>NaN</td>\n",
       "      <td>NaN</td>\n",
       "      <td>NaN</td>\n",
       "      <td>NaN</td>\n",
       "      <td>...</td>\n",
       "      <td>NaN</td>\n",
       "      <td>NaN</td>\n",
       "      <td>NaN</td>\n",
       "      <td>NaN</td>\n",
       "      <td>NaN</td>\n",
       "      <td>NaN</td>\n",
       "      <td>NaN</td>\n",
       "      <td>NaN</td>\n",
       "      <td>NaN</td>\n",
       "      <td>NaN</td>\n",
       "    </tr>\n",
       "    <tr>\n",
       "      <th>sp_P39848_LYTD_BACSU:0-32</th>\n",
       "      <td>3.187045</td>\n",
       "      <td>3.566499</td>\n",
       "      <td>2.862577</td>\n",
       "      <td>7.745792</td>\n",
       "      <td>NaN</td>\n",
       "      <td>NaN</td>\n",
       "      <td>NaN</td>\n",
       "      <td>NaN</td>\n",
       "      <td>NaN</td>\n",
       "      <td>NaN</td>\n",
       "      <td>...</td>\n",
       "      <td>NaN</td>\n",
       "      <td>NaN</td>\n",
       "      <td>NaN</td>\n",
       "      <td>NaN</td>\n",
       "      <td>NaN</td>\n",
       "      <td>NaN</td>\n",
       "      <td>NaN</td>\n",
       "      <td>NaN</td>\n",
       "      <td>NaN</td>\n",
       "      <td>NaN</td>\n",
       "    </tr>\n",
       "  </tbody>\n",
       "</table>\n",
       "<p>5 rows × 113 columns</p>\n",
       "</div>"
      ],
      "text/plain": [
       "                           sp_P40136_CYAA_BACAN:0-33  \\\n",
       "sp_P40136_CYAA_BACAN:0-33                        NaN   \n",
       "sp_P21130_SACB_BACAM:0-34                   2.317421   \n",
       "sp_P05655_SACB_BACSU:0-34                   2.188216   \n",
       "sp_P13423_PAG_BACAN:0-25                    5.900376   \n",
       "sp_P39848_LYTD_BACSU:0-32                   3.187045   \n",
       "\n",
       "                           sp_P21130_SACB_BACAM:0-34  \\\n",
       "sp_P40136_CYAA_BACAN:0-33                        NaN   \n",
       "sp_P21130_SACB_BACAM:0-34                        NaN   \n",
       "sp_P05655_SACB_BACSU:0-34                   0.147131   \n",
       "sp_P13423_PAG_BACAN:0-25                    4.178429   \n",
       "sp_P39848_LYTD_BACSU:0-32                   3.566499   \n",
       "\n",
       "                           sp_P05655_SACB_BACSU:0-34  \\\n",
       "sp_P40136_CYAA_BACAN:0-33                        NaN   \n",
       "sp_P21130_SACB_BACAM:0-34                        NaN   \n",
       "sp_P05655_SACB_BACSU:0-34                        NaN   \n",
       "sp_P13423_PAG_BACAN:0-25                    5.105374   \n",
       "sp_P39848_LYTD_BACSU:0-32                   2.862577   \n",
       "\n",
       "                           sp_P13423_PAG_BACAN:0-25  \\\n",
       "sp_P40136_CYAA_BACAN:0-33                       NaN   \n",
       "sp_P21130_SACB_BACAM:0-34                       NaN   \n",
       "sp_P05655_SACB_BACSU:0-34                       NaN   \n",
       "sp_P13423_PAG_BACAN:0-25                        NaN   \n",
       "sp_P39848_LYTD_BACSU:0-32                  7.745792   \n",
       "\n",
       "                           sp_P39848_LYTD_BACSU:0-32  \\\n",
       "sp_P40136_CYAA_BACAN:0-33                        NaN   \n",
       "sp_P21130_SACB_BACAM:0-34                        NaN   \n",
       "sp_P05655_SACB_BACSU:0-34                        NaN   \n",
       "sp_P13423_PAG_BACAN:0-25                         NaN   \n",
       "sp_P39848_LYTD_BACSU:0-32                        NaN   \n",
       "\n",
       "                          sp_Q02114_LYTC_BACSU:0-29 sp_P80172_HBLA_BACCE:0-26  \\\n",
       "sp_P40136_CYAA_BACAN:0-33                       NaN                       NaN   \n",
       "sp_P21130_SACB_BACAM:0-34                       NaN                       NaN   \n",
       "sp_P05655_SACB_BACSU:0-34                       NaN                       NaN   \n",
       "sp_P13423_PAG_BACAN:0-25                        NaN                       NaN   \n",
       "sp_P39848_LYTD_BACSU:0-32                       NaN                       NaN   \n",
       "\n",
       "                          sp_P42111_YXAL_BACSU:0-29  \\\n",
       "sp_P40136_CYAA_BACAN:0-33                       NaN   \n",
       "sp_P21130_SACB_BACAM:0-34                       NaN   \n",
       "sp_P05655_SACB_BACSU:0-34                       NaN   \n",
       "sp_P13423_PAG_BACAN:0-25                        NaN   \n",
       "sp_P39848_LYTD_BACSU:0-32                       NaN   \n",
       "\n",
       "                           sp_P54507_TASA_BACSU:0-32  \\\n",
       "sp_P40136_CYAA_BACAN:0-33                        NaN   \n",
       "sp_P21130_SACB_BACAM:0-34                        NaN   \n",
       "sp_P05655_SACB_BACSU:0-34                        NaN   \n",
       "sp_P13423_PAG_BACAN:0-25                         NaN   \n",
       "sp_P39848_LYTD_BACSU:0-32                        NaN   \n",
       "\n",
       "                           sp_P55278_MANB_BACIU:0-29  ...  \\\n",
       "sp_P40136_CYAA_BACAN:0-33                        NaN  ...   \n",
       "sp_P21130_SACB_BACAM:0-34                        NaN  ...   \n",
       "sp_P05655_SACB_BACSU:0-34                        NaN  ...   \n",
       "sp_P13423_PAG_BACAN:0-25                         NaN  ...   \n",
       "sp_P39848_LYTD_BACSU:0-32                        NaN  ...   \n",
       "\n",
       "                          sp_O31097_PHYC_BACIU:0-31 sp_P42094_PHYT_BACSU:0-31  \\\n",
       "sp_P40136_CYAA_BACAN:0-33                       NaN                       NaN   \n",
       "sp_P21130_SACB_BACAM:0-34                       NaN                       NaN   \n",
       "sp_P05655_SACB_BACSU:0-34                       NaN                       NaN   \n",
       "sp_P13423_PAG_BACAN:0-25                        NaN                       NaN   \n",
       "sp_P39848_LYTD_BACSU:0-32                       NaN                       NaN   \n",
       "\n",
       "                           sp_P05656_SACC_BACSU:0-29 sp_P06278_AMY_BACLI:0-34  \\\n",
       "sp_P40136_CYAA_BACAN:0-33                        NaN                      NaN   \n",
       "sp_P21130_SACB_BACAM:0-34                        NaN                      NaN   \n",
       "sp_P05655_SACB_BACSU:0-34                        NaN                      NaN   \n",
       "sp_P13423_PAG_BACAN:0-25                         NaN                      NaN   \n",
       "sp_P39848_LYTD_BACSU:0-32                        NaN                      NaN   \n",
       "\n",
       "                          sp_P00692_AMY_BACAM:0-36 sp_P19571_AMT6_BACS7:0-38  \\\n",
       "sp_P40136_CYAA_BACAN:0-33                      NaN                       NaN   \n",
       "sp_P21130_SACB_BACAM:0-34                      NaN                       NaN   \n",
       "sp_P05655_SACB_BACSU:0-34                      NaN                       NaN   \n",
       "sp_P13423_PAG_BACAN:0-25                       NaN                       NaN   \n",
       "sp_P39848_LYTD_BACSU:0-32                      NaN                       NaN   \n",
       "\n",
       "                           sp_O31526_YESW_BACSU:0-40  \\\n",
       "sp_P40136_CYAA_BACAN:0-33                        NaN   \n",
       "sp_P21130_SACB_BACAM:0-34                        NaN   \n",
       "sp_P05655_SACB_BACSU:0-34                        NaN   \n",
       "sp_P13423_PAG_BACAN:0-25                         NaN   \n",
       "sp_P39848_LYTD_BACSU:0-32                        NaN   \n",
       "\n",
       "                           sp_P54422_GGT_BACSU:0-33 sp_P63186_GGT_BACNA:0-33  \\\n",
       "sp_P40136_CYAA_BACAN:0-33                       NaN                      NaN   \n",
       "sp_P21130_SACB_BACAM:0-34                       NaN                      NaN   \n",
       "sp_P05655_SACB_BACSU:0-34                       NaN                      NaN   \n",
       "sp_P13423_PAG_BACAN:0-25                        NaN                      NaN   \n",
       "sp_P39848_LYTD_BACSU:0-32                       NaN                      NaN   \n",
       "\n",
       "                           sp_P42983_NUCB_BACSU:0-31  \n",
       "sp_P40136_CYAA_BACAN:0-33                        NaN  \n",
       "sp_P21130_SACB_BACAM:0-34                        NaN  \n",
       "sp_P05655_SACB_BACSU:0-34                        NaN  \n",
       "sp_P13423_PAG_BACAN:0-25                         NaN  \n",
       "sp_P39848_LYTD_BACSU:0-32                        NaN  \n",
       "\n",
       "[5 rows x 113 columns]"
      ]
     },
     "execution_count": 2,
     "metadata": {},
     "output_type": "execute_result"
    }
   ],
   "source": [
    "distance_matrix = pd.read_csv(\"sample_distancematrix.csv\", index_col=0)\n",
    "# Check that df has been established\n",
    "type(distance_matrix)\n",
    "distance_matrix.head()"
   ]
  },
  {
   "cell_type": "markdown",
   "id": "2f043abb",
   "metadata": {},
   "source": [
    "We then convert the distance matrix into a `numpy` array. This is because they are more optimised and are easier to use when under SVD/t-SNE analysis. We replace the `?` and `nan` entries of the `distance_matrix (dm)` with the `numpy` equivalent, `np.nan` and then update the main diagonal of the matrix to be all zeroes."
   ]
  },
  {
   "cell_type": "code",
   "execution_count": 59,
   "id": "2a237d2b",
   "metadata": {},
   "outputs": [
    {
     "data": {
      "text/plain": [
       "(113, 113)"
      ]
     },
     "execution_count": 59,
     "metadata": {},
     "output_type": "execute_result"
    }
   ],
   "source": [
    "dm = distance_matrix\n",
    "dm = dm.replace('?', np.nan)\n",
    "dm = dm.replace('nan', np.nan)\n",
    "dm = np.array(dm, dtype=np.double)\n",
    "np.fill_diagonal(dm, np.double(0))\n",
    "dm.shape"
   ]
  },
  {
   "cell_type": "markdown",
   "id": "b5b672e8",
   "metadata": {},
   "source": [
    "We convert the current `distance_matrix`, a lower triangular matrix, to be a square matrix by essentially mirroring the lower triangular entries across the main diagonal that is filled with zeroes. This is done by asserting the `isnan` condition onto the matrix."
   ]
  },
  {
   "cell_type": "code",
   "execution_count": 60,
   "id": "6e399033",
   "metadata": {},
   "outputs": [],
   "source": [
    "inds = np.where(np.isnan(dm))\n",
    "for row,col in zip(inds[0],inds[1]):\n",
    "    if not np.isnan(dm[col,row]):\n",
    "        dm[row,col] = dm[col,row]\n",
    "        \n",
    "#print(inds[0], inds[1])\n",
    "#print(dm[10])"
   ]
  },
  {
   "cell_type": "markdown",
   "id": "4290c883",
   "metadata": {},
   "source": [
    "We then replace missing values in the matrix with 0. This allows us to perform an expectation maximisation \n",
    "algorithm such that when we apply t-SNE we can get more distinct clusters. Missing values would ideally be replaced by a model or search that could take in adjacent values and calculate the best estimate. Then, we update the `df` by adding the rows and columns to the dataset as the  values of the indexes and columns from the original distance matrix. Repeat check that the `df` has been established and call `head`."
   ]
  },
  {
   "cell_type": "code",
   "execution_count": 61,
   "id": "13cd857b",
   "metadata": {},
   "outputs": [
    {
     "data": {
      "text/html": [
       "<div>\n",
       "<style scoped>\n",
       "    .dataframe tbody tr th:only-of-type {\n",
       "        vertical-align: middle;\n",
       "    }\n",
       "\n",
       "    .dataframe tbody tr th {\n",
       "        vertical-align: top;\n",
       "    }\n",
       "\n",
       "    .dataframe thead th {\n",
       "        text-align: right;\n",
       "    }\n",
       "</style>\n",
       "<table border=\"1\" class=\"dataframe\">\n",
       "  <thead>\n",
       "    <tr style=\"text-align: right;\">\n",
       "      <th></th>\n",
       "      <th>sp_P40136_CYAA_BACAN:0-33</th>\n",
       "      <th>sp_P21130_SACB_BACAM:0-34</th>\n",
       "      <th>sp_P05655_SACB_BACSU:0-34</th>\n",
       "      <th>sp_P13423_PAG_BACAN:0-25</th>\n",
       "      <th>sp_P39848_LYTD_BACSU:0-32</th>\n",
       "      <th>sp_Q02114_LYTC_BACSU:0-29</th>\n",
       "      <th>sp_P80172_HBLA_BACCE:0-26</th>\n",
       "      <th>sp_P42111_YXAL_BACSU:0-29</th>\n",
       "      <th>sp_P54507_TASA_BACSU:0-32</th>\n",
       "      <th>sp_P55278_MANB_BACIU:0-29</th>\n",
       "      <th>...</th>\n",
       "      <th>sp_O31097_PHYC_BACIU:0-31</th>\n",
       "      <th>sp_P42094_PHYT_BACSU:0-31</th>\n",
       "      <th>sp_P05656_SACC_BACSU:0-29</th>\n",
       "      <th>sp_P06278_AMY_BACLI:0-34</th>\n",
       "      <th>sp_P00692_AMY_BACAM:0-36</th>\n",
       "      <th>sp_P19571_AMT6_BACS7:0-38</th>\n",
       "      <th>sp_O31526_YESW_BACSU:0-40</th>\n",
       "      <th>sp_P54422_GGT_BACSU:0-33</th>\n",
       "      <th>sp_P63186_GGT_BACNA:0-33</th>\n",
       "      <th>sp_P42983_NUCB_BACSU:0-31</th>\n",
       "    </tr>\n",
       "  </thead>\n",
       "  <tbody>\n",
       "    <tr>\n",
       "      <th>sp_P40136_CYAA_BACAN:0-33</th>\n",
       "      <td>0.000000</td>\n",
       "      <td>2.317421</td>\n",
       "      <td>2.188216</td>\n",
       "      <td>5.900376</td>\n",
       "      <td>3.187045</td>\n",
       "      <td>2.134463</td>\n",
       "      <td>2.753953</td>\n",
       "      <td>7.176877</td>\n",
       "      <td>4.829661</td>\n",
       "      <td>7.856491</td>\n",
       "      <td>...</td>\n",
       "      <td>1.620990</td>\n",
       "      <td>2.510162</td>\n",
       "      <td>1.179514</td>\n",
       "      <td>53.652969</td>\n",
       "      <td>52.745164</td>\n",
       "      <td>53.329844</td>\n",
       "      <td>50.706240</td>\n",
       "      <td>3.714513</td>\n",
       "      <td>3.463632</td>\n",
       "      <td>4.275441</td>\n",
       "    </tr>\n",
       "    <tr>\n",
       "      <th>sp_P21130_SACB_BACAM:0-34</th>\n",
       "      <td>2.317421</td>\n",
       "      <td>0.000000</td>\n",
       "      <td>0.147131</td>\n",
       "      <td>4.178429</td>\n",
       "      <td>3.566499</td>\n",
       "      <td>2.185370</td>\n",
       "      <td>44.018959</td>\n",
       "      <td>38.817980</td>\n",
       "      <td>8.431565</td>\n",
       "      <td>6.234329</td>\n",
       "      <td>...</td>\n",
       "      <td>4.485779</td>\n",
       "      <td>9.769631</td>\n",
       "      <td>2.937044</td>\n",
       "      <td>50.319249</td>\n",
       "      <td>48.956656</td>\n",
       "      <td>49.100947</td>\n",
       "      <td>45.714417</td>\n",
       "      <td>4.449110</td>\n",
       "      <td>4.463927</td>\n",
       "      <td>2.878167</td>\n",
       "    </tr>\n",
       "    <tr>\n",
       "      <th>sp_P05655_SACB_BACSU:0-34</th>\n",
       "      <td>2.188216</td>\n",
       "      <td>0.147131</td>\n",
       "      <td>0.000000</td>\n",
       "      <td>5.105374</td>\n",
       "      <td>2.862577</td>\n",
       "      <td>2.017437</td>\n",
       "      <td>43.985606</td>\n",
       "      <td>39.767671</td>\n",
       "      <td>8.411944</td>\n",
       "      <td>7.485056</td>\n",
       "      <td>...</td>\n",
       "      <td>4.396860</td>\n",
       "      <td>8.238085</td>\n",
       "      <td>3.221941</td>\n",
       "      <td>48.857431</td>\n",
       "      <td>46.744581</td>\n",
       "      <td>47.012263</td>\n",
       "      <td>44.749592</td>\n",
       "      <td>5.067732</td>\n",
       "      <td>5.106598</td>\n",
       "      <td>2.601913</td>\n",
       "    </tr>\n",
       "    <tr>\n",
       "      <th>sp_P13423_PAG_BACAN:0-25</th>\n",
       "      <td>5.900376</td>\n",
       "      <td>4.178429</td>\n",
       "      <td>5.105374</td>\n",
       "      <td>0.000000</td>\n",
       "      <td>7.745792</td>\n",
       "      <td>3.058221</td>\n",
       "      <td>5.141543</td>\n",
       "      <td>3.105309</td>\n",
       "      <td>3.692654</td>\n",
       "      <td>2.077945</td>\n",
       "      <td>...</td>\n",
       "      <td>6.881202</td>\n",
       "      <td>7.984787</td>\n",
       "      <td>52.259433</td>\n",
       "      <td>3.888638</td>\n",
       "      <td>3.104124</td>\n",
       "      <td>3.047514</td>\n",
       "      <td>9.577735</td>\n",
       "      <td>11.049531</td>\n",
       "      <td>11.331024</td>\n",
       "      <td>44.312276</td>\n",
       "    </tr>\n",
       "    <tr>\n",
       "      <th>sp_P39848_LYTD_BACSU:0-32</th>\n",
       "      <td>3.187045</td>\n",
       "      <td>3.566499</td>\n",
       "      <td>2.862577</td>\n",
       "      <td>7.745792</td>\n",
       "      <td>0.000000</td>\n",
       "      <td>3.027406</td>\n",
       "      <td>3.949565</td>\n",
       "      <td>3.109435</td>\n",
       "      <td>2.396294</td>\n",
       "      <td>39.035636</td>\n",
       "      <td>...</td>\n",
       "      <td>10.723750</td>\n",
       "      <td>42.284157</td>\n",
       "      <td>6.344020</td>\n",
       "      <td>51.055230</td>\n",
       "      <td>50.336309</td>\n",
       "      <td>3.691861</td>\n",
       "      <td>41.588930</td>\n",
       "      <td>6.186906</td>\n",
       "      <td>6.201986</td>\n",
       "      <td>2.450963</td>\n",
       "    </tr>\n",
       "  </tbody>\n",
       "</table>\n",
       "<p>5 rows × 113 columns</p>\n",
       "</div>"
      ],
      "text/plain": [
       "                           sp_P40136_CYAA_BACAN:0-33  \\\n",
       "sp_P40136_CYAA_BACAN:0-33                   0.000000   \n",
       "sp_P21130_SACB_BACAM:0-34                   2.317421   \n",
       "sp_P05655_SACB_BACSU:0-34                   2.188216   \n",
       "sp_P13423_PAG_BACAN:0-25                    5.900376   \n",
       "sp_P39848_LYTD_BACSU:0-32                   3.187045   \n",
       "\n",
       "                           sp_P21130_SACB_BACAM:0-34  \\\n",
       "sp_P40136_CYAA_BACAN:0-33                   2.317421   \n",
       "sp_P21130_SACB_BACAM:0-34                   0.000000   \n",
       "sp_P05655_SACB_BACSU:0-34                   0.147131   \n",
       "sp_P13423_PAG_BACAN:0-25                    4.178429   \n",
       "sp_P39848_LYTD_BACSU:0-32                   3.566499   \n",
       "\n",
       "                           sp_P05655_SACB_BACSU:0-34  \\\n",
       "sp_P40136_CYAA_BACAN:0-33                   2.188216   \n",
       "sp_P21130_SACB_BACAM:0-34                   0.147131   \n",
       "sp_P05655_SACB_BACSU:0-34                   0.000000   \n",
       "sp_P13423_PAG_BACAN:0-25                    5.105374   \n",
       "sp_P39848_LYTD_BACSU:0-32                   2.862577   \n",
       "\n",
       "                           sp_P13423_PAG_BACAN:0-25  \\\n",
       "sp_P40136_CYAA_BACAN:0-33                  5.900376   \n",
       "sp_P21130_SACB_BACAM:0-34                  4.178429   \n",
       "sp_P05655_SACB_BACSU:0-34                  5.105374   \n",
       "sp_P13423_PAG_BACAN:0-25                   0.000000   \n",
       "sp_P39848_LYTD_BACSU:0-32                  7.745792   \n",
       "\n",
       "                           sp_P39848_LYTD_BACSU:0-32  \\\n",
       "sp_P40136_CYAA_BACAN:0-33                   3.187045   \n",
       "sp_P21130_SACB_BACAM:0-34                   3.566499   \n",
       "sp_P05655_SACB_BACSU:0-34                   2.862577   \n",
       "sp_P13423_PAG_BACAN:0-25                    7.745792   \n",
       "sp_P39848_LYTD_BACSU:0-32                   0.000000   \n",
       "\n",
       "                           sp_Q02114_LYTC_BACSU:0-29  \\\n",
       "sp_P40136_CYAA_BACAN:0-33                   2.134463   \n",
       "sp_P21130_SACB_BACAM:0-34                   2.185370   \n",
       "sp_P05655_SACB_BACSU:0-34                   2.017437   \n",
       "sp_P13423_PAG_BACAN:0-25                    3.058221   \n",
       "sp_P39848_LYTD_BACSU:0-32                   3.027406   \n",
       "\n",
       "                           sp_P80172_HBLA_BACCE:0-26  \\\n",
       "sp_P40136_CYAA_BACAN:0-33                   2.753953   \n",
       "sp_P21130_SACB_BACAM:0-34                  44.018959   \n",
       "sp_P05655_SACB_BACSU:0-34                  43.985606   \n",
       "sp_P13423_PAG_BACAN:0-25                    5.141543   \n",
       "sp_P39848_LYTD_BACSU:0-32                   3.949565   \n",
       "\n",
       "                           sp_P42111_YXAL_BACSU:0-29  \\\n",
       "sp_P40136_CYAA_BACAN:0-33                   7.176877   \n",
       "sp_P21130_SACB_BACAM:0-34                  38.817980   \n",
       "sp_P05655_SACB_BACSU:0-34                  39.767671   \n",
       "sp_P13423_PAG_BACAN:0-25                    3.105309   \n",
       "sp_P39848_LYTD_BACSU:0-32                   3.109435   \n",
       "\n",
       "                           sp_P54507_TASA_BACSU:0-32  \\\n",
       "sp_P40136_CYAA_BACAN:0-33                   4.829661   \n",
       "sp_P21130_SACB_BACAM:0-34                   8.431565   \n",
       "sp_P05655_SACB_BACSU:0-34                   8.411944   \n",
       "sp_P13423_PAG_BACAN:0-25                    3.692654   \n",
       "sp_P39848_LYTD_BACSU:0-32                   2.396294   \n",
       "\n",
       "                           sp_P55278_MANB_BACIU:0-29  ...  \\\n",
       "sp_P40136_CYAA_BACAN:0-33                   7.856491  ...   \n",
       "sp_P21130_SACB_BACAM:0-34                   6.234329  ...   \n",
       "sp_P05655_SACB_BACSU:0-34                   7.485056  ...   \n",
       "sp_P13423_PAG_BACAN:0-25                    2.077945  ...   \n",
       "sp_P39848_LYTD_BACSU:0-32                  39.035636  ...   \n",
       "\n",
       "                           sp_O31097_PHYC_BACIU:0-31  \\\n",
       "sp_P40136_CYAA_BACAN:0-33                   1.620990   \n",
       "sp_P21130_SACB_BACAM:0-34                   4.485779   \n",
       "sp_P05655_SACB_BACSU:0-34                   4.396860   \n",
       "sp_P13423_PAG_BACAN:0-25                    6.881202   \n",
       "sp_P39848_LYTD_BACSU:0-32                  10.723750   \n",
       "\n",
       "                           sp_P42094_PHYT_BACSU:0-31  \\\n",
       "sp_P40136_CYAA_BACAN:0-33                   2.510162   \n",
       "sp_P21130_SACB_BACAM:0-34                   9.769631   \n",
       "sp_P05655_SACB_BACSU:0-34                   8.238085   \n",
       "sp_P13423_PAG_BACAN:0-25                    7.984787   \n",
       "sp_P39848_LYTD_BACSU:0-32                  42.284157   \n",
       "\n",
       "                           sp_P05656_SACC_BACSU:0-29  \\\n",
       "sp_P40136_CYAA_BACAN:0-33                   1.179514   \n",
       "sp_P21130_SACB_BACAM:0-34                   2.937044   \n",
       "sp_P05655_SACB_BACSU:0-34                   3.221941   \n",
       "sp_P13423_PAG_BACAN:0-25                   52.259433   \n",
       "sp_P39848_LYTD_BACSU:0-32                   6.344020   \n",
       "\n",
       "                           sp_P06278_AMY_BACLI:0-34  sp_P00692_AMY_BACAM:0-36  \\\n",
       "sp_P40136_CYAA_BACAN:0-33                 53.652969                 52.745164   \n",
       "sp_P21130_SACB_BACAM:0-34                 50.319249                 48.956656   \n",
       "sp_P05655_SACB_BACSU:0-34                 48.857431                 46.744581   \n",
       "sp_P13423_PAG_BACAN:0-25                   3.888638                  3.104124   \n",
       "sp_P39848_LYTD_BACSU:0-32                 51.055230                 50.336309   \n",
       "\n",
       "                           sp_P19571_AMT6_BACS7:0-38  \\\n",
       "sp_P40136_CYAA_BACAN:0-33                  53.329844   \n",
       "sp_P21130_SACB_BACAM:0-34                  49.100947   \n",
       "sp_P05655_SACB_BACSU:0-34                  47.012263   \n",
       "sp_P13423_PAG_BACAN:0-25                    3.047514   \n",
       "sp_P39848_LYTD_BACSU:0-32                   3.691861   \n",
       "\n",
       "                           sp_O31526_YESW_BACSU:0-40  \\\n",
       "sp_P40136_CYAA_BACAN:0-33                  50.706240   \n",
       "sp_P21130_SACB_BACAM:0-34                  45.714417   \n",
       "sp_P05655_SACB_BACSU:0-34                  44.749592   \n",
       "sp_P13423_PAG_BACAN:0-25                    9.577735   \n",
       "sp_P39848_LYTD_BACSU:0-32                  41.588930   \n",
       "\n",
       "                           sp_P54422_GGT_BACSU:0-33  sp_P63186_GGT_BACNA:0-33  \\\n",
       "sp_P40136_CYAA_BACAN:0-33                  3.714513                  3.463632   \n",
       "sp_P21130_SACB_BACAM:0-34                  4.449110                  4.463927   \n",
       "sp_P05655_SACB_BACSU:0-34                  5.067732                  5.106598   \n",
       "sp_P13423_PAG_BACAN:0-25                  11.049531                 11.331024   \n",
       "sp_P39848_LYTD_BACSU:0-32                  6.186906                  6.201986   \n",
       "\n",
       "                           sp_P42983_NUCB_BACSU:0-31  \n",
       "sp_P40136_CYAA_BACAN:0-33                   4.275441  \n",
       "sp_P21130_SACB_BACAM:0-34                   2.878167  \n",
       "sp_P05655_SACB_BACSU:0-34                   2.601913  \n",
       "sp_P13423_PAG_BACAN:0-25                   44.312276  \n",
       "sp_P39848_LYTD_BACSU:0-32                   2.450963  \n",
       "\n",
       "[5 rows x 113 columns]"
      ]
     },
     "execution_count": 61,
     "metadata": {},
     "output_type": "execute_result"
    }
   ],
   "source": [
    "inds = np.where(np.isnan(dm))\n",
    "for i, (row, col) in enumerate(zip(inds[0], inds[1])):\n",
    "    dm[row,col] = np.double(0)\n",
    "    \n",
    "dm2 = pd.DataFrame(data=dm, index=distance_matrix.index.values, columns=distance_matrix.columns.values)\n",
    "\n",
    "type(dm2)\n",
    "dm2.head()"
   ]
  },
  {
   "cell_type": "markdown",
   "id": "d28194d5",
   "metadata": {},
   "source": [
    "## 3.2 Define SVD and t-SNE\n",
    "Here, we define our variables for truncated SVD and t-SNE. We set the dimensionality of the dataset `num_TSNE` to three  based off the common data analysis convention (**though two would also suffice ... also, Barnes-hut algorithm???**). We use a `precomputed` metric, which assumes that the dataset is a distance matrix. We also use `random_state=0` for standardisation purposes for both `tSNE` and `svd`. This leads to implementing truncated SVD (`svd`) with `n=12` components, `n=13` iterations and a standardised 0 `random_state`, with all other parameters unchanged. Likewise, we implement `tSNE` similarly but with `n=3` components, the `precomputed` metric and the same `random_state`, with all other parameters unchanged."
   ]
  },
  {
   "cell_type": "code",
   "execution_count": 62,
   "id": "283a6843",
   "metadata": {},
   "outputs": [],
   "source": [
    "num_TSNE=3\n",
    "metric = \"precomputed\"\n",
    "state = 0\n",
    "tSNE = TSNE(n_components=num_TSNE, metric=metric, random_state=state)\n",
    "svd = TruncatedSVD(n_components=12, n_iter=13, random_state=state)"
   ]
  },
  {
   "cell_type": "markdown",
   "id": "755b6a26",
   "metadata": {},
   "source": [
    "`svd`, followed up by `tSNE` is run. We adapt this method from the source: https://github.com/scikit-learn/scikit-learn/issues/17916. Although the `svd` implementation is unchanged, we increase the iterations of our `tSNE` to `n=250` and also change `perplexity=75`. The `perplexity` parameter changes the number of neighbours obtained from `tSNE` (`default=30`). Note that changing the following parameters is allowed and could provide different results. `svd` parameters can be changed in the `svd` assignment. \n",
    "\n",
    "Once the pipeline is made from the estimators, we fit the `tSNE` to our embedded space distance matrix `dm2` and return with the transformed output `wide_tSNE`."
   ]
  },
  {
   "cell_type": "code",
   "execution_count": 63,
   "id": "1d94bd7f",
   "metadata": {},
   "outputs": [
    {
     "name": "stderr",
     "output_type": "stream",
     "text": [
      "/Users/pranav/opt/anaconda3/lib/python3.8/site-packages/sklearn/manifold/_t_sne.py:780: FutureWarning:\n",
      "\n",
      "The default initialization in TSNE will change from 'random' to 'pca' in 1.2.\n",
      "\n",
      "/Users/pranav/opt/anaconda3/lib/python3.8/site-packages/sklearn/manifold/_t_sne.py:790: FutureWarning:\n",
      "\n",
      "The default learning rate in TSNE will change from 200.0 to 'auto' in 1.2.\n",
      "\n"
     ]
    },
    {
     "data": {
      "text/plain": [
       "(113, 3)"
      ]
     },
     "execution_count": 63,
     "metadata": {},
     "output_type": "execute_result"
    }
   ],
   "source": [
    "tSNE = make_pipeline(svd, TSNE(n_iter=250, n_components=num_TSNE, random_state=state, perplexity=75))\n",
    "\n",
    "wide_tSNE = tSNE.fit_transform(dm2)\n",
    "\n",
    "#print(wide_tSNE)\n",
    "wide_tSNE.shape"
   ]
  },
  {
   "cell_type": "markdown",
   "id": "7a6635d5",
   "metadata": {},
   "source": [
    "## 3.3 2D tSNE Visualisation\n",
    "To visualise our data, we first construct a tSNE dataframe (`tSNE_df`) as follows. We first initialise 3 columns of the `tSNE_df` as `TSNE1`, `TSNE2`, and `TNSE3`, which will contain the 3 tSNE features for all SP sequences. The `tSNE_df` will initially contain only the `wide_tSNE` values, and no index. This is followed up by adding the index to the `tSNE_df`.\n",
    "\n",
    "We first create a new, empty dataframe only containing the SP names as the index from the original `distance_matrix` and then initialise it to be the index of `tSNE_df`. Once the dataframe has been generated, we save the tSNE values as a `.csv` without the index."
   ]
  },
  {
   "cell_type": "code",
   "execution_count": 64,
   "id": "ecbf8005",
   "metadata": {},
   "outputs": [
    {
     "data": {
      "text/html": [
       "<div>\n",
       "<style scoped>\n",
       "    .dataframe tbody tr th:only-of-type {\n",
       "        vertical-align: middle;\n",
       "    }\n",
       "\n",
       "    .dataframe tbody tr th {\n",
       "        vertical-align: top;\n",
       "    }\n",
       "\n",
       "    .dataframe thead th {\n",
       "        text-align: right;\n",
       "    }\n",
       "</style>\n",
       "<table border=\"1\" class=\"dataframe\">\n",
       "  <thead>\n",
       "    <tr style=\"text-align: right;\">\n",
       "      <th></th>\n",
       "      <th>tSNE_x</th>\n",
       "      <th>tSNE_y</th>\n",
       "      <th>tSNE_z</th>\n",
       "    </tr>\n",
       "  </thead>\n",
       "  <tbody>\n",
       "    <tr>\n",
       "      <th>sp_P40136_CYAA_BACAN:0-33</th>\n",
       "      <td>22.134161</td>\n",
       "      <td>-16.489908</td>\n",
       "      <td>70.244385</td>\n",
       "    </tr>\n",
       "    <tr>\n",
       "      <th>sp_P21130_SACB_BACAM:0-34</th>\n",
       "      <td>0.812456</td>\n",
       "      <td>-0.592489</td>\n",
       "      <td>1.193235</td>\n",
       "    </tr>\n",
       "    <tr>\n",
       "      <th>sp_P05655_SACB_BACSU:0-34</th>\n",
       "      <td>-1.183740</td>\n",
       "      <td>13.923452</td>\n",
       "      <td>12.961679</td>\n",
       "    </tr>\n",
       "    <tr>\n",
       "      <th>sp_P13423_PAG_BACAN:0-25</th>\n",
       "      <td>17.319683</td>\n",
       "      <td>23.613356</td>\n",
       "      <td>-56.356293</td>\n",
       "    </tr>\n",
       "    <tr>\n",
       "      <th>sp_P39848_LYTD_BACSU:0-32</th>\n",
       "      <td>0.544308</td>\n",
       "      <td>-0.192222</td>\n",
       "      <td>-15.980375</td>\n",
       "    </tr>\n",
       "  </tbody>\n",
       "</table>\n",
       "</div>"
      ],
      "text/plain": [
       "                              tSNE_x     tSNE_y     tSNE_z\n",
       "sp_P40136_CYAA_BACAN:0-33  22.134161 -16.489908  70.244385\n",
       "sp_P21130_SACB_BACAM:0-34   0.812456  -0.592489   1.193235\n",
       "sp_P05655_SACB_BACSU:0-34  -1.183740  13.923452  12.961679\n",
       "sp_P13423_PAG_BACAN:0-25   17.319683  23.613356 -56.356293\n",
       "sp_P39848_LYTD_BACSU:0-32   0.544308  -0.192222 -15.980375"
      ]
     },
     "execution_count": 64,
     "metadata": {},
     "output_type": "execute_result"
    }
   ],
   "source": [
    "# Initialise columns for tSNE\n",
    "tSNE_df = pd.DataFrame({'tSNE_x': wide_tSNE[:,0], 'tSNE_y': wide_tSNE[:,1],'tSNE_z': wide_tSNE[:,2]})\n",
    "# Create new dataframe for index and initialse as tSNE_df index\n",
    "df_index = pd.DataFrame(index = distance_matrix.index)\n",
    "tSNE_df.index = df_index.index\n",
    "# Save tSNE values without index\n",
    "tSNE_df.to_csv('tSNE_final.csv', index=False)\n",
    "\n",
    "tSNE_df.head()"
   ]
  },
  {
   "cell_type": "markdown",
   "id": "0eabb150",
   "metadata": {},
   "source": [
    "As `num_tSNE` had 3 dimensions that were defined, we plot each plane (x-y, x-z, and y-z) separately as follows. `Graph 1` shows the x-y plane, `Graph 2` shows the x-z plane, and `Graph 3` shows the y-z plane."
   ]
  },
  {
   "cell_type": "code",
   "execution_count": 65,
   "id": "85b1403a",
   "metadata": {},
   "outputs": [
    {
     "data": {
      "application/vnd.plotly.v1+json": {
       "config": {
        "plotlyServerURL": "https://plot.ly"
       },
       "data": [
        {
         "hovertemplate": "<b>%{hovertext}</b><br><br>tSNE_x=%{x}<br>tSNE_y=%{y}<extra></extra>",
         "hovertext": [
          "sp_P40136_CYAA_BACAN:0-33",
          "sp_P21130_SACB_BACAM:0-34",
          "sp_P05655_SACB_BACSU:0-34",
          "sp_P13423_PAG_BACAN:0-25",
          "sp_P39848_LYTD_BACSU:0-32",
          "sp_Q02114_LYTC_BACSU:0-29",
          "sp_P80172_HBLA_BACCE:0-26",
          "sp_P42111_YXAL_BACSU:0-29",
          "sp_P54507_TASA_BACSU:0-32",
          "sp_P55278_MANB_BACIU:0-29",
          "sp_O05512_MANB_BACSU:0-26",
          "sp_P00780_SUBC_BACLI:0-34",
          "sp_P00782_SUBT_BACAM:0-28",
          "sp_P04189_SUBT_BACSU:0-34",
          "sp_P35835_SUBN_BACNA:0-34",
          "sp_P00783_SUBT_BACSA:0-34",
          "sp_P94356_YXKC_BACSU:0-29",
          "sp_P40767_CWLO_BACSU:0-23",
          "sp_P20724_ELYA_BACYA:0-32",
          "sp_P25152_BSAP_BACSU:0-29",
          "sp_P00649_RN_BACIN:0-34",
          "sp_P48068_RN_BACPU:0-34",
          "sp_P00648_RNBR_BACAM:0-33",
          "sp_P71014_BSLA_BACSU:0-33",
          "sp_O31411_SACC_BACL7:0-28",
          "sp_Q45071_XYND_BACSU:0-31",
          "sp_P00691_AMY_BACSU:0-31",
          "sp_B1B6T1_PTLY_BACSP:0-27",
          "sp_Q65DC2_PTLY_BACLD:0-27",
          "sp_Q8GCB2_PTLY_BACLI:0-27",
          "sp_P29141_SUBV_BACSU:0-33",
          "sp_P16397_SUBF_BACSU:0-34",
          "sp_P39632_BSLB_BACSU:0-35",
          "sp_P80057_GSEP_BACLD:0-35",
          "sp_P96729_YWSB_BACSU:0-26",
          "sp_P39790_MPR_BACSU:0-39",
          "sp_Q59HN7_PHRH_BACSU:0-26",
          "sp_O31737_YLQB_BACSU:0-32",
          "sp_Q45670_THES_BACSJ:0-29",
          "sp_Q02113_CWBA_BACSU:0-30",
          "sp_P94217_SLAP2_BACAN:0-34",
          "sp_Q9RMZ0_Y6545_BACAN:0-33",
          "sp_P42293_EABN2_BACSU:0-31",
          "sp_P94522_EABN1_BACSU:0-37",
          "sp_Q79F14_ESTB_BACSU:0-25",
          "sp_P37957_ESTA_BACSU:0-36",
          "sp_Q5U780_LIP_BACSP:0-33",
          "sp_O34310_PLYC_BACSU:0-32",
          "sp_Q65EF5_PLYC_BACLD:0-26",
          "sp_O07532_LYTF_BACSU:0-31",
          "sp_P54421_LYTE_BACSU:0-30",
          "sp_O34669_YOCH_BACSU:0-30",
          "sp_P54423_WPRA_BACSU:0-34",
          "sp_P39844_DACC_BACSU:0-34",
          "sp_Q9AQS0_XANLY_BACGL:0-30",
          "sp_Q07833_WAPA_BACSU:0-37",
          "sp_G4NYJ6_WAPA_BACS4:0-37",
          "sp_P68569_BDBA_BACSU:0-22",
          "sp_P96600_DCTB_BACSU:0-23",
          "sp_O34918_YOAJ_BACSU:0-30",
          "sp_P39116_PLY_BACSU:0-26",
          "sp_P94576_YWOF_BACSU:0-24",
          "sp_Q03091_BSN1_BACAM:0-31",
          "sp_O32150_BSN2_BACSU:0-31",
          "sp_P38422_DACF_BACSU:0-28",
          "sp_P08750_DACA_BACSU:0-36",
          "sp_P39824_BLAC_BACSU:0-29",
          "sp_P04957_GUB_BACSU:0-33",
          "sp_O07013_GANB_BACSU:0-29",
          "sp_Q45070_XYNC_BACSU:0-37",
          "sp_Q6YK37_XYNC_BACIU:0-38",
          "sp_P54484_YQGA_BACSU:0-33",
          "sp_Q45105_TACY_BACCE:0-33",
          "sp_P40406_NAGZ_BACSU:0-31",
          "sp_P06832_NPRE_BACAM:0-32",
          "sp_P68735_NPRE_BACSA:0-32",
          "sp_P68736_NPRE_BACSU:0-32",
          "sp_O34344_SDPC_BACSU:0-30",
          "sp_P39899_NPRB_BACSU:0-33",
          "sp_P05806_NPRE_BACCE:0-32",
          "sp_P00800_THER_BACTH:0-33",
          "sp_Q59223_THER_BACSO:0-30",
          "sp_P28842_SUBT_BACS9:0-31",
          "sp_P33377_PHL3_BACCE:0-32",
          "sp_P11889_PHL2_BACCE:0-32",
          "sp_P09599_PHL1_BACCE:0-32",
          "sp_P05618_CDGT_BACS0:0-32",
          "sp_P09121_CDGT_BACS3:0-32",
          "sp_P30921_CDGT_BAC11:0-32",
          "sp_P17692_CDGT_BACS8:0-32",
          "sp_P31747_CDGT_BACSS:0-36",
          "sp_P14014_CDGT_BACLI:0-36",
          "sp_P31746_CDGT_BACS2:0-34",
          "sp_P27036_CDGT_BACOH:0-34",
          "sp_O07921_CHIS_BACSU:0-40",
          "sp_P94449_PEL2_BACIU:0-29",
          "sp_O34819_PEL1_BACSU:0-29",
          "sp_O32041_YRVJ_BACSU:0-32",
          "sp_O34313_NTPES_BACSU:0-40",
          "sp_P96740_PGDS_BACSU:0-32",
          "sp_P16396_SUBE_BACSU:0-32",
          "sp_O82833_GELLY_BACSP:0-33",
          "sp_O66037_PHYT_BACSD:0-31",
          "sp_O31097_PHYC_BACIU:0-31",
          "sp_P42094_PHYT_BACSU:0-31",
          "sp_P05656_SACC_BACSU:0-29",
          "sp_P06278_AMY_BACLI:0-34",
          "sp_P00692_AMY_BACAM:0-36",
          "sp_P19571_AMT6_BACS7:0-38",
          "sp_O31526_YESW_BACSU:0-40",
          "sp_P54422_GGT_BACSU:0-33",
          "sp_P63186_GGT_BACNA:0-33",
          "sp_P42983_NUCB_BACSU:0-31"
         ],
         "legendgroup": "",
         "marker": {
          "color": "#F8766D",
          "opacity": 1,
          "symbol": "circle"
         },
         "mode": "markers",
         "name": "",
         "orientation": "v",
         "showlegend": false,
         "type": "scatter",
         "x": [
          22.1341609954834,
          0.8124561309814453,
          -1.183740258216858,
          17.319683074951172,
          0.5443083047866821,
          22.327089309692383,
          0.6047396063804626,
          -10.273087501525879,
          0.23222123086452484,
          -0.08455747365951538,
          0.9795260429382324,
          19.30689811706543,
          -0.11595332622528076,
          17.43243408203125,
          1.0094349384307861,
          9.025665283203125,
          -1.104313611984253,
          0.3018353581428528,
          0.31123560667037964,
          10.099407196044922,
          2.5368456840515137,
          17.237354278564453,
          60.44227600097656,
          20.04367446899414,
          -34.183380126953125,
          0.34266412258148193,
          -63.07579040527344,
          0.5115029215812683,
          3.8410162925720215,
          0.6593911647796631,
          1.0755157470703125,
          -46.16233444213867,
          0.7657099962234497,
          34.44280242919922,
          15.743432998657227,
          0.6156809329986572,
          0.4050792157649994,
          0.7632231712341309,
          0.8095366954803467,
          -0.14791855216026306,
          0.6439897418022156,
          8.47385311126709,
          -9.193181037902832,
          0.5905704498291016,
          1.9130690097808838,
          0.47097304463386536,
          0.6616471409797668,
          0.8376492261886597,
          33.32719421386719,
          -48.211891174316406,
          0.6624356508255005,
          0.3387141525745392,
          15.748217582702637,
          2.2649214267730713,
          72.56768798828125,
          3.635866641998291,
          -2.9939773082733154,
          -1.9940433502197266,
          0.604239284992218,
          14.892762184143066,
          0.704555869102478,
          -20.36172866821289,
          0.6492130160331726,
          1.0614120960235596,
          -38.58696365356445,
          75.0738754272461,
          0.7362386584281921,
          0.22815224528312683,
          13.714815139770508,
          0.3918173909187317,
          -14.388673782348633,
          0.5438254475593567,
          -3.4729676246643066,
          16.56608009338379,
          0.453045129776001,
          -4.7334394454956055,
          0.6702661514282227,
          56.471981048583984,
          -0.21099495887756348,
          0.49462416768074036,
          -0.10971665382385254,
          0.9407060146331787,
          25.538434982299805,
          -5.027907371520996,
          0.9336674213409424,
          1.3791799545288086,
          0.7816740274429321,
          -46.217498779296875,
          0.528813898563385,
          0.5815232992172241,
          70.36894989013672,
          1.0398030281066895,
          -7.571252822875977,
          52.024085998535156,
          0.5260331630706787,
          0.5380590558052063,
          -42.33369445800781,
          35.16297149658203,
          -11.839211463928223,
          1.694690465927124,
          0.6086664199829102,
          2.1796388626098633,
          -46.50274658203125,
          4.679107189178467,
          -4.289718151092529,
          -0.04120856523513794,
          2.76057767868042,
          -0.010898053646087646,
          0.21348214149475098,
          2.354933023452759,
          -25.729528427124023,
          -11.188375473022461,
          -3.2466444969177246
         ],
         "xaxis": "x",
         "y": [
          -16.48990821838379,
          -0.5924890637397766,
          13.923452377319336,
          23.61335563659668,
          -0.19222213327884674,
          -1.0072468519210815,
          -0.5643557906150818,
          122.29948425292969,
          17.72987937927246,
          -0.5457379817962646,
          -0.9270884990692139,
          -0.6757286787033081,
          -0.5872671008110046,
          -13.219714164733887,
          -0.8569761514663696,
          -0.9056807160377502,
          4.737914085388184,
          -0.7810496091842651,
          -0.5396310687065125,
          30.980358123779297,
          0.16685664653778076,
          -9.72125244140625,
          19.862873077392578,
          172.16273498535156,
          57.38547134399414,
          -0.8598615527153015,
          48.23838806152344,
          -0.8060819506645203,
          9.511505126953125,
          -0.7404846549034119,
          -0.5117502808570862,
          -9.238971710205078,
          -0.9624029397964478,
          50.380653381347656,
          -2.5681607723236084,
          -1.132049560546875,
          -0.7863430976867676,
          -0.8476359844207764,
          -0.8302015066146851,
          3.6944398880004883,
          -0.3822598457336426,
          51.698158264160156,
          -16.255474090576172,
          -0.7506292462348938,
          0.3856232166290283,
          -0.7523446679115295,
          -0.6534996032714844,
          -0.6395345330238342,
          26.728288650512695,
          22.29955291748047,
          -0.8136220574378967,
          -0.7156107425689697,
          54.911048889160156,
          0.03555312752723694,
          -94.52732849121094,
          -84.48002624511719,
          11.103273391723633,
          -5.421036720275879,
          -0.8612644076347351,
          0.4002957344055176,
          -0.8152893781661987,
          -19.73430824279785,
          -0.8135145902633667,
          -1.0781714916229248,
          -22.203689575195312,
          -2.7919225692749023,
          -0.8512194156646729,
          -0.7307252883911133,
          -2.4607858657836914,
          -0.7767866253852844,
          6.436063766479492,
          -0.8482300043106079,
          117.19608306884766,
          -13.162522315979004,
          -0.8356713652610779,
          41.85838317871094,
          0.21104586124420166,
          -36.6545295715332,
          -0.7757136821746826,
          -0.8265265226364136,
          9.132404327392578,
          -0.865389347076416,
          -12.455232620239258,
          14.649580955505371,
          -1.0186775922775269,
          -1.0945974588394165,
          -1.3927500247955322,
          -9.53905963897705,
          -1.457505702972412,
          -0.5027257204055786,
          -3.844097852706909,
          -0.674262285232544,
          -18.541244506835938,
          -35.41512680053711,
          -0.5614752769470215,
          -3.7867965698242188,
          -0.6648812294006348,
          -0.9405733346939087,
          38.87921905517578,
          -0.006138689815998077,
          -0.5662312507629395,
          1.4351091384887695,
          -7.464301586151123,
          -20.631149291992188,
          -7.506503105163574,
          -0.6573079824447632,
          -1.939894199371338,
          -0.7805942296981812,
          -1.3657587766647339,
          0.5365538597106934,
          -4.0635199546813965,
          -4.636722564697266,
          -0.6134437918663025
         ],
         "yaxis": "y"
        }
       ],
       "layout": {
        "legend": {
         "tracegroupgap": 0
        },
        "template": {
         "data": {
          "bar": [
           {
            "error_x": {
             "color": "rgb(51,51,51)"
            },
            "error_y": {
             "color": "rgb(51,51,51)"
            },
            "marker": {
             "line": {
              "color": "rgb(237,237,237)",
              "width": 0.5
             },
             "pattern": {
              "fillmode": "overlay",
              "size": 10,
              "solidity": 0.2
             }
            },
            "type": "bar"
           }
          ],
          "barpolar": [
           {
            "marker": {
             "line": {
              "color": "rgb(237,237,237)",
              "width": 0.5
             },
             "pattern": {
              "fillmode": "overlay",
              "size": 10,
              "solidity": 0.2
             }
            },
            "type": "barpolar"
           }
          ],
          "carpet": [
           {
            "aaxis": {
             "endlinecolor": "rgb(51,51,51)",
             "gridcolor": "white",
             "linecolor": "white",
             "minorgridcolor": "white",
             "startlinecolor": "rgb(51,51,51)"
            },
            "baxis": {
             "endlinecolor": "rgb(51,51,51)",
             "gridcolor": "white",
             "linecolor": "white",
             "minorgridcolor": "white",
             "startlinecolor": "rgb(51,51,51)"
            },
            "type": "carpet"
           }
          ],
          "choropleth": [
           {
            "colorbar": {
             "outlinewidth": 0,
             "tickcolor": "rgb(237,237,237)",
             "ticklen": 6,
             "ticks": "inside"
            },
            "type": "choropleth"
           }
          ],
          "contour": [
           {
            "colorbar": {
             "outlinewidth": 0,
             "tickcolor": "rgb(237,237,237)",
             "ticklen": 6,
             "ticks": "inside"
            },
            "colorscale": [
             [
              0,
              "rgb(20,44,66)"
             ],
             [
              1,
              "rgb(90,179,244)"
             ]
            ],
            "type": "contour"
           }
          ],
          "contourcarpet": [
           {
            "colorbar": {
             "outlinewidth": 0,
             "tickcolor": "rgb(237,237,237)",
             "ticklen": 6,
             "ticks": "inside"
            },
            "type": "contourcarpet"
           }
          ],
          "heatmap": [
           {
            "colorbar": {
             "outlinewidth": 0,
             "tickcolor": "rgb(237,237,237)",
             "ticklen": 6,
             "ticks": "inside"
            },
            "colorscale": [
             [
              0,
              "rgb(20,44,66)"
             ],
             [
              1,
              "rgb(90,179,244)"
             ]
            ],
            "type": "heatmap"
           }
          ],
          "heatmapgl": [
           {
            "colorbar": {
             "outlinewidth": 0,
             "tickcolor": "rgb(237,237,237)",
             "ticklen": 6,
             "ticks": "inside"
            },
            "colorscale": [
             [
              0,
              "rgb(20,44,66)"
             ],
             [
              1,
              "rgb(90,179,244)"
             ]
            ],
            "type": "heatmapgl"
           }
          ],
          "histogram": [
           {
            "marker": {
             "pattern": {
              "fillmode": "overlay",
              "size": 10,
              "solidity": 0.2
             }
            },
            "type": "histogram"
           }
          ],
          "histogram2d": [
           {
            "colorbar": {
             "outlinewidth": 0,
             "tickcolor": "rgb(237,237,237)",
             "ticklen": 6,
             "ticks": "inside"
            },
            "colorscale": [
             [
              0,
              "rgb(20,44,66)"
             ],
             [
              1,
              "rgb(90,179,244)"
             ]
            ],
            "type": "histogram2d"
           }
          ],
          "histogram2dcontour": [
           {
            "colorbar": {
             "outlinewidth": 0,
             "tickcolor": "rgb(237,237,237)",
             "ticklen": 6,
             "ticks": "inside"
            },
            "colorscale": [
             [
              0,
              "rgb(20,44,66)"
             ],
             [
              1,
              "rgb(90,179,244)"
             ]
            ],
            "type": "histogram2dcontour"
           }
          ],
          "mesh3d": [
           {
            "colorbar": {
             "outlinewidth": 0,
             "tickcolor": "rgb(237,237,237)",
             "ticklen": 6,
             "ticks": "inside"
            },
            "type": "mesh3d"
           }
          ],
          "parcoords": [
           {
            "line": {
             "colorbar": {
              "outlinewidth": 0,
              "tickcolor": "rgb(237,237,237)",
              "ticklen": 6,
              "ticks": "inside"
             }
            },
            "type": "parcoords"
           }
          ],
          "pie": [
           {
            "automargin": true,
            "type": "pie"
           }
          ],
          "scatter": [
           {
            "fillpattern": {
             "fillmode": "overlay",
             "size": 10,
             "solidity": 0.2
            },
            "type": "scatter"
           }
          ],
          "scatter3d": [
           {
            "line": {
             "colorbar": {
              "outlinewidth": 0,
              "tickcolor": "rgb(237,237,237)",
              "ticklen": 6,
              "ticks": "inside"
             }
            },
            "marker": {
             "colorbar": {
              "outlinewidth": 0,
              "tickcolor": "rgb(237,237,237)",
              "ticklen": 6,
              "ticks": "inside"
             }
            },
            "type": "scatter3d"
           }
          ],
          "scattercarpet": [
           {
            "marker": {
             "colorbar": {
              "outlinewidth": 0,
              "tickcolor": "rgb(237,237,237)",
              "ticklen": 6,
              "ticks": "inside"
             }
            },
            "type": "scattercarpet"
           }
          ],
          "scattergeo": [
           {
            "marker": {
             "colorbar": {
              "outlinewidth": 0,
              "tickcolor": "rgb(237,237,237)",
              "ticklen": 6,
              "ticks": "inside"
             }
            },
            "type": "scattergeo"
           }
          ],
          "scattergl": [
           {
            "marker": {
             "colorbar": {
              "outlinewidth": 0,
              "tickcolor": "rgb(237,237,237)",
              "ticklen": 6,
              "ticks": "inside"
             }
            },
            "type": "scattergl"
           }
          ],
          "scattermapbox": [
           {
            "marker": {
             "colorbar": {
              "outlinewidth": 0,
              "tickcolor": "rgb(237,237,237)",
              "ticklen": 6,
              "ticks": "inside"
             }
            },
            "type": "scattermapbox"
           }
          ],
          "scatterpolar": [
           {
            "marker": {
             "colorbar": {
              "outlinewidth": 0,
              "tickcolor": "rgb(237,237,237)",
              "ticklen": 6,
              "ticks": "inside"
             }
            },
            "type": "scatterpolar"
           }
          ],
          "scatterpolargl": [
           {
            "marker": {
             "colorbar": {
              "outlinewidth": 0,
              "tickcolor": "rgb(237,237,237)",
              "ticklen": 6,
              "ticks": "inside"
             }
            },
            "type": "scatterpolargl"
           }
          ],
          "scatterternary": [
           {
            "marker": {
             "colorbar": {
              "outlinewidth": 0,
              "tickcolor": "rgb(237,237,237)",
              "ticklen": 6,
              "ticks": "inside"
             }
            },
            "type": "scatterternary"
           }
          ],
          "surface": [
           {
            "colorbar": {
             "outlinewidth": 0,
             "tickcolor": "rgb(237,237,237)",
             "ticklen": 6,
             "ticks": "inside"
            },
            "colorscale": [
             [
              0,
              "rgb(20,44,66)"
             ],
             [
              1,
              "rgb(90,179,244)"
             ]
            ],
            "type": "surface"
           }
          ],
          "table": [
           {
            "cells": {
             "fill": {
              "color": "rgb(237,237,237)"
             },
             "line": {
              "color": "white"
             }
            },
            "header": {
             "fill": {
              "color": "rgb(217,217,217)"
             },
             "line": {
              "color": "white"
             }
            },
            "type": "table"
           }
          ]
         },
         "layout": {
          "annotationdefaults": {
           "arrowhead": 0,
           "arrowwidth": 1
          },
          "autotypenumbers": "strict",
          "coloraxis": {
           "colorbar": {
            "outlinewidth": 0,
            "tickcolor": "rgb(237,237,237)",
            "ticklen": 6,
            "ticks": "inside"
           }
          },
          "colorscale": {
           "sequential": [
            [
             0,
             "rgb(20,44,66)"
            ],
            [
             1,
             "rgb(90,179,244)"
            ]
           ],
           "sequentialminus": [
            [
             0,
             "rgb(20,44,66)"
            ],
            [
             1,
             "rgb(90,179,244)"
            ]
           ]
          },
          "colorway": [
           "#F8766D",
           "#A3A500",
           "#00BF7D",
           "#00B0F6",
           "#E76BF3"
          ],
          "font": {
           "color": "rgb(51,51,51)"
          },
          "geo": {
           "bgcolor": "white",
           "lakecolor": "white",
           "landcolor": "rgb(237,237,237)",
           "showlakes": true,
           "showland": true,
           "subunitcolor": "white"
          },
          "hoverlabel": {
           "align": "left"
          },
          "hovermode": "closest",
          "paper_bgcolor": "white",
          "plot_bgcolor": "rgb(237,237,237)",
          "polar": {
           "angularaxis": {
            "gridcolor": "white",
            "linecolor": "white",
            "showgrid": true,
            "tickcolor": "rgb(51,51,51)",
            "ticks": "outside"
           },
           "bgcolor": "rgb(237,237,237)",
           "radialaxis": {
            "gridcolor": "white",
            "linecolor": "white",
            "showgrid": true,
            "tickcolor": "rgb(51,51,51)",
            "ticks": "outside"
           }
          },
          "scene": {
           "xaxis": {
            "backgroundcolor": "rgb(237,237,237)",
            "gridcolor": "white",
            "gridwidth": 2,
            "linecolor": "white",
            "showbackground": true,
            "showgrid": true,
            "tickcolor": "rgb(51,51,51)",
            "ticks": "outside",
            "zerolinecolor": "white"
           },
           "yaxis": {
            "backgroundcolor": "rgb(237,237,237)",
            "gridcolor": "white",
            "gridwidth": 2,
            "linecolor": "white",
            "showbackground": true,
            "showgrid": true,
            "tickcolor": "rgb(51,51,51)",
            "ticks": "outside",
            "zerolinecolor": "white"
           },
           "zaxis": {
            "backgroundcolor": "rgb(237,237,237)",
            "gridcolor": "white",
            "gridwidth": 2,
            "linecolor": "white",
            "showbackground": true,
            "showgrid": true,
            "tickcolor": "rgb(51,51,51)",
            "ticks": "outside",
            "zerolinecolor": "white"
           }
          },
          "shapedefaults": {
           "fillcolor": "black",
           "line": {
            "width": 0
           },
           "opacity": 0.3
          },
          "ternary": {
           "aaxis": {
            "gridcolor": "white",
            "linecolor": "white",
            "showgrid": true,
            "tickcolor": "rgb(51,51,51)",
            "ticks": "outside"
           },
           "baxis": {
            "gridcolor": "white",
            "linecolor": "white",
            "showgrid": true,
            "tickcolor": "rgb(51,51,51)",
            "ticks": "outside"
           },
           "bgcolor": "rgb(237,237,237)",
           "caxis": {
            "gridcolor": "white",
            "linecolor": "white",
            "showgrid": true,
            "tickcolor": "rgb(51,51,51)",
            "ticks": "outside"
           }
          },
          "xaxis": {
           "automargin": true,
           "gridcolor": "white",
           "linecolor": "white",
           "showgrid": true,
           "tickcolor": "rgb(51,51,51)",
           "ticks": "outside",
           "title": {
            "standoff": 15
           },
           "zerolinecolor": "white"
          },
          "yaxis": {
           "automargin": true,
           "gridcolor": "white",
           "linecolor": "white",
           "showgrid": true,
           "tickcolor": "rgb(51,51,51)",
           "ticks": "outside",
           "title": {
            "standoff": 15
           },
           "zerolinecolor": "white"
          }
         }
        },
        "title": {
         "text": "Graph 1: tSNE Visualisation in the x-y plane"
        },
        "xaxis": {
         "anchor": "y",
         "domain": [
          0,
          1
         ],
         "title": {
          "text": "tSNE_x"
         }
        },
        "yaxis": {
         "anchor": "x",
         "domain": [
          0,
          1
         ],
         "title": {
          "text": "tSNE_y"
         }
        }
       }
      },
      "text/html": [
       "<div>                            <div id=\"8c9e2fdb-e62c-418e-83c0-bc05b6e2cb8c\" class=\"plotly-graph-div\" style=\"height:525px; width:100%;\"></div>            <script type=\"text/javascript\">                require([\"plotly\"], function(Plotly) {                    window.PLOTLYENV=window.PLOTLYENV || {};                                    if (document.getElementById(\"8c9e2fdb-e62c-418e-83c0-bc05b6e2cb8c\")) {                    Plotly.newPlot(                        \"8c9e2fdb-e62c-418e-83c0-bc05b6e2cb8c\",                        [{\"hovertemplate\":\"<b>%{hovertext}</b><br><br>tSNE_x=%{x}<br>tSNE_y=%{y}<extra></extra>\",\"hovertext\":[\"sp_P40136_CYAA_BACAN:0-33\",\"sp_P21130_SACB_BACAM:0-34\",\"sp_P05655_SACB_BACSU:0-34\",\"sp_P13423_PAG_BACAN:0-25\",\"sp_P39848_LYTD_BACSU:0-32\",\"sp_Q02114_LYTC_BACSU:0-29\",\"sp_P80172_HBLA_BACCE:0-26\",\"sp_P42111_YXAL_BACSU:0-29\",\"sp_P54507_TASA_BACSU:0-32\",\"sp_P55278_MANB_BACIU:0-29\",\"sp_O05512_MANB_BACSU:0-26\",\"sp_P00780_SUBC_BACLI:0-34\",\"sp_P00782_SUBT_BACAM:0-28\",\"sp_P04189_SUBT_BACSU:0-34\",\"sp_P35835_SUBN_BACNA:0-34\",\"sp_P00783_SUBT_BACSA:0-34\",\"sp_P94356_YXKC_BACSU:0-29\",\"sp_P40767_CWLO_BACSU:0-23\",\"sp_P20724_ELYA_BACYA:0-32\",\"sp_P25152_BSAP_BACSU:0-29\",\"sp_P00649_RN_BACIN:0-34\",\"sp_P48068_RN_BACPU:0-34\",\"sp_P00648_RNBR_BACAM:0-33\",\"sp_P71014_BSLA_BACSU:0-33\",\"sp_O31411_SACC_BACL7:0-28\",\"sp_Q45071_XYND_BACSU:0-31\",\"sp_P00691_AMY_BACSU:0-31\",\"sp_B1B6T1_PTLY_BACSP:0-27\",\"sp_Q65DC2_PTLY_BACLD:0-27\",\"sp_Q8GCB2_PTLY_BACLI:0-27\",\"sp_P29141_SUBV_BACSU:0-33\",\"sp_P16397_SUBF_BACSU:0-34\",\"sp_P39632_BSLB_BACSU:0-35\",\"sp_P80057_GSEP_BACLD:0-35\",\"sp_P96729_YWSB_BACSU:0-26\",\"sp_P39790_MPR_BACSU:0-39\",\"sp_Q59HN7_PHRH_BACSU:0-26\",\"sp_O31737_YLQB_BACSU:0-32\",\"sp_Q45670_THES_BACSJ:0-29\",\"sp_Q02113_CWBA_BACSU:0-30\",\"sp_P94217_SLAP2_BACAN:0-34\",\"sp_Q9RMZ0_Y6545_BACAN:0-33\",\"sp_P42293_EABN2_BACSU:0-31\",\"sp_P94522_EABN1_BACSU:0-37\",\"sp_Q79F14_ESTB_BACSU:0-25\",\"sp_P37957_ESTA_BACSU:0-36\",\"sp_Q5U780_LIP_BACSP:0-33\",\"sp_O34310_PLYC_BACSU:0-32\",\"sp_Q65EF5_PLYC_BACLD:0-26\",\"sp_O07532_LYTF_BACSU:0-31\",\"sp_P54421_LYTE_BACSU:0-30\",\"sp_O34669_YOCH_BACSU:0-30\",\"sp_P54423_WPRA_BACSU:0-34\",\"sp_P39844_DACC_BACSU:0-34\",\"sp_Q9AQS0_XANLY_BACGL:0-30\",\"sp_Q07833_WAPA_BACSU:0-37\",\"sp_G4NYJ6_WAPA_BACS4:0-37\",\"sp_P68569_BDBA_BACSU:0-22\",\"sp_P96600_DCTB_BACSU:0-23\",\"sp_O34918_YOAJ_BACSU:0-30\",\"sp_P39116_PLY_BACSU:0-26\",\"sp_P94576_YWOF_BACSU:0-24\",\"sp_Q03091_BSN1_BACAM:0-31\",\"sp_O32150_BSN2_BACSU:0-31\",\"sp_P38422_DACF_BACSU:0-28\",\"sp_P08750_DACA_BACSU:0-36\",\"sp_P39824_BLAC_BACSU:0-29\",\"sp_P04957_GUB_BACSU:0-33\",\"sp_O07013_GANB_BACSU:0-29\",\"sp_Q45070_XYNC_BACSU:0-37\",\"sp_Q6YK37_XYNC_BACIU:0-38\",\"sp_P54484_YQGA_BACSU:0-33\",\"sp_Q45105_TACY_BACCE:0-33\",\"sp_P40406_NAGZ_BACSU:0-31\",\"sp_P06832_NPRE_BACAM:0-32\",\"sp_P68735_NPRE_BACSA:0-32\",\"sp_P68736_NPRE_BACSU:0-32\",\"sp_O34344_SDPC_BACSU:0-30\",\"sp_P39899_NPRB_BACSU:0-33\",\"sp_P05806_NPRE_BACCE:0-32\",\"sp_P00800_THER_BACTH:0-33\",\"sp_Q59223_THER_BACSO:0-30\",\"sp_P28842_SUBT_BACS9:0-31\",\"sp_P33377_PHL3_BACCE:0-32\",\"sp_P11889_PHL2_BACCE:0-32\",\"sp_P09599_PHL1_BACCE:0-32\",\"sp_P05618_CDGT_BACS0:0-32\",\"sp_P09121_CDGT_BACS3:0-32\",\"sp_P30921_CDGT_BAC11:0-32\",\"sp_P17692_CDGT_BACS8:0-32\",\"sp_P31747_CDGT_BACSS:0-36\",\"sp_P14014_CDGT_BACLI:0-36\",\"sp_P31746_CDGT_BACS2:0-34\",\"sp_P27036_CDGT_BACOH:0-34\",\"sp_O07921_CHIS_BACSU:0-40\",\"sp_P94449_PEL2_BACIU:0-29\",\"sp_O34819_PEL1_BACSU:0-29\",\"sp_O32041_YRVJ_BACSU:0-32\",\"sp_O34313_NTPES_BACSU:0-40\",\"sp_P96740_PGDS_BACSU:0-32\",\"sp_P16396_SUBE_BACSU:0-32\",\"sp_O82833_GELLY_BACSP:0-33\",\"sp_O66037_PHYT_BACSD:0-31\",\"sp_O31097_PHYC_BACIU:0-31\",\"sp_P42094_PHYT_BACSU:0-31\",\"sp_P05656_SACC_BACSU:0-29\",\"sp_P06278_AMY_BACLI:0-34\",\"sp_P00692_AMY_BACAM:0-36\",\"sp_P19571_AMT6_BACS7:0-38\",\"sp_O31526_YESW_BACSU:0-40\",\"sp_P54422_GGT_BACSU:0-33\",\"sp_P63186_GGT_BACNA:0-33\",\"sp_P42983_NUCB_BACSU:0-31\"],\"legendgroup\":\"\",\"marker\":{\"color\":\"#F8766D\",\"opacity\":1,\"symbol\":\"circle\"},\"mode\":\"markers\",\"name\":\"\",\"orientation\":\"v\",\"showlegend\":false,\"x\":[22.1341609954834,0.8124561309814453,-1.183740258216858,17.319683074951172,0.5443083047866821,22.327089309692383,0.6047396063804626,-10.273087501525879,0.23222123086452484,-0.08455747365951538,0.9795260429382324,19.30689811706543,-0.11595332622528076,17.43243408203125,1.0094349384307861,9.025665283203125,-1.104313611984253,0.3018353581428528,0.31123560667037964,10.099407196044922,2.5368456840515137,17.237354278564453,60.44227600097656,20.04367446899414,-34.183380126953125,0.34266412258148193,-63.07579040527344,0.5115029215812683,3.8410162925720215,0.6593911647796631,1.0755157470703125,-46.16233444213867,0.7657099962234497,34.44280242919922,15.743432998657227,0.6156809329986572,0.4050792157649994,0.7632231712341309,0.8095366954803467,-0.14791855216026306,0.6439897418022156,8.47385311126709,-9.193181037902832,0.5905704498291016,1.9130690097808838,0.47097304463386536,0.6616471409797668,0.8376492261886597,33.32719421386719,-48.211891174316406,0.6624356508255005,0.3387141525745392,15.748217582702637,2.2649214267730713,72.56768798828125,3.635866641998291,-2.9939773082733154,-1.9940433502197266,0.604239284992218,14.892762184143066,0.704555869102478,-20.36172866821289,0.6492130160331726,1.0614120960235596,-38.58696365356445,75.0738754272461,0.7362386584281921,0.22815224528312683,13.714815139770508,0.3918173909187317,-14.388673782348633,0.5438254475593567,-3.4729676246643066,16.56608009338379,0.453045129776001,-4.7334394454956055,0.6702661514282227,56.471981048583984,-0.21099495887756348,0.49462416768074036,-0.10971665382385254,0.9407060146331787,25.538434982299805,-5.027907371520996,0.9336674213409424,1.3791799545288086,0.7816740274429321,-46.217498779296875,0.528813898563385,0.5815232992172241,70.36894989013672,1.0398030281066895,-7.571252822875977,52.024085998535156,0.5260331630706787,0.5380590558052063,-42.33369445800781,35.16297149658203,-11.839211463928223,1.694690465927124,0.6086664199829102,2.1796388626098633,-46.50274658203125,4.679107189178467,-4.289718151092529,-0.04120856523513794,2.76057767868042,-0.010898053646087646,0.21348214149475098,2.354933023452759,-25.729528427124023,-11.188375473022461,-3.2466444969177246],\"xaxis\":\"x\",\"y\":[-16.48990821838379,-0.5924890637397766,13.923452377319336,23.61335563659668,-0.19222213327884674,-1.0072468519210815,-0.5643557906150818,122.29948425292969,17.72987937927246,-0.5457379817962646,-0.9270884990692139,-0.6757286787033081,-0.5872671008110046,-13.219714164733887,-0.8569761514663696,-0.9056807160377502,4.737914085388184,-0.7810496091842651,-0.5396310687065125,30.980358123779297,0.16685664653778076,-9.72125244140625,19.862873077392578,172.16273498535156,57.38547134399414,-0.8598615527153015,48.23838806152344,-0.8060819506645203,9.511505126953125,-0.7404846549034119,-0.5117502808570862,-9.238971710205078,-0.9624029397964478,50.380653381347656,-2.5681607723236084,-1.132049560546875,-0.7863430976867676,-0.8476359844207764,-0.8302015066146851,3.6944398880004883,-0.3822598457336426,51.698158264160156,-16.255474090576172,-0.7506292462348938,0.3856232166290283,-0.7523446679115295,-0.6534996032714844,-0.6395345330238342,26.728288650512695,22.29955291748047,-0.8136220574378967,-0.7156107425689697,54.911048889160156,0.03555312752723694,-94.52732849121094,-84.48002624511719,11.103273391723633,-5.421036720275879,-0.8612644076347351,0.4002957344055176,-0.8152893781661987,-19.73430824279785,-0.8135145902633667,-1.0781714916229248,-22.203689575195312,-2.7919225692749023,-0.8512194156646729,-0.7307252883911133,-2.4607858657836914,-0.7767866253852844,6.436063766479492,-0.8482300043106079,117.19608306884766,-13.162522315979004,-0.8356713652610779,41.85838317871094,0.21104586124420166,-36.6545295715332,-0.7757136821746826,-0.8265265226364136,9.132404327392578,-0.865389347076416,-12.455232620239258,14.649580955505371,-1.0186775922775269,-1.0945974588394165,-1.3927500247955322,-9.53905963897705,-1.457505702972412,-0.5027257204055786,-3.844097852706909,-0.674262285232544,-18.541244506835938,-35.41512680053711,-0.5614752769470215,-3.7867965698242188,-0.6648812294006348,-0.9405733346939087,38.87921905517578,-0.006138689815998077,-0.5662312507629395,1.4351091384887695,-7.464301586151123,-20.631149291992188,-7.506503105163574,-0.6573079824447632,-1.939894199371338,-0.7805942296981812,-1.3657587766647339,0.5365538597106934,-4.0635199546813965,-4.636722564697266,-0.6134437918663025],\"yaxis\":\"y\",\"type\":\"scatter\"}],                        {\"template\":{\"data\":{\"barpolar\":[{\"marker\":{\"line\":{\"color\":\"rgb(237,237,237)\",\"width\":0.5},\"pattern\":{\"fillmode\":\"overlay\",\"size\":10,\"solidity\":0.2}},\"type\":\"barpolar\"}],\"bar\":[{\"error_x\":{\"color\":\"rgb(51,51,51)\"},\"error_y\":{\"color\":\"rgb(51,51,51)\"},\"marker\":{\"line\":{\"color\":\"rgb(237,237,237)\",\"width\":0.5},\"pattern\":{\"fillmode\":\"overlay\",\"size\":10,\"solidity\":0.2}},\"type\":\"bar\"}],\"carpet\":[{\"aaxis\":{\"endlinecolor\":\"rgb(51,51,51)\",\"gridcolor\":\"white\",\"linecolor\":\"white\",\"minorgridcolor\":\"white\",\"startlinecolor\":\"rgb(51,51,51)\"},\"baxis\":{\"endlinecolor\":\"rgb(51,51,51)\",\"gridcolor\":\"white\",\"linecolor\":\"white\",\"minorgridcolor\":\"white\",\"startlinecolor\":\"rgb(51,51,51)\"},\"type\":\"carpet\"}],\"choropleth\":[{\"colorbar\":{\"outlinewidth\":0,\"tickcolor\":\"rgb(237,237,237)\",\"ticklen\":6,\"ticks\":\"inside\"},\"type\":\"choropleth\"}],\"contourcarpet\":[{\"colorbar\":{\"outlinewidth\":0,\"tickcolor\":\"rgb(237,237,237)\",\"ticklen\":6,\"ticks\":\"inside\"},\"type\":\"contourcarpet\"}],\"contour\":[{\"colorbar\":{\"outlinewidth\":0,\"tickcolor\":\"rgb(237,237,237)\",\"ticklen\":6,\"ticks\":\"inside\"},\"colorscale\":[[0,\"rgb(20,44,66)\"],[1,\"rgb(90,179,244)\"]],\"type\":\"contour\"}],\"heatmapgl\":[{\"colorbar\":{\"outlinewidth\":0,\"tickcolor\":\"rgb(237,237,237)\",\"ticklen\":6,\"ticks\":\"inside\"},\"colorscale\":[[0,\"rgb(20,44,66)\"],[1,\"rgb(90,179,244)\"]],\"type\":\"heatmapgl\"}],\"heatmap\":[{\"colorbar\":{\"outlinewidth\":0,\"tickcolor\":\"rgb(237,237,237)\",\"ticklen\":6,\"ticks\":\"inside\"},\"colorscale\":[[0,\"rgb(20,44,66)\"],[1,\"rgb(90,179,244)\"]],\"type\":\"heatmap\"}],\"histogram2dcontour\":[{\"colorbar\":{\"outlinewidth\":0,\"tickcolor\":\"rgb(237,237,237)\",\"ticklen\":6,\"ticks\":\"inside\"},\"colorscale\":[[0,\"rgb(20,44,66)\"],[1,\"rgb(90,179,244)\"]],\"type\":\"histogram2dcontour\"}],\"histogram2d\":[{\"colorbar\":{\"outlinewidth\":0,\"tickcolor\":\"rgb(237,237,237)\",\"ticklen\":6,\"ticks\":\"inside\"},\"colorscale\":[[0,\"rgb(20,44,66)\"],[1,\"rgb(90,179,244)\"]],\"type\":\"histogram2d\"}],\"histogram\":[{\"marker\":{\"pattern\":{\"fillmode\":\"overlay\",\"size\":10,\"solidity\":0.2}},\"type\":\"histogram\"}],\"mesh3d\":[{\"colorbar\":{\"outlinewidth\":0,\"tickcolor\":\"rgb(237,237,237)\",\"ticklen\":6,\"ticks\":\"inside\"},\"type\":\"mesh3d\"}],\"parcoords\":[{\"line\":{\"colorbar\":{\"outlinewidth\":0,\"tickcolor\":\"rgb(237,237,237)\",\"ticklen\":6,\"ticks\":\"inside\"}},\"type\":\"parcoords\"}],\"pie\":[{\"automargin\":true,\"type\":\"pie\"}],\"scatter3d\":[{\"line\":{\"colorbar\":{\"outlinewidth\":0,\"tickcolor\":\"rgb(237,237,237)\",\"ticklen\":6,\"ticks\":\"inside\"}},\"marker\":{\"colorbar\":{\"outlinewidth\":0,\"tickcolor\":\"rgb(237,237,237)\",\"ticklen\":6,\"ticks\":\"inside\"}},\"type\":\"scatter3d\"}],\"scattercarpet\":[{\"marker\":{\"colorbar\":{\"outlinewidth\":0,\"tickcolor\":\"rgb(237,237,237)\",\"ticklen\":6,\"ticks\":\"inside\"}},\"type\":\"scattercarpet\"}],\"scattergeo\":[{\"marker\":{\"colorbar\":{\"outlinewidth\":0,\"tickcolor\":\"rgb(237,237,237)\",\"ticklen\":6,\"ticks\":\"inside\"}},\"type\":\"scattergeo\"}],\"scattergl\":[{\"marker\":{\"colorbar\":{\"outlinewidth\":0,\"tickcolor\":\"rgb(237,237,237)\",\"ticklen\":6,\"ticks\":\"inside\"}},\"type\":\"scattergl\"}],\"scattermapbox\":[{\"marker\":{\"colorbar\":{\"outlinewidth\":0,\"tickcolor\":\"rgb(237,237,237)\",\"ticklen\":6,\"ticks\":\"inside\"}},\"type\":\"scattermapbox\"}],\"scatterpolargl\":[{\"marker\":{\"colorbar\":{\"outlinewidth\":0,\"tickcolor\":\"rgb(237,237,237)\",\"ticklen\":6,\"ticks\":\"inside\"}},\"type\":\"scatterpolargl\"}],\"scatterpolar\":[{\"marker\":{\"colorbar\":{\"outlinewidth\":0,\"tickcolor\":\"rgb(237,237,237)\",\"ticklen\":6,\"ticks\":\"inside\"}},\"type\":\"scatterpolar\"}],\"scatter\":[{\"fillpattern\":{\"fillmode\":\"overlay\",\"size\":10,\"solidity\":0.2},\"type\":\"scatter\"}],\"scatterternary\":[{\"marker\":{\"colorbar\":{\"outlinewidth\":0,\"tickcolor\":\"rgb(237,237,237)\",\"ticklen\":6,\"ticks\":\"inside\"}},\"type\":\"scatterternary\"}],\"surface\":[{\"colorbar\":{\"outlinewidth\":0,\"tickcolor\":\"rgb(237,237,237)\",\"ticklen\":6,\"ticks\":\"inside\"},\"colorscale\":[[0,\"rgb(20,44,66)\"],[1,\"rgb(90,179,244)\"]],\"type\":\"surface\"}],\"table\":[{\"cells\":{\"fill\":{\"color\":\"rgb(237,237,237)\"},\"line\":{\"color\":\"white\"}},\"header\":{\"fill\":{\"color\":\"rgb(217,217,217)\"},\"line\":{\"color\":\"white\"}},\"type\":\"table\"}]},\"layout\":{\"annotationdefaults\":{\"arrowhead\":0,\"arrowwidth\":1},\"autotypenumbers\":\"strict\",\"coloraxis\":{\"colorbar\":{\"outlinewidth\":0,\"tickcolor\":\"rgb(237,237,237)\",\"ticklen\":6,\"ticks\":\"inside\"}},\"colorscale\":{\"sequential\":[[0,\"rgb(20,44,66)\"],[1,\"rgb(90,179,244)\"]],\"sequentialminus\":[[0,\"rgb(20,44,66)\"],[1,\"rgb(90,179,244)\"]]},\"colorway\":[\"#F8766D\",\"#A3A500\",\"#00BF7D\",\"#00B0F6\",\"#E76BF3\"],\"font\":{\"color\":\"rgb(51,51,51)\"},\"geo\":{\"bgcolor\":\"white\",\"lakecolor\":\"white\",\"landcolor\":\"rgb(237,237,237)\",\"showlakes\":true,\"showland\":true,\"subunitcolor\":\"white\"},\"hoverlabel\":{\"align\":\"left\"},\"hovermode\":\"closest\",\"paper_bgcolor\":\"white\",\"plot_bgcolor\":\"rgb(237,237,237)\",\"polar\":{\"angularaxis\":{\"gridcolor\":\"white\",\"linecolor\":\"white\",\"showgrid\":true,\"tickcolor\":\"rgb(51,51,51)\",\"ticks\":\"outside\"},\"bgcolor\":\"rgb(237,237,237)\",\"radialaxis\":{\"gridcolor\":\"white\",\"linecolor\":\"white\",\"showgrid\":true,\"tickcolor\":\"rgb(51,51,51)\",\"ticks\":\"outside\"}},\"scene\":{\"xaxis\":{\"backgroundcolor\":\"rgb(237,237,237)\",\"gridcolor\":\"white\",\"gridwidth\":2,\"linecolor\":\"white\",\"showbackground\":true,\"showgrid\":true,\"tickcolor\":\"rgb(51,51,51)\",\"ticks\":\"outside\",\"zerolinecolor\":\"white\"},\"yaxis\":{\"backgroundcolor\":\"rgb(237,237,237)\",\"gridcolor\":\"white\",\"gridwidth\":2,\"linecolor\":\"white\",\"showbackground\":true,\"showgrid\":true,\"tickcolor\":\"rgb(51,51,51)\",\"ticks\":\"outside\",\"zerolinecolor\":\"white\"},\"zaxis\":{\"backgroundcolor\":\"rgb(237,237,237)\",\"gridcolor\":\"white\",\"gridwidth\":2,\"linecolor\":\"white\",\"showbackground\":true,\"showgrid\":true,\"tickcolor\":\"rgb(51,51,51)\",\"ticks\":\"outside\",\"zerolinecolor\":\"white\"}},\"shapedefaults\":{\"fillcolor\":\"black\",\"line\":{\"width\":0},\"opacity\":0.3},\"ternary\":{\"aaxis\":{\"gridcolor\":\"white\",\"linecolor\":\"white\",\"showgrid\":true,\"tickcolor\":\"rgb(51,51,51)\",\"ticks\":\"outside\"},\"baxis\":{\"gridcolor\":\"white\",\"linecolor\":\"white\",\"showgrid\":true,\"tickcolor\":\"rgb(51,51,51)\",\"ticks\":\"outside\"},\"bgcolor\":\"rgb(237,237,237)\",\"caxis\":{\"gridcolor\":\"white\",\"linecolor\":\"white\",\"showgrid\":true,\"tickcolor\":\"rgb(51,51,51)\",\"ticks\":\"outside\"}},\"xaxis\":{\"automargin\":true,\"gridcolor\":\"white\",\"linecolor\":\"white\",\"showgrid\":true,\"tickcolor\":\"rgb(51,51,51)\",\"ticks\":\"outside\",\"title\":{\"standoff\":15},\"zerolinecolor\":\"white\"},\"yaxis\":{\"automargin\":true,\"gridcolor\":\"white\",\"linecolor\":\"white\",\"showgrid\":true,\"tickcolor\":\"rgb(51,51,51)\",\"ticks\":\"outside\",\"title\":{\"standoff\":15},\"zerolinecolor\":\"white\"}}},\"xaxis\":{\"anchor\":\"y\",\"domain\":[0.0,1.0],\"title\":{\"text\":\"tSNE_x\"}},\"yaxis\":{\"anchor\":\"x\",\"domain\":[0.0,1.0],\"title\":{\"text\":\"tSNE_y\"}},\"legend\":{\"tracegroupgap\":0},\"title\":{\"text\":\"Graph 1: tSNE Visualisation in the x-y plane\"}},                        {\"responsive\": true}                    ).then(function(){\n",
       "                            \n",
       "var gd = document.getElementById('8c9e2fdb-e62c-418e-83c0-bc05b6e2cb8c');\n",
       "var x = new MutationObserver(function (mutations, observer) {{\n",
       "        var display = window.getComputedStyle(gd).display;\n",
       "        if (!display || display === 'none') {{\n",
       "            console.log([gd, 'removed!']);\n",
       "            Plotly.purge(gd);\n",
       "            observer.disconnect();\n",
       "        }}\n",
       "}});\n",
       "\n",
       "// Listen for the removal of the full notebook cells\n",
       "var notebookContainer = gd.closest('#notebook-container');\n",
       "if (notebookContainer) {{\n",
       "    x.observe(notebookContainer, {childList: true});\n",
       "}}\n",
       "\n",
       "// Listen for the clearing of the current output cell\n",
       "var outputEl = gd.closest('.output');\n",
       "if (outputEl) {{\n",
       "    x.observe(outputEl, {childList: true});\n",
       "}}\n",
       "\n",
       "                        })                };                });            </script>        </div>"
      ]
     },
     "metadata": {},
     "output_type": "display_data"
    }
   ],
   "source": [
    "fig1 = px.scatter(tSNE_df, x='tSNE_x', y='tSNE_y', hover_name=tSNE_df.index, template='ggplot2', opacity=1, title='Graph 1: tSNE Visualisation in the x-y plane')\n",
    "fig1"
   ]
  },
  {
   "cell_type": "code",
   "execution_count": 66,
   "id": "7bd46122",
   "metadata": {
    "scrolled": false
   },
   "outputs": [
    {
     "data": {
      "application/vnd.plotly.v1+json": {
       "config": {
        "plotlyServerURL": "https://plot.ly"
       },
       "data": [
        {
         "hovertemplate": "<b>%{hovertext}</b><br><br>tSNE_x=%{x}<br>tSNE_z=%{y}<extra></extra>",
         "hovertext": [
          "sp_P40136_CYAA_BACAN:0-33",
          "sp_P21130_SACB_BACAM:0-34",
          "sp_P05655_SACB_BACSU:0-34",
          "sp_P13423_PAG_BACAN:0-25",
          "sp_P39848_LYTD_BACSU:0-32",
          "sp_Q02114_LYTC_BACSU:0-29",
          "sp_P80172_HBLA_BACCE:0-26",
          "sp_P42111_YXAL_BACSU:0-29",
          "sp_P54507_TASA_BACSU:0-32",
          "sp_P55278_MANB_BACIU:0-29",
          "sp_O05512_MANB_BACSU:0-26",
          "sp_P00780_SUBC_BACLI:0-34",
          "sp_P00782_SUBT_BACAM:0-28",
          "sp_P04189_SUBT_BACSU:0-34",
          "sp_P35835_SUBN_BACNA:0-34",
          "sp_P00783_SUBT_BACSA:0-34",
          "sp_P94356_YXKC_BACSU:0-29",
          "sp_P40767_CWLO_BACSU:0-23",
          "sp_P20724_ELYA_BACYA:0-32",
          "sp_P25152_BSAP_BACSU:0-29",
          "sp_P00649_RN_BACIN:0-34",
          "sp_P48068_RN_BACPU:0-34",
          "sp_P00648_RNBR_BACAM:0-33",
          "sp_P71014_BSLA_BACSU:0-33",
          "sp_O31411_SACC_BACL7:0-28",
          "sp_Q45071_XYND_BACSU:0-31",
          "sp_P00691_AMY_BACSU:0-31",
          "sp_B1B6T1_PTLY_BACSP:0-27",
          "sp_Q65DC2_PTLY_BACLD:0-27",
          "sp_Q8GCB2_PTLY_BACLI:0-27",
          "sp_P29141_SUBV_BACSU:0-33",
          "sp_P16397_SUBF_BACSU:0-34",
          "sp_P39632_BSLB_BACSU:0-35",
          "sp_P80057_GSEP_BACLD:0-35",
          "sp_P96729_YWSB_BACSU:0-26",
          "sp_P39790_MPR_BACSU:0-39",
          "sp_Q59HN7_PHRH_BACSU:0-26",
          "sp_O31737_YLQB_BACSU:0-32",
          "sp_Q45670_THES_BACSJ:0-29",
          "sp_Q02113_CWBA_BACSU:0-30",
          "sp_P94217_SLAP2_BACAN:0-34",
          "sp_Q9RMZ0_Y6545_BACAN:0-33",
          "sp_P42293_EABN2_BACSU:0-31",
          "sp_P94522_EABN1_BACSU:0-37",
          "sp_Q79F14_ESTB_BACSU:0-25",
          "sp_P37957_ESTA_BACSU:0-36",
          "sp_Q5U780_LIP_BACSP:0-33",
          "sp_O34310_PLYC_BACSU:0-32",
          "sp_Q65EF5_PLYC_BACLD:0-26",
          "sp_O07532_LYTF_BACSU:0-31",
          "sp_P54421_LYTE_BACSU:0-30",
          "sp_O34669_YOCH_BACSU:0-30",
          "sp_P54423_WPRA_BACSU:0-34",
          "sp_P39844_DACC_BACSU:0-34",
          "sp_Q9AQS0_XANLY_BACGL:0-30",
          "sp_Q07833_WAPA_BACSU:0-37",
          "sp_G4NYJ6_WAPA_BACS4:0-37",
          "sp_P68569_BDBA_BACSU:0-22",
          "sp_P96600_DCTB_BACSU:0-23",
          "sp_O34918_YOAJ_BACSU:0-30",
          "sp_P39116_PLY_BACSU:0-26",
          "sp_P94576_YWOF_BACSU:0-24",
          "sp_Q03091_BSN1_BACAM:0-31",
          "sp_O32150_BSN2_BACSU:0-31",
          "sp_P38422_DACF_BACSU:0-28",
          "sp_P08750_DACA_BACSU:0-36",
          "sp_P39824_BLAC_BACSU:0-29",
          "sp_P04957_GUB_BACSU:0-33",
          "sp_O07013_GANB_BACSU:0-29",
          "sp_Q45070_XYNC_BACSU:0-37",
          "sp_Q6YK37_XYNC_BACIU:0-38",
          "sp_P54484_YQGA_BACSU:0-33",
          "sp_Q45105_TACY_BACCE:0-33",
          "sp_P40406_NAGZ_BACSU:0-31",
          "sp_P06832_NPRE_BACAM:0-32",
          "sp_P68735_NPRE_BACSA:0-32",
          "sp_P68736_NPRE_BACSU:0-32",
          "sp_O34344_SDPC_BACSU:0-30",
          "sp_P39899_NPRB_BACSU:0-33",
          "sp_P05806_NPRE_BACCE:0-32",
          "sp_P00800_THER_BACTH:0-33",
          "sp_Q59223_THER_BACSO:0-30",
          "sp_P28842_SUBT_BACS9:0-31",
          "sp_P33377_PHL3_BACCE:0-32",
          "sp_P11889_PHL2_BACCE:0-32",
          "sp_P09599_PHL1_BACCE:0-32",
          "sp_P05618_CDGT_BACS0:0-32",
          "sp_P09121_CDGT_BACS3:0-32",
          "sp_P30921_CDGT_BAC11:0-32",
          "sp_P17692_CDGT_BACS8:0-32",
          "sp_P31747_CDGT_BACSS:0-36",
          "sp_P14014_CDGT_BACLI:0-36",
          "sp_P31746_CDGT_BACS2:0-34",
          "sp_P27036_CDGT_BACOH:0-34",
          "sp_O07921_CHIS_BACSU:0-40",
          "sp_P94449_PEL2_BACIU:0-29",
          "sp_O34819_PEL1_BACSU:0-29",
          "sp_O32041_YRVJ_BACSU:0-32",
          "sp_O34313_NTPES_BACSU:0-40",
          "sp_P96740_PGDS_BACSU:0-32",
          "sp_P16396_SUBE_BACSU:0-32",
          "sp_O82833_GELLY_BACSP:0-33",
          "sp_O66037_PHYT_BACSD:0-31",
          "sp_O31097_PHYC_BACIU:0-31",
          "sp_P42094_PHYT_BACSU:0-31",
          "sp_P05656_SACC_BACSU:0-29",
          "sp_P06278_AMY_BACLI:0-34",
          "sp_P00692_AMY_BACAM:0-36",
          "sp_P19571_AMT6_BACS7:0-38",
          "sp_O31526_YESW_BACSU:0-40",
          "sp_P54422_GGT_BACSU:0-33",
          "sp_P63186_GGT_BACNA:0-33",
          "sp_P42983_NUCB_BACSU:0-31"
         ],
         "legendgroup": "",
         "marker": {
          "color": "#F8766D",
          "opacity": 1,
          "symbol": "circle"
         },
         "mode": "markers",
         "name": "",
         "orientation": "v",
         "showlegend": false,
         "type": "scatter",
         "x": [
          22.1341609954834,
          0.8124561309814453,
          -1.183740258216858,
          17.319683074951172,
          0.5443083047866821,
          22.327089309692383,
          0.6047396063804626,
          -10.273087501525879,
          0.23222123086452484,
          -0.08455747365951538,
          0.9795260429382324,
          19.30689811706543,
          -0.11595332622528076,
          17.43243408203125,
          1.0094349384307861,
          9.025665283203125,
          -1.104313611984253,
          0.3018353581428528,
          0.31123560667037964,
          10.099407196044922,
          2.5368456840515137,
          17.237354278564453,
          60.44227600097656,
          20.04367446899414,
          -34.183380126953125,
          0.34266412258148193,
          -63.07579040527344,
          0.5115029215812683,
          3.8410162925720215,
          0.6593911647796631,
          1.0755157470703125,
          -46.16233444213867,
          0.7657099962234497,
          34.44280242919922,
          15.743432998657227,
          0.6156809329986572,
          0.4050792157649994,
          0.7632231712341309,
          0.8095366954803467,
          -0.14791855216026306,
          0.6439897418022156,
          8.47385311126709,
          -9.193181037902832,
          0.5905704498291016,
          1.9130690097808838,
          0.47097304463386536,
          0.6616471409797668,
          0.8376492261886597,
          33.32719421386719,
          -48.211891174316406,
          0.6624356508255005,
          0.3387141525745392,
          15.748217582702637,
          2.2649214267730713,
          72.56768798828125,
          3.635866641998291,
          -2.9939773082733154,
          -1.9940433502197266,
          0.604239284992218,
          14.892762184143066,
          0.704555869102478,
          -20.36172866821289,
          0.6492130160331726,
          1.0614120960235596,
          -38.58696365356445,
          75.0738754272461,
          0.7362386584281921,
          0.22815224528312683,
          13.714815139770508,
          0.3918173909187317,
          -14.388673782348633,
          0.5438254475593567,
          -3.4729676246643066,
          16.56608009338379,
          0.453045129776001,
          -4.7334394454956055,
          0.6702661514282227,
          56.471981048583984,
          -0.21099495887756348,
          0.49462416768074036,
          -0.10971665382385254,
          0.9407060146331787,
          25.538434982299805,
          -5.027907371520996,
          0.9336674213409424,
          1.3791799545288086,
          0.7816740274429321,
          -46.217498779296875,
          0.528813898563385,
          0.5815232992172241,
          70.36894989013672,
          1.0398030281066895,
          -7.571252822875977,
          52.024085998535156,
          0.5260331630706787,
          0.5380590558052063,
          -42.33369445800781,
          35.16297149658203,
          -11.839211463928223,
          1.694690465927124,
          0.6086664199829102,
          2.1796388626098633,
          -46.50274658203125,
          4.679107189178467,
          -4.289718151092529,
          -0.04120856523513794,
          2.76057767868042,
          -0.010898053646087646,
          0.21348214149475098,
          2.354933023452759,
          -25.729528427124023,
          -11.188375473022461,
          -3.2466444969177246
         ],
         "xaxis": "x",
         "y": [
          70.244384765625,
          1.1932353973388672,
          12.961679458618164,
          -56.356292724609375,
          -15.980375289916992,
          -16.131839752197266,
          1.5785350799560547,
          -24.10497283935547,
          -6.943224906921387,
          0.9670479893684387,
          1.3514950275421143,
          19.523271560668945,
          1.766221523284912,
          9.548017501831055,
          1.381087303161621,
          1.559805154800415,
          19.63166046142578,
          1.3066540956497192,
          1.4110403060913086,
          67.97766876220703,
          -32.399662017822266,
          -2.4750142097473145,
          -203.81048583984375,
          135.57704162597656,
          -5.8464531898498535,
          1.4357374906539917,
          -19.542951583862305,
          1.6945182085037231,
          3.7069334983825684,
          1.0052739381790161,
          1.5257644653320312,
          -0.5412095189094543,
          1.7671903371810913,
          -4.790439128875732,
          27.630962371826172,
          1.3512663841247559,
          1.3777118921279907,
          1.4365946054458618,
          1.7538926601409912,
          1.4843569993972778,
          1.1290700435638428,
          1.7325869798660278,
          27.618066787719727,
          1.2938053607940674,
          13.71746826171875,
          1.4005966186523438,
          1.1353164911270142,
          1.388710618019104,
          -6.803109645843506,
          -15.24132251739502,
          1.5484116077423096,
          1.55440092086792,
          28.62352180480957,
          -32.647056579589844,
          -5.293576240539551,
          10.260910034179688,
          72.85623931884766,
          19.67139434814453,
          1.4439222812652588,
          2.403804302215576,
          1.6793400049209595,
          -43.02488708496094,
          0.9027758836746216,
          1.6899020671844482,
          33.71847915649414,
          22.788562774658203,
          1.4132616519927979,
          0.8875892758369446,
          1.8354767560958862,
          1.2443808317184448,
          30.512012481689453,
          1.3278642892837524,
          -186.84877014160156,
          53.998023986816406,
          1.3884471654891968,
          27.891517639160156,
          1.4554394483566284,
          1.4592161178588867,
          1.4328968524932861,
          1.7362596988677979,
          2.576979875564575,
          1.370129108428955,
          30.833154678344727,
          6.247722148895264,
          1.253084659576416,
          1.1105848550796509,
          1.3142377138137817,
          -0.9268671870231628,
          1.0766018629074097,
          1.2501733303070068,
          36.47898483276367,
          1.2490845918655396,
          26.114843368530273,
          47.42829132080078,
          1.2979284524917603,
          1.6195428371429443,
          -40.64670944213867,
          -11.225164413452148,
          24.666187286376953,
          25.4351863861084,
          1.1392089128494263,
          -1.0311946868896484,
          -0.033498868346214294,
          4.458669185638428,
          -15.062528610229492,
          1.4543800354003906,
          -2.020472526550293,
          1.730661392211914,
          1.0104007720947266,
          4.963573932647705,
          7.233506679534912,
          -8.216683387756348,
          1.0322788953781128
         ],
         "yaxis": "y"
        }
       ],
       "layout": {
        "legend": {
         "tracegroupgap": 0
        },
        "template": {
         "data": {
          "bar": [
           {
            "error_x": {
             "color": "rgb(51,51,51)"
            },
            "error_y": {
             "color": "rgb(51,51,51)"
            },
            "marker": {
             "line": {
              "color": "rgb(237,237,237)",
              "width": 0.5
             },
             "pattern": {
              "fillmode": "overlay",
              "size": 10,
              "solidity": 0.2
             }
            },
            "type": "bar"
           }
          ],
          "barpolar": [
           {
            "marker": {
             "line": {
              "color": "rgb(237,237,237)",
              "width": 0.5
             },
             "pattern": {
              "fillmode": "overlay",
              "size": 10,
              "solidity": 0.2
             }
            },
            "type": "barpolar"
           }
          ],
          "carpet": [
           {
            "aaxis": {
             "endlinecolor": "rgb(51,51,51)",
             "gridcolor": "white",
             "linecolor": "white",
             "minorgridcolor": "white",
             "startlinecolor": "rgb(51,51,51)"
            },
            "baxis": {
             "endlinecolor": "rgb(51,51,51)",
             "gridcolor": "white",
             "linecolor": "white",
             "minorgridcolor": "white",
             "startlinecolor": "rgb(51,51,51)"
            },
            "type": "carpet"
           }
          ],
          "choropleth": [
           {
            "colorbar": {
             "outlinewidth": 0,
             "tickcolor": "rgb(237,237,237)",
             "ticklen": 6,
             "ticks": "inside"
            },
            "type": "choropleth"
           }
          ],
          "contour": [
           {
            "colorbar": {
             "outlinewidth": 0,
             "tickcolor": "rgb(237,237,237)",
             "ticklen": 6,
             "ticks": "inside"
            },
            "colorscale": [
             [
              0,
              "rgb(20,44,66)"
             ],
             [
              1,
              "rgb(90,179,244)"
             ]
            ],
            "type": "contour"
           }
          ],
          "contourcarpet": [
           {
            "colorbar": {
             "outlinewidth": 0,
             "tickcolor": "rgb(237,237,237)",
             "ticklen": 6,
             "ticks": "inside"
            },
            "type": "contourcarpet"
           }
          ],
          "heatmap": [
           {
            "colorbar": {
             "outlinewidth": 0,
             "tickcolor": "rgb(237,237,237)",
             "ticklen": 6,
             "ticks": "inside"
            },
            "colorscale": [
             [
              0,
              "rgb(20,44,66)"
             ],
             [
              1,
              "rgb(90,179,244)"
             ]
            ],
            "type": "heatmap"
           }
          ],
          "heatmapgl": [
           {
            "colorbar": {
             "outlinewidth": 0,
             "tickcolor": "rgb(237,237,237)",
             "ticklen": 6,
             "ticks": "inside"
            },
            "colorscale": [
             [
              0,
              "rgb(20,44,66)"
             ],
             [
              1,
              "rgb(90,179,244)"
             ]
            ],
            "type": "heatmapgl"
           }
          ],
          "histogram": [
           {
            "marker": {
             "pattern": {
              "fillmode": "overlay",
              "size": 10,
              "solidity": 0.2
             }
            },
            "type": "histogram"
           }
          ],
          "histogram2d": [
           {
            "colorbar": {
             "outlinewidth": 0,
             "tickcolor": "rgb(237,237,237)",
             "ticklen": 6,
             "ticks": "inside"
            },
            "colorscale": [
             [
              0,
              "rgb(20,44,66)"
             ],
             [
              1,
              "rgb(90,179,244)"
             ]
            ],
            "type": "histogram2d"
           }
          ],
          "histogram2dcontour": [
           {
            "colorbar": {
             "outlinewidth": 0,
             "tickcolor": "rgb(237,237,237)",
             "ticklen": 6,
             "ticks": "inside"
            },
            "colorscale": [
             [
              0,
              "rgb(20,44,66)"
             ],
             [
              1,
              "rgb(90,179,244)"
             ]
            ],
            "type": "histogram2dcontour"
           }
          ],
          "mesh3d": [
           {
            "colorbar": {
             "outlinewidth": 0,
             "tickcolor": "rgb(237,237,237)",
             "ticklen": 6,
             "ticks": "inside"
            },
            "type": "mesh3d"
           }
          ],
          "parcoords": [
           {
            "line": {
             "colorbar": {
              "outlinewidth": 0,
              "tickcolor": "rgb(237,237,237)",
              "ticklen": 6,
              "ticks": "inside"
             }
            },
            "type": "parcoords"
           }
          ],
          "pie": [
           {
            "automargin": true,
            "type": "pie"
           }
          ],
          "scatter": [
           {
            "fillpattern": {
             "fillmode": "overlay",
             "size": 10,
             "solidity": 0.2
            },
            "type": "scatter"
           }
          ],
          "scatter3d": [
           {
            "line": {
             "colorbar": {
              "outlinewidth": 0,
              "tickcolor": "rgb(237,237,237)",
              "ticklen": 6,
              "ticks": "inside"
             }
            },
            "marker": {
             "colorbar": {
              "outlinewidth": 0,
              "tickcolor": "rgb(237,237,237)",
              "ticklen": 6,
              "ticks": "inside"
             }
            },
            "type": "scatter3d"
           }
          ],
          "scattercarpet": [
           {
            "marker": {
             "colorbar": {
              "outlinewidth": 0,
              "tickcolor": "rgb(237,237,237)",
              "ticklen": 6,
              "ticks": "inside"
             }
            },
            "type": "scattercarpet"
           }
          ],
          "scattergeo": [
           {
            "marker": {
             "colorbar": {
              "outlinewidth": 0,
              "tickcolor": "rgb(237,237,237)",
              "ticklen": 6,
              "ticks": "inside"
             }
            },
            "type": "scattergeo"
           }
          ],
          "scattergl": [
           {
            "marker": {
             "colorbar": {
              "outlinewidth": 0,
              "tickcolor": "rgb(237,237,237)",
              "ticklen": 6,
              "ticks": "inside"
             }
            },
            "type": "scattergl"
           }
          ],
          "scattermapbox": [
           {
            "marker": {
             "colorbar": {
              "outlinewidth": 0,
              "tickcolor": "rgb(237,237,237)",
              "ticklen": 6,
              "ticks": "inside"
             }
            },
            "type": "scattermapbox"
           }
          ],
          "scatterpolar": [
           {
            "marker": {
             "colorbar": {
              "outlinewidth": 0,
              "tickcolor": "rgb(237,237,237)",
              "ticklen": 6,
              "ticks": "inside"
             }
            },
            "type": "scatterpolar"
           }
          ],
          "scatterpolargl": [
           {
            "marker": {
             "colorbar": {
              "outlinewidth": 0,
              "tickcolor": "rgb(237,237,237)",
              "ticklen": 6,
              "ticks": "inside"
             }
            },
            "type": "scatterpolargl"
           }
          ],
          "scatterternary": [
           {
            "marker": {
             "colorbar": {
              "outlinewidth": 0,
              "tickcolor": "rgb(237,237,237)",
              "ticklen": 6,
              "ticks": "inside"
             }
            },
            "type": "scatterternary"
           }
          ],
          "surface": [
           {
            "colorbar": {
             "outlinewidth": 0,
             "tickcolor": "rgb(237,237,237)",
             "ticklen": 6,
             "ticks": "inside"
            },
            "colorscale": [
             [
              0,
              "rgb(20,44,66)"
             ],
             [
              1,
              "rgb(90,179,244)"
             ]
            ],
            "type": "surface"
           }
          ],
          "table": [
           {
            "cells": {
             "fill": {
              "color": "rgb(237,237,237)"
             },
             "line": {
              "color": "white"
             }
            },
            "header": {
             "fill": {
              "color": "rgb(217,217,217)"
             },
             "line": {
              "color": "white"
             }
            },
            "type": "table"
           }
          ]
         },
         "layout": {
          "annotationdefaults": {
           "arrowhead": 0,
           "arrowwidth": 1
          },
          "autotypenumbers": "strict",
          "coloraxis": {
           "colorbar": {
            "outlinewidth": 0,
            "tickcolor": "rgb(237,237,237)",
            "ticklen": 6,
            "ticks": "inside"
           }
          },
          "colorscale": {
           "sequential": [
            [
             0,
             "rgb(20,44,66)"
            ],
            [
             1,
             "rgb(90,179,244)"
            ]
           ],
           "sequentialminus": [
            [
             0,
             "rgb(20,44,66)"
            ],
            [
             1,
             "rgb(90,179,244)"
            ]
           ]
          },
          "colorway": [
           "#F8766D",
           "#A3A500",
           "#00BF7D",
           "#00B0F6",
           "#E76BF3"
          ],
          "font": {
           "color": "rgb(51,51,51)"
          },
          "geo": {
           "bgcolor": "white",
           "lakecolor": "white",
           "landcolor": "rgb(237,237,237)",
           "showlakes": true,
           "showland": true,
           "subunitcolor": "white"
          },
          "hoverlabel": {
           "align": "left"
          },
          "hovermode": "closest",
          "paper_bgcolor": "white",
          "plot_bgcolor": "rgb(237,237,237)",
          "polar": {
           "angularaxis": {
            "gridcolor": "white",
            "linecolor": "white",
            "showgrid": true,
            "tickcolor": "rgb(51,51,51)",
            "ticks": "outside"
           },
           "bgcolor": "rgb(237,237,237)",
           "radialaxis": {
            "gridcolor": "white",
            "linecolor": "white",
            "showgrid": true,
            "tickcolor": "rgb(51,51,51)",
            "ticks": "outside"
           }
          },
          "scene": {
           "xaxis": {
            "backgroundcolor": "rgb(237,237,237)",
            "gridcolor": "white",
            "gridwidth": 2,
            "linecolor": "white",
            "showbackground": true,
            "showgrid": true,
            "tickcolor": "rgb(51,51,51)",
            "ticks": "outside",
            "zerolinecolor": "white"
           },
           "yaxis": {
            "backgroundcolor": "rgb(237,237,237)",
            "gridcolor": "white",
            "gridwidth": 2,
            "linecolor": "white",
            "showbackground": true,
            "showgrid": true,
            "tickcolor": "rgb(51,51,51)",
            "ticks": "outside",
            "zerolinecolor": "white"
           },
           "zaxis": {
            "backgroundcolor": "rgb(237,237,237)",
            "gridcolor": "white",
            "gridwidth": 2,
            "linecolor": "white",
            "showbackground": true,
            "showgrid": true,
            "tickcolor": "rgb(51,51,51)",
            "ticks": "outside",
            "zerolinecolor": "white"
           }
          },
          "shapedefaults": {
           "fillcolor": "black",
           "line": {
            "width": 0
           },
           "opacity": 0.3
          },
          "ternary": {
           "aaxis": {
            "gridcolor": "white",
            "linecolor": "white",
            "showgrid": true,
            "tickcolor": "rgb(51,51,51)",
            "ticks": "outside"
           },
           "baxis": {
            "gridcolor": "white",
            "linecolor": "white",
            "showgrid": true,
            "tickcolor": "rgb(51,51,51)",
            "ticks": "outside"
           },
           "bgcolor": "rgb(237,237,237)",
           "caxis": {
            "gridcolor": "white",
            "linecolor": "white",
            "showgrid": true,
            "tickcolor": "rgb(51,51,51)",
            "ticks": "outside"
           }
          },
          "xaxis": {
           "automargin": true,
           "gridcolor": "white",
           "linecolor": "white",
           "showgrid": true,
           "tickcolor": "rgb(51,51,51)",
           "ticks": "outside",
           "title": {
            "standoff": 15
           },
           "zerolinecolor": "white"
          },
          "yaxis": {
           "automargin": true,
           "gridcolor": "white",
           "linecolor": "white",
           "showgrid": true,
           "tickcolor": "rgb(51,51,51)",
           "ticks": "outside",
           "title": {
            "standoff": 15
           },
           "zerolinecolor": "white"
          }
         }
        },
        "title": {
         "text": "Graph 2: tSNE Visualisation in the x-z plane"
        },
        "xaxis": {
         "anchor": "y",
         "domain": [
          0,
          1
         ],
         "title": {
          "text": "tSNE_x"
         }
        },
        "yaxis": {
         "anchor": "x",
         "domain": [
          0,
          1
         ],
         "title": {
          "text": "tSNE_z"
         }
        }
       }
      },
      "text/html": [
       "<div>                            <div id=\"6c84e5c4-a3bb-42af-8e95-517b428ef2be\" class=\"plotly-graph-div\" style=\"height:525px; width:100%;\"></div>            <script type=\"text/javascript\">                require([\"plotly\"], function(Plotly) {                    window.PLOTLYENV=window.PLOTLYENV || {};                                    if (document.getElementById(\"6c84e5c4-a3bb-42af-8e95-517b428ef2be\")) {                    Plotly.newPlot(                        \"6c84e5c4-a3bb-42af-8e95-517b428ef2be\",                        [{\"hovertemplate\":\"<b>%{hovertext}</b><br><br>tSNE_x=%{x}<br>tSNE_z=%{y}<extra></extra>\",\"hovertext\":[\"sp_P40136_CYAA_BACAN:0-33\",\"sp_P21130_SACB_BACAM:0-34\",\"sp_P05655_SACB_BACSU:0-34\",\"sp_P13423_PAG_BACAN:0-25\",\"sp_P39848_LYTD_BACSU:0-32\",\"sp_Q02114_LYTC_BACSU:0-29\",\"sp_P80172_HBLA_BACCE:0-26\",\"sp_P42111_YXAL_BACSU:0-29\",\"sp_P54507_TASA_BACSU:0-32\",\"sp_P55278_MANB_BACIU:0-29\",\"sp_O05512_MANB_BACSU:0-26\",\"sp_P00780_SUBC_BACLI:0-34\",\"sp_P00782_SUBT_BACAM:0-28\",\"sp_P04189_SUBT_BACSU:0-34\",\"sp_P35835_SUBN_BACNA:0-34\",\"sp_P00783_SUBT_BACSA:0-34\",\"sp_P94356_YXKC_BACSU:0-29\",\"sp_P40767_CWLO_BACSU:0-23\",\"sp_P20724_ELYA_BACYA:0-32\",\"sp_P25152_BSAP_BACSU:0-29\",\"sp_P00649_RN_BACIN:0-34\",\"sp_P48068_RN_BACPU:0-34\",\"sp_P00648_RNBR_BACAM:0-33\",\"sp_P71014_BSLA_BACSU:0-33\",\"sp_O31411_SACC_BACL7:0-28\",\"sp_Q45071_XYND_BACSU:0-31\",\"sp_P00691_AMY_BACSU:0-31\",\"sp_B1B6T1_PTLY_BACSP:0-27\",\"sp_Q65DC2_PTLY_BACLD:0-27\",\"sp_Q8GCB2_PTLY_BACLI:0-27\",\"sp_P29141_SUBV_BACSU:0-33\",\"sp_P16397_SUBF_BACSU:0-34\",\"sp_P39632_BSLB_BACSU:0-35\",\"sp_P80057_GSEP_BACLD:0-35\",\"sp_P96729_YWSB_BACSU:0-26\",\"sp_P39790_MPR_BACSU:0-39\",\"sp_Q59HN7_PHRH_BACSU:0-26\",\"sp_O31737_YLQB_BACSU:0-32\",\"sp_Q45670_THES_BACSJ:0-29\",\"sp_Q02113_CWBA_BACSU:0-30\",\"sp_P94217_SLAP2_BACAN:0-34\",\"sp_Q9RMZ0_Y6545_BACAN:0-33\",\"sp_P42293_EABN2_BACSU:0-31\",\"sp_P94522_EABN1_BACSU:0-37\",\"sp_Q79F14_ESTB_BACSU:0-25\",\"sp_P37957_ESTA_BACSU:0-36\",\"sp_Q5U780_LIP_BACSP:0-33\",\"sp_O34310_PLYC_BACSU:0-32\",\"sp_Q65EF5_PLYC_BACLD:0-26\",\"sp_O07532_LYTF_BACSU:0-31\",\"sp_P54421_LYTE_BACSU:0-30\",\"sp_O34669_YOCH_BACSU:0-30\",\"sp_P54423_WPRA_BACSU:0-34\",\"sp_P39844_DACC_BACSU:0-34\",\"sp_Q9AQS0_XANLY_BACGL:0-30\",\"sp_Q07833_WAPA_BACSU:0-37\",\"sp_G4NYJ6_WAPA_BACS4:0-37\",\"sp_P68569_BDBA_BACSU:0-22\",\"sp_P96600_DCTB_BACSU:0-23\",\"sp_O34918_YOAJ_BACSU:0-30\",\"sp_P39116_PLY_BACSU:0-26\",\"sp_P94576_YWOF_BACSU:0-24\",\"sp_Q03091_BSN1_BACAM:0-31\",\"sp_O32150_BSN2_BACSU:0-31\",\"sp_P38422_DACF_BACSU:0-28\",\"sp_P08750_DACA_BACSU:0-36\",\"sp_P39824_BLAC_BACSU:0-29\",\"sp_P04957_GUB_BACSU:0-33\",\"sp_O07013_GANB_BACSU:0-29\",\"sp_Q45070_XYNC_BACSU:0-37\",\"sp_Q6YK37_XYNC_BACIU:0-38\",\"sp_P54484_YQGA_BACSU:0-33\",\"sp_Q45105_TACY_BACCE:0-33\",\"sp_P40406_NAGZ_BACSU:0-31\",\"sp_P06832_NPRE_BACAM:0-32\",\"sp_P68735_NPRE_BACSA:0-32\",\"sp_P68736_NPRE_BACSU:0-32\",\"sp_O34344_SDPC_BACSU:0-30\",\"sp_P39899_NPRB_BACSU:0-33\",\"sp_P05806_NPRE_BACCE:0-32\",\"sp_P00800_THER_BACTH:0-33\",\"sp_Q59223_THER_BACSO:0-30\",\"sp_P28842_SUBT_BACS9:0-31\",\"sp_P33377_PHL3_BACCE:0-32\",\"sp_P11889_PHL2_BACCE:0-32\",\"sp_P09599_PHL1_BACCE:0-32\",\"sp_P05618_CDGT_BACS0:0-32\",\"sp_P09121_CDGT_BACS3:0-32\",\"sp_P30921_CDGT_BAC11:0-32\",\"sp_P17692_CDGT_BACS8:0-32\",\"sp_P31747_CDGT_BACSS:0-36\",\"sp_P14014_CDGT_BACLI:0-36\",\"sp_P31746_CDGT_BACS2:0-34\",\"sp_P27036_CDGT_BACOH:0-34\",\"sp_O07921_CHIS_BACSU:0-40\",\"sp_P94449_PEL2_BACIU:0-29\",\"sp_O34819_PEL1_BACSU:0-29\",\"sp_O32041_YRVJ_BACSU:0-32\",\"sp_O34313_NTPES_BACSU:0-40\",\"sp_P96740_PGDS_BACSU:0-32\",\"sp_P16396_SUBE_BACSU:0-32\",\"sp_O82833_GELLY_BACSP:0-33\",\"sp_O66037_PHYT_BACSD:0-31\",\"sp_O31097_PHYC_BACIU:0-31\",\"sp_P42094_PHYT_BACSU:0-31\",\"sp_P05656_SACC_BACSU:0-29\",\"sp_P06278_AMY_BACLI:0-34\",\"sp_P00692_AMY_BACAM:0-36\",\"sp_P19571_AMT6_BACS7:0-38\",\"sp_O31526_YESW_BACSU:0-40\",\"sp_P54422_GGT_BACSU:0-33\",\"sp_P63186_GGT_BACNA:0-33\",\"sp_P42983_NUCB_BACSU:0-31\"],\"legendgroup\":\"\",\"marker\":{\"color\":\"#F8766D\",\"opacity\":1,\"symbol\":\"circle\"},\"mode\":\"markers\",\"name\":\"\",\"orientation\":\"v\",\"showlegend\":false,\"x\":[22.1341609954834,0.8124561309814453,-1.183740258216858,17.319683074951172,0.5443083047866821,22.327089309692383,0.6047396063804626,-10.273087501525879,0.23222123086452484,-0.08455747365951538,0.9795260429382324,19.30689811706543,-0.11595332622528076,17.43243408203125,1.0094349384307861,9.025665283203125,-1.104313611984253,0.3018353581428528,0.31123560667037964,10.099407196044922,2.5368456840515137,17.237354278564453,60.44227600097656,20.04367446899414,-34.183380126953125,0.34266412258148193,-63.07579040527344,0.5115029215812683,3.8410162925720215,0.6593911647796631,1.0755157470703125,-46.16233444213867,0.7657099962234497,34.44280242919922,15.743432998657227,0.6156809329986572,0.4050792157649994,0.7632231712341309,0.8095366954803467,-0.14791855216026306,0.6439897418022156,8.47385311126709,-9.193181037902832,0.5905704498291016,1.9130690097808838,0.47097304463386536,0.6616471409797668,0.8376492261886597,33.32719421386719,-48.211891174316406,0.6624356508255005,0.3387141525745392,15.748217582702637,2.2649214267730713,72.56768798828125,3.635866641998291,-2.9939773082733154,-1.9940433502197266,0.604239284992218,14.892762184143066,0.704555869102478,-20.36172866821289,0.6492130160331726,1.0614120960235596,-38.58696365356445,75.0738754272461,0.7362386584281921,0.22815224528312683,13.714815139770508,0.3918173909187317,-14.388673782348633,0.5438254475593567,-3.4729676246643066,16.56608009338379,0.453045129776001,-4.7334394454956055,0.6702661514282227,56.471981048583984,-0.21099495887756348,0.49462416768074036,-0.10971665382385254,0.9407060146331787,25.538434982299805,-5.027907371520996,0.9336674213409424,1.3791799545288086,0.7816740274429321,-46.217498779296875,0.528813898563385,0.5815232992172241,70.36894989013672,1.0398030281066895,-7.571252822875977,52.024085998535156,0.5260331630706787,0.5380590558052063,-42.33369445800781,35.16297149658203,-11.839211463928223,1.694690465927124,0.6086664199829102,2.1796388626098633,-46.50274658203125,4.679107189178467,-4.289718151092529,-0.04120856523513794,2.76057767868042,-0.010898053646087646,0.21348214149475098,2.354933023452759,-25.729528427124023,-11.188375473022461,-3.2466444969177246],\"xaxis\":\"x\",\"y\":[70.244384765625,1.1932353973388672,12.961679458618164,-56.356292724609375,-15.980375289916992,-16.131839752197266,1.5785350799560547,-24.10497283935547,-6.943224906921387,0.9670479893684387,1.3514950275421143,19.523271560668945,1.766221523284912,9.548017501831055,1.381087303161621,1.559805154800415,19.63166046142578,1.3066540956497192,1.4110403060913086,67.97766876220703,-32.399662017822266,-2.4750142097473145,-203.81048583984375,135.57704162597656,-5.8464531898498535,1.4357374906539917,-19.542951583862305,1.6945182085037231,3.7069334983825684,1.0052739381790161,1.5257644653320312,-0.5412095189094543,1.7671903371810913,-4.790439128875732,27.630962371826172,1.3512663841247559,1.3777118921279907,1.4365946054458618,1.7538926601409912,1.4843569993972778,1.1290700435638428,1.7325869798660278,27.618066787719727,1.2938053607940674,13.71746826171875,1.4005966186523438,1.1353164911270142,1.388710618019104,-6.803109645843506,-15.24132251739502,1.5484116077423096,1.55440092086792,28.62352180480957,-32.647056579589844,-5.293576240539551,10.260910034179688,72.85623931884766,19.67139434814453,1.4439222812652588,2.403804302215576,1.6793400049209595,-43.02488708496094,0.9027758836746216,1.6899020671844482,33.71847915649414,22.788562774658203,1.4132616519927979,0.8875892758369446,1.8354767560958862,1.2443808317184448,30.512012481689453,1.3278642892837524,-186.84877014160156,53.998023986816406,1.3884471654891968,27.891517639160156,1.4554394483566284,1.4592161178588867,1.4328968524932861,1.7362596988677979,2.576979875564575,1.370129108428955,30.833154678344727,6.247722148895264,1.253084659576416,1.1105848550796509,1.3142377138137817,-0.9268671870231628,1.0766018629074097,1.2501733303070068,36.47898483276367,1.2490845918655396,26.114843368530273,47.42829132080078,1.2979284524917603,1.6195428371429443,-40.64670944213867,-11.225164413452148,24.666187286376953,25.4351863861084,1.1392089128494263,-1.0311946868896484,-0.033498868346214294,4.458669185638428,-15.062528610229492,1.4543800354003906,-2.020472526550293,1.730661392211914,1.0104007720947266,4.963573932647705,7.233506679534912,-8.216683387756348,1.0322788953781128],\"yaxis\":\"y\",\"type\":\"scatter\"}],                        {\"template\":{\"data\":{\"barpolar\":[{\"marker\":{\"line\":{\"color\":\"rgb(237,237,237)\",\"width\":0.5},\"pattern\":{\"fillmode\":\"overlay\",\"size\":10,\"solidity\":0.2}},\"type\":\"barpolar\"}],\"bar\":[{\"error_x\":{\"color\":\"rgb(51,51,51)\"},\"error_y\":{\"color\":\"rgb(51,51,51)\"},\"marker\":{\"line\":{\"color\":\"rgb(237,237,237)\",\"width\":0.5},\"pattern\":{\"fillmode\":\"overlay\",\"size\":10,\"solidity\":0.2}},\"type\":\"bar\"}],\"carpet\":[{\"aaxis\":{\"endlinecolor\":\"rgb(51,51,51)\",\"gridcolor\":\"white\",\"linecolor\":\"white\",\"minorgridcolor\":\"white\",\"startlinecolor\":\"rgb(51,51,51)\"},\"baxis\":{\"endlinecolor\":\"rgb(51,51,51)\",\"gridcolor\":\"white\",\"linecolor\":\"white\",\"minorgridcolor\":\"white\",\"startlinecolor\":\"rgb(51,51,51)\"},\"type\":\"carpet\"}],\"choropleth\":[{\"colorbar\":{\"outlinewidth\":0,\"tickcolor\":\"rgb(237,237,237)\",\"ticklen\":6,\"ticks\":\"inside\"},\"type\":\"choropleth\"}],\"contourcarpet\":[{\"colorbar\":{\"outlinewidth\":0,\"tickcolor\":\"rgb(237,237,237)\",\"ticklen\":6,\"ticks\":\"inside\"},\"type\":\"contourcarpet\"}],\"contour\":[{\"colorbar\":{\"outlinewidth\":0,\"tickcolor\":\"rgb(237,237,237)\",\"ticklen\":6,\"ticks\":\"inside\"},\"colorscale\":[[0,\"rgb(20,44,66)\"],[1,\"rgb(90,179,244)\"]],\"type\":\"contour\"}],\"heatmapgl\":[{\"colorbar\":{\"outlinewidth\":0,\"tickcolor\":\"rgb(237,237,237)\",\"ticklen\":6,\"ticks\":\"inside\"},\"colorscale\":[[0,\"rgb(20,44,66)\"],[1,\"rgb(90,179,244)\"]],\"type\":\"heatmapgl\"}],\"heatmap\":[{\"colorbar\":{\"outlinewidth\":0,\"tickcolor\":\"rgb(237,237,237)\",\"ticklen\":6,\"ticks\":\"inside\"},\"colorscale\":[[0,\"rgb(20,44,66)\"],[1,\"rgb(90,179,244)\"]],\"type\":\"heatmap\"}],\"histogram2dcontour\":[{\"colorbar\":{\"outlinewidth\":0,\"tickcolor\":\"rgb(237,237,237)\",\"ticklen\":6,\"ticks\":\"inside\"},\"colorscale\":[[0,\"rgb(20,44,66)\"],[1,\"rgb(90,179,244)\"]],\"type\":\"histogram2dcontour\"}],\"histogram2d\":[{\"colorbar\":{\"outlinewidth\":0,\"tickcolor\":\"rgb(237,237,237)\",\"ticklen\":6,\"ticks\":\"inside\"},\"colorscale\":[[0,\"rgb(20,44,66)\"],[1,\"rgb(90,179,244)\"]],\"type\":\"histogram2d\"}],\"histogram\":[{\"marker\":{\"pattern\":{\"fillmode\":\"overlay\",\"size\":10,\"solidity\":0.2}},\"type\":\"histogram\"}],\"mesh3d\":[{\"colorbar\":{\"outlinewidth\":0,\"tickcolor\":\"rgb(237,237,237)\",\"ticklen\":6,\"ticks\":\"inside\"},\"type\":\"mesh3d\"}],\"parcoords\":[{\"line\":{\"colorbar\":{\"outlinewidth\":0,\"tickcolor\":\"rgb(237,237,237)\",\"ticklen\":6,\"ticks\":\"inside\"}},\"type\":\"parcoords\"}],\"pie\":[{\"automargin\":true,\"type\":\"pie\"}],\"scatter3d\":[{\"line\":{\"colorbar\":{\"outlinewidth\":0,\"tickcolor\":\"rgb(237,237,237)\",\"ticklen\":6,\"ticks\":\"inside\"}},\"marker\":{\"colorbar\":{\"outlinewidth\":0,\"tickcolor\":\"rgb(237,237,237)\",\"ticklen\":6,\"ticks\":\"inside\"}},\"type\":\"scatter3d\"}],\"scattercarpet\":[{\"marker\":{\"colorbar\":{\"outlinewidth\":0,\"tickcolor\":\"rgb(237,237,237)\",\"ticklen\":6,\"ticks\":\"inside\"}},\"type\":\"scattercarpet\"}],\"scattergeo\":[{\"marker\":{\"colorbar\":{\"outlinewidth\":0,\"tickcolor\":\"rgb(237,237,237)\",\"ticklen\":6,\"ticks\":\"inside\"}},\"type\":\"scattergeo\"}],\"scattergl\":[{\"marker\":{\"colorbar\":{\"outlinewidth\":0,\"tickcolor\":\"rgb(237,237,237)\",\"ticklen\":6,\"ticks\":\"inside\"}},\"type\":\"scattergl\"}],\"scattermapbox\":[{\"marker\":{\"colorbar\":{\"outlinewidth\":0,\"tickcolor\":\"rgb(237,237,237)\",\"ticklen\":6,\"ticks\":\"inside\"}},\"type\":\"scattermapbox\"}],\"scatterpolargl\":[{\"marker\":{\"colorbar\":{\"outlinewidth\":0,\"tickcolor\":\"rgb(237,237,237)\",\"ticklen\":6,\"ticks\":\"inside\"}},\"type\":\"scatterpolargl\"}],\"scatterpolar\":[{\"marker\":{\"colorbar\":{\"outlinewidth\":0,\"tickcolor\":\"rgb(237,237,237)\",\"ticklen\":6,\"ticks\":\"inside\"}},\"type\":\"scatterpolar\"}],\"scatter\":[{\"fillpattern\":{\"fillmode\":\"overlay\",\"size\":10,\"solidity\":0.2},\"type\":\"scatter\"}],\"scatterternary\":[{\"marker\":{\"colorbar\":{\"outlinewidth\":0,\"tickcolor\":\"rgb(237,237,237)\",\"ticklen\":6,\"ticks\":\"inside\"}},\"type\":\"scatterternary\"}],\"surface\":[{\"colorbar\":{\"outlinewidth\":0,\"tickcolor\":\"rgb(237,237,237)\",\"ticklen\":6,\"ticks\":\"inside\"},\"colorscale\":[[0,\"rgb(20,44,66)\"],[1,\"rgb(90,179,244)\"]],\"type\":\"surface\"}],\"table\":[{\"cells\":{\"fill\":{\"color\":\"rgb(237,237,237)\"},\"line\":{\"color\":\"white\"}},\"header\":{\"fill\":{\"color\":\"rgb(217,217,217)\"},\"line\":{\"color\":\"white\"}},\"type\":\"table\"}]},\"layout\":{\"annotationdefaults\":{\"arrowhead\":0,\"arrowwidth\":1},\"autotypenumbers\":\"strict\",\"coloraxis\":{\"colorbar\":{\"outlinewidth\":0,\"tickcolor\":\"rgb(237,237,237)\",\"ticklen\":6,\"ticks\":\"inside\"}},\"colorscale\":{\"sequential\":[[0,\"rgb(20,44,66)\"],[1,\"rgb(90,179,244)\"]],\"sequentialminus\":[[0,\"rgb(20,44,66)\"],[1,\"rgb(90,179,244)\"]]},\"colorway\":[\"#F8766D\",\"#A3A500\",\"#00BF7D\",\"#00B0F6\",\"#E76BF3\"],\"font\":{\"color\":\"rgb(51,51,51)\"},\"geo\":{\"bgcolor\":\"white\",\"lakecolor\":\"white\",\"landcolor\":\"rgb(237,237,237)\",\"showlakes\":true,\"showland\":true,\"subunitcolor\":\"white\"},\"hoverlabel\":{\"align\":\"left\"},\"hovermode\":\"closest\",\"paper_bgcolor\":\"white\",\"plot_bgcolor\":\"rgb(237,237,237)\",\"polar\":{\"angularaxis\":{\"gridcolor\":\"white\",\"linecolor\":\"white\",\"showgrid\":true,\"tickcolor\":\"rgb(51,51,51)\",\"ticks\":\"outside\"},\"bgcolor\":\"rgb(237,237,237)\",\"radialaxis\":{\"gridcolor\":\"white\",\"linecolor\":\"white\",\"showgrid\":true,\"tickcolor\":\"rgb(51,51,51)\",\"ticks\":\"outside\"}},\"scene\":{\"xaxis\":{\"backgroundcolor\":\"rgb(237,237,237)\",\"gridcolor\":\"white\",\"gridwidth\":2,\"linecolor\":\"white\",\"showbackground\":true,\"showgrid\":true,\"tickcolor\":\"rgb(51,51,51)\",\"ticks\":\"outside\",\"zerolinecolor\":\"white\"},\"yaxis\":{\"backgroundcolor\":\"rgb(237,237,237)\",\"gridcolor\":\"white\",\"gridwidth\":2,\"linecolor\":\"white\",\"showbackground\":true,\"showgrid\":true,\"tickcolor\":\"rgb(51,51,51)\",\"ticks\":\"outside\",\"zerolinecolor\":\"white\"},\"zaxis\":{\"backgroundcolor\":\"rgb(237,237,237)\",\"gridcolor\":\"white\",\"gridwidth\":2,\"linecolor\":\"white\",\"showbackground\":true,\"showgrid\":true,\"tickcolor\":\"rgb(51,51,51)\",\"ticks\":\"outside\",\"zerolinecolor\":\"white\"}},\"shapedefaults\":{\"fillcolor\":\"black\",\"line\":{\"width\":0},\"opacity\":0.3},\"ternary\":{\"aaxis\":{\"gridcolor\":\"white\",\"linecolor\":\"white\",\"showgrid\":true,\"tickcolor\":\"rgb(51,51,51)\",\"ticks\":\"outside\"},\"baxis\":{\"gridcolor\":\"white\",\"linecolor\":\"white\",\"showgrid\":true,\"tickcolor\":\"rgb(51,51,51)\",\"ticks\":\"outside\"},\"bgcolor\":\"rgb(237,237,237)\",\"caxis\":{\"gridcolor\":\"white\",\"linecolor\":\"white\",\"showgrid\":true,\"tickcolor\":\"rgb(51,51,51)\",\"ticks\":\"outside\"}},\"xaxis\":{\"automargin\":true,\"gridcolor\":\"white\",\"linecolor\":\"white\",\"showgrid\":true,\"tickcolor\":\"rgb(51,51,51)\",\"ticks\":\"outside\",\"title\":{\"standoff\":15},\"zerolinecolor\":\"white\"},\"yaxis\":{\"automargin\":true,\"gridcolor\":\"white\",\"linecolor\":\"white\",\"showgrid\":true,\"tickcolor\":\"rgb(51,51,51)\",\"ticks\":\"outside\",\"title\":{\"standoff\":15},\"zerolinecolor\":\"white\"}}},\"xaxis\":{\"anchor\":\"y\",\"domain\":[0.0,1.0],\"title\":{\"text\":\"tSNE_x\"}},\"yaxis\":{\"anchor\":\"x\",\"domain\":[0.0,1.0],\"title\":{\"text\":\"tSNE_z\"}},\"legend\":{\"tracegroupgap\":0},\"title\":{\"text\":\"Graph 2: tSNE Visualisation in the x-z plane\"}},                        {\"responsive\": true}                    ).then(function(){\n",
       "                            \n",
       "var gd = document.getElementById('6c84e5c4-a3bb-42af-8e95-517b428ef2be');\n",
       "var x = new MutationObserver(function (mutations, observer) {{\n",
       "        var display = window.getComputedStyle(gd).display;\n",
       "        if (!display || display === 'none') {{\n",
       "            console.log([gd, 'removed!']);\n",
       "            Plotly.purge(gd);\n",
       "            observer.disconnect();\n",
       "        }}\n",
       "}});\n",
       "\n",
       "// Listen for the removal of the full notebook cells\n",
       "var notebookContainer = gd.closest('#notebook-container');\n",
       "if (notebookContainer) {{\n",
       "    x.observe(notebookContainer, {childList: true});\n",
       "}}\n",
       "\n",
       "// Listen for the clearing of the current output cell\n",
       "var outputEl = gd.closest('.output');\n",
       "if (outputEl) {{\n",
       "    x.observe(outputEl, {childList: true});\n",
       "}}\n",
       "\n",
       "                        })                };                });            </script>        </div>"
      ]
     },
     "metadata": {},
     "output_type": "display_data"
    }
   ],
   "source": [
    "fig2 = px.scatter(tSNE_df, x='tSNE_x', y='tSNE_z', hover_name=tSNE_df.index, template='ggplot2', opacity=1, title='Graph 2: tSNE Visualisation in the x-z plane')\n",
    "fig2"
   ]
  },
  {
   "cell_type": "code",
   "execution_count": 67,
   "id": "91363b69",
   "metadata": {},
   "outputs": [
    {
     "data": {
      "application/vnd.plotly.v1+json": {
       "config": {
        "plotlyServerURL": "https://plot.ly"
       },
       "data": [
        {
         "hovertemplate": "<b>%{hovertext}</b><br><br>tSNE_y=%{x}<br>tSNE_z=%{y}<extra></extra>",
         "hovertext": [
          "sp_P40136_CYAA_BACAN:0-33",
          "sp_P21130_SACB_BACAM:0-34",
          "sp_P05655_SACB_BACSU:0-34",
          "sp_P13423_PAG_BACAN:0-25",
          "sp_P39848_LYTD_BACSU:0-32",
          "sp_Q02114_LYTC_BACSU:0-29",
          "sp_P80172_HBLA_BACCE:0-26",
          "sp_P42111_YXAL_BACSU:0-29",
          "sp_P54507_TASA_BACSU:0-32",
          "sp_P55278_MANB_BACIU:0-29",
          "sp_O05512_MANB_BACSU:0-26",
          "sp_P00780_SUBC_BACLI:0-34",
          "sp_P00782_SUBT_BACAM:0-28",
          "sp_P04189_SUBT_BACSU:0-34",
          "sp_P35835_SUBN_BACNA:0-34",
          "sp_P00783_SUBT_BACSA:0-34",
          "sp_P94356_YXKC_BACSU:0-29",
          "sp_P40767_CWLO_BACSU:0-23",
          "sp_P20724_ELYA_BACYA:0-32",
          "sp_P25152_BSAP_BACSU:0-29",
          "sp_P00649_RN_BACIN:0-34",
          "sp_P48068_RN_BACPU:0-34",
          "sp_P00648_RNBR_BACAM:0-33",
          "sp_P71014_BSLA_BACSU:0-33",
          "sp_O31411_SACC_BACL7:0-28",
          "sp_Q45071_XYND_BACSU:0-31",
          "sp_P00691_AMY_BACSU:0-31",
          "sp_B1B6T1_PTLY_BACSP:0-27",
          "sp_Q65DC2_PTLY_BACLD:0-27",
          "sp_Q8GCB2_PTLY_BACLI:0-27",
          "sp_P29141_SUBV_BACSU:0-33",
          "sp_P16397_SUBF_BACSU:0-34",
          "sp_P39632_BSLB_BACSU:0-35",
          "sp_P80057_GSEP_BACLD:0-35",
          "sp_P96729_YWSB_BACSU:0-26",
          "sp_P39790_MPR_BACSU:0-39",
          "sp_Q59HN7_PHRH_BACSU:0-26",
          "sp_O31737_YLQB_BACSU:0-32",
          "sp_Q45670_THES_BACSJ:0-29",
          "sp_Q02113_CWBA_BACSU:0-30",
          "sp_P94217_SLAP2_BACAN:0-34",
          "sp_Q9RMZ0_Y6545_BACAN:0-33",
          "sp_P42293_EABN2_BACSU:0-31",
          "sp_P94522_EABN1_BACSU:0-37",
          "sp_Q79F14_ESTB_BACSU:0-25",
          "sp_P37957_ESTA_BACSU:0-36",
          "sp_Q5U780_LIP_BACSP:0-33",
          "sp_O34310_PLYC_BACSU:0-32",
          "sp_Q65EF5_PLYC_BACLD:0-26",
          "sp_O07532_LYTF_BACSU:0-31",
          "sp_P54421_LYTE_BACSU:0-30",
          "sp_O34669_YOCH_BACSU:0-30",
          "sp_P54423_WPRA_BACSU:0-34",
          "sp_P39844_DACC_BACSU:0-34",
          "sp_Q9AQS0_XANLY_BACGL:0-30",
          "sp_Q07833_WAPA_BACSU:0-37",
          "sp_G4NYJ6_WAPA_BACS4:0-37",
          "sp_P68569_BDBA_BACSU:0-22",
          "sp_P96600_DCTB_BACSU:0-23",
          "sp_O34918_YOAJ_BACSU:0-30",
          "sp_P39116_PLY_BACSU:0-26",
          "sp_P94576_YWOF_BACSU:0-24",
          "sp_Q03091_BSN1_BACAM:0-31",
          "sp_O32150_BSN2_BACSU:0-31",
          "sp_P38422_DACF_BACSU:0-28",
          "sp_P08750_DACA_BACSU:0-36",
          "sp_P39824_BLAC_BACSU:0-29",
          "sp_P04957_GUB_BACSU:0-33",
          "sp_O07013_GANB_BACSU:0-29",
          "sp_Q45070_XYNC_BACSU:0-37",
          "sp_Q6YK37_XYNC_BACIU:0-38",
          "sp_P54484_YQGA_BACSU:0-33",
          "sp_Q45105_TACY_BACCE:0-33",
          "sp_P40406_NAGZ_BACSU:0-31",
          "sp_P06832_NPRE_BACAM:0-32",
          "sp_P68735_NPRE_BACSA:0-32",
          "sp_P68736_NPRE_BACSU:0-32",
          "sp_O34344_SDPC_BACSU:0-30",
          "sp_P39899_NPRB_BACSU:0-33",
          "sp_P05806_NPRE_BACCE:0-32",
          "sp_P00800_THER_BACTH:0-33",
          "sp_Q59223_THER_BACSO:0-30",
          "sp_P28842_SUBT_BACS9:0-31",
          "sp_P33377_PHL3_BACCE:0-32",
          "sp_P11889_PHL2_BACCE:0-32",
          "sp_P09599_PHL1_BACCE:0-32",
          "sp_P05618_CDGT_BACS0:0-32",
          "sp_P09121_CDGT_BACS3:0-32",
          "sp_P30921_CDGT_BAC11:0-32",
          "sp_P17692_CDGT_BACS8:0-32",
          "sp_P31747_CDGT_BACSS:0-36",
          "sp_P14014_CDGT_BACLI:0-36",
          "sp_P31746_CDGT_BACS2:0-34",
          "sp_P27036_CDGT_BACOH:0-34",
          "sp_O07921_CHIS_BACSU:0-40",
          "sp_P94449_PEL2_BACIU:0-29",
          "sp_O34819_PEL1_BACSU:0-29",
          "sp_O32041_YRVJ_BACSU:0-32",
          "sp_O34313_NTPES_BACSU:0-40",
          "sp_P96740_PGDS_BACSU:0-32",
          "sp_P16396_SUBE_BACSU:0-32",
          "sp_O82833_GELLY_BACSP:0-33",
          "sp_O66037_PHYT_BACSD:0-31",
          "sp_O31097_PHYC_BACIU:0-31",
          "sp_P42094_PHYT_BACSU:0-31",
          "sp_P05656_SACC_BACSU:0-29",
          "sp_P06278_AMY_BACLI:0-34",
          "sp_P00692_AMY_BACAM:0-36",
          "sp_P19571_AMT6_BACS7:0-38",
          "sp_O31526_YESW_BACSU:0-40",
          "sp_P54422_GGT_BACSU:0-33",
          "sp_P63186_GGT_BACNA:0-33",
          "sp_P42983_NUCB_BACSU:0-31"
         ],
         "legendgroup": "",
         "marker": {
          "color": "#F8766D",
          "opacity": 1,
          "symbol": "circle"
         },
         "mode": "markers",
         "name": "",
         "orientation": "v",
         "showlegend": false,
         "type": "scatter",
         "x": [
          -16.48990821838379,
          -0.5924890637397766,
          13.923452377319336,
          23.61335563659668,
          -0.19222213327884674,
          -1.0072468519210815,
          -0.5643557906150818,
          122.29948425292969,
          17.72987937927246,
          -0.5457379817962646,
          -0.9270884990692139,
          -0.6757286787033081,
          -0.5872671008110046,
          -13.219714164733887,
          -0.8569761514663696,
          -0.9056807160377502,
          4.737914085388184,
          -0.7810496091842651,
          -0.5396310687065125,
          30.980358123779297,
          0.16685664653778076,
          -9.72125244140625,
          19.862873077392578,
          172.16273498535156,
          57.38547134399414,
          -0.8598615527153015,
          48.23838806152344,
          -0.8060819506645203,
          9.511505126953125,
          -0.7404846549034119,
          -0.5117502808570862,
          -9.238971710205078,
          -0.9624029397964478,
          50.380653381347656,
          -2.5681607723236084,
          -1.132049560546875,
          -0.7863430976867676,
          -0.8476359844207764,
          -0.8302015066146851,
          3.6944398880004883,
          -0.3822598457336426,
          51.698158264160156,
          -16.255474090576172,
          -0.7506292462348938,
          0.3856232166290283,
          -0.7523446679115295,
          -0.6534996032714844,
          -0.6395345330238342,
          26.728288650512695,
          22.29955291748047,
          -0.8136220574378967,
          -0.7156107425689697,
          54.911048889160156,
          0.03555312752723694,
          -94.52732849121094,
          -84.48002624511719,
          11.103273391723633,
          -5.421036720275879,
          -0.8612644076347351,
          0.4002957344055176,
          -0.8152893781661987,
          -19.73430824279785,
          -0.8135145902633667,
          -1.0781714916229248,
          -22.203689575195312,
          -2.7919225692749023,
          -0.8512194156646729,
          -0.7307252883911133,
          -2.4607858657836914,
          -0.7767866253852844,
          6.436063766479492,
          -0.8482300043106079,
          117.19608306884766,
          -13.162522315979004,
          -0.8356713652610779,
          41.85838317871094,
          0.21104586124420166,
          -36.6545295715332,
          -0.7757136821746826,
          -0.8265265226364136,
          9.132404327392578,
          -0.865389347076416,
          -12.455232620239258,
          14.649580955505371,
          -1.0186775922775269,
          -1.0945974588394165,
          -1.3927500247955322,
          -9.53905963897705,
          -1.457505702972412,
          -0.5027257204055786,
          -3.844097852706909,
          -0.674262285232544,
          -18.541244506835938,
          -35.41512680053711,
          -0.5614752769470215,
          -3.7867965698242188,
          -0.6648812294006348,
          -0.9405733346939087,
          38.87921905517578,
          -0.006138689815998077,
          -0.5662312507629395,
          1.4351091384887695,
          -7.464301586151123,
          -20.631149291992188,
          -7.506503105163574,
          -0.6573079824447632,
          -1.939894199371338,
          -0.7805942296981812,
          -1.3657587766647339,
          0.5365538597106934,
          -4.0635199546813965,
          -4.636722564697266,
          -0.6134437918663025
         ],
         "xaxis": "x",
         "y": [
          70.244384765625,
          1.1932353973388672,
          12.961679458618164,
          -56.356292724609375,
          -15.980375289916992,
          -16.131839752197266,
          1.5785350799560547,
          -24.10497283935547,
          -6.943224906921387,
          0.9670479893684387,
          1.3514950275421143,
          19.523271560668945,
          1.766221523284912,
          9.548017501831055,
          1.381087303161621,
          1.559805154800415,
          19.63166046142578,
          1.3066540956497192,
          1.4110403060913086,
          67.97766876220703,
          -32.399662017822266,
          -2.4750142097473145,
          -203.81048583984375,
          135.57704162597656,
          -5.8464531898498535,
          1.4357374906539917,
          -19.542951583862305,
          1.6945182085037231,
          3.7069334983825684,
          1.0052739381790161,
          1.5257644653320312,
          -0.5412095189094543,
          1.7671903371810913,
          -4.790439128875732,
          27.630962371826172,
          1.3512663841247559,
          1.3777118921279907,
          1.4365946054458618,
          1.7538926601409912,
          1.4843569993972778,
          1.1290700435638428,
          1.7325869798660278,
          27.618066787719727,
          1.2938053607940674,
          13.71746826171875,
          1.4005966186523438,
          1.1353164911270142,
          1.388710618019104,
          -6.803109645843506,
          -15.24132251739502,
          1.5484116077423096,
          1.55440092086792,
          28.62352180480957,
          -32.647056579589844,
          -5.293576240539551,
          10.260910034179688,
          72.85623931884766,
          19.67139434814453,
          1.4439222812652588,
          2.403804302215576,
          1.6793400049209595,
          -43.02488708496094,
          0.9027758836746216,
          1.6899020671844482,
          33.71847915649414,
          22.788562774658203,
          1.4132616519927979,
          0.8875892758369446,
          1.8354767560958862,
          1.2443808317184448,
          30.512012481689453,
          1.3278642892837524,
          -186.84877014160156,
          53.998023986816406,
          1.3884471654891968,
          27.891517639160156,
          1.4554394483566284,
          1.4592161178588867,
          1.4328968524932861,
          1.7362596988677979,
          2.576979875564575,
          1.370129108428955,
          30.833154678344727,
          6.247722148895264,
          1.253084659576416,
          1.1105848550796509,
          1.3142377138137817,
          -0.9268671870231628,
          1.0766018629074097,
          1.2501733303070068,
          36.47898483276367,
          1.2490845918655396,
          26.114843368530273,
          47.42829132080078,
          1.2979284524917603,
          1.6195428371429443,
          -40.64670944213867,
          -11.225164413452148,
          24.666187286376953,
          25.4351863861084,
          1.1392089128494263,
          -1.0311946868896484,
          -0.033498868346214294,
          4.458669185638428,
          -15.062528610229492,
          1.4543800354003906,
          -2.020472526550293,
          1.730661392211914,
          1.0104007720947266,
          4.963573932647705,
          7.233506679534912,
          -8.216683387756348,
          1.0322788953781128
         ],
         "yaxis": "y"
        }
       ],
       "layout": {
        "legend": {
         "tracegroupgap": 0
        },
        "template": {
         "data": {
          "bar": [
           {
            "error_x": {
             "color": "rgb(51,51,51)"
            },
            "error_y": {
             "color": "rgb(51,51,51)"
            },
            "marker": {
             "line": {
              "color": "rgb(237,237,237)",
              "width": 0.5
             },
             "pattern": {
              "fillmode": "overlay",
              "size": 10,
              "solidity": 0.2
             }
            },
            "type": "bar"
           }
          ],
          "barpolar": [
           {
            "marker": {
             "line": {
              "color": "rgb(237,237,237)",
              "width": 0.5
             },
             "pattern": {
              "fillmode": "overlay",
              "size": 10,
              "solidity": 0.2
             }
            },
            "type": "barpolar"
           }
          ],
          "carpet": [
           {
            "aaxis": {
             "endlinecolor": "rgb(51,51,51)",
             "gridcolor": "white",
             "linecolor": "white",
             "minorgridcolor": "white",
             "startlinecolor": "rgb(51,51,51)"
            },
            "baxis": {
             "endlinecolor": "rgb(51,51,51)",
             "gridcolor": "white",
             "linecolor": "white",
             "minorgridcolor": "white",
             "startlinecolor": "rgb(51,51,51)"
            },
            "type": "carpet"
           }
          ],
          "choropleth": [
           {
            "colorbar": {
             "outlinewidth": 0,
             "tickcolor": "rgb(237,237,237)",
             "ticklen": 6,
             "ticks": "inside"
            },
            "type": "choropleth"
           }
          ],
          "contour": [
           {
            "colorbar": {
             "outlinewidth": 0,
             "tickcolor": "rgb(237,237,237)",
             "ticklen": 6,
             "ticks": "inside"
            },
            "colorscale": [
             [
              0,
              "rgb(20,44,66)"
             ],
             [
              1,
              "rgb(90,179,244)"
             ]
            ],
            "type": "contour"
           }
          ],
          "contourcarpet": [
           {
            "colorbar": {
             "outlinewidth": 0,
             "tickcolor": "rgb(237,237,237)",
             "ticklen": 6,
             "ticks": "inside"
            },
            "type": "contourcarpet"
           }
          ],
          "heatmap": [
           {
            "colorbar": {
             "outlinewidth": 0,
             "tickcolor": "rgb(237,237,237)",
             "ticklen": 6,
             "ticks": "inside"
            },
            "colorscale": [
             [
              0,
              "rgb(20,44,66)"
             ],
             [
              1,
              "rgb(90,179,244)"
             ]
            ],
            "type": "heatmap"
           }
          ],
          "heatmapgl": [
           {
            "colorbar": {
             "outlinewidth": 0,
             "tickcolor": "rgb(237,237,237)",
             "ticklen": 6,
             "ticks": "inside"
            },
            "colorscale": [
             [
              0,
              "rgb(20,44,66)"
             ],
             [
              1,
              "rgb(90,179,244)"
             ]
            ],
            "type": "heatmapgl"
           }
          ],
          "histogram": [
           {
            "marker": {
             "pattern": {
              "fillmode": "overlay",
              "size": 10,
              "solidity": 0.2
             }
            },
            "type": "histogram"
           }
          ],
          "histogram2d": [
           {
            "colorbar": {
             "outlinewidth": 0,
             "tickcolor": "rgb(237,237,237)",
             "ticklen": 6,
             "ticks": "inside"
            },
            "colorscale": [
             [
              0,
              "rgb(20,44,66)"
             ],
             [
              1,
              "rgb(90,179,244)"
             ]
            ],
            "type": "histogram2d"
           }
          ],
          "histogram2dcontour": [
           {
            "colorbar": {
             "outlinewidth": 0,
             "tickcolor": "rgb(237,237,237)",
             "ticklen": 6,
             "ticks": "inside"
            },
            "colorscale": [
             [
              0,
              "rgb(20,44,66)"
             ],
             [
              1,
              "rgb(90,179,244)"
             ]
            ],
            "type": "histogram2dcontour"
           }
          ],
          "mesh3d": [
           {
            "colorbar": {
             "outlinewidth": 0,
             "tickcolor": "rgb(237,237,237)",
             "ticklen": 6,
             "ticks": "inside"
            },
            "type": "mesh3d"
           }
          ],
          "parcoords": [
           {
            "line": {
             "colorbar": {
              "outlinewidth": 0,
              "tickcolor": "rgb(237,237,237)",
              "ticklen": 6,
              "ticks": "inside"
             }
            },
            "type": "parcoords"
           }
          ],
          "pie": [
           {
            "automargin": true,
            "type": "pie"
           }
          ],
          "scatter": [
           {
            "fillpattern": {
             "fillmode": "overlay",
             "size": 10,
             "solidity": 0.2
            },
            "type": "scatter"
           }
          ],
          "scatter3d": [
           {
            "line": {
             "colorbar": {
              "outlinewidth": 0,
              "tickcolor": "rgb(237,237,237)",
              "ticklen": 6,
              "ticks": "inside"
             }
            },
            "marker": {
             "colorbar": {
              "outlinewidth": 0,
              "tickcolor": "rgb(237,237,237)",
              "ticklen": 6,
              "ticks": "inside"
             }
            },
            "type": "scatter3d"
           }
          ],
          "scattercarpet": [
           {
            "marker": {
             "colorbar": {
              "outlinewidth": 0,
              "tickcolor": "rgb(237,237,237)",
              "ticklen": 6,
              "ticks": "inside"
             }
            },
            "type": "scattercarpet"
           }
          ],
          "scattergeo": [
           {
            "marker": {
             "colorbar": {
              "outlinewidth": 0,
              "tickcolor": "rgb(237,237,237)",
              "ticklen": 6,
              "ticks": "inside"
             }
            },
            "type": "scattergeo"
           }
          ],
          "scattergl": [
           {
            "marker": {
             "colorbar": {
              "outlinewidth": 0,
              "tickcolor": "rgb(237,237,237)",
              "ticklen": 6,
              "ticks": "inside"
             }
            },
            "type": "scattergl"
           }
          ],
          "scattermapbox": [
           {
            "marker": {
             "colorbar": {
              "outlinewidth": 0,
              "tickcolor": "rgb(237,237,237)",
              "ticklen": 6,
              "ticks": "inside"
             }
            },
            "type": "scattermapbox"
           }
          ],
          "scatterpolar": [
           {
            "marker": {
             "colorbar": {
              "outlinewidth": 0,
              "tickcolor": "rgb(237,237,237)",
              "ticklen": 6,
              "ticks": "inside"
             }
            },
            "type": "scatterpolar"
           }
          ],
          "scatterpolargl": [
           {
            "marker": {
             "colorbar": {
              "outlinewidth": 0,
              "tickcolor": "rgb(237,237,237)",
              "ticklen": 6,
              "ticks": "inside"
             }
            },
            "type": "scatterpolargl"
           }
          ],
          "scatterternary": [
           {
            "marker": {
             "colorbar": {
              "outlinewidth": 0,
              "tickcolor": "rgb(237,237,237)",
              "ticklen": 6,
              "ticks": "inside"
             }
            },
            "type": "scatterternary"
           }
          ],
          "surface": [
           {
            "colorbar": {
             "outlinewidth": 0,
             "tickcolor": "rgb(237,237,237)",
             "ticklen": 6,
             "ticks": "inside"
            },
            "colorscale": [
             [
              0,
              "rgb(20,44,66)"
             ],
             [
              1,
              "rgb(90,179,244)"
             ]
            ],
            "type": "surface"
           }
          ],
          "table": [
           {
            "cells": {
             "fill": {
              "color": "rgb(237,237,237)"
             },
             "line": {
              "color": "white"
             }
            },
            "header": {
             "fill": {
              "color": "rgb(217,217,217)"
             },
             "line": {
              "color": "white"
             }
            },
            "type": "table"
           }
          ]
         },
         "layout": {
          "annotationdefaults": {
           "arrowhead": 0,
           "arrowwidth": 1
          },
          "autotypenumbers": "strict",
          "coloraxis": {
           "colorbar": {
            "outlinewidth": 0,
            "tickcolor": "rgb(237,237,237)",
            "ticklen": 6,
            "ticks": "inside"
           }
          },
          "colorscale": {
           "sequential": [
            [
             0,
             "rgb(20,44,66)"
            ],
            [
             1,
             "rgb(90,179,244)"
            ]
           ],
           "sequentialminus": [
            [
             0,
             "rgb(20,44,66)"
            ],
            [
             1,
             "rgb(90,179,244)"
            ]
           ]
          },
          "colorway": [
           "#F8766D",
           "#A3A500",
           "#00BF7D",
           "#00B0F6",
           "#E76BF3"
          ],
          "font": {
           "color": "rgb(51,51,51)"
          },
          "geo": {
           "bgcolor": "white",
           "lakecolor": "white",
           "landcolor": "rgb(237,237,237)",
           "showlakes": true,
           "showland": true,
           "subunitcolor": "white"
          },
          "hoverlabel": {
           "align": "left"
          },
          "hovermode": "closest",
          "paper_bgcolor": "white",
          "plot_bgcolor": "rgb(237,237,237)",
          "polar": {
           "angularaxis": {
            "gridcolor": "white",
            "linecolor": "white",
            "showgrid": true,
            "tickcolor": "rgb(51,51,51)",
            "ticks": "outside"
           },
           "bgcolor": "rgb(237,237,237)",
           "radialaxis": {
            "gridcolor": "white",
            "linecolor": "white",
            "showgrid": true,
            "tickcolor": "rgb(51,51,51)",
            "ticks": "outside"
           }
          },
          "scene": {
           "xaxis": {
            "backgroundcolor": "rgb(237,237,237)",
            "gridcolor": "white",
            "gridwidth": 2,
            "linecolor": "white",
            "showbackground": true,
            "showgrid": true,
            "tickcolor": "rgb(51,51,51)",
            "ticks": "outside",
            "zerolinecolor": "white"
           },
           "yaxis": {
            "backgroundcolor": "rgb(237,237,237)",
            "gridcolor": "white",
            "gridwidth": 2,
            "linecolor": "white",
            "showbackground": true,
            "showgrid": true,
            "tickcolor": "rgb(51,51,51)",
            "ticks": "outside",
            "zerolinecolor": "white"
           },
           "zaxis": {
            "backgroundcolor": "rgb(237,237,237)",
            "gridcolor": "white",
            "gridwidth": 2,
            "linecolor": "white",
            "showbackground": true,
            "showgrid": true,
            "tickcolor": "rgb(51,51,51)",
            "ticks": "outside",
            "zerolinecolor": "white"
           }
          },
          "shapedefaults": {
           "fillcolor": "black",
           "line": {
            "width": 0
           },
           "opacity": 0.3
          },
          "ternary": {
           "aaxis": {
            "gridcolor": "white",
            "linecolor": "white",
            "showgrid": true,
            "tickcolor": "rgb(51,51,51)",
            "ticks": "outside"
           },
           "baxis": {
            "gridcolor": "white",
            "linecolor": "white",
            "showgrid": true,
            "tickcolor": "rgb(51,51,51)",
            "ticks": "outside"
           },
           "bgcolor": "rgb(237,237,237)",
           "caxis": {
            "gridcolor": "white",
            "linecolor": "white",
            "showgrid": true,
            "tickcolor": "rgb(51,51,51)",
            "ticks": "outside"
           }
          },
          "xaxis": {
           "automargin": true,
           "gridcolor": "white",
           "linecolor": "white",
           "showgrid": true,
           "tickcolor": "rgb(51,51,51)",
           "ticks": "outside",
           "title": {
            "standoff": 15
           },
           "zerolinecolor": "white"
          },
          "yaxis": {
           "automargin": true,
           "gridcolor": "white",
           "linecolor": "white",
           "showgrid": true,
           "tickcolor": "rgb(51,51,51)",
           "ticks": "outside",
           "title": {
            "standoff": 15
           },
           "zerolinecolor": "white"
          }
         }
        },
        "title": {
         "text": "Graph 3: tSNE Visualisation in the y-z plane"
        },
        "xaxis": {
         "anchor": "y",
         "domain": [
          0,
          1
         ],
         "title": {
          "text": "tSNE_y"
         }
        },
        "yaxis": {
         "anchor": "x",
         "domain": [
          0,
          1
         ],
         "title": {
          "text": "tSNE_z"
         }
        }
       }
      },
      "text/html": [
       "<div>                            <div id=\"bf292535-a560-46db-8d50-dbe467ffd8e1\" class=\"plotly-graph-div\" style=\"height:525px; width:100%;\"></div>            <script type=\"text/javascript\">                require([\"plotly\"], function(Plotly) {                    window.PLOTLYENV=window.PLOTLYENV || {};                                    if (document.getElementById(\"bf292535-a560-46db-8d50-dbe467ffd8e1\")) {                    Plotly.newPlot(                        \"bf292535-a560-46db-8d50-dbe467ffd8e1\",                        [{\"hovertemplate\":\"<b>%{hovertext}</b><br><br>tSNE_y=%{x}<br>tSNE_z=%{y}<extra></extra>\",\"hovertext\":[\"sp_P40136_CYAA_BACAN:0-33\",\"sp_P21130_SACB_BACAM:0-34\",\"sp_P05655_SACB_BACSU:0-34\",\"sp_P13423_PAG_BACAN:0-25\",\"sp_P39848_LYTD_BACSU:0-32\",\"sp_Q02114_LYTC_BACSU:0-29\",\"sp_P80172_HBLA_BACCE:0-26\",\"sp_P42111_YXAL_BACSU:0-29\",\"sp_P54507_TASA_BACSU:0-32\",\"sp_P55278_MANB_BACIU:0-29\",\"sp_O05512_MANB_BACSU:0-26\",\"sp_P00780_SUBC_BACLI:0-34\",\"sp_P00782_SUBT_BACAM:0-28\",\"sp_P04189_SUBT_BACSU:0-34\",\"sp_P35835_SUBN_BACNA:0-34\",\"sp_P00783_SUBT_BACSA:0-34\",\"sp_P94356_YXKC_BACSU:0-29\",\"sp_P40767_CWLO_BACSU:0-23\",\"sp_P20724_ELYA_BACYA:0-32\",\"sp_P25152_BSAP_BACSU:0-29\",\"sp_P00649_RN_BACIN:0-34\",\"sp_P48068_RN_BACPU:0-34\",\"sp_P00648_RNBR_BACAM:0-33\",\"sp_P71014_BSLA_BACSU:0-33\",\"sp_O31411_SACC_BACL7:0-28\",\"sp_Q45071_XYND_BACSU:0-31\",\"sp_P00691_AMY_BACSU:0-31\",\"sp_B1B6T1_PTLY_BACSP:0-27\",\"sp_Q65DC2_PTLY_BACLD:0-27\",\"sp_Q8GCB2_PTLY_BACLI:0-27\",\"sp_P29141_SUBV_BACSU:0-33\",\"sp_P16397_SUBF_BACSU:0-34\",\"sp_P39632_BSLB_BACSU:0-35\",\"sp_P80057_GSEP_BACLD:0-35\",\"sp_P96729_YWSB_BACSU:0-26\",\"sp_P39790_MPR_BACSU:0-39\",\"sp_Q59HN7_PHRH_BACSU:0-26\",\"sp_O31737_YLQB_BACSU:0-32\",\"sp_Q45670_THES_BACSJ:0-29\",\"sp_Q02113_CWBA_BACSU:0-30\",\"sp_P94217_SLAP2_BACAN:0-34\",\"sp_Q9RMZ0_Y6545_BACAN:0-33\",\"sp_P42293_EABN2_BACSU:0-31\",\"sp_P94522_EABN1_BACSU:0-37\",\"sp_Q79F14_ESTB_BACSU:0-25\",\"sp_P37957_ESTA_BACSU:0-36\",\"sp_Q5U780_LIP_BACSP:0-33\",\"sp_O34310_PLYC_BACSU:0-32\",\"sp_Q65EF5_PLYC_BACLD:0-26\",\"sp_O07532_LYTF_BACSU:0-31\",\"sp_P54421_LYTE_BACSU:0-30\",\"sp_O34669_YOCH_BACSU:0-30\",\"sp_P54423_WPRA_BACSU:0-34\",\"sp_P39844_DACC_BACSU:0-34\",\"sp_Q9AQS0_XANLY_BACGL:0-30\",\"sp_Q07833_WAPA_BACSU:0-37\",\"sp_G4NYJ6_WAPA_BACS4:0-37\",\"sp_P68569_BDBA_BACSU:0-22\",\"sp_P96600_DCTB_BACSU:0-23\",\"sp_O34918_YOAJ_BACSU:0-30\",\"sp_P39116_PLY_BACSU:0-26\",\"sp_P94576_YWOF_BACSU:0-24\",\"sp_Q03091_BSN1_BACAM:0-31\",\"sp_O32150_BSN2_BACSU:0-31\",\"sp_P38422_DACF_BACSU:0-28\",\"sp_P08750_DACA_BACSU:0-36\",\"sp_P39824_BLAC_BACSU:0-29\",\"sp_P04957_GUB_BACSU:0-33\",\"sp_O07013_GANB_BACSU:0-29\",\"sp_Q45070_XYNC_BACSU:0-37\",\"sp_Q6YK37_XYNC_BACIU:0-38\",\"sp_P54484_YQGA_BACSU:0-33\",\"sp_Q45105_TACY_BACCE:0-33\",\"sp_P40406_NAGZ_BACSU:0-31\",\"sp_P06832_NPRE_BACAM:0-32\",\"sp_P68735_NPRE_BACSA:0-32\",\"sp_P68736_NPRE_BACSU:0-32\",\"sp_O34344_SDPC_BACSU:0-30\",\"sp_P39899_NPRB_BACSU:0-33\",\"sp_P05806_NPRE_BACCE:0-32\",\"sp_P00800_THER_BACTH:0-33\",\"sp_Q59223_THER_BACSO:0-30\",\"sp_P28842_SUBT_BACS9:0-31\",\"sp_P33377_PHL3_BACCE:0-32\",\"sp_P11889_PHL2_BACCE:0-32\",\"sp_P09599_PHL1_BACCE:0-32\",\"sp_P05618_CDGT_BACS0:0-32\",\"sp_P09121_CDGT_BACS3:0-32\",\"sp_P30921_CDGT_BAC11:0-32\",\"sp_P17692_CDGT_BACS8:0-32\",\"sp_P31747_CDGT_BACSS:0-36\",\"sp_P14014_CDGT_BACLI:0-36\",\"sp_P31746_CDGT_BACS2:0-34\",\"sp_P27036_CDGT_BACOH:0-34\",\"sp_O07921_CHIS_BACSU:0-40\",\"sp_P94449_PEL2_BACIU:0-29\",\"sp_O34819_PEL1_BACSU:0-29\",\"sp_O32041_YRVJ_BACSU:0-32\",\"sp_O34313_NTPES_BACSU:0-40\",\"sp_P96740_PGDS_BACSU:0-32\",\"sp_P16396_SUBE_BACSU:0-32\",\"sp_O82833_GELLY_BACSP:0-33\",\"sp_O66037_PHYT_BACSD:0-31\",\"sp_O31097_PHYC_BACIU:0-31\",\"sp_P42094_PHYT_BACSU:0-31\",\"sp_P05656_SACC_BACSU:0-29\",\"sp_P06278_AMY_BACLI:0-34\",\"sp_P00692_AMY_BACAM:0-36\",\"sp_P19571_AMT6_BACS7:0-38\",\"sp_O31526_YESW_BACSU:0-40\",\"sp_P54422_GGT_BACSU:0-33\",\"sp_P63186_GGT_BACNA:0-33\",\"sp_P42983_NUCB_BACSU:0-31\"],\"legendgroup\":\"\",\"marker\":{\"color\":\"#F8766D\",\"opacity\":1,\"symbol\":\"circle\"},\"mode\":\"markers\",\"name\":\"\",\"orientation\":\"v\",\"showlegend\":false,\"x\":[-16.48990821838379,-0.5924890637397766,13.923452377319336,23.61335563659668,-0.19222213327884674,-1.0072468519210815,-0.5643557906150818,122.29948425292969,17.72987937927246,-0.5457379817962646,-0.9270884990692139,-0.6757286787033081,-0.5872671008110046,-13.219714164733887,-0.8569761514663696,-0.9056807160377502,4.737914085388184,-0.7810496091842651,-0.5396310687065125,30.980358123779297,0.16685664653778076,-9.72125244140625,19.862873077392578,172.16273498535156,57.38547134399414,-0.8598615527153015,48.23838806152344,-0.8060819506645203,9.511505126953125,-0.7404846549034119,-0.5117502808570862,-9.238971710205078,-0.9624029397964478,50.380653381347656,-2.5681607723236084,-1.132049560546875,-0.7863430976867676,-0.8476359844207764,-0.8302015066146851,3.6944398880004883,-0.3822598457336426,51.698158264160156,-16.255474090576172,-0.7506292462348938,0.3856232166290283,-0.7523446679115295,-0.6534996032714844,-0.6395345330238342,26.728288650512695,22.29955291748047,-0.8136220574378967,-0.7156107425689697,54.911048889160156,0.03555312752723694,-94.52732849121094,-84.48002624511719,11.103273391723633,-5.421036720275879,-0.8612644076347351,0.4002957344055176,-0.8152893781661987,-19.73430824279785,-0.8135145902633667,-1.0781714916229248,-22.203689575195312,-2.7919225692749023,-0.8512194156646729,-0.7307252883911133,-2.4607858657836914,-0.7767866253852844,6.436063766479492,-0.8482300043106079,117.19608306884766,-13.162522315979004,-0.8356713652610779,41.85838317871094,0.21104586124420166,-36.6545295715332,-0.7757136821746826,-0.8265265226364136,9.132404327392578,-0.865389347076416,-12.455232620239258,14.649580955505371,-1.0186775922775269,-1.0945974588394165,-1.3927500247955322,-9.53905963897705,-1.457505702972412,-0.5027257204055786,-3.844097852706909,-0.674262285232544,-18.541244506835938,-35.41512680053711,-0.5614752769470215,-3.7867965698242188,-0.6648812294006348,-0.9405733346939087,38.87921905517578,-0.006138689815998077,-0.5662312507629395,1.4351091384887695,-7.464301586151123,-20.631149291992188,-7.506503105163574,-0.6573079824447632,-1.939894199371338,-0.7805942296981812,-1.3657587766647339,0.5365538597106934,-4.0635199546813965,-4.636722564697266,-0.6134437918663025],\"xaxis\":\"x\",\"y\":[70.244384765625,1.1932353973388672,12.961679458618164,-56.356292724609375,-15.980375289916992,-16.131839752197266,1.5785350799560547,-24.10497283935547,-6.943224906921387,0.9670479893684387,1.3514950275421143,19.523271560668945,1.766221523284912,9.548017501831055,1.381087303161621,1.559805154800415,19.63166046142578,1.3066540956497192,1.4110403060913086,67.97766876220703,-32.399662017822266,-2.4750142097473145,-203.81048583984375,135.57704162597656,-5.8464531898498535,1.4357374906539917,-19.542951583862305,1.6945182085037231,3.7069334983825684,1.0052739381790161,1.5257644653320312,-0.5412095189094543,1.7671903371810913,-4.790439128875732,27.630962371826172,1.3512663841247559,1.3777118921279907,1.4365946054458618,1.7538926601409912,1.4843569993972778,1.1290700435638428,1.7325869798660278,27.618066787719727,1.2938053607940674,13.71746826171875,1.4005966186523438,1.1353164911270142,1.388710618019104,-6.803109645843506,-15.24132251739502,1.5484116077423096,1.55440092086792,28.62352180480957,-32.647056579589844,-5.293576240539551,10.260910034179688,72.85623931884766,19.67139434814453,1.4439222812652588,2.403804302215576,1.6793400049209595,-43.02488708496094,0.9027758836746216,1.6899020671844482,33.71847915649414,22.788562774658203,1.4132616519927979,0.8875892758369446,1.8354767560958862,1.2443808317184448,30.512012481689453,1.3278642892837524,-186.84877014160156,53.998023986816406,1.3884471654891968,27.891517639160156,1.4554394483566284,1.4592161178588867,1.4328968524932861,1.7362596988677979,2.576979875564575,1.370129108428955,30.833154678344727,6.247722148895264,1.253084659576416,1.1105848550796509,1.3142377138137817,-0.9268671870231628,1.0766018629074097,1.2501733303070068,36.47898483276367,1.2490845918655396,26.114843368530273,47.42829132080078,1.2979284524917603,1.6195428371429443,-40.64670944213867,-11.225164413452148,24.666187286376953,25.4351863861084,1.1392089128494263,-1.0311946868896484,-0.033498868346214294,4.458669185638428,-15.062528610229492,1.4543800354003906,-2.020472526550293,1.730661392211914,1.0104007720947266,4.963573932647705,7.233506679534912,-8.216683387756348,1.0322788953781128],\"yaxis\":\"y\",\"type\":\"scatter\"}],                        {\"template\":{\"data\":{\"barpolar\":[{\"marker\":{\"line\":{\"color\":\"rgb(237,237,237)\",\"width\":0.5},\"pattern\":{\"fillmode\":\"overlay\",\"size\":10,\"solidity\":0.2}},\"type\":\"barpolar\"}],\"bar\":[{\"error_x\":{\"color\":\"rgb(51,51,51)\"},\"error_y\":{\"color\":\"rgb(51,51,51)\"},\"marker\":{\"line\":{\"color\":\"rgb(237,237,237)\",\"width\":0.5},\"pattern\":{\"fillmode\":\"overlay\",\"size\":10,\"solidity\":0.2}},\"type\":\"bar\"}],\"carpet\":[{\"aaxis\":{\"endlinecolor\":\"rgb(51,51,51)\",\"gridcolor\":\"white\",\"linecolor\":\"white\",\"minorgridcolor\":\"white\",\"startlinecolor\":\"rgb(51,51,51)\"},\"baxis\":{\"endlinecolor\":\"rgb(51,51,51)\",\"gridcolor\":\"white\",\"linecolor\":\"white\",\"minorgridcolor\":\"white\",\"startlinecolor\":\"rgb(51,51,51)\"},\"type\":\"carpet\"}],\"choropleth\":[{\"colorbar\":{\"outlinewidth\":0,\"tickcolor\":\"rgb(237,237,237)\",\"ticklen\":6,\"ticks\":\"inside\"},\"type\":\"choropleth\"}],\"contourcarpet\":[{\"colorbar\":{\"outlinewidth\":0,\"tickcolor\":\"rgb(237,237,237)\",\"ticklen\":6,\"ticks\":\"inside\"},\"type\":\"contourcarpet\"}],\"contour\":[{\"colorbar\":{\"outlinewidth\":0,\"tickcolor\":\"rgb(237,237,237)\",\"ticklen\":6,\"ticks\":\"inside\"},\"colorscale\":[[0,\"rgb(20,44,66)\"],[1,\"rgb(90,179,244)\"]],\"type\":\"contour\"}],\"heatmapgl\":[{\"colorbar\":{\"outlinewidth\":0,\"tickcolor\":\"rgb(237,237,237)\",\"ticklen\":6,\"ticks\":\"inside\"},\"colorscale\":[[0,\"rgb(20,44,66)\"],[1,\"rgb(90,179,244)\"]],\"type\":\"heatmapgl\"}],\"heatmap\":[{\"colorbar\":{\"outlinewidth\":0,\"tickcolor\":\"rgb(237,237,237)\",\"ticklen\":6,\"ticks\":\"inside\"},\"colorscale\":[[0,\"rgb(20,44,66)\"],[1,\"rgb(90,179,244)\"]],\"type\":\"heatmap\"}],\"histogram2dcontour\":[{\"colorbar\":{\"outlinewidth\":0,\"tickcolor\":\"rgb(237,237,237)\",\"ticklen\":6,\"ticks\":\"inside\"},\"colorscale\":[[0,\"rgb(20,44,66)\"],[1,\"rgb(90,179,244)\"]],\"type\":\"histogram2dcontour\"}],\"histogram2d\":[{\"colorbar\":{\"outlinewidth\":0,\"tickcolor\":\"rgb(237,237,237)\",\"ticklen\":6,\"ticks\":\"inside\"},\"colorscale\":[[0,\"rgb(20,44,66)\"],[1,\"rgb(90,179,244)\"]],\"type\":\"histogram2d\"}],\"histogram\":[{\"marker\":{\"pattern\":{\"fillmode\":\"overlay\",\"size\":10,\"solidity\":0.2}},\"type\":\"histogram\"}],\"mesh3d\":[{\"colorbar\":{\"outlinewidth\":0,\"tickcolor\":\"rgb(237,237,237)\",\"ticklen\":6,\"ticks\":\"inside\"},\"type\":\"mesh3d\"}],\"parcoords\":[{\"line\":{\"colorbar\":{\"outlinewidth\":0,\"tickcolor\":\"rgb(237,237,237)\",\"ticklen\":6,\"ticks\":\"inside\"}},\"type\":\"parcoords\"}],\"pie\":[{\"automargin\":true,\"type\":\"pie\"}],\"scatter3d\":[{\"line\":{\"colorbar\":{\"outlinewidth\":0,\"tickcolor\":\"rgb(237,237,237)\",\"ticklen\":6,\"ticks\":\"inside\"}},\"marker\":{\"colorbar\":{\"outlinewidth\":0,\"tickcolor\":\"rgb(237,237,237)\",\"ticklen\":6,\"ticks\":\"inside\"}},\"type\":\"scatter3d\"}],\"scattercarpet\":[{\"marker\":{\"colorbar\":{\"outlinewidth\":0,\"tickcolor\":\"rgb(237,237,237)\",\"ticklen\":6,\"ticks\":\"inside\"}},\"type\":\"scattercarpet\"}],\"scattergeo\":[{\"marker\":{\"colorbar\":{\"outlinewidth\":0,\"tickcolor\":\"rgb(237,237,237)\",\"ticklen\":6,\"ticks\":\"inside\"}},\"type\":\"scattergeo\"}],\"scattergl\":[{\"marker\":{\"colorbar\":{\"outlinewidth\":0,\"tickcolor\":\"rgb(237,237,237)\",\"ticklen\":6,\"ticks\":\"inside\"}},\"type\":\"scattergl\"}],\"scattermapbox\":[{\"marker\":{\"colorbar\":{\"outlinewidth\":0,\"tickcolor\":\"rgb(237,237,237)\",\"ticklen\":6,\"ticks\":\"inside\"}},\"type\":\"scattermapbox\"}],\"scatterpolargl\":[{\"marker\":{\"colorbar\":{\"outlinewidth\":0,\"tickcolor\":\"rgb(237,237,237)\",\"ticklen\":6,\"ticks\":\"inside\"}},\"type\":\"scatterpolargl\"}],\"scatterpolar\":[{\"marker\":{\"colorbar\":{\"outlinewidth\":0,\"tickcolor\":\"rgb(237,237,237)\",\"ticklen\":6,\"ticks\":\"inside\"}},\"type\":\"scatterpolar\"}],\"scatter\":[{\"fillpattern\":{\"fillmode\":\"overlay\",\"size\":10,\"solidity\":0.2},\"type\":\"scatter\"}],\"scatterternary\":[{\"marker\":{\"colorbar\":{\"outlinewidth\":0,\"tickcolor\":\"rgb(237,237,237)\",\"ticklen\":6,\"ticks\":\"inside\"}},\"type\":\"scatterternary\"}],\"surface\":[{\"colorbar\":{\"outlinewidth\":0,\"tickcolor\":\"rgb(237,237,237)\",\"ticklen\":6,\"ticks\":\"inside\"},\"colorscale\":[[0,\"rgb(20,44,66)\"],[1,\"rgb(90,179,244)\"]],\"type\":\"surface\"}],\"table\":[{\"cells\":{\"fill\":{\"color\":\"rgb(237,237,237)\"},\"line\":{\"color\":\"white\"}},\"header\":{\"fill\":{\"color\":\"rgb(217,217,217)\"},\"line\":{\"color\":\"white\"}},\"type\":\"table\"}]},\"layout\":{\"annotationdefaults\":{\"arrowhead\":0,\"arrowwidth\":1},\"autotypenumbers\":\"strict\",\"coloraxis\":{\"colorbar\":{\"outlinewidth\":0,\"tickcolor\":\"rgb(237,237,237)\",\"ticklen\":6,\"ticks\":\"inside\"}},\"colorscale\":{\"sequential\":[[0,\"rgb(20,44,66)\"],[1,\"rgb(90,179,244)\"]],\"sequentialminus\":[[0,\"rgb(20,44,66)\"],[1,\"rgb(90,179,244)\"]]},\"colorway\":[\"#F8766D\",\"#A3A500\",\"#00BF7D\",\"#00B0F6\",\"#E76BF3\"],\"font\":{\"color\":\"rgb(51,51,51)\"},\"geo\":{\"bgcolor\":\"white\",\"lakecolor\":\"white\",\"landcolor\":\"rgb(237,237,237)\",\"showlakes\":true,\"showland\":true,\"subunitcolor\":\"white\"},\"hoverlabel\":{\"align\":\"left\"},\"hovermode\":\"closest\",\"paper_bgcolor\":\"white\",\"plot_bgcolor\":\"rgb(237,237,237)\",\"polar\":{\"angularaxis\":{\"gridcolor\":\"white\",\"linecolor\":\"white\",\"showgrid\":true,\"tickcolor\":\"rgb(51,51,51)\",\"ticks\":\"outside\"},\"bgcolor\":\"rgb(237,237,237)\",\"radialaxis\":{\"gridcolor\":\"white\",\"linecolor\":\"white\",\"showgrid\":true,\"tickcolor\":\"rgb(51,51,51)\",\"ticks\":\"outside\"}},\"scene\":{\"xaxis\":{\"backgroundcolor\":\"rgb(237,237,237)\",\"gridcolor\":\"white\",\"gridwidth\":2,\"linecolor\":\"white\",\"showbackground\":true,\"showgrid\":true,\"tickcolor\":\"rgb(51,51,51)\",\"ticks\":\"outside\",\"zerolinecolor\":\"white\"},\"yaxis\":{\"backgroundcolor\":\"rgb(237,237,237)\",\"gridcolor\":\"white\",\"gridwidth\":2,\"linecolor\":\"white\",\"showbackground\":true,\"showgrid\":true,\"tickcolor\":\"rgb(51,51,51)\",\"ticks\":\"outside\",\"zerolinecolor\":\"white\"},\"zaxis\":{\"backgroundcolor\":\"rgb(237,237,237)\",\"gridcolor\":\"white\",\"gridwidth\":2,\"linecolor\":\"white\",\"showbackground\":true,\"showgrid\":true,\"tickcolor\":\"rgb(51,51,51)\",\"ticks\":\"outside\",\"zerolinecolor\":\"white\"}},\"shapedefaults\":{\"fillcolor\":\"black\",\"line\":{\"width\":0},\"opacity\":0.3},\"ternary\":{\"aaxis\":{\"gridcolor\":\"white\",\"linecolor\":\"white\",\"showgrid\":true,\"tickcolor\":\"rgb(51,51,51)\",\"ticks\":\"outside\"},\"baxis\":{\"gridcolor\":\"white\",\"linecolor\":\"white\",\"showgrid\":true,\"tickcolor\":\"rgb(51,51,51)\",\"ticks\":\"outside\"},\"bgcolor\":\"rgb(237,237,237)\",\"caxis\":{\"gridcolor\":\"white\",\"linecolor\":\"white\",\"showgrid\":true,\"tickcolor\":\"rgb(51,51,51)\",\"ticks\":\"outside\"}},\"xaxis\":{\"automargin\":true,\"gridcolor\":\"white\",\"linecolor\":\"white\",\"showgrid\":true,\"tickcolor\":\"rgb(51,51,51)\",\"ticks\":\"outside\",\"title\":{\"standoff\":15},\"zerolinecolor\":\"white\"},\"yaxis\":{\"automargin\":true,\"gridcolor\":\"white\",\"linecolor\":\"white\",\"showgrid\":true,\"tickcolor\":\"rgb(51,51,51)\",\"ticks\":\"outside\",\"title\":{\"standoff\":15},\"zerolinecolor\":\"white\"}}},\"xaxis\":{\"anchor\":\"y\",\"domain\":[0.0,1.0],\"title\":{\"text\":\"tSNE_y\"}},\"yaxis\":{\"anchor\":\"x\",\"domain\":[0.0,1.0],\"title\":{\"text\":\"tSNE_z\"}},\"legend\":{\"tracegroupgap\":0},\"title\":{\"text\":\"Graph 3: tSNE Visualisation in the y-z plane\"}},                        {\"responsive\": true}                    ).then(function(){\n",
       "                            \n",
       "var gd = document.getElementById('bf292535-a560-46db-8d50-dbe467ffd8e1');\n",
       "var x = new MutationObserver(function (mutations, observer) {{\n",
       "        var display = window.getComputedStyle(gd).display;\n",
       "        if (!display || display === 'none') {{\n",
       "            console.log([gd, 'removed!']);\n",
       "            Plotly.purge(gd);\n",
       "            observer.disconnect();\n",
       "        }}\n",
       "}});\n",
       "\n",
       "// Listen for the removal of the full notebook cells\n",
       "var notebookContainer = gd.closest('#notebook-container');\n",
       "if (notebookContainer) {{\n",
       "    x.observe(notebookContainer, {childList: true});\n",
       "}}\n",
       "\n",
       "// Listen for the clearing of the current output cell\n",
       "var outputEl = gd.closest('.output');\n",
       "if (outputEl) {{\n",
       "    x.observe(outputEl, {childList: true});\n",
       "}}\n",
       "\n",
       "                        })                };                });            </script>        </div>"
      ]
     },
     "metadata": {},
     "output_type": "display_data"
    }
   ],
   "source": [
    "fig3 = px.scatter(tSNE_df, x='tSNE_y', y='tSNE_z', hover_name=tSNE_df.index, template='ggplot2', opacity=1, title='Graph 3: tSNE Visualisation in the y-z plane')\n",
    "fig3"
   ]
  },
  {
   "cell_type": "markdown",
   "id": "cba6ee0d",
   "metadata": {},
   "source": [
    "The following is a side-by-side visualisation of the above graphs in order of the x-y plane (leftmost), x-z plane (central), and the y-z plane (rightmost). "
   ]
  },
  {
   "cell_type": "code",
   "execution_count": 104,
   "id": "806d7483",
   "metadata": {},
   "outputs": [
    {
     "data": {
      "image/png": "[encoded data removed]",
      "text/plain": [
       "<Figure size 1080x288 with 3 Axes>"
      ]
     },
     "metadata": {
      "needs_background": "light"
     },
     "output_type": "display_data"
    }
   ],
   "source": [
    "fig = plt.figure(figsize=(15,4))\n",
    "ax1 = fig.add_subplot(131)\n",
    "ax1.scatter(wide_tSNE[:,0], wide_tSNE[:,1])\n",
    "ax2 = fig.add_subplot(132)\n",
    "ax2.scatter(wide_tSNE[:,0], wide_tSNE[:,2])\n",
    "ax3 = fig.add_subplot(133)\n",
    "ax3.scatter(wide_tSNE[:,1], wide_tSNE[:,2])\n",
    "plt.show()"
   ]
  },
  {
   "cell_type": "markdown",
   "id": "bc2a0248",
   "metadata": {},
   "source": [
    "## 3.4 3D tSNE Visualisation\n",
    "Finally, we combine all the above results and generate a 3D visualisation of the tSNE manifold learning approach with respect to sequence diversty of the Bacillus taxonomy."
   ]
  },
  {
   "cell_type": "code",
   "execution_count": 98,
   "id": "952fbf9f",
   "metadata": {},
   "outputs": [
    {
     "data": {
      "application/vnd.plotly.v1+json": {
       "config": {
        "plotlyServerURL": "https://plot.ly"
       },
       "data": [
        {
         "hovertemplate": "<b>%{hovertext}</b><br><br>X=%{x}<br>Y=%{y}<br>Z=%{z}<extra></extra>",
         "hovertext": [
          "sp_P40136_CYAA_BACAN:0-33",
          "sp_P21130_SACB_BACAM:0-34",
          "sp_P05655_SACB_BACSU:0-34",
          "sp_P13423_PAG_BACAN:0-25",
          "sp_P39848_LYTD_BACSU:0-32",
          "sp_Q02114_LYTC_BACSU:0-29",
          "sp_P80172_HBLA_BACCE:0-26",
          "sp_P42111_YXAL_BACSU:0-29",
          "sp_P54507_TASA_BACSU:0-32",
          "sp_P55278_MANB_BACIU:0-29",
          "sp_O05512_MANB_BACSU:0-26",
          "sp_P00780_SUBC_BACLI:0-34",
          "sp_P00782_SUBT_BACAM:0-28",
          "sp_P04189_SUBT_BACSU:0-34",
          "sp_P35835_SUBN_BACNA:0-34",
          "sp_P00783_SUBT_BACSA:0-34",
          "sp_P94356_YXKC_BACSU:0-29",
          "sp_P40767_CWLO_BACSU:0-23",
          "sp_P20724_ELYA_BACYA:0-32",
          "sp_P25152_BSAP_BACSU:0-29",
          "sp_P00649_RN_BACIN:0-34",
          "sp_P48068_RN_BACPU:0-34",
          "sp_P00648_RNBR_BACAM:0-33",
          "sp_P71014_BSLA_BACSU:0-33",
          "sp_O31411_SACC_BACL7:0-28",
          "sp_Q45071_XYND_BACSU:0-31",
          "sp_P00691_AMY_BACSU:0-31",
          "sp_B1B6T1_PTLY_BACSP:0-27",
          "sp_Q65DC2_PTLY_BACLD:0-27",
          "sp_Q8GCB2_PTLY_BACLI:0-27",
          "sp_P29141_SUBV_BACSU:0-33",
          "sp_P16397_SUBF_BACSU:0-34",
          "sp_P39632_BSLB_BACSU:0-35",
          "sp_P80057_GSEP_BACLD:0-35",
          "sp_P96729_YWSB_BACSU:0-26",
          "sp_P39790_MPR_BACSU:0-39",
          "sp_Q59HN7_PHRH_BACSU:0-26",
          "sp_O31737_YLQB_BACSU:0-32",
          "sp_Q45670_THES_BACSJ:0-29",
          "sp_Q02113_CWBA_BACSU:0-30",
          "sp_P94217_SLAP2_BACAN:0-34",
          "sp_Q9RMZ0_Y6545_BACAN:0-33",
          "sp_P42293_EABN2_BACSU:0-31",
          "sp_P94522_EABN1_BACSU:0-37",
          "sp_Q79F14_ESTB_BACSU:0-25",
          "sp_P37957_ESTA_BACSU:0-36",
          "sp_Q5U780_LIP_BACSP:0-33",
          "sp_O34310_PLYC_BACSU:0-32",
          "sp_Q65EF5_PLYC_BACLD:0-26",
          "sp_O07532_LYTF_BACSU:0-31",
          "sp_P54421_LYTE_BACSU:0-30",
          "sp_O34669_YOCH_BACSU:0-30",
          "sp_P54423_WPRA_BACSU:0-34",
          "sp_P39844_DACC_BACSU:0-34",
          "sp_Q9AQS0_XANLY_BACGL:0-30",
          "sp_Q07833_WAPA_BACSU:0-37",
          "sp_G4NYJ6_WAPA_BACS4:0-37",
          "sp_P68569_BDBA_BACSU:0-22",
          "sp_P96600_DCTB_BACSU:0-23",
          "sp_O34918_YOAJ_BACSU:0-30",
          "sp_P39116_PLY_BACSU:0-26",
          "sp_P94576_YWOF_BACSU:0-24",
          "sp_Q03091_BSN1_BACAM:0-31",
          "sp_O32150_BSN2_BACSU:0-31",
          "sp_P38422_DACF_BACSU:0-28",
          "sp_P08750_DACA_BACSU:0-36",
          "sp_P39824_BLAC_BACSU:0-29",
          "sp_P04957_GUB_BACSU:0-33",
          "sp_O07013_GANB_BACSU:0-29",
          "sp_Q45070_XYNC_BACSU:0-37",
          "sp_Q6YK37_XYNC_BACIU:0-38",
          "sp_P54484_YQGA_BACSU:0-33",
          "sp_Q45105_TACY_BACCE:0-33",
          "sp_P40406_NAGZ_BACSU:0-31",
          "sp_P06832_NPRE_BACAM:0-32",
          "sp_P68735_NPRE_BACSA:0-32",
          "sp_P68736_NPRE_BACSU:0-32",
          "sp_O34344_SDPC_BACSU:0-30",
          "sp_P39899_NPRB_BACSU:0-33",
          "sp_P05806_NPRE_BACCE:0-32",
          "sp_P00800_THER_BACTH:0-33",
          "sp_Q59223_THER_BACSO:0-30",
          "sp_P28842_SUBT_BACS9:0-31",
          "sp_P33377_PHL3_BACCE:0-32",
          "sp_P11889_PHL2_BACCE:0-32",
          "sp_P09599_PHL1_BACCE:0-32",
          "sp_P05618_CDGT_BACS0:0-32",
          "sp_P09121_CDGT_BACS3:0-32",
          "sp_P30921_CDGT_BAC11:0-32",
          "sp_P17692_CDGT_BACS8:0-32",
          "sp_P31747_CDGT_BACSS:0-36",
          "sp_P14014_CDGT_BACLI:0-36",
          "sp_P31746_CDGT_BACS2:0-34",
          "sp_P27036_CDGT_BACOH:0-34",
          "sp_O07921_CHIS_BACSU:0-40",
          "sp_P94449_PEL2_BACIU:0-29",
          "sp_O34819_PEL1_BACSU:0-29",
          "sp_O32041_YRVJ_BACSU:0-32",
          "sp_O34313_NTPES_BACSU:0-40",
          "sp_P96740_PGDS_BACSU:0-32",
          "sp_P16396_SUBE_BACSU:0-32",
          "sp_O82833_GELLY_BACSP:0-33",
          "sp_O66037_PHYT_BACSD:0-31",
          "sp_O31097_PHYC_BACIU:0-31",
          "sp_P42094_PHYT_BACSU:0-31",
          "sp_P05656_SACC_BACSU:0-29",
          "sp_P06278_AMY_BACLI:0-34",
          "sp_P00692_AMY_BACAM:0-36",
          "sp_P19571_AMT6_BACS7:0-38",
          "sp_O31526_YESW_BACSU:0-40",
          "sp_P54422_GGT_BACSU:0-33",
          "sp_P63186_GGT_BACNA:0-33",
          "sp_P42983_NUCB_BACSU:0-31"
         ],
         "legendgroup": "",
         "marker": {
          "color": "#F8766D",
          "opacity": 1,
          "symbol": "circle"
         },
         "mode": "markers",
         "name": "",
         "scene": "scene",
         "showlegend": false,
         "type": "scatter3d",
         "x": [
          22.1341609954834,
          0.8124561309814453,
          -1.183740258216858,
          17.319683074951172,
          0.5443083047866821,
          22.327089309692383,
          0.6047396063804626,
          -10.273087501525879,
          0.23222123086452484,
          -0.08455747365951538,
          0.9795260429382324,
          19.30689811706543,
          -0.11595332622528076,
          17.43243408203125,
          1.0094349384307861,
          9.025665283203125,
          -1.104313611984253,
          0.3018353581428528,
          0.31123560667037964,
          10.099407196044922,
          2.5368456840515137,
          17.237354278564453,
          60.44227600097656,
          20.04367446899414,
          -34.183380126953125,
          0.34266412258148193,
          -63.07579040527344,
          0.5115029215812683,
          3.8410162925720215,
          0.6593911647796631,
          1.0755157470703125,
          -46.16233444213867,
          0.7657099962234497,
          34.44280242919922,
          15.743432998657227,
          0.6156809329986572,
          0.4050792157649994,
          0.7632231712341309,
          0.8095366954803467,
          -0.14791855216026306,
          0.6439897418022156,
          8.47385311126709,
          -9.193181037902832,
          0.5905704498291016,
          1.9130690097808838,
          0.47097304463386536,
          0.6616471409797668,
          0.8376492261886597,
          33.32719421386719,
          -48.211891174316406,
          0.6624356508255005,
          0.3387141525745392,
          15.748217582702637,
          2.2649214267730713,
          72.56768798828125,
          3.635866641998291,
          -2.9939773082733154,
          -1.9940433502197266,
          0.604239284992218,
          14.892762184143066,
          0.704555869102478,
          -20.36172866821289,
          0.6492130160331726,
          1.0614120960235596,
          -38.58696365356445,
          75.0738754272461,
          0.7362386584281921,
          0.22815224528312683,
          13.714815139770508,
          0.3918173909187317,
          -14.388673782348633,
          0.5438254475593567,
          -3.4729676246643066,
          16.56608009338379,
          0.453045129776001,
          -4.7334394454956055,
          0.6702661514282227,
          56.471981048583984,
          -0.21099495887756348,
          0.49462416768074036,
          -0.10971665382385254,
          0.9407060146331787,
          25.538434982299805,
          -5.027907371520996,
          0.9336674213409424,
          1.3791799545288086,
          0.7816740274429321,
          -46.217498779296875,
          0.528813898563385,
          0.5815232992172241,
          70.36894989013672,
          1.0398030281066895,
          -7.571252822875977,
          52.024085998535156,
          0.5260331630706787,
          0.5380590558052063,
          -42.33369445800781,
          35.16297149658203,
          -11.839211463928223,
          1.694690465927124,
          0.6086664199829102,
          2.1796388626098633,
          -46.50274658203125,
          4.679107189178467,
          -4.289718151092529,
          -0.04120856523513794,
          2.76057767868042,
          -0.010898053646087646,
          0.21348214149475098,
          2.354933023452759,
          -25.729528427124023,
          -11.188375473022461,
          -3.2466444969177246
         ],
         "y": [
          -16.48990821838379,
          -0.5924890637397766,
          13.923452377319336,
          23.61335563659668,
          -0.19222213327884674,
          -1.0072468519210815,
          -0.5643557906150818,
          122.29948425292969,
          17.72987937927246,
          -0.5457379817962646,
          -0.9270884990692139,
          -0.6757286787033081,
          -0.5872671008110046,
          -13.219714164733887,
          -0.8569761514663696,
          -0.9056807160377502,
          4.737914085388184,
          -0.7810496091842651,
          -0.5396310687065125,
          30.980358123779297,
          0.16685664653778076,
          -9.72125244140625,
          19.862873077392578,
          172.16273498535156,
          57.38547134399414,
          -0.8598615527153015,
          48.23838806152344,
          -0.8060819506645203,
          9.511505126953125,
          -0.7404846549034119,
          -0.5117502808570862,
          -9.238971710205078,
          -0.9624029397964478,
          50.380653381347656,
          -2.5681607723236084,
          -1.132049560546875,
          -0.7863430976867676,
          -0.8476359844207764,
          -0.8302015066146851,
          3.6944398880004883,
          -0.3822598457336426,
          51.698158264160156,
          -16.255474090576172,
          -0.7506292462348938,
          0.3856232166290283,
          -0.7523446679115295,
          -0.6534996032714844,
          -0.6395345330238342,
          26.728288650512695,
          22.29955291748047,
          -0.8136220574378967,
          -0.7156107425689697,
          54.911048889160156,
          0.03555312752723694,
          -94.52732849121094,
          -84.48002624511719,
          11.103273391723633,
          -5.421036720275879,
          -0.8612644076347351,
          0.4002957344055176,
          -0.8152893781661987,
          -19.73430824279785,
          -0.8135145902633667,
          -1.0781714916229248,
          -22.203689575195312,
          -2.7919225692749023,
          -0.8512194156646729,
          -0.7307252883911133,
          -2.4607858657836914,
          -0.7767866253852844,
          6.436063766479492,
          -0.8482300043106079,
          117.19608306884766,
          -13.162522315979004,
          -0.8356713652610779,
          41.85838317871094,
          0.21104586124420166,
          -36.6545295715332,
          -0.7757136821746826,
          -0.8265265226364136,
          9.132404327392578,
          -0.865389347076416,
          -12.455232620239258,
          14.649580955505371,
          -1.0186775922775269,
          -1.0945974588394165,
          -1.3927500247955322,
          -9.53905963897705,
          -1.457505702972412,
          -0.5027257204055786,
          -3.844097852706909,
          -0.674262285232544,
          -18.541244506835938,
          -35.41512680053711,
          -0.5614752769470215,
          -3.7867965698242188,
          -0.6648812294006348,
          -0.9405733346939087,
          38.87921905517578,
          -0.006138689815998077,
          -0.5662312507629395,
          1.4351091384887695,
          -7.464301586151123,
          -20.631149291992188,
          -7.506503105163574,
          -0.6573079824447632,
          -1.939894199371338,
          -0.7805942296981812,
          -1.3657587766647339,
          0.5365538597106934,
          -4.0635199546813965,
          -4.636722564697266,
          -0.6134437918663025
         ],
         "z": [
          70.244384765625,
          1.1932353973388672,
          12.961679458618164,
          -56.356292724609375,
          -15.980375289916992,
          -16.131839752197266,
          1.5785350799560547,
          -24.10497283935547,
          -6.943224906921387,
          0.9670479893684387,
          1.3514950275421143,
          19.523271560668945,
          1.766221523284912,
          9.548017501831055,
          1.381087303161621,
          1.559805154800415,
          19.63166046142578,
          1.3066540956497192,
          1.4110403060913086,
          67.97766876220703,
          -32.399662017822266,
          -2.4750142097473145,
          -203.81048583984375,
          135.57704162597656,
          -5.8464531898498535,
          1.4357374906539917,
          -19.542951583862305,
          1.6945182085037231,
          3.7069334983825684,
          1.0052739381790161,
          1.5257644653320312,
          -0.5412095189094543,
          1.7671903371810913,
          -4.790439128875732,
          27.630962371826172,
          1.3512663841247559,
          1.3777118921279907,
          1.4365946054458618,
          1.7538926601409912,
          1.4843569993972778,
          1.1290700435638428,
          1.7325869798660278,
          27.618066787719727,
          1.2938053607940674,
          13.71746826171875,
          1.4005966186523438,
          1.1353164911270142,
          1.388710618019104,
          -6.803109645843506,
          -15.24132251739502,
          1.5484116077423096,
          1.55440092086792,
          28.62352180480957,
          -32.647056579589844,
          -5.293576240539551,
          10.260910034179688,
          72.85623931884766,
          19.67139434814453,
          1.4439222812652588,
          2.403804302215576,
          1.6793400049209595,
          -43.02488708496094,
          0.9027758836746216,
          1.6899020671844482,
          33.71847915649414,
          22.788562774658203,
          1.4132616519927979,
          0.8875892758369446,
          1.8354767560958862,
          1.2443808317184448,
          30.512012481689453,
          1.3278642892837524,
          -186.84877014160156,
          53.998023986816406,
          1.3884471654891968,
          27.891517639160156,
          1.4554394483566284,
          1.4592161178588867,
          1.4328968524932861,
          1.7362596988677979,
          2.576979875564575,
          1.370129108428955,
          30.833154678344727,
          6.247722148895264,
          1.253084659576416,
          1.1105848550796509,
          1.3142377138137817,
          -0.9268671870231628,
          1.0766018629074097,
          1.2501733303070068,
          36.47898483276367,
          1.2490845918655396,
          26.114843368530273,
          47.42829132080078,
          1.2979284524917603,
          1.6195428371429443,
          -40.64670944213867,
          -11.225164413452148,
          24.666187286376953,
          25.4351863861084,
          1.1392089128494263,
          -1.0311946868896484,
          -0.033498868346214294,
          4.458669185638428,
          -15.062528610229492,
          1.4543800354003906,
          -2.020472526550293,
          1.730661392211914,
          1.0104007720947266,
          4.963573932647705,
          7.233506679534912,
          -8.216683387756348,
          1.0322788953781128
         ]
        }
       ],
       "layout": {
        "legend": {
         "tracegroupgap": 0
        },
        "scene": {
         "domain": {
          "x": [
           0,
           1
          ],
          "y": [
           0,
           1
          ]
         },
         "xaxis": {
          "title": {
           "text": "X"
          }
         },
         "yaxis": {
          "title": {
           "text": "Y"
          }
         },
         "zaxis": {
          "title": {
           "text": "Z"
          }
         }
        },
        "template": {
         "data": {
          "bar": [
           {
            "error_x": {
             "color": "rgb(51,51,51)"
            },
            "error_y": {
             "color": "rgb(51,51,51)"
            },
            "marker": {
             "line": {
              "color": "rgb(237,237,237)",
              "width": 0.5
             },
             "pattern": {
              "fillmode": "overlay",
              "size": 10,
              "solidity": 0.2
             }
            },
            "type": "bar"
           }
          ],
          "barpolar": [
           {
            "marker": {
             "line": {
              "color": "rgb(237,237,237)",
              "width": 0.5
             },
             "pattern": {
              "fillmode": "overlay",
              "size": 10,
              "solidity": 0.2
             }
            },
            "type": "barpolar"
           }
          ],
          "carpet": [
           {
            "aaxis": {
             "endlinecolor": "rgb(51,51,51)",
             "gridcolor": "white",
             "linecolor": "white",
             "minorgridcolor": "white",
             "startlinecolor": "rgb(51,51,51)"
            },
            "baxis": {
             "endlinecolor": "rgb(51,51,51)",
             "gridcolor": "white",
             "linecolor": "white",
             "minorgridcolor": "white",
             "startlinecolor": "rgb(51,51,51)"
            },
            "type": "carpet"
           }
          ],
          "choropleth": [
           {
            "colorbar": {
             "outlinewidth": 0,
             "tickcolor": "rgb(237,237,237)",
             "ticklen": 6,
             "ticks": "inside"
            },
            "type": "choropleth"
           }
          ],
          "contour": [
           {
            "colorbar": {
             "outlinewidth": 0,
             "tickcolor": "rgb(237,237,237)",
             "ticklen": 6,
             "ticks": "inside"
            },
            "colorscale": [
             [
              0,
              "rgb(20,44,66)"
             ],
             [
              1,
              "rgb(90,179,244)"
             ]
            ],
            "type": "contour"
           }
          ],
          "contourcarpet": [
           {
            "colorbar": {
             "outlinewidth": 0,
             "tickcolor": "rgb(237,237,237)",
             "ticklen": 6,
             "ticks": "inside"
            },
            "type": "contourcarpet"
           }
          ],
          "heatmap": [
           {
            "colorbar": {
             "outlinewidth": 0,
             "tickcolor": "rgb(237,237,237)",
             "ticklen": 6,
             "ticks": "inside"
            },
            "colorscale": [
             [
              0,
              "rgb(20,44,66)"
             ],
             [
              1,
              "rgb(90,179,244)"
             ]
            ],
            "type": "heatmap"
           }
          ],
          "heatmapgl": [
           {
            "colorbar": {
             "outlinewidth": 0,
             "tickcolor": "rgb(237,237,237)",
             "ticklen": 6,
             "ticks": "inside"
            },
            "colorscale": [
             [
              0,
              "rgb(20,44,66)"
             ],
             [
              1,
              "rgb(90,179,244)"
             ]
            ],
            "type": "heatmapgl"
           }
          ],
          "histogram": [
           {
            "marker": {
             "pattern": {
              "fillmode": "overlay",
              "size": 10,
              "solidity": 0.2
             }
            },
            "type": "histogram"
           }
          ],
          "histogram2d": [
           {
            "colorbar": {
             "outlinewidth": 0,
             "tickcolor": "rgb(237,237,237)",
             "ticklen": 6,
             "ticks": "inside"
            },
            "colorscale": [
             [
              0,
              "rgb(20,44,66)"
             ],
             [
              1,
              "rgb(90,179,244)"
             ]
            ],
            "type": "histogram2d"
           }
          ],
          "histogram2dcontour": [
           {
            "colorbar": {
             "outlinewidth": 0,
             "tickcolor": "rgb(237,237,237)",
             "ticklen": 6,
             "ticks": "inside"
            },
            "colorscale": [
             [
              0,
              "rgb(20,44,66)"
             ],
             [
              1,
              "rgb(90,179,244)"
             ]
            ],
            "type": "histogram2dcontour"
           }
          ],
          "mesh3d": [
           {
            "colorbar": {
             "outlinewidth": 0,
             "tickcolor": "rgb(237,237,237)",
             "ticklen": 6,
             "ticks": "inside"
            },
            "type": "mesh3d"
           }
          ],
          "parcoords": [
           {
            "line": {
             "colorbar": {
              "outlinewidth": 0,
              "tickcolor": "rgb(237,237,237)",
              "ticklen": 6,
              "ticks": "inside"
             }
            },
            "type": "parcoords"
           }
          ],
          "pie": [
           {
            "automargin": true,
            "type": "pie"
           }
          ],
          "scatter": [
           {
            "fillpattern": {
             "fillmode": "overlay",
             "size": 10,
             "solidity": 0.2
            },
            "type": "scatter"
           }
          ],
          "scatter3d": [
           {
            "line": {
             "colorbar": {
              "outlinewidth": 0,
              "tickcolor": "rgb(237,237,237)",
              "ticklen": 6,
              "ticks": "inside"
             }
            },
            "marker": {
             "colorbar": {
              "outlinewidth": 0,
              "tickcolor": "rgb(237,237,237)",
              "ticklen": 6,
              "ticks": "inside"
             }
            },
            "type": "scatter3d"
           }
          ],
          "scattercarpet": [
           {
            "marker": {
             "colorbar": {
              "outlinewidth": 0,
              "tickcolor": "rgb(237,237,237)",
              "ticklen": 6,
              "ticks": "inside"
             }
            },
            "type": "scattercarpet"
           }
          ],
          "scattergeo": [
           {
            "marker": {
             "colorbar": {
              "outlinewidth": 0,
              "tickcolor": "rgb(237,237,237)",
              "ticklen": 6,
              "ticks": "inside"
             }
            },
            "type": "scattergeo"
           }
          ],
          "scattergl": [
           {
            "marker": {
             "colorbar": {
              "outlinewidth": 0,
              "tickcolor": "rgb(237,237,237)",
              "ticklen": 6,
              "ticks": "inside"
             }
            },
            "type": "scattergl"
           }
          ],
          "scattermapbox": [
           {
            "marker": {
             "colorbar": {
              "outlinewidth": 0,
              "tickcolor": "rgb(237,237,237)",
              "ticklen": 6,
              "ticks": "inside"
             }
            },
            "type": "scattermapbox"
           }
          ],
          "scatterpolar": [
           {
            "marker": {
             "colorbar": {
              "outlinewidth": 0,
              "tickcolor": "rgb(237,237,237)",
              "ticklen": 6,
              "ticks": "inside"
             }
            },
            "type": "scatterpolar"
           }
          ],
          "scatterpolargl": [
           {
            "marker": {
             "colorbar": {
              "outlinewidth": 0,
              "tickcolor": "rgb(237,237,237)",
              "ticklen": 6,
              "ticks": "inside"
             }
            },
            "type": "scatterpolargl"
           }
          ],
          "scatterternary": [
           {
            "marker": {
             "colorbar": {
              "outlinewidth": 0,
              "tickcolor": "rgb(237,237,237)",
              "ticklen": 6,
              "ticks": "inside"
             }
            },
            "type": "scatterternary"
           }
          ],
          "surface": [
           {
            "colorbar": {
             "outlinewidth": 0,
             "tickcolor": "rgb(237,237,237)",
             "ticklen": 6,
             "ticks": "inside"
            },
            "colorscale": [
             [
              0,
              "rgb(20,44,66)"
             ],
             [
              1,
              "rgb(90,179,244)"
             ]
            ],
            "type": "surface"
           }
          ],
          "table": [
           {
            "cells": {
             "fill": {
              "color": "rgb(237,237,237)"
             },
             "line": {
              "color": "white"
             }
            },
            "header": {
             "fill": {
              "color": "rgb(217,217,217)"
             },
             "line": {
              "color": "white"
             }
            },
            "type": "table"
           }
          ]
         },
         "layout": {
          "annotationdefaults": {
           "arrowhead": 0,
           "arrowwidth": 1
          },
          "autotypenumbers": "strict",
          "coloraxis": {
           "colorbar": {
            "outlinewidth": 0,
            "tickcolor": "rgb(237,237,237)",
            "ticklen": 6,
            "ticks": "inside"
           }
          },
          "colorscale": {
           "sequential": [
            [
             0,
             "rgb(20,44,66)"
            ],
            [
             1,
             "rgb(90,179,244)"
            ]
           ],
           "sequentialminus": [
            [
             0,
             "rgb(20,44,66)"
            ],
            [
             1,
             "rgb(90,179,244)"
            ]
           ]
          },
          "colorway": [
           "#F8766D",
           "#A3A500",
           "#00BF7D",
           "#00B0F6",
           "#E76BF3"
          ],
          "font": {
           "color": "rgb(51,51,51)"
          },
          "geo": {
           "bgcolor": "white",
           "lakecolor": "white",
           "landcolor": "rgb(237,237,237)",
           "showlakes": true,
           "showland": true,
           "subunitcolor": "white"
          },
          "hoverlabel": {
           "align": "left"
          },
          "hovermode": "closest",
          "paper_bgcolor": "white",
          "plot_bgcolor": "rgb(237,237,237)",
          "polar": {
           "angularaxis": {
            "gridcolor": "white",
            "linecolor": "white",
            "showgrid": true,
            "tickcolor": "rgb(51,51,51)",
            "ticks": "outside"
           },
           "bgcolor": "rgb(237,237,237)",
           "radialaxis": {
            "gridcolor": "white",
            "linecolor": "white",
            "showgrid": true,
            "tickcolor": "rgb(51,51,51)",
            "ticks": "outside"
           }
          },
          "scene": {
           "xaxis": {
            "backgroundcolor": "rgb(237,237,237)",
            "gridcolor": "white",
            "gridwidth": 2,
            "linecolor": "white",
            "showbackground": true,
            "showgrid": true,
            "tickcolor": "rgb(51,51,51)",
            "ticks": "outside",
            "zerolinecolor": "white"
           },
           "yaxis": {
            "backgroundcolor": "rgb(237,237,237)",
            "gridcolor": "white",
            "gridwidth": 2,
            "linecolor": "white",
            "showbackground": true,
            "showgrid": true,
            "tickcolor": "rgb(51,51,51)",
            "ticks": "outside",
            "zerolinecolor": "white"
           },
           "zaxis": {
            "backgroundcolor": "rgb(237,237,237)",
            "gridcolor": "white",
            "gridwidth": 2,
            "linecolor": "white",
            "showbackground": true,
            "showgrid": true,
            "tickcolor": "rgb(51,51,51)",
            "ticks": "outside",
            "zerolinecolor": "white"
           }
          },
          "shapedefaults": {
           "fillcolor": "black",
           "line": {
            "width": 0
           },
           "opacity": 0.3
          },
          "ternary": {
           "aaxis": {
            "gridcolor": "white",
            "linecolor": "white",
            "showgrid": true,
            "tickcolor": "rgb(51,51,51)",
            "ticks": "outside"
           },
           "baxis": {
            "gridcolor": "white",
            "linecolor": "white",
            "showgrid": true,
            "tickcolor": "rgb(51,51,51)",
            "ticks": "outside"
           },
           "bgcolor": "rgb(237,237,237)",
           "caxis": {
            "gridcolor": "white",
            "linecolor": "white",
            "showgrid": true,
            "tickcolor": "rgb(51,51,51)",
            "ticks": "outside"
           }
          },
          "xaxis": {
           "automargin": true,
           "gridcolor": "white",
           "linecolor": "white",
           "showgrid": true,
           "tickcolor": "rgb(51,51,51)",
           "ticks": "outside",
           "title": {
            "standoff": 15
           },
           "zerolinecolor": "white"
          },
          "yaxis": {
           "automargin": true,
           "gridcolor": "white",
           "linecolor": "white",
           "showgrid": true,
           "tickcolor": "rgb(51,51,51)",
           "ticks": "outside",
           "title": {
            "standoff": 15
           },
           "zerolinecolor": "white"
          }
         }
        },
        "title": {
         "text": "Visualising sequence diversity of Bacillus taxonomy using tSNE manifold learning (PAM distance embedded)"
        }
       }
      },
      "text/html": [
       "<div>                            <div id=\"7d557edc-c552-4769-99ae-8e2ac643a756\" class=\"plotly-graph-div\" style=\"height:525px; width:100%;\"></div>            <script type=\"text/javascript\">                require([\"plotly\"], function(Plotly) {                    window.PLOTLYENV=window.PLOTLYENV || {};                                    if (document.getElementById(\"7d557edc-c552-4769-99ae-8e2ac643a756\")) {                    Plotly.newPlot(                        \"7d557edc-c552-4769-99ae-8e2ac643a756\",                        [{\"hovertemplate\":\"<b>%{hovertext}</b><br><br>X=%{x}<br>Y=%{y}<br>Z=%{z}<extra></extra>\",\"hovertext\":[\"sp_P40136_CYAA_BACAN:0-33\",\"sp_P21130_SACB_BACAM:0-34\",\"sp_P05655_SACB_BACSU:0-34\",\"sp_P13423_PAG_BACAN:0-25\",\"sp_P39848_LYTD_BACSU:0-32\",\"sp_Q02114_LYTC_BACSU:0-29\",\"sp_P80172_HBLA_BACCE:0-26\",\"sp_P42111_YXAL_BACSU:0-29\",\"sp_P54507_TASA_BACSU:0-32\",\"sp_P55278_MANB_BACIU:0-29\",\"sp_O05512_MANB_BACSU:0-26\",\"sp_P00780_SUBC_BACLI:0-34\",\"sp_P00782_SUBT_BACAM:0-28\",\"sp_P04189_SUBT_BACSU:0-34\",\"sp_P35835_SUBN_BACNA:0-34\",\"sp_P00783_SUBT_BACSA:0-34\",\"sp_P94356_YXKC_BACSU:0-29\",\"sp_P40767_CWLO_BACSU:0-23\",\"sp_P20724_ELYA_BACYA:0-32\",\"sp_P25152_BSAP_BACSU:0-29\",\"sp_P00649_RN_BACIN:0-34\",\"sp_P48068_RN_BACPU:0-34\",\"sp_P00648_RNBR_BACAM:0-33\",\"sp_P71014_BSLA_BACSU:0-33\",\"sp_O31411_SACC_BACL7:0-28\",\"sp_Q45071_XYND_BACSU:0-31\",\"sp_P00691_AMY_BACSU:0-31\",\"sp_B1B6T1_PTLY_BACSP:0-27\",\"sp_Q65DC2_PTLY_BACLD:0-27\",\"sp_Q8GCB2_PTLY_BACLI:0-27\",\"sp_P29141_SUBV_BACSU:0-33\",\"sp_P16397_SUBF_BACSU:0-34\",\"sp_P39632_BSLB_BACSU:0-35\",\"sp_P80057_GSEP_BACLD:0-35\",\"sp_P96729_YWSB_BACSU:0-26\",\"sp_P39790_MPR_BACSU:0-39\",\"sp_Q59HN7_PHRH_BACSU:0-26\",\"sp_O31737_YLQB_BACSU:0-32\",\"sp_Q45670_THES_BACSJ:0-29\",\"sp_Q02113_CWBA_BACSU:0-30\",\"sp_P94217_SLAP2_BACAN:0-34\",\"sp_Q9RMZ0_Y6545_BACAN:0-33\",\"sp_P42293_EABN2_BACSU:0-31\",\"sp_P94522_EABN1_BACSU:0-37\",\"sp_Q79F14_ESTB_BACSU:0-25\",\"sp_P37957_ESTA_BACSU:0-36\",\"sp_Q5U780_LIP_BACSP:0-33\",\"sp_O34310_PLYC_BACSU:0-32\",\"sp_Q65EF5_PLYC_BACLD:0-26\",\"sp_O07532_LYTF_BACSU:0-31\",\"sp_P54421_LYTE_BACSU:0-30\",\"sp_O34669_YOCH_BACSU:0-30\",\"sp_P54423_WPRA_BACSU:0-34\",\"sp_P39844_DACC_BACSU:0-34\",\"sp_Q9AQS0_XANLY_BACGL:0-30\",\"sp_Q07833_WAPA_BACSU:0-37\",\"sp_G4NYJ6_WAPA_BACS4:0-37\",\"sp_P68569_BDBA_BACSU:0-22\",\"sp_P96600_DCTB_BACSU:0-23\",\"sp_O34918_YOAJ_BACSU:0-30\",\"sp_P39116_PLY_BACSU:0-26\",\"sp_P94576_YWOF_BACSU:0-24\",\"sp_Q03091_BSN1_BACAM:0-31\",\"sp_O32150_BSN2_BACSU:0-31\",\"sp_P38422_DACF_BACSU:0-28\",\"sp_P08750_DACA_BACSU:0-36\",\"sp_P39824_BLAC_BACSU:0-29\",\"sp_P04957_GUB_BACSU:0-33\",\"sp_O07013_GANB_BACSU:0-29\",\"sp_Q45070_XYNC_BACSU:0-37\",\"sp_Q6YK37_XYNC_BACIU:0-38\",\"sp_P54484_YQGA_BACSU:0-33\",\"sp_Q45105_TACY_BACCE:0-33\",\"sp_P40406_NAGZ_BACSU:0-31\",\"sp_P06832_NPRE_BACAM:0-32\",\"sp_P68735_NPRE_BACSA:0-32\",\"sp_P68736_NPRE_BACSU:0-32\",\"sp_O34344_SDPC_BACSU:0-30\",\"sp_P39899_NPRB_BACSU:0-33\",\"sp_P05806_NPRE_BACCE:0-32\",\"sp_P00800_THER_BACTH:0-33\",\"sp_Q59223_THER_BACSO:0-30\",\"sp_P28842_SUBT_BACS9:0-31\",\"sp_P33377_PHL3_BACCE:0-32\",\"sp_P11889_PHL2_BACCE:0-32\",\"sp_P09599_PHL1_BACCE:0-32\",\"sp_P05618_CDGT_BACS0:0-32\",\"sp_P09121_CDGT_BACS3:0-32\",\"sp_P30921_CDGT_BAC11:0-32\",\"sp_P17692_CDGT_BACS8:0-32\",\"sp_P31747_CDGT_BACSS:0-36\",\"sp_P14014_CDGT_BACLI:0-36\",\"sp_P31746_CDGT_BACS2:0-34\",\"sp_P27036_CDGT_BACOH:0-34\",\"sp_O07921_CHIS_BACSU:0-40\",\"sp_P94449_PEL2_BACIU:0-29\",\"sp_O34819_PEL1_BACSU:0-29\",\"sp_O32041_YRVJ_BACSU:0-32\",\"sp_O34313_NTPES_BACSU:0-40\",\"sp_P96740_PGDS_BACSU:0-32\",\"sp_P16396_SUBE_BACSU:0-32\",\"sp_O82833_GELLY_BACSP:0-33\",\"sp_O66037_PHYT_BACSD:0-31\",\"sp_O31097_PHYC_BACIU:0-31\",\"sp_P42094_PHYT_BACSU:0-31\",\"sp_P05656_SACC_BACSU:0-29\",\"sp_P06278_AMY_BACLI:0-34\",\"sp_P00692_AMY_BACAM:0-36\",\"sp_P19571_AMT6_BACS7:0-38\",\"sp_O31526_YESW_BACSU:0-40\",\"sp_P54422_GGT_BACSU:0-33\",\"sp_P63186_GGT_BACNA:0-33\",\"sp_P42983_NUCB_BACSU:0-31\"],\"legendgroup\":\"\",\"marker\":{\"color\":\"#F8766D\",\"opacity\":1,\"symbol\":\"circle\"},\"mode\":\"markers\",\"name\":\"\",\"scene\":\"scene\",\"showlegend\":false,\"x\":[22.1341609954834,0.8124561309814453,-1.183740258216858,17.319683074951172,0.5443083047866821,22.327089309692383,0.6047396063804626,-10.273087501525879,0.23222123086452484,-0.08455747365951538,0.9795260429382324,19.30689811706543,-0.11595332622528076,17.43243408203125,1.0094349384307861,9.025665283203125,-1.104313611984253,0.3018353581428528,0.31123560667037964,10.099407196044922,2.5368456840515137,17.237354278564453,60.44227600097656,20.04367446899414,-34.183380126953125,0.34266412258148193,-63.07579040527344,0.5115029215812683,3.8410162925720215,0.6593911647796631,1.0755157470703125,-46.16233444213867,0.7657099962234497,34.44280242919922,15.743432998657227,0.6156809329986572,0.4050792157649994,0.7632231712341309,0.8095366954803467,-0.14791855216026306,0.6439897418022156,8.47385311126709,-9.193181037902832,0.5905704498291016,1.9130690097808838,0.47097304463386536,0.6616471409797668,0.8376492261886597,33.32719421386719,-48.211891174316406,0.6624356508255005,0.3387141525745392,15.748217582702637,2.2649214267730713,72.56768798828125,3.635866641998291,-2.9939773082733154,-1.9940433502197266,0.604239284992218,14.892762184143066,0.704555869102478,-20.36172866821289,0.6492130160331726,1.0614120960235596,-38.58696365356445,75.0738754272461,0.7362386584281921,0.22815224528312683,13.714815139770508,0.3918173909187317,-14.388673782348633,0.5438254475593567,-3.4729676246643066,16.56608009338379,0.453045129776001,-4.7334394454956055,0.6702661514282227,56.471981048583984,-0.21099495887756348,0.49462416768074036,-0.10971665382385254,0.9407060146331787,25.538434982299805,-5.027907371520996,0.9336674213409424,1.3791799545288086,0.7816740274429321,-46.217498779296875,0.528813898563385,0.5815232992172241,70.36894989013672,1.0398030281066895,-7.571252822875977,52.024085998535156,0.5260331630706787,0.5380590558052063,-42.33369445800781,35.16297149658203,-11.839211463928223,1.694690465927124,0.6086664199829102,2.1796388626098633,-46.50274658203125,4.679107189178467,-4.289718151092529,-0.04120856523513794,2.76057767868042,-0.010898053646087646,0.21348214149475098,2.354933023452759,-25.729528427124023,-11.188375473022461,-3.2466444969177246],\"y\":[-16.48990821838379,-0.5924890637397766,13.923452377319336,23.61335563659668,-0.19222213327884674,-1.0072468519210815,-0.5643557906150818,122.29948425292969,17.72987937927246,-0.5457379817962646,-0.9270884990692139,-0.6757286787033081,-0.5872671008110046,-13.219714164733887,-0.8569761514663696,-0.9056807160377502,4.737914085388184,-0.7810496091842651,-0.5396310687065125,30.980358123779297,0.16685664653778076,-9.72125244140625,19.862873077392578,172.16273498535156,57.38547134399414,-0.8598615527153015,48.23838806152344,-0.8060819506645203,9.511505126953125,-0.7404846549034119,-0.5117502808570862,-9.238971710205078,-0.9624029397964478,50.380653381347656,-2.5681607723236084,-1.132049560546875,-0.7863430976867676,-0.8476359844207764,-0.8302015066146851,3.6944398880004883,-0.3822598457336426,51.698158264160156,-16.255474090576172,-0.7506292462348938,0.3856232166290283,-0.7523446679115295,-0.6534996032714844,-0.6395345330238342,26.728288650512695,22.29955291748047,-0.8136220574378967,-0.7156107425689697,54.911048889160156,0.03555312752723694,-94.52732849121094,-84.48002624511719,11.103273391723633,-5.421036720275879,-0.8612644076347351,0.4002957344055176,-0.8152893781661987,-19.73430824279785,-0.8135145902633667,-1.0781714916229248,-22.203689575195312,-2.7919225692749023,-0.8512194156646729,-0.7307252883911133,-2.4607858657836914,-0.7767866253852844,6.436063766479492,-0.8482300043106079,117.19608306884766,-13.162522315979004,-0.8356713652610779,41.85838317871094,0.21104586124420166,-36.6545295715332,-0.7757136821746826,-0.8265265226364136,9.132404327392578,-0.865389347076416,-12.455232620239258,14.649580955505371,-1.0186775922775269,-1.0945974588394165,-1.3927500247955322,-9.53905963897705,-1.457505702972412,-0.5027257204055786,-3.844097852706909,-0.674262285232544,-18.541244506835938,-35.41512680053711,-0.5614752769470215,-3.7867965698242188,-0.6648812294006348,-0.9405733346939087,38.87921905517578,-0.006138689815998077,-0.5662312507629395,1.4351091384887695,-7.464301586151123,-20.631149291992188,-7.506503105163574,-0.6573079824447632,-1.939894199371338,-0.7805942296981812,-1.3657587766647339,0.5365538597106934,-4.0635199546813965,-4.636722564697266,-0.6134437918663025],\"z\":[70.244384765625,1.1932353973388672,12.961679458618164,-56.356292724609375,-15.980375289916992,-16.131839752197266,1.5785350799560547,-24.10497283935547,-6.943224906921387,0.9670479893684387,1.3514950275421143,19.523271560668945,1.766221523284912,9.548017501831055,1.381087303161621,1.559805154800415,19.63166046142578,1.3066540956497192,1.4110403060913086,67.97766876220703,-32.399662017822266,-2.4750142097473145,-203.81048583984375,135.57704162597656,-5.8464531898498535,1.4357374906539917,-19.542951583862305,1.6945182085037231,3.7069334983825684,1.0052739381790161,1.5257644653320312,-0.5412095189094543,1.7671903371810913,-4.790439128875732,27.630962371826172,1.3512663841247559,1.3777118921279907,1.4365946054458618,1.7538926601409912,1.4843569993972778,1.1290700435638428,1.7325869798660278,27.618066787719727,1.2938053607940674,13.71746826171875,1.4005966186523438,1.1353164911270142,1.388710618019104,-6.803109645843506,-15.24132251739502,1.5484116077423096,1.55440092086792,28.62352180480957,-32.647056579589844,-5.293576240539551,10.260910034179688,72.85623931884766,19.67139434814453,1.4439222812652588,2.403804302215576,1.6793400049209595,-43.02488708496094,0.9027758836746216,1.6899020671844482,33.71847915649414,22.788562774658203,1.4132616519927979,0.8875892758369446,1.8354767560958862,1.2443808317184448,30.512012481689453,1.3278642892837524,-186.84877014160156,53.998023986816406,1.3884471654891968,27.891517639160156,1.4554394483566284,1.4592161178588867,1.4328968524932861,1.7362596988677979,2.576979875564575,1.370129108428955,30.833154678344727,6.247722148895264,1.253084659576416,1.1105848550796509,1.3142377138137817,-0.9268671870231628,1.0766018629074097,1.2501733303070068,36.47898483276367,1.2490845918655396,26.114843368530273,47.42829132080078,1.2979284524917603,1.6195428371429443,-40.64670944213867,-11.225164413452148,24.666187286376953,25.4351863861084,1.1392089128494263,-1.0311946868896484,-0.033498868346214294,4.458669185638428,-15.062528610229492,1.4543800354003906,-2.020472526550293,1.730661392211914,1.0104007720947266,4.963573932647705,7.233506679534912,-8.216683387756348,1.0322788953781128],\"type\":\"scatter3d\"}],                        {\"template\":{\"data\":{\"barpolar\":[{\"marker\":{\"line\":{\"color\":\"rgb(237,237,237)\",\"width\":0.5},\"pattern\":{\"fillmode\":\"overlay\",\"size\":10,\"solidity\":0.2}},\"type\":\"barpolar\"}],\"bar\":[{\"error_x\":{\"color\":\"rgb(51,51,51)\"},\"error_y\":{\"color\":\"rgb(51,51,51)\"},\"marker\":{\"line\":{\"color\":\"rgb(237,237,237)\",\"width\":0.5},\"pattern\":{\"fillmode\":\"overlay\",\"size\":10,\"solidity\":0.2}},\"type\":\"bar\"}],\"carpet\":[{\"aaxis\":{\"endlinecolor\":\"rgb(51,51,51)\",\"gridcolor\":\"white\",\"linecolor\":\"white\",\"minorgridcolor\":\"white\",\"startlinecolor\":\"rgb(51,51,51)\"},\"baxis\":{\"endlinecolor\":\"rgb(51,51,51)\",\"gridcolor\":\"white\",\"linecolor\":\"white\",\"minorgridcolor\":\"white\",\"startlinecolor\":\"rgb(51,51,51)\"},\"type\":\"carpet\"}],\"choropleth\":[{\"colorbar\":{\"outlinewidth\":0,\"tickcolor\":\"rgb(237,237,237)\",\"ticklen\":6,\"ticks\":\"inside\"},\"type\":\"choropleth\"}],\"contourcarpet\":[{\"colorbar\":{\"outlinewidth\":0,\"tickcolor\":\"rgb(237,237,237)\",\"ticklen\":6,\"ticks\":\"inside\"},\"type\":\"contourcarpet\"}],\"contour\":[{\"colorbar\":{\"outlinewidth\":0,\"tickcolor\":\"rgb(237,237,237)\",\"ticklen\":6,\"ticks\":\"inside\"},\"colorscale\":[[0,\"rgb(20,44,66)\"],[1,\"rgb(90,179,244)\"]],\"type\":\"contour\"}],\"heatmapgl\":[{\"colorbar\":{\"outlinewidth\":0,\"tickcolor\":\"rgb(237,237,237)\",\"ticklen\":6,\"ticks\":\"inside\"},\"colorscale\":[[0,\"rgb(20,44,66)\"],[1,\"rgb(90,179,244)\"]],\"type\":\"heatmapgl\"}],\"heatmap\":[{\"colorbar\":{\"outlinewidth\":0,\"tickcolor\":\"rgb(237,237,237)\",\"ticklen\":6,\"ticks\":\"inside\"},\"colorscale\":[[0,\"rgb(20,44,66)\"],[1,\"rgb(90,179,244)\"]],\"type\":\"heatmap\"}],\"histogram2dcontour\":[{\"colorbar\":{\"outlinewidth\":0,\"tickcolor\":\"rgb(237,237,237)\",\"ticklen\":6,\"ticks\":\"inside\"},\"colorscale\":[[0,\"rgb(20,44,66)\"],[1,\"rgb(90,179,244)\"]],\"type\":\"histogram2dcontour\"}],\"histogram2d\":[{\"colorbar\":{\"outlinewidth\":0,\"tickcolor\":\"rgb(237,237,237)\",\"ticklen\":6,\"ticks\":\"inside\"},\"colorscale\":[[0,\"rgb(20,44,66)\"],[1,\"rgb(90,179,244)\"]],\"type\":\"histogram2d\"}],\"histogram\":[{\"marker\":{\"pattern\":{\"fillmode\":\"overlay\",\"size\":10,\"solidity\":0.2}},\"type\":\"histogram\"}],\"mesh3d\":[{\"colorbar\":{\"outlinewidth\":0,\"tickcolor\":\"rgb(237,237,237)\",\"ticklen\":6,\"ticks\":\"inside\"},\"type\":\"mesh3d\"}],\"parcoords\":[{\"line\":{\"colorbar\":{\"outlinewidth\":0,\"tickcolor\":\"rgb(237,237,237)\",\"ticklen\":6,\"ticks\":\"inside\"}},\"type\":\"parcoords\"}],\"pie\":[{\"automargin\":true,\"type\":\"pie\"}],\"scatter3d\":[{\"line\":{\"colorbar\":{\"outlinewidth\":0,\"tickcolor\":\"rgb(237,237,237)\",\"ticklen\":6,\"ticks\":\"inside\"}},\"marker\":{\"colorbar\":{\"outlinewidth\":0,\"tickcolor\":\"rgb(237,237,237)\",\"ticklen\":6,\"ticks\":\"inside\"}},\"type\":\"scatter3d\"}],\"scattercarpet\":[{\"marker\":{\"colorbar\":{\"outlinewidth\":0,\"tickcolor\":\"rgb(237,237,237)\",\"ticklen\":6,\"ticks\":\"inside\"}},\"type\":\"scattercarpet\"}],\"scattergeo\":[{\"marker\":{\"colorbar\":{\"outlinewidth\":0,\"tickcolor\":\"rgb(237,237,237)\",\"ticklen\":6,\"ticks\":\"inside\"}},\"type\":\"scattergeo\"}],\"scattergl\":[{\"marker\":{\"colorbar\":{\"outlinewidth\":0,\"tickcolor\":\"rgb(237,237,237)\",\"ticklen\":6,\"ticks\":\"inside\"}},\"type\":\"scattergl\"}],\"scattermapbox\":[{\"marker\":{\"colorbar\":{\"outlinewidth\":0,\"tickcolor\":\"rgb(237,237,237)\",\"ticklen\":6,\"ticks\":\"inside\"}},\"type\":\"scattermapbox\"}],\"scatterpolargl\":[{\"marker\":{\"colorbar\":{\"outlinewidth\":0,\"tickcolor\":\"rgb(237,237,237)\",\"ticklen\":6,\"ticks\":\"inside\"}},\"type\":\"scatterpolargl\"}],\"scatterpolar\":[{\"marker\":{\"colorbar\":{\"outlinewidth\":0,\"tickcolor\":\"rgb(237,237,237)\",\"ticklen\":6,\"ticks\":\"inside\"}},\"type\":\"scatterpolar\"}],\"scatter\":[{\"fillpattern\":{\"fillmode\":\"overlay\",\"size\":10,\"solidity\":0.2},\"type\":\"scatter\"}],\"scatterternary\":[{\"marker\":{\"colorbar\":{\"outlinewidth\":0,\"tickcolor\":\"rgb(237,237,237)\",\"ticklen\":6,\"ticks\":\"inside\"}},\"type\":\"scatterternary\"}],\"surface\":[{\"colorbar\":{\"outlinewidth\":0,\"tickcolor\":\"rgb(237,237,237)\",\"ticklen\":6,\"ticks\":\"inside\"},\"colorscale\":[[0,\"rgb(20,44,66)\"],[1,\"rgb(90,179,244)\"]],\"type\":\"surface\"}],\"table\":[{\"cells\":{\"fill\":{\"color\":\"rgb(237,237,237)\"},\"line\":{\"color\":\"white\"}},\"header\":{\"fill\":{\"color\":\"rgb(217,217,217)\"},\"line\":{\"color\":\"white\"}},\"type\":\"table\"}]},\"layout\":{\"annotationdefaults\":{\"arrowhead\":0,\"arrowwidth\":1},\"autotypenumbers\":\"strict\",\"coloraxis\":{\"colorbar\":{\"outlinewidth\":0,\"tickcolor\":\"rgb(237,237,237)\",\"ticklen\":6,\"ticks\":\"inside\"}},\"colorscale\":{\"sequential\":[[0,\"rgb(20,44,66)\"],[1,\"rgb(90,179,244)\"]],\"sequentialminus\":[[0,\"rgb(20,44,66)\"],[1,\"rgb(90,179,244)\"]]},\"colorway\":[\"#F8766D\",\"#A3A500\",\"#00BF7D\",\"#00B0F6\",\"#E76BF3\"],\"font\":{\"color\":\"rgb(51,51,51)\"},\"geo\":{\"bgcolor\":\"white\",\"lakecolor\":\"white\",\"landcolor\":\"rgb(237,237,237)\",\"showlakes\":true,\"showland\":true,\"subunitcolor\":\"white\"},\"hoverlabel\":{\"align\":\"left\"},\"hovermode\":\"closest\",\"paper_bgcolor\":\"white\",\"plot_bgcolor\":\"rgb(237,237,237)\",\"polar\":{\"angularaxis\":{\"gridcolor\":\"white\",\"linecolor\":\"white\",\"showgrid\":true,\"tickcolor\":\"rgb(51,51,51)\",\"ticks\":\"outside\"},\"bgcolor\":\"rgb(237,237,237)\",\"radialaxis\":{\"gridcolor\":\"white\",\"linecolor\":\"white\",\"showgrid\":true,\"tickcolor\":\"rgb(51,51,51)\",\"ticks\":\"outside\"}},\"scene\":{\"xaxis\":{\"backgroundcolor\":\"rgb(237,237,237)\",\"gridcolor\":\"white\",\"gridwidth\":2,\"linecolor\":\"white\",\"showbackground\":true,\"showgrid\":true,\"tickcolor\":\"rgb(51,51,51)\",\"ticks\":\"outside\",\"zerolinecolor\":\"white\"},\"yaxis\":{\"backgroundcolor\":\"rgb(237,237,237)\",\"gridcolor\":\"white\",\"gridwidth\":2,\"linecolor\":\"white\",\"showbackground\":true,\"showgrid\":true,\"tickcolor\":\"rgb(51,51,51)\",\"ticks\":\"outside\",\"zerolinecolor\":\"white\"},\"zaxis\":{\"backgroundcolor\":\"rgb(237,237,237)\",\"gridcolor\":\"white\",\"gridwidth\":2,\"linecolor\":\"white\",\"showbackground\":true,\"showgrid\":true,\"tickcolor\":\"rgb(51,51,51)\",\"ticks\":\"outside\",\"zerolinecolor\":\"white\"}},\"shapedefaults\":{\"fillcolor\":\"black\",\"line\":{\"width\":0},\"opacity\":0.3},\"ternary\":{\"aaxis\":{\"gridcolor\":\"white\",\"linecolor\":\"white\",\"showgrid\":true,\"tickcolor\":\"rgb(51,51,51)\",\"ticks\":\"outside\"},\"baxis\":{\"gridcolor\":\"white\",\"linecolor\":\"white\",\"showgrid\":true,\"tickcolor\":\"rgb(51,51,51)\",\"ticks\":\"outside\"},\"bgcolor\":\"rgb(237,237,237)\",\"caxis\":{\"gridcolor\":\"white\",\"linecolor\":\"white\",\"showgrid\":true,\"tickcolor\":\"rgb(51,51,51)\",\"ticks\":\"outside\"}},\"xaxis\":{\"automargin\":true,\"gridcolor\":\"white\",\"linecolor\":\"white\",\"showgrid\":true,\"tickcolor\":\"rgb(51,51,51)\",\"ticks\":\"outside\",\"title\":{\"standoff\":15},\"zerolinecolor\":\"white\"},\"yaxis\":{\"automargin\":true,\"gridcolor\":\"white\",\"linecolor\":\"white\",\"showgrid\":true,\"tickcolor\":\"rgb(51,51,51)\",\"ticks\":\"outside\",\"title\":{\"standoff\":15},\"zerolinecolor\":\"white\"}}},\"scene\":{\"domain\":{\"x\":[0.0,1.0],\"y\":[0.0,1.0]},\"xaxis\":{\"title\":{\"text\":\"X\"}},\"yaxis\":{\"title\":{\"text\":\"Y\"}},\"zaxis\":{\"title\":{\"text\":\"Z\"}}},\"legend\":{\"tracegroupgap\":0},\"title\":{\"text\":\"Visualising sequence diversity of Bacillus taxonomy using tSNE manifold learning (PAM distance embedded)\"}},                        {\"responsive\": true}                    ).then(function(){\n",
       "                            \n",
       "var gd = document.getElementById('7d557edc-c552-4769-99ae-8e2ac643a756');\n",
       "var x = new MutationObserver(function (mutations, observer) {{\n",
       "        var display = window.getComputedStyle(gd).display;\n",
       "        if (!display || display === 'none') {{\n",
       "            console.log([gd, 'removed!']);\n",
       "            Plotly.purge(gd);\n",
       "            observer.disconnect();\n",
       "        }}\n",
       "}});\n",
       "\n",
       "// Listen for the removal of the full notebook cells\n",
       "var notebookContainer = gd.closest('#notebook-container');\n",
       "if (notebookContainer) {{\n",
       "    x.observe(notebookContainer, {childList: true});\n",
       "}}\n",
       "\n",
       "// Listen for the clearing of the current output cell\n",
       "var outputEl = gd.closest('.output');\n",
       "if (outputEl) {{\n",
       "    x.observe(outputEl, {childList: true});\n",
       "}}\n",
       "\n",
       "                        })                };                });            </script>        </div>"
      ]
     },
     "metadata": {},
     "output_type": "display_data"
    }
   ],
   "source": [
    "fig = px.scatter_3d(tSNE_df, x='tSNE_x', y='tSNE_y', z='tSNE_z',\n",
    "                    hover_name=tSNE_df.index, template='ggplot2', opacity=1, \n",
    "                    title='Visualising sequence diversity of Bacillus taxonomy using tSNE manifold learning (PAM distance embedded)',\n",
    "                    labels={'tSNE_x': 'X', 'tSNE_y': 'Y', 'tSNE_z':'Z'}, )\n",
    "\n",
    "# Write the figure to a HTML representation and download for later\n",
    "fig.write_html('scatter-3d.html')\n",
    "fig"
   ]
  },
  {
   "cell_type": "markdown",
   "id": "47e77cfc",
   "metadata": {},
   "source": [
    "# 4 Bibliography & Acknowledgements"
   ]
  },
  {
   "cell_type": "markdown",
   "id": "df3c476e",
   "metadata": {},
   "source": [
    "I would like to give acknowledgement to Dr. Joseph Brock for providing me the opportunity to undertake this research. I would also like to give a huge thanks to Oliver Smith for not only providing his code (which can be found below), but also the process and approach needed for this result. Credits go to the RSB and PhB conveners for the approval of this project."
   ]
  },
  {
   "cell_type": "markdown",
   "id": "d3398ad5",
   "metadata": {},
   "source": [
    " - https://colab.research.google.com/drive/11dtzeOKwHf9RUoKxp00YVM0N9VDgfiqm?usp=sharing#scrollTo=Sg5T91_TwxBY\n",
    " - https://colab.research.google.com/drive/1dXU8pyD-2nWsJk3pmPwlLp9jb4e4HwTQ\n",
    " - https://www.uniprot.org/uniprot/?query=locations%3A%28location%3A%22Secreted+%5BSL-0243%5D%22%29+annotation%3A%28type%3Asignal%29+taxonomy%3A%22Bacillus+%5B1386%5D%22&sort=score\n",
    " - https://services.healthtech.dtu.dk/service.php?SignalP-5.0\n",
    " - https://mafft.cbrc.jp/alignment/server/\n",
    " - https://www.megasoftware.net"
   ]
  }
 ],
 "metadata": {
  "kernelspec": {
   "display_name": "Python 3 (ipykernel)",
   "language": "python",
   "name": "python3"
  },
  "language_info": {
   "codemirror_mode": {
    "name": "ipython",
    "version": 3
   },
   "file_extension": ".py",
   "mimetype": "text/x-python",
   "name": "python",
   "nbconvert_exporter": "python",
   "pygments_lexer": "ipython3",
   "version": "3.8.12"
  },
  "vscode": {
   "interpreter": {
    "hash": "aee8b7b246df8f9039afb4144a1f6fd8d2ca17a180786b69acc140d282b71a49"
   }
  }
 },
 "nbformat": 4,
 "nbformat_minor": 5
}
